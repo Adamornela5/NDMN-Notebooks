{
 "cells": [
  {
   "metadata": {},
   "cell_type": "markdown",
   "source": [
    "# Costa Rica Pipeline Notebook\n",
    "## {Insert info on notebook purpose}\n",
    "\n",
    "### Project objective:\n",
    "- {TODO}\n",
    "\n",
    "#### Notebook sections:\n",
    "1. Setup\n",
    "2. Data Acquisition / Cleaning\n",
    "3. Utilizing ML Models\n",
    "4. Maps / Visualizations / Documentation\n",
    "\n",
    "#### Data sources\n",
    "- {TODO}"
   ],
   "id": "3797862ec1b684bb"
  },
  {
   "metadata": {},
   "cell_type": "markdown",
   "source": "## Section 1 - Setup",
   "id": "77aae926033b9609"
  },
  {
   "metadata": {},
   "cell_type": "markdown",
   "source": "### Section 1.1 - Installing software and importing packages",
   "id": "acecc2a2cb746b57"
  },
  {
   "metadata": {
    "scrolled": true,
    "ExecuteTime": {
     "end_time": "2025-01-29T00:01:52.900640Z",
     "start_time": "2025-01-29T00:01:50.926204Z"
    }
   },
   "cell_type": "code",
   "source": "!pip install pandas numpy geopandas seaborn scikit-learn tensor folium folium matplotlib mapclassify earthengine-api geemap",
   "id": "80afb1ab10aac593",
   "outputs": [
    {
     "data": {
      "text/plain": [
       "<IPython.core.display.HTML object>"
      ],
      "text/html": [
       "\n",
       "            <style>\n",
       "                .geemap-dark {\n",
       "                    --jp-widgets-color: white;\n",
       "                    --jp-widgets-label-color: white;\n",
       "                    --jp-ui-font-color1: white;\n",
       "                    --jp-layout-color2: #454545;\n",
       "                    background-color: #383838;\n",
       "                }\n",
       "\n",
       "                .geemap-dark .jupyter-button {\n",
       "                    --jp-layout-color3: #383838;\n",
       "                }\n",
       "\n",
       "                .geemap-colab {\n",
       "                    background-color: var(--colab-primary-surface-color, white);\n",
       "                }\n",
       "\n",
       "                .geemap-colab .jupyter-button {\n",
       "                    --jp-layout-color3: var(--colab-primary-surface-color, white);\n",
       "                }\n",
       "            </style>\n",
       "            "
      ]
     },
     "metadata": {},
     "output_type": "display_data"
    },
    {
     "name": "stdout",
     "output_type": "stream",
     "text": [
      "Requirement already satisfied: pandas in c:\\users\\goldf\\documents\\programming\\pycharmprojects\\venv\\lib\\site-packages (2.2.3)\n",
      "Requirement already satisfied: numpy in c:\\users\\goldf\\documents\\programming\\pycharmprojects\\venv\\lib\\site-packages (2.2.1)\n",
      "Requirement already satisfied: geopandas in c:\\users\\goldf\\documents\\programming\\pycharmprojects\\venv\\lib\\site-packages (1.0.1)\n",
      "Requirement already satisfied: seaborn in c:\\users\\goldf\\documents\\programming\\pycharmprojects\\venv\\lib\\site-packages (0.13.2)\n",
      "Requirement already satisfied: scikit-learn in c:\\users\\goldf\\documents\\programming\\pycharmprojects\\venv\\lib\\site-packages (1.6.1)\n",
      "Requirement already satisfied: tensor in c:\\users\\goldf\\documents\\programming\\pycharmprojects\\venv\\lib\\site-packages (0.3.6)\n",
      "Requirement already satisfied: folium in c:\\users\\goldf\\documents\\programming\\pycharmprojects\\venv\\lib\\site-packages (0.19.4)\n",
      "Requirement already satisfied: matplotlib in c:\\users\\goldf\\documents\\programming\\pycharmprojects\\venv\\lib\\site-packages (3.10.0)\n",
      "Requirement already satisfied: mapclassify in c:\\users\\goldf\\documents\\programming\\pycharmprojects\\venv\\lib\\site-packages (2.8.1)\n",
      "Requirement already satisfied: earthengine-api in c:\\users\\goldf\\documents\\programming\\pycharmprojects\\venv\\lib\\site-packages (1.4.5)\n",
      "Requirement already satisfied: geemap in c:\\users\\goldf\\documents\\programming\\pycharmprojects\\venv\\lib\\site-packages (0.35.1)\n",
      "Requirement already satisfied: python-dateutil>=2.8.2 in c:\\users\\goldf\\documents\\programming\\pycharmprojects\\venv\\lib\\site-packages (from pandas) (2.9.0.post0)\n",
      "Requirement already satisfied: pytz>=2020.1 in c:\\users\\goldf\\documents\\programming\\pycharmprojects\\venv\\lib\\site-packages (from pandas) (2024.2)\n",
      "Requirement already satisfied: tzdata>=2022.7 in c:\\users\\goldf\\documents\\programming\\pycharmprojects\\venv\\lib\\site-packages (from pandas) (2024.2)\n",
      "Requirement already satisfied: pyogrio>=0.7.2 in c:\\users\\goldf\\documents\\programming\\pycharmprojects\\venv\\lib\\site-packages (from geopandas) (0.10.0)\n",
      "Requirement already satisfied: packaging in c:\\users\\goldf\\documents\\programming\\pycharmprojects\\venv\\lib\\site-packages (from geopandas) (24.2)\n",
      "Requirement already satisfied: pyproj>=3.3.0 in c:\\users\\goldf\\documents\\programming\\pycharmprojects\\venv\\lib\\site-packages (from geopandas) (3.7.0)\n",
      "Requirement already satisfied: shapely>=2.0.0 in c:\\users\\goldf\\documents\\programming\\pycharmprojects\\venv\\lib\\site-packages (from geopandas) (2.0.6)\n",
      "Requirement already satisfied: scipy>=1.6.0 in c:\\users\\goldf\\documents\\programming\\pycharmprojects\\venv\\lib\\site-packages (from scikit-learn) (1.15.1)\n",
      "Requirement already satisfied: joblib>=1.2.0 in c:\\users\\goldf\\documents\\programming\\pycharmprojects\\venv\\lib\\site-packages (from scikit-learn) (1.4.2)\n",
      "Requirement already satisfied: threadpoolctl>=3.1.0 in c:\\users\\goldf\\documents\\programming\\pycharmprojects\\venv\\lib\\site-packages (from scikit-learn) (3.5.0)\n",
      "Requirement already satisfied: Twisted in c:\\users\\goldf\\documents\\programming\\pycharmprojects\\venv\\lib\\site-packages (from tensor) (24.11.0)\n",
      "Requirement already satisfied: PyYaml in c:\\users\\goldf\\documents\\programming\\pycharmprojects\\venv\\lib\\site-packages (from tensor) (6.0.2)\n",
      "Requirement already satisfied: protobuf in c:\\users\\goldf\\documents\\programming\\pycharmprojects\\venv\\lib\\site-packages (from tensor) (5.29.3)\n",
      "Requirement already satisfied: construct in c:\\users\\goldf\\documents\\programming\\pycharmprojects\\venv\\lib\\site-packages (from tensor) (2.10.70)\n",
      "Requirement already satisfied: pysnmp in c:\\users\\goldf\\documents\\programming\\pycharmprojects\\venv\\lib\\site-packages (from tensor) (7.1.16)\n",
      "Requirement already satisfied: branca>=0.6.0 in c:\\users\\goldf\\documents\\programming\\pycharmprojects\\venv\\lib\\site-packages (from folium) (0.8.1)\n",
      "Requirement already satisfied: jinja2>=2.9 in c:\\users\\goldf\\documents\\programming\\pycharmprojects\\venv\\lib\\site-packages (from folium) (3.1.5)\n",
      "Requirement already satisfied: requests in c:\\users\\goldf\\documents\\programming\\pycharmprojects\\venv\\lib\\site-packages (from folium) (2.32.3)\n",
      "Requirement already satisfied: xyzservices in c:\\users\\goldf\\documents\\programming\\pycharmprojects\\venv\\lib\\site-packages (from folium) (2024.9.0)\n",
      "Requirement already satisfied: contourpy>=1.0.1 in c:\\users\\goldf\\documents\\programming\\pycharmprojects\\venv\\lib\\site-packages (from matplotlib) (1.3.1)\n",
      "Requirement already satisfied: cycler>=0.10 in c:\\users\\goldf\\documents\\programming\\pycharmprojects\\venv\\lib\\site-packages (from matplotlib) (0.12.1)\n",
      "Requirement already satisfied: fonttools>=4.22.0 in c:\\users\\goldf\\documents\\programming\\pycharmprojects\\venv\\lib\\site-packages (from matplotlib) (4.55.3)\n",
      "Requirement already satisfied: kiwisolver>=1.3.1 in c:\\users\\goldf\\documents\\programming\\pycharmprojects\\venv\\lib\\site-packages (from matplotlib) (1.4.8)\n",
      "Requirement already satisfied: pillow>=8 in c:\\users\\goldf\\documents\\programming\\pycharmprojects\\venv\\lib\\site-packages (from matplotlib) (11.1.0)\n",
      "Requirement already satisfied: pyparsing>=2.3.1 in c:\\users\\goldf\\documents\\programming\\pycharmprojects\\venv\\lib\\site-packages (from matplotlib) (3.2.1)\n",
      "Requirement already satisfied: networkx>=2.7 in c:\\users\\goldf\\documents\\programming\\pycharmprojects\\venv\\lib\\site-packages (from mapclassify) (3.4.2)\n",
      "Requirement already satisfied: google-cloud-storage in c:\\users\\goldf\\documents\\programming\\pycharmprojects\\venv\\lib\\site-packages (from earthengine-api) (2.19.0)\n",
      "Requirement already satisfied: google-api-python-client>=1.12.1 in c:\\users\\goldf\\documents\\programming\\pycharmprojects\\venv\\lib\\site-packages (from earthengine-api) (2.159.0)\n",
      "Requirement already satisfied: google-auth>=1.4.1 in c:\\users\\goldf\\documents\\programming\\pycharmprojects\\venv\\lib\\site-packages (from earthengine-api) (2.37.0)\n",
      "Requirement already satisfied: google-auth-httplib2>=0.0.3 in c:\\users\\goldf\\documents\\programming\\pycharmprojects\\venv\\lib\\site-packages (from earthengine-api) (0.2.0)\n",
      "Requirement already satisfied: httplib2<1dev,>=0.9.2 in c:\\users\\goldf\\documents\\programming\\pycharmprojects\\venv\\lib\\site-packages (from earthengine-api) (0.22.0)\n",
      "Requirement already satisfied: bqplot in c:\\users\\goldf\\documents\\programming\\pycharmprojects\\venv\\lib\\site-packages (from geemap) (0.12.44)\n",
      "Requirement already satisfied: colour in c:\\users\\goldf\\documents\\programming\\pycharmprojects\\venv\\lib\\site-packages (from geemap) (0.1.5)\n",
      "Requirement already satisfied: eerepr>=0.0.4 in c:\\users\\goldf\\documents\\programming\\pycharmprojects\\venv\\lib\\site-packages (from geemap) (0.1.0)\n",
      "Requirement already satisfied: geocoder in c:\\users\\goldf\\documents\\programming\\pycharmprojects\\venv\\lib\\site-packages (from geemap) (1.38.1)\n",
      "Requirement already satisfied: ipyevents in c:\\users\\goldf\\documents\\programming\\pycharmprojects\\venv\\lib\\site-packages (from geemap) (2.0.2)\n",
      "Requirement already satisfied: ipyfilechooser>=0.6.0 in c:\\users\\goldf\\documents\\programming\\pycharmprojects\\venv\\lib\\site-packages (from geemap) (0.6.0)\n",
      "Requirement already satisfied: ipyleaflet>=0.19.2 in c:\\users\\goldf\\documents\\programming\\pycharmprojects\\venv\\lib\\site-packages (from geemap) (0.19.2)\n",
      "Requirement already satisfied: ipytree in c:\\users\\goldf\\documents\\programming\\pycharmprojects\\venv\\lib\\site-packages (from geemap) (0.2.2)\n",
      "Requirement already satisfied: plotly in c:\\users\\goldf\\documents\\programming\\pycharmprojects\\venv\\lib\\site-packages (from geemap) (5.24.1)\n",
      "Requirement already satisfied: pyperclip in c:\\users\\goldf\\documents\\programming\\pycharmprojects\\venv\\lib\\site-packages (from geemap) (1.9.0)\n",
      "Requirement already satisfied: pyshp>=2.3.1 in c:\\users\\goldf\\documents\\programming\\pycharmprojects\\venv\\lib\\site-packages (from geemap) (2.3.1)\n",
      "Requirement already satisfied: python-box in c:\\users\\goldf\\documents\\programming\\pycharmprojects\\venv\\lib\\site-packages (from geemap) (7.3.2)\n",
      "Requirement already satisfied: scooby in c:\\users\\goldf\\documents\\programming\\pycharmprojects\\venv\\lib\\site-packages (from geemap) (0.10.0)\n",
      "Requirement already satisfied: google-api-core!=2.0.*,!=2.1.*,!=2.2.*,!=2.3.0,<3.0.0.dev0,>=1.31.5 in c:\\users\\goldf\\documents\\programming\\pycharmprojects\\venv\\lib\\site-packages (from google-api-python-client>=1.12.1->earthengine-api) (2.24.0)\n",
      "Requirement already satisfied: uritemplate<5,>=3.0.1 in c:\\users\\goldf\\documents\\programming\\pycharmprojects\\venv\\lib\\site-packages (from google-api-python-client>=1.12.1->earthengine-api) (4.1.1)\n",
      "Requirement already satisfied: cachetools<6.0,>=2.0.0 in c:\\users\\goldf\\documents\\programming\\pycharmprojects\\venv\\lib\\site-packages (from google-auth>=1.4.1->earthengine-api) (5.5.0)\n",
      "Requirement already satisfied: pyasn1-modules>=0.2.1 in c:\\users\\goldf\\documents\\programming\\pycharmprojects\\venv\\lib\\site-packages (from google-auth>=1.4.1->earthengine-api) (0.4.1)\n",
      "Requirement already satisfied: rsa<5,>=3.1.4 in c:\\users\\goldf\\documents\\programming\\pycharmprojects\\venv\\lib\\site-packages (from google-auth>=1.4.1->earthengine-api) (4.9)\n",
      "Requirement already satisfied: ipywidgets in c:\\users\\goldf\\documents\\programming\\pycharmprojects\\venv\\lib\\site-packages (from ipyfilechooser>=0.6.0->geemap) (8.1.5)\n",
      "Requirement already satisfied: jupyter-leaflet<0.20,>=0.19 in c:\\users\\goldf\\documents\\programming\\pycharmprojects\\venv\\lib\\site-packages (from ipyleaflet>=0.19.2->geemap) (0.19.2)\n",
      "Requirement already satisfied: traittypes<3,>=0.2.1 in c:\\users\\goldf\\documents\\programming\\pycharmprojects\\venv\\lib\\site-packages (from ipyleaflet>=0.19.2->geemap) (0.2.1)\n",
      "Requirement already satisfied: MarkupSafe>=2.0 in c:\\users\\goldf\\documents\\programming\\pycharmprojects\\venv\\lib\\site-packages (from jinja2>=2.9->folium) (3.0.2)\n",
      "Requirement already satisfied: certifi in c:\\users\\goldf\\documents\\programming\\pycharmprojects\\venv\\lib\\site-packages (from pyogrio>=0.7.2->geopandas) (2024.12.14)\n",
      "Requirement already satisfied: six>=1.5 in c:\\users\\goldf\\documents\\programming\\pycharmprojects\\venv\\lib\\site-packages (from python-dateutil>=2.8.2->pandas) (1.17.0)\n",
      "Requirement already satisfied: traitlets>=4.3.0 in c:\\users\\goldf\\documents\\programming\\pycharmprojects\\venv\\lib\\site-packages (from bqplot->geemap) (5.14.3)\n",
      "Requirement already satisfied: click in c:\\users\\goldf\\documents\\programming\\pycharmprojects\\venv\\lib\\site-packages (from geocoder->geemap) (8.1.8)\n",
      "Requirement already satisfied: future in c:\\users\\goldf\\documents\\programming\\pycharmprojects\\venv\\lib\\site-packages (from geocoder->geemap) (1.0.0)\n",
      "Requirement already satisfied: ratelim in c:\\users\\goldf\\documents\\programming\\pycharmprojects\\venv\\lib\\site-packages (from geocoder->geemap) (0.1.6)\n",
      "Requirement already satisfied: google-cloud-core<3.0dev,>=2.3.0 in c:\\users\\goldf\\documents\\programming\\pycharmprojects\\venv\\lib\\site-packages (from google-cloud-storage->earthengine-api) (2.4.1)\n",
      "Requirement already satisfied: google-resumable-media>=2.7.2 in c:\\users\\goldf\\documents\\programming\\pycharmprojects\\venv\\lib\\site-packages (from google-cloud-storage->earthengine-api) (2.7.2)\n",
      "Requirement already satisfied: google-crc32c<2.0dev,>=1.0 in c:\\users\\goldf\\documents\\programming\\pycharmprojects\\venv\\lib\\site-packages (from google-cloud-storage->earthengine-api) (1.6.0)\n",
      "Requirement already satisfied: charset-normalizer<4,>=2 in c:\\users\\goldf\\documents\\programming\\pycharmprojects\\venv\\lib\\site-packages (from requests->folium) (3.4.1)\n",
      "Requirement already satisfied: idna<4,>=2.5 in c:\\users\\goldf\\documents\\programming\\pycharmprojects\\venv\\lib\\site-packages (from requests->folium) (3.10)\n",
      "Requirement already satisfied: urllib3<3,>=1.21.1 in c:\\users\\goldf\\documents\\programming\\pycharmprojects\\venv\\lib\\site-packages (from requests->folium) (2.3.0)\n",
      "Requirement already satisfied: tenacity>=6.2.0 in c:\\users\\goldf\\documents\\programming\\pycharmprojects\\venv\\lib\\site-packages (from plotly->geemap) (9.0.0)\n",
      "Requirement already satisfied: pyasn1!=0.5.0,>=0.4.8 in c:\\users\\goldf\\documents\\programming\\pycharmprojects\\venv\\lib\\site-packages (from pysnmp->tensor) (0.6.1)\n",
      "Requirement already satisfied: attrs>=22.2.0 in c:\\users\\goldf\\documents\\programming\\pycharmprojects\\venv\\lib\\site-packages (from Twisted->tensor) (24.3.0)\n",
      "Requirement already satisfied: automat>=24.8.0 in c:\\users\\goldf\\documents\\programming\\pycharmprojects\\venv\\lib\\site-packages (from Twisted->tensor) (24.8.1)\n",
      "Requirement already satisfied: constantly>=15.1 in c:\\users\\goldf\\documents\\programming\\pycharmprojects\\venv\\lib\\site-packages (from Twisted->tensor) (23.10.4)\n",
      "Requirement already satisfied: hyperlink>=17.1.1 in c:\\users\\goldf\\documents\\programming\\pycharmprojects\\venv\\lib\\site-packages (from Twisted->tensor) (21.0.0)\n",
      "Requirement already satisfied: incremental>=24.7.0 in c:\\users\\goldf\\documents\\programming\\pycharmprojects\\venv\\lib\\site-packages (from Twisted->tensor) (24.7.2)\n",
      "Requirement already satisfied: typing-extensions>=4.2.0 in c:\\users\\goldf\\documents\\programming\\pycharmprojects\\venv\\lib\\site-packages (from Twisted->tensor) (4.12.2)\n",
      "Requirement already satisfied: zope-interface>=5 in c:\\users\\goldf\\documents\\programming\\pycharmprojects\\venv\\lib\\site-packages (from Twisted->tensor) (7.2)\n",
      "Requirement already satisfied: googleapis-common-protos<2.0.dev0,>=1.56.2 in c:\\users\\goldf\\documents\\programming\\pycharmprojects\\venv\\lib\\site-packages (from google-api-core!=2.0.*,!=2.1.*,!=2.2.*,!=2.3.0,<3.0.0.dev0,>=1.31.5->google-api-python-client>=1.12.1->earthengine-api) (1.66.0)\n",
      "Requirement already satisfied: proto-plus<2.0.0dev,>=1.22.3 in c:\\users\\goldf\\documents\\programming\\pycharmprojects\\venv\\lib\\site-packages (from google-api-core!=2.0.*,!=2.1.*,!=2.2.*,!=2.3.0,<3.0.0.dev0,>=1.31.5->google-api-python-client>=1.12.1->earthengine-api) (1.25.0)\n",
      "Requirement already satisfied: setuptools>=61.0 in c:\\users\\goldf\\documents\\programming\\pycharmprojects\\venv\\lib\\site-packages (from incremental>=24.7.0->Twisted->tensor) (75.8.0)\n",
      "Requirement already satisfied: comm>=0.1.3 in c:\\users\\goldf\\documents\\programming\\pycharmprojects\\venv\\lib\\site-packages (from ipywidgets->ipyfilechooser>=0.6.0->geemap) (0.2.2)\n",
      "Requirement already satisfied: ipython>=6.1.0 in c:\\users\\goldf\\documents\\programming\\pycharmprojects\\venv\\lib\\site-packages (from ipywidgets->ipyfilechooser>=0.6.0->geemap) (8.31.0)\n",
      "Requirement already satisfied: widgetsnbextension~=4.0.12 in c:\\users\\goldf\\documents\\programming\\pycharmprojects\\venv\\lib\\site-packages (from ipywidgets->ipyfilechooser>=0.6.0->geemap) (4.0.13)\n",
      "Requirement already satisfied: jupyterlab-widgets~=3.0.12 in c:\\users\\goldf\\documents\\programming\\pycharmprojects\\venv\\lib\\site-packages (from ipywidgets->ipyfilechooser>=0.6.0->geemap) (3.0.13)\n",
      "Requirement already satisfied: colorama in c:\\users\\goldf\\documents\\programming\\pycharmprojects\\venv\\lib\\site-packages (from click->geocoder->geemap) (0.4.6)\n",
      "Requirement already satisfied: decorator in c:\\users\\goldf\\documents\\programming\\pycharmprojects\\venv\\lib\\site-packages (from ratelim->geocoder->geemap) (5.1.1)\n",
      "Requirement already satisfied: jedi>=0.16 in c:\\users\\goldf\\documents\\programming\\pycharmprojects\\venv\\lib\\site-packages (from ipython>=6.1.0->ipywidgets->ipyfilechooser>=0.6.0->geemap) (0.19.2)\n",
      "Requirement already satisfied: matplotlib-inline in c:\\users\\goldf\\documents\\programming\\pycharmprojects\\venv\\lib\\site-packages (from ipython>=6.1.0->ipywidgets->ipyfilechooser>=0.6.0->geemap) (0.1.7)\n",
      "Requirement already satisfied: prompt_toolkit<3.1.0,>=3.0.41 in c:\\users\\goldf\\documents\\programming\\pycharmprojects\\venv\\lib\\site-packages (from ipython>=6.1.0->ipywidgets->ipyfilechooser>=0.6.0->geemap) (3.0.48)\n",
      "Requirement already satisfied: pygments>=2.4.0 in c:\\users\\goldf\\documents\\programming\\pycharmprojects\\venv\\lib\\site-packages (from ipython>=6.1.0->ipywidgets->ipyfilechooser>=0.6.0->geemap) (2.19.1)\n",
      "Requirement already satisfied: stack_data in c:\\users\\goldf\\documents\\programming\\pycharmprojects\\venv\\lib\\site-packages (from ipython>=6.1.0->ipywidgets->ipyfilechooser>=0.6.0->geemap) (0.6.3)\n",
      "Requirement already satisfied: parso<0.9.0,>=0.8.4 in c:\\users\\goldf\\documents\\programming\\pycharmprojects\\venv\\lib\\site-packages (from jedi>=0.16->ipython>=6.1.0->ipywidgets->ipyfilechooser>=0.6.0->geemap) (0.8.4)\n",
      "Requirement already satisfied: wcwidth in c:\\users\\goldf\\documents\\programming\\pycharmprojects\\venv\\lib\\site-packages (from prompt_toolkit<3.1.0,>=3.0.41->ipython>=6.1.0->ipywidgets->ipyfilechooser>=0.6.0->geemap) (0.2.13)\n",
      "Requirement already satisfied: executing>=1.2.0 in c:\\users\\goldf\\documents\\programming\\pycharmprojects\\venv\\lib\\site-packages (from stack_data->ipython>=6.1.0->ipywidgets->ipyfilechooser>=0.6.0->geemap) (2.1.0)\n",
      "Requirement already satisfied: asttokens>=2.1.0 in c:\\users\\goldf\\documents\\programming\\pycharmprojects\\venv\\lib\\site-packages (from stack_data->ipython>=6.1.0->ipywidgets->ipyfilechooser>=0.6.0->geemap) (3.0.0)\n",
      "Requirement already satisfied: pure-eval in c:\\users\\goldf\\documents\\programming\\pycharmprojects\\venv\\lib\\site-packages (from stack_data->ipython>=6.1.0->ipywidgets->ipyfilechooser>=0.6.0->geemap) (0.2.3)\n"
     ]
    }
   ],
   "execution_count": 4
  },
  {
   "metadata": {
    "ExecuteTime": {
     "end_time": "2025-01-29T00:01:52.908513Z",
     "start_time": "2025-01-29T00:01:52.904648Z"
    }
   },
   "cell_type": "code",
   "source": [
    "from geopandas import GeoDataFrame\n",
    "from shapely.geometry import Point\n",
    "import geopandas as gpd\n",
    "import pandas as pd\n",
    "import numpy as np\n",
    "import pprint\n",
    "import geemap\n",
    "import ee\n",
    "import folium"
   ],
   "id": "cd723e5ad8cc7f4c",
   "outputs": [
    {
     "data": {
      "text/plain": [
       "<IPython.core.display.HTML object>"
      ],
      "text/html": [
       "\n",
       "            <style>\n",
       "                .geemap-dark {\n",
       "                    --jp-widgets-color: white;\n",
       "                    --jp-widgets-label-color: white;\n",
       "                    --jp-ui-font-color1: white;\n",
       "                    --jp-layout-color2: #454545;\n",
       "                    background-color: #383838;\n",
       "                }\n",
       "\n",
       "                .geemap-dark .jupyter-button {\n",
       "                    --jp-layout-color3: #383838;\n",
       "                }\n",
       "\n",
       "                .geemap-colab {\n",
       "                    background-color: var(--colab-primary-surface-color, white);\n",
       "                }\n",
       "\n",
       "                .geemap-colab .jupyter-button {\n",
       "                    --jp-layout-color3: var(--colab-primary-surface-color, white);\n",
       "                }\n",
       "            </style>\n",
       "            "
      ]
     },
     "metadata": {},
     "output_type": "display_data"
    }
   ],
   "execution_count": 5
  },
  {
   "metadata": {},
   "cell_type": "markdown",
   "source": "### Section 1.2 - Importing our Dataset",
   "id": "e24c9963e24dc02c"
  },
  {
   "metadata": {
    "ExecuteTime": {
     "end_time": "2025-01-29T00:04:56.953613Z",
     "start_time": "2025-01-29T00:04:55.026806Z"
    }
   },
   "cell_type": "code",
   "source": [
    "# We are importing the observational data from the ZIP file provided (which contains the shape file) into a GeoDataFrame\n",
    "gdf = gpd.read_file('../Costa Rican Data/Classification_Plots.zip')\n",
    "\n",
    "# These display information about the GeoDataFrame to confirm the contains are what we expected\n",
    "display(gdf.crs)\n",
    "display(gdf.columns)"
   ],
   "id": "e43800f7469667e2",
   "outputs": [
    {
     "data": {
      "text/plain": [
       "<IPython.core.display.HTML object>"
      ],
      "text/html": [
       "\n",
       "            <style>\n",
       "                .geemap-dark {\n",
       "                    --jp-widgets-color: white;\n",
       "                    --jp-widgets-label-color: white;\n",
       "                    --jp-ui-font-color1: white;\n",
       "                    --jp-layout-color2: #454545;\n",
       "                    background-color: #383838;\n",
       "                }\n",
       "\n",
       "                .geemap-dark .jupyter-button {\n",
       "                    --jp-layout-color3: #383838;\n",
       "                }\n",
       "\n",
       "                .geemap-colab {\n",
       "                    background-color: var(--colab-primary-surface-color, white);\n",
       "                }\n",
       "\n",
       "                .geemap-colab .jupyter-button {\n",
       "                    --jp-layout-color3: var(--colab-primary-surface-color, white);\n",
       "                }\n",
       "            </style>\n",
       "            "
      ]
     },
     "metadata": {},
     "output_type": "display_data"
    },
    {
     "data": {
      "text/plain": [
       "<Geographic 2D CRS: EPSG:4326>\n",
       "Name: WGS 84\n",
       "Axis Info [ellipsoidal]:\n",
       "- Lat[north]: Geodetic latitude (degree)\n",
       "- Lon[east]: Geodetic longitude (degree)\n",
       "Area of Use:\n",
       "- name: World.\n",
       "- bounds: (-180.0, -90.0, 180.0, 90.0)\n",
       "Datum: World Geodetic System 1984 ensemble\n",
       "- Ellipsoid: WGS 84\n",
       "- Prime Meridian: Greenwich"
      ]
     },
     "metadata": {},
     "output_type": "display_data"
    },
    {
     "data": {
      "text/plain": [
       "Index(['Source.Nam', 'plotid', 'sampleid', 'lon', 'lat', 'sample_geo', 'Uso',\n",
       "       'Cobertura', 'Vegetacion', 'Herbaceas', 'Pasto_Arb', 'Cultivo',\n",
       "       'Humedal', 'Terreno', 'Agua', 'Otra_clase', 'SAF', 'Cambios15_',\n",
       "       'Gana_Perdi', 'geometry'],\n",
       "      dtype='object')"
      ]
     },
     "metadata": {},
     "output_type": "display_data"
    }
   ],
   "execution_count": 9
  },
  {
   "metadata": {},
   "cell_type": "markdown",
   "source": "### Section 1.3 - English Translations",
   "id": "c2579d84d523aa85"
  },
  {
   "metadata": {},
   "cell_type": "markdown",
   "source": "Renaming every column name to their respective English translation",
   "id": "335ce6889431a7a7"
  },
  {
   "metadata": {
    "ExecuteTime": {
     "end_time": "2025-01-29T00:01:52.964093Z",
     "start_time": "2025-01-27T03:10:52.130074Z"
    }
   },
   "cell_type": "code",
   "source": [
    "# Insert code here for Section 1.3\n",
    "k_clms = ['plotid','sampleid','Uso','Cobertura','Vegetacion','Herbaceas', 'Pasto_Arb', 'Cultivo','Humedal', 'Terreno','Agua','Otra_clase','SAF','Cambios15_','Gana_Perdi','geometry']\n",
    "gdf_s=gdf[k_clms]\n",
    "# gdf_s\n",
    "\n",
    "\n",
    "# new column names\n",
    "english_translations_predictors = {\n",
    "    'Uso': 'Use',\n",
    "    'Cobertura': 'CoverType',\n",
    "    'Vegetacion': 'Vegetations',\n",
    "    'Herbaceas': 'Herbaceous',\n",
    "    'Pasto_Arb': 'GrasslandShrub',\n",
    "    'Cultivo': 'CropsType',\n",
    "    'Humedal': 'WetlandArea',\n",
    "    'Terreno': 'LandType',\n",
    "    'Agua': 'WaterBodyType',\n",
    "    'Otra_clase': 'OtherClass',\n",
    "    'SAF': 'SAF',\n",
    "    'Cambios15_': 'Changes_15',\n",
    "    'Gana_Perdi': 'Gain_Loss',\n",
    "}\n",
    "\n",
    "# Create a new GeoDataFrame with selected columns and translations\n",
    "gdf_e = gdf[k_clms].copy()  # Creating a new GeoDataFrame\n",
    "gdf_e.rename(columns=english_translations_predictors, inplace=True)  # Renaming columns"
   ],
   "id": "449d9a0238e3a9ca",
   "outputs": [
    {
     "data": {
      "text/plain": [
       "<IPython.core.display.HTML object>"
      ],
      "text/html": [
       "\n",
       "            <style>\n",
       "                .geemap-dark {\n",
       "                    --jp-widgets-color: white;\n",
       "                    --jp-widgets-label-color: white;\n",
       "                    --jp-ui-font-color1: white;\n",
       "                    --jp-layout-color2: #454545;\n",
       "                    background-color: #383838;\n",
       "                }\n",
       "\n",
       "                .geemap-dark .jupyter-button {\n",
       "                    --jp-layout-color3: #383838;\n",
       "                }\n",
       "\n",
       "                .geemap-colab {\n",
       "                    background-color: var(--colab-primary-surface-color, white);\n",
       "                }\n",
       "\n",
       "                .geemap-colab .jupyter-button {\n",
       "                    --jp-layout-color3: var(--colab-primary-surface-color, white);\n",
       "                }\n",
       "            </style>\n",
       "            "
      ]
     },
     "metadata": {},
     "output_type": "display_data"
    }
   ],
   "execution_count": 4
  },
  {
   "metadata": {},
   "cell_type": "markdown",
   "source": "Renaming each predictor according to their respective English translation",
   "id": "bae1e91be971f0df"
  },
  {
   "metadata": {
    "ExecuteTime": {
     "end_time": "2025-01-29T00:01:52.965090Z",
     "start_time": "2025-01-27T03:10:52.235438Z"
    }
   },
   "cell_type": "code",
   "source": [
    "# Translation dictionaries for each categorical predictor\n",
    "translation_dicts = {\n",
    "    'Use': { # num of missing values: 216\n",
    "        'Bosque': 'Forest',\n",
    "        'Pastos': 'Grasslands',\n",
    "        'Humedal': 'Wetlands',\n",
    "        'Otras clases': 'Other classes',\n",
    "        'Agricultura': 'Agriculture',\n",
    "        'Plantacion forestal': 'Forest plantation',\n",
    "        'Sin informacion': 'No information',\n",
    "        'None': 'None'\n",
    "    },\n",
    "    'CoverType': { # num of missing values: 216\n",
    "        'Vegetacion': 'Vegetation',\n",
    "        'Sin vegetacion': 'No vegetation',\n",
    "        'Agua': 'Water',\n",
    "        'Sin informacion': 'No information',\n",
    "        'Nubes y sombras': 'Clouds and shadows',\n",
    "        'None': 'None'\n",
    "    },\n",
    "     'Changes_15': {# num of missing values: 216\n",
    "        'No se determina': 'Not determined',\n",
    "        'No': 'No',\n",
    "        'Si': 'Yes',\n",
    "        'None': 'None'\n",
    "    },\n",
    "    'Vegetations': {\n",
    "        'Arboles': 'Trees',\n",
    "        'Herbaceas': 'Herbaceous plants',\n",
    "        'None': 'None',\n",
    "        'Palmas': 'Palms',\n",
    "        'Arbustos': 'Shrubs',\n",
    "        'Otra vegetacion': 'Other vegetation',\n",
    "        'Saran': 'Saran (plastic cover)',\n",
    "        'Plastico': 'Plastic'\n",
    "    },\n",
    "    'Herbaceous': {\n",
    "        'None': 'None',\n",
    "        'Gramineas': 'Grasses',\n",
    "        'Otras Herbaceas': 'Other Herbaceous',\n",
    "        'Musaceas': 'Plantains'\n",
    "    },\n",
    "    'GrasslandShrub': {\n",
    "        'None': 'None',\n",
    "        'Pastos mezclados (70-90%)': 'Mixed Pasture (70-90%)',\n",
    "        'Pastos Puros (90-100%)': 'Pure Pasture (90-100%)',\n",
    "        'Pastos Combinados (50-70%)': 'Combined Pasture (50-70%)'\n",
    "    },\n",
    "    'CropsType': { # 10 different crop types\n",
    "        'None': 'None',\n",
    "        'Pina': 'Pineapple',\n",
    "        'Otro': 'Other',\n",
    "        'Arroz': 'Rice',\n",
    "        'Citricos': 'Citrus',\n",
    "        'Cana': 'Sugarcane',\n",
    "        'Palma': 'Palm',\n",
    "        'Banano': 'Banana',\n",
    "        'Melon': 'Melon',\n",
    "        'Sandia': 'Watermelon',\n",
    "        'Cafe': 'Coffee'\n",
    "    },\n",
    "     'WaterBodyType': { # 2 types of water bodies\n",
    "        'None': 'None',\n",
    "        'Continentales': 'Continental',\n",
    "        'Mar�timas': 'Marine'\n",
    "    },\n",
    "\n",
    "    'WetlandArea': { # 5 wetland area types\n",
    "        'None': 'None',\n",
    "        'Pantano (Palustre)': 'Swamp (Marsh)',\n",
    "        'Cuerpos de agua': 'Water bodies',\n",
    "        'Yolillal': 'Yolillal_Plants',\n",
    "        'Salinera': 'Salt marsh',\n",
    "        'Manglar': 'Mangrove'\n",
    "    },\n",
    "    'LandType': {\n",
    "        'None': 'None',\n",
    "        'Otras superficies': 'Other surfaces', # forested areas?\n",
    "        'Terreno descubierto': 'Exposed land', #  land degradation (soil is exposed)\n",
    "        'Suelo desnudo': 'Bare Land' # lacks cover (deforestation, desert)\n",
    "    },\n",
    "    'OtherClass': {\n",
    "        'None': 'None',\n",
    "        'Edificado / Desarrollado': 'Built/Developed',\n",
    "        'Suelo desnudo': 'Bare Land',\n",
    "        'Nubes': 'Clouds',\n",
    "        'Sombra de nubes': 'Cloud shadow',\n",
    "        'Paramo': 'Páramo (high-altitude ecosystem)',\n",
    "        'Playas y arenales': 'Beaches and sandbanks'\n",
    "    },\n",
    "    'SAF': {\n",
    "        'None': 'None',\n",
    "        'Cultivo Puro (90-100%)': 'Pure crop (90-100%)',\n",
    "        'Cultivo mezclado (70-90%)': 'Mixed crop (70-90%)',\n",
    "        'Cultivo Combinado (50-70%)': 'Combined crop (50-70%)'\n",
    "    },\n",
    "    'Gain_Loss': {\n",
    "        'None': 'None',# third category no gain or loss\n",
    "        'Perdida de Bosque': 'Forest loss',\n",
    "        'Ganancia de Bosque': 'Forest gain'\n",
    "    }\n",
    "}\n",
    "\n",
    "# Loop through each column and replace the Spanish values with the English translations\n",
    "for col, trans_dict in translation_dicts.items():\n",
    "    gdf_e[col] = gdf_e[col].replace(trans_dict)"
   ],
   "id": "6b5a7741cb23182f",
   "outputs": [
    {
     "data": {
      "text/plain": [
       "<IPython.core.display.HTML object>"
      ],
      "text/html": [
       "\n",
       "            <style>\n",
       "                .geemap-dark {\n",
       "                    --jp-widgets-color: white;\n",
       "                    --jp-widgets-label-color: white;\n",
       "                    --jp-ui-font-color1: white;\n",
       "                    --jp-layout-color2: #454545;\n",
       "                    background-color: #383838;\n",
       "                }\n",
       "\n",
       "                .geemap-dark .jupyter-button {\n",
       "                    --jp-layout-color3: #383838;\n",
       "                }\n",
       "\n",
       "                .geemap-colab {\n",
       "                    background-color: var(--colab-primary-surface-color, white);\n",
       "                }\n",
       "\n",
       "                .geemap-colab .jupyter-button {\n",
       "                    --jp-layout-color3: var(--colab-primary-surface-color, white);\n",
       "                }\n",
       "            </style>\n",
       "            "
      ]
     },
     "metadata": {},
     "output_type": "display_data"
    }
   ],
   "execution_count": 5
  },
  {
   "metadata": {},
   "cell_type": "markdown",
   "source": "Confirming the translations in the new Dataframe",
   "id": "b1ad5d4a35220a07"
  },
  {
   "metadata": {
    "ExecuteTime": {
     "end_time": "2025-01-29T00:01:52.966092700Z",
     "start_time": "2025-01-27T03:10:52.488033Z"
    }
   },
   "cell_type": "code",
   "source": [
    "# set display options to show more content\n",
    "pd.set_option('display.max_colwidth', None)  # Allows full width of content in each column\n",
    "pd.set_option('display.max_rows', None)      # Show all rows (if there are not too many unique values)\n",
    "\n",
    "# Now, get and display unique values for each categorical feature\n",
    "unique_values = gdf_e.select_dtypes(include=['object', 'category']).apply(lambda x: x.unique())\n",
    "\n",
    "# Display the result\n",
    "print(unique_values)"
   ],
   "id": "74c2e011ff2b5ae4",
   "outputs": [
    {
     "data": {
      "text/plain": [
       "<IPython.core.display.HTML object>"
      ],
      "text/html": [
       "\n",
       "            <style>\n",
       "                .geemap-dark {\n",
       "                    --jp-widgets-color: white;\n",
       "                    --jp-widgets-label-color: white;\n",
       "                    --jp-ui-font-color1: white;\n",
       "                    --jp-layout-color2: #454545;\n",
       "                    background-color: #383838;\n",
       "                }\n",
       "\n",
       "                .geemap-dark .jupyter-button {\n",
       "                    --jp-layout-color3: #383838;\n",
       "                }\n",
       "\n",
       "                .geemap-colab {\n",
       "                    background-color: var(--colab-primary-surface-color, white);\n",
       "                }\n",
       "\n",
       "                .geemap-colab .jupyter-button {\n",
       "                    --jp-layout-color3: var(--colab-primary-surface-color, white);\n",
       "                }\n",
       "            </style>\n",
       "            "
      ]
     },
     "metadata": {},
     "output_type": "display_data"
    },
    {
     "name": "stdout",
     "output_type": "stream",
     "text": [
      "Use                             [Forest, Grasslands, Wetlands, Other classes, Agriculture, Forest plantation, No information, None]\n",
      "CoverType                                              [Vegetation, No vegetation, Water, No information, Clouds and shadows, None]\n",
      "Vegetations                       [Trees, Herbaceous plants, None, Palms, Shrubs, Other vegetation, Saran (plastic cover), Plastic]\n",
      "Herbaceous                                                                             [None, Grasses, Other Herbaceous, Plantains]\n",
      "GrasslandShrub                                    [None, Mixed Pasture (70-90%), Pure Pasture (90-100%), Combined Pasture (50-70%)]\n",
      "CropsType                                [None, Pineapple, Other, Rice, Citrus, Sugarcane, Palm, Banana, Melon, Watermelon, Coffee]\n",
      "WetlandArea                                              [None, Swamp (Marsh), Water bodies, Yolillal_Plants, Salt marsh, Mangrove]\n",
      "LandType                                                                            [None, Other surfaces, Exposed land, Bare Land]\n",
      "WaterBodyType                                                                                           [None, Continental, Marine]\n",
      "OtherClass        [None, Built/Developed, Bare Land, Clouds, Cloud shadow, Páramo (high-altitude ecosystem), Beaches and sandbanks]\n",
      "SAF                                                        [None, Pure crop (90-100%), Mixed crop (70-90%), Combined crop (50-70%)]\n",
      "Changes_15                                                                                          [Not determined, No, Yes, None]\n",
      "Gain_Loss                                                                                          [None, Forest loss, Forest gain]\n",
      "dtype: object\n"
     ]
    }
   ],
   "execution_count": 6
  },
  {
   "metadata": {},
   "cell_type": "markdown",
   "source": [
    "New translated gdf is named\n",
    "∴ `gdf_e`"
   ],
   "id": "60371aa26d88481"
  },
  {
   "metadata": {},
   "cell_type": "markdown",
   "source": "## Section 2 - Data Acquisition and Cleaning",
   "id": "787f9b740c63cd6d"
  },
  {
   "metadata": {},
   "cell_type": "markdown",
   "source": "### Section 2.1 - Points imported, and points turned into \"wide\" format for the \"9->1 row per plot conversion",
   "id": "33480ffa1fc9f7fe"
  },
  {
   "metadata": {
    "ExecuteTime": {
     "end_time": "2025-01-29T00:01:52.966092700Z",
     "start_time": "2025-01-27T03:10:52.564415Z"
    }
   },
   "cell_type": "code",
   "source": "# Insert code here for Section 2.1",
   "id": "5dcf106e5c3418b4",
   "outputs": [
    {
     "data": {
      "text/plain": [
       "<IPython.core.display.HTML object>"
      ],
      "text/html": [
       "\n",
       "            <style>\n",
       "                .geemap-dark {\n",
       "                    --jp-widgets-color: white;\n",
       "                    --jp-widgets-label-color: white;\n",
       "                    --jp-ui-font-color1: white;\n",
       "                    --jp-layout-color2: #454545;\n",
       "                    background-color: #383838;\n",
       "                }\n",
       "\n",
       "                .geemap-dark .jupyter-button {\n",
       "                    --jp-layout-color3: #383838;\n",
       "                }\n",
       "\n",
       "                .geemap-colab {\n",
       "                    background-color: var(--colab-primary-surface-color, white);\n",
       "                }\n",
       "\n",
       "                .geemap-colab .jupyter-button {\n",
       "                    --jp-layout-color3: var(--colab-primary-surface-color, white);\n",
       "                }\n",
       "            </style>\n",
       "            "
      ]
     },
     "metadata": {},
     "output_type": "display_data"
    }
   ],
   "execution_count": 7
  },
  {
   "metadata": {},
   "cell_type": "markdown",
   "source": "### Section 2.2 - Exploratory Data Analysis (EDA)",
   "id": "667b49dba0e4f080"
  },
  {
   "metadata": {},
   "cell_type": "markdown",
   "source": "#### Section 2.2.1 Exploration of Plots and Points",
   "id": "4c3d74a2a7ccb444"
  },
  {
   "metadata": {
    "ExecuteTime": {
     "end_time": "2025-01-29T00:01:52.967093200Z",
     "start_time": "2025-01-27T03:10:52.634805Z"
    }
   },
   "cell_type": "code",
   "source": [
    "# Count of points, count of plots, and ID of NA's (if appropriate).\n",
    "\n",
    "# Function to calculate unique values of a dataframe's columns and check if it contains NAs\n",
    "def unique_values_table(dataframe):\n",
    "    unique_counts = []\n",
    "\n",
    "    for col in dataframe.columns:\n",
    "        # Check the number of unique values in this column ('col')\n",
    "        unique_without_na = dataframe[col].nunique(dropna=True)\n",
    "        # Check if said column ('col') has any NA values\n",
    "        has_na = dataframe[col].isna().any()\n",
    "\n",
    "        # Append the information calculated above into a list of dictionaries\n",
    "        unique_counts.append({\n",
    "            'Column Name': col,\n",
    "            'Unique Values (without NAs)': unique_without_na,\n",
    "            'Has NAs': has_na\n",
    "        })\n",
    "\n",
    "    # Convert results into a DataFrame\n",
    "    result_df = pd.DataFrame(unique_counts)\n",
    "    return result_df\n",
    "\n",
    "# Generate and display the table\n",
    "unique_table = unique_values_table(gdf_s[['plotid', 'sampleid']])\n",
    "display(unique_table)\n",
    "display(gdf_s.shape)"
   ],
   "id": "961799f29f6dd993",
   "outputs": [
    {
     "data": {
      "text/plain": [
       "<IPython.core.display.HTML object>"
      ],
      "text/html": [
       "\n",
       "            <style>\n",
       "                .geemap-dark {\n",
       "                    --jp-widgets-color: white;\n",
       "                    --jp-widgets-label-color: white;\n",
       "                    --jp-ui-font-color1: white;\n",
       "                    --jp-layout-color2: #454545;\n",
       "                    background-color: #383838;\n",
       "                }\n",
       "\n",
       "                .geemap-dark .jupyter-button {\n",
       "                    --jp-layout-color3: #383838;\n",
       "                }\n",
       "\n",
       "                .geemap-colab {\n",
       "                    background-color: var(--colab-primary-surface-color, white);\n",
       "                }\n",
       "\n",
       "                .geemap-colab .jupyter-button {\n",
       "                    --jp-layout-color3: var(--colab-primary-surface-color, white);\n",
       "                }\n",
       "            </style>\n",
       "            "
      ]
     },
     "metadata": {},
     "output_type": "display_data"
    },
    {
     "data": {
      "text/plain": [
       "  Column Name  Unique Values (without NAs)  Has NAs\n",
       "0      plotid                        11233    False\n",
       "1    sampleid                        49469    False"
      ],
      "text/html": [
       "<div>\n",
       "<style scoped>\n",
       "    .dataframe tbody tr th:only-of-type {\n",
       "        vertical-align: middle;\n",
       "    }\n",
       "\n",
       "    .dataframe tbody tr th {\n",
       "        vertical-align: top;\n",
       "    }\n",
       "\n",
       "    .dataframe thead th {\n",
       "        text-align: right;\n",
       "    }\n",
       "</style>\n",
       "<table border=\"1\" class=\"dataframe\">\n",
       "  <thead>\n",
       "    <tr style=\"text-align: right;\">\n",
       "      <th></th>\n",
       "      <th>Column Name</th>\n",
       "      <th>Unique Values (without NAs)</th>\n",
       "      <th>Has NAs</th>\n",
       "    </tr>\n",
       "  </thead>\n",
       "  <tbody>\n",
       "    <tr>\n",
       "      <th>0</th>\n",
       "      <td>plotid</td>\n",
       "      <td>11233</td>\n",
       "      <td>False</td>\n",
       "    </tr>\n",
       "    <tr>\n",
       "      <th>1</th>\n",
       "      <td>sampleid</td>\n",
       "      <td>49469</td>\n",
       "      <td>False</td>\n",
       "    </tr>\n",
       "  </tbody>\n",
       "</table>\n",
       "</div>"
      ]
     },
     "metadata": {},
     "output_type": "display_data"
    },
    {
     "data": {
      "text/plain": [
       "(101160, 16)"
      ]
     },
     "metadata": {},
     "output_type": "display_data"
    }
   ],
   "execution_count": 8
  },
  {
   "metadata": {},
   "cell_type": "markdown",
   "source": [
    "In summary, out of the **101,160 rows of data** in our Dataframe, there are only:\n",
    "- 11,233 unique plots,\n",
    "- 49,469 unique points.\n",
    "\n",
    "> Assumption 1: Some sampleids are being used more than once\n",
    "\n",
    "> Question 1: How many sampleids (points) are being used more than one time?\n",
    "\n",
    "Thankfully, there are no NA values in these two columns."
   ],
   "id": "c278d45c0a94393f"
  },
  {
   "metadata": {
    "ExecuteTime": {
     "end_time": "2025-01-29T00:01:52.968093500Z",
     "start_time": "2025-01-27T03:10:52.750181Z"
    }
   },
   "cell_type": "code",
   "source": [
    "# Count of plots that have fewer than 9 points per plot (and why)\n",
    "\n",
    "# Create subsets of gdf_s where the frequency of the plotid/sampleid is calculated\n",
    "plotid_counts = pd.DataFrame(gdf_s['plotid'].value_counts(dropna=False))\n",
    "sampleid_counts = pd.DataFrame(gdf_s['sampleid'].value_counts(dropna=False))\n",
    "\n",
    "# Creates subsets of plotid_counts that show plots with more or less than 9 points\n",
    "plotid_counts_lt9 = plotid_counts[plotid_counts['count'] < 9]\n",
    "plotid_counts_mt9 = plotid_counts[plotid_counts['count'] > 9]\n",
    "\n",
    "# Creates subsets of sampleid_counts that counts the frequency of each points' frequency\n",
    "sampleid_counts_mt0 = sampleid_counts[sampleid_counts['count'] > 0]\n",
    "sampleid_counts_frequency = pd.DataFrame(sampleid_counts_mt0['count'].value_counts())\n",
    "sampleid_counts_frequency.rename(columns={ sampleid_counts_frequency.columns[0]: \"count frequency\" }, inplace=True)\n",
    "\n",
    "print(\"There are {number_of_rows} plotid's with less than 9 points per plot:\".format(number_of_rows=len(plotid_counts_lt9)))\n",
    "display(plotid_counts_lt9)\n",
    "\n",
    "print(\"There are {number_of_rows} plotid's with more than 9 points per plot:\".format(number_of_rows=len(plotid_counts_mt9)))\n",
    "display(plotid_counts_mt9)\n",
    "\n",
    "# This answers Question 1: \"How many sampleids (points) are being used more than one time?\"\n",
    "# Also proves Assumption 1 as fact\n",
    "print(\"There are {number_of_rows} points that appear more than once:\".format(number_of_rows=len(sampleid_counts[sampleid_counts['count'] > 1])))\n",
    "display(sampleid_counts_frequency)"
   ],
   "id": "2716221331b28c5e",
   "outputs": [
    {
     "data": {
      "text/plain": [
       "<IPython.core.display.HTML object>"
      ],
      "text/html": [
       "\n",
       "            <style>\n",
       "                .geemap-dark {\n",
       "                    --jp-widgets-color: white;\n",
       "                    --jp-widgets-label-color: white;\n",
       "                    --jp-ui-font-color1: white;\n",
       "                    --jp-layout-color2: #454545;\n",
       "                    background-color: #383838;\n",
       "                }\n",
       "\n",
       "                .geemap-dark .jupyter-button {\n",
       "                    --jp-layout-color3: #383838;\n",
       "                }\n",
       "\n",
       "                .geemap-colab {\n",
       "                    background-color: var(--colab-primary-surface-color, white);\n",
       "                }\n",
       "\n",
       "                .geemap-colab .jupyter-button {\n",
       "                    --jp-layout-color3: var(--colab-primary-surface-color, white);\n",
       "                }\n",
       "            </style>\n",
       "            "
      ]
     },
     "metadata": {},
     "output_type": "display_data"
    },
    {
     "name": "stdout",
     "output_type": "stream",
     "text": [
      "There are 0 plotid's with less than 9 points per plot:\n"
     ]
    },
    {
     "data": {
      "text/plain": [
       "Empty DataFrame\n",
       "Columns: [count]\n",
       "Index: []"
      ],
      "text/html": [
       "<div>\n",
       "<style scoped>\n",
       "    .dataframe tbody tr th:only-of-type {\n",
       "        vertical-align: middle;\n",
       "    }\n",
       "\n",
       "    .dataframe tbody tr th {\n",
       "        vertical-align: top;\n",
       "    }\n",
       "\n",
       "    .dataframe thead th {\n",
       "        text-align: right;\n",
       "    }\n",
       "</style>\n",
       "<table border=\"1\" class=\"dataframe\">\n",
       "  <thead>\n",
       "    <tr style=\"text-align: right;\">\n",
       "      <th></th>\n",
       "      <th>count</th>\n",
       "    </tr>\n",
       "    <tr>\n",
       "      <th>plotid</th>\n",
       "      <th></th>\n",
       "    </tr>\n",
       "  </thead>\n",
       "  <tbody>\n",
       "  </tbody>\n",
       "</table>\n",
       "</div>"
      ]
     },
     "metadata": {},
     "output_type": "display_data"
    },
    {
     "name": "stdout",
     "output_type": "stream",
     "text": [
      "There are 7 plotid's with more than 9 points per plot:\n"
     ]
    },
    {
     "data": {
      "text/plain": [
       "        count\n",
       "plotid       \n",
       "2175       18\n",
       "4607       18\n",
       "6916       18\n",
       "3150       18\n",
       "3105       18\n",
       "3163       18\n",
       "1630       18"
      ],
      "text/html": [
       "<div>\n",
       "<style scoped>\n",
       "    .dataframe tbody tr th:only-of-type {\n",
       "        vertical-align: middle;\n",
       "    }\n",
       "\n",
       "    .dataframe tbody tr th {\n",
       "        vertical-align: top;\n",
       "    }\n",
       "\n",
       "    .dataframe thead th {\n",
       "        text-align: right;\n",
       "    }\n",
       "</style>\n",
       "<table border=\"1\" class=\"dataframe\">\n",
       "  <thead>\n",
       "    <tr style=\"text-align: right;\">\n",
       "      <th></th>\n",
       "      <th>count</th>\n",
       "    </tr>\n",
       "    <tr>\n",
       "      <th>plotid</th>\n",
       "      <th></th>\n",
       "    </tr>\n",
       "  </thead>\n",
       "  <tbody>\n",
       "    <tr>\n",
       "      <th>2175</th>\n",
       "      <td>18</td>\n",
       "    </tr>\n",
       "    <tr>\n",
       "      <th>4607</th>\n",
       "      <td>18</td>\n",
       "    </tr>\n",
       "    <tr>\n",
       "      <th>6916</th>\n",
       "      <td>18</td>\n",
       "    </tr>\n",
       "    <tr>\n",
       "      <th>3150</th>\n",
       "      <td>18</td>\n",
       "    </tr>\n",
       "    <tr>\n",
       "      <th>3105</th>\n",
       "      <td>18</td>\n",
       "    </tr>\n",
       "    <tr>\n",
       "      <th>3163</th>\n",
       "      <td>18</td>\n",
       "    </tr>\n",
       "    <tr>\n",
       "      <th>1630</th>\n",
       "      <td>18</td>\n",
       "    </tr>\n",
       "  </tbody>\n",
       "</table>\n",
       "</div>"
      ]
     },
     "metadata": {},
     "output_type": "display_data"
    },
    {
     "name": "stdout",
     "output_type": "stream",
     "text": [
      "There are 41437 points that appear more than once:\n"
     ]
    },
    {
     "data": {
      "text/plain": [
       "       count frequency\n",
       "count                 \n",
       "2                31204\n",
       "3                10212\n",
       "1                 8032\n",
       "4                   21"
      ],
      "text/html": [
       "<div>\n",
       "<style scoped>\n",
       "    .dataframe tbody tr th:only-of-type {\n",
       "        vertical-align: middle;\n",
       "    }\n",
       "\n",
       "    .dataframe tbody tr th {\n",
       "        vertical-align: top;\n",
       "    }\n",
       "\n",
       "    .dataframe thead th {\n",
       "        text-align: right;\n",
       "    }\n",
       "</style>\n",
       "<table border=\"1\" class=\"dataframe\">\n",
       "  <thead>\n",
       "    <tr style=\"text-align: right;\">\n",
       "      <th></th>\n",
       "      <th>count frequency</th>\n",
       "    </tr>\n",
       "    <tr>\n",
       "      <th>count</th>\n",
       "      <th></th>\n",
       "    </tr>\n",
       "  </thead>\n",
       "  <tbody>\n",
       "    <tr>\n",
       "      <th>2</th>\n",
       "      <td>31204</td>\n",
       "    </tr>\n",
       "    <tr>\n",
       "      <th>3</th>\n",
       "      <td>10212</td>\n",
       "    </tr>\n",
       "    <tr>\n",
       "      <th>1</th>\n",
       "      <td>8032</td>\n",
       "    </tr>\n",
       "    <tr>\n",
       "      <th>4</th>\n",
       "      <td>21</td>\n",
       "    </tr>\n",
       "  </tbody>\n",
       "</table>\n",
       "</div>"
      ]
     },
     "metadata": {},
     "output_type": "display_data"
    }
   ],
   "execution_count": 9
  },
  {
   "metadata": {},
   "cell_type": "markdown",
   "source": [
    "##### **Recall Question 1: \"How many sampleids (points) are being used more than one time?\"**\n",
    "In summary, out of all the unique plots in our data:\n",
    "- **None** have less than nine points per plot\n",
    "- **Seven** have more than nine points per plot (exactly 18 in fact)\n",
    "\n",
    "> Question 2: Why do those seven plots have 18 points instead of nine?\n",
    "\n",
    "> Question 3: Are all 18 of those points unique, or are some of them repeated?\n",
    "\n",
    "Out of all the sampleids (points) in our data:\n",
    "- **21** points appear four times\n",
    "- **10,212** points three times\n",
    "- **31,204** points appear two times\n",
    "- **8,032** points appear one time\n",
    "\n",
    "> Question 4: Do the points that appear repeatedly have the same longitude and latitude?"
   ],
   "id": "7a4285428ffd3db"
  },
  {
   "metadata": {
    "ExecuteTime": {
     "end_time": "2025-01-29T00:01:52.968093500Z",
     "start_time": "2025-01-27T04:07:53.106358Z"
    }
   },
   "cell_type": "code",
   "source": [
    "# This answers Question 2: \"Why do those seven plots have 18 points instead of nine?\"\n",
    "# Also Question 3: \"Are all 18 of those points unique, or are some of them repeated?\"\n",
    "\n",
    "# Analyzes the uniqueness of sample IDs associated with each plot ID.\n",
    "def analyze_plotids(plotids, gdf_s, onlyUniques=False):\n",
    "\n",
    "    # Create an empty list to store the results\n",
    "    results = []\n",
    "\n",
    "    # Iterate over unique plot IDs\n",
    "    for plotid in plotids:\n",
    "        # Filter the DataFrame to include only rows for the current plotid\n",
    "        filtered_data = gdf_s[gdf_s['plotid'] == plotid]\n",
    "\n",
    "        # Get the array of all points (sampleid) associated with the current plotid\n",
    "        if onlyUniques:\n",
    "            points_array = filtered_data['sampleid'].drop_duplicates().tolist()\n",
    "        else:\n",
    "            points_array = filtered_data['sampleid'].tolist()\n",
    "\n",
    "        # Check if all points are unique\n",
    "        all_points_unique = filtered_data['sampleid'].is_unique\n",
    "\n",
    "        # Append the plotid, points array, and uniqueness result to the results list\n",
    "        results.append({\n",
    "            'plotid': plotid,\n",
    "            'sampleids (points)': points_array,\n",
    "            'All points unique': all_points_unique\n",
    "        })\n",
    "\n",
    "    # Convert the results list into a new DataFrame\n",
    "    return pd.DataFrame(results)\n",
    "\n",
    "# TODO: Look into why so many points appear more than once (Might be found by completing TODO 1)\n",
    "\n",
    "# Display the results\n",
    "display(analyze_plotids(plotid_counts_mt9.index, gdf_s))"
   ],
   "id": "52e155601c5bc557",
   "outputs": [
    {
     "data": {
      "text/plain": [
       "<IPython.core.display.HTML object>"
      ],
      "text/html": [
       "\n",
       "            <style>\n",
       "                .geemap-dark {\n",
       "                    --jp-widgets-color: white;\n",
       "                    --jp-widgets-label-color: white;\n",
       "                    --jp-ui-font-color1: white;\n",
       "                    --jp-layout-color2: #454545;\n",
       "                    background-color: #383838;\n",
       "                }\n",
       "\n",
       "                .geemap-dark .jupyter-button {\n",
       "                    --jp-layout-color3: #383838;\n",
       "                }\n",
       "\n",
       "                .geemap-colab {\n",
       "                    background-color: var(--colab-primary-surface-color, white);\n",
       "                }\n",
       "\n",
       "                .geemap-colab .jupyter-button {\n",
       "                    --jp-layout-color3: var(--colab-primary-surface-color, white);\n",
       "                }\n",
       "            </style>\n",
       "            "
      ]
     },
     "metadata": {},
     "output_type": "display_data"
    },
    {
     "data": {
      "text/plain": [
       "   plotid  \\\n",
       "0    2175   \n",
       "1    4607   \n",
       "2    6916   \n",
       "3    3150   \n",
       "4    3105   \n",
       "5    3163   \n",
       "6    1630   \n",
       "\n",
       "                                                                                                               sampleids (points)  \\\n",
       "0                    [8697, 8697, 8698, 8698, 8699, 8699, 8700, 8700, 8701, 8701, 8702, 8702, 8703, 8703, 8704, 8704, 8705, 8705]   \n",
       "1  [18425, 18425, 18426, 18426, 18427, 18427, 18428, 18428, 18429, 18429, 18430, 18430, 18431, 18431, 18432, 18432, 18433, 18433]   \n",
       "2  [27661, 27661, 27662, 27662, 27663, 27663, 27664, 27664, 27665, 27665, 27666, 27666, 27667, 27667, 27668, 27668, 27669, 27669]   \n",
       "3  [12597, 12597, 12598, 12598, 12599, 12599, 12600, 12600, 12601, 12601, 12602, 12602, 12603, 12603, 12604, 12604, 12605, 12605]   \n",
       "4  [12417, 12417, 12418, 12418, 12419, 12419, 12420, 12420, 12421, 12421, 12422, 12422, 12423, 12423, 12424, 12424, 12425, 12425]   \n",
       "5  [12649, 12649, 12650, 12650, 12651, 12651, 12652, 12652, 12653, 12653, 12654, 12654, 12655, 12655, 12656, 12656, 12657, 12657]   \n",
       "6                    [6517, 6517, 6518, 6518, 6519, 6519, 6520, 6520, 6521, 6521, 6522, 6522, 6523, 6523, 6524, 6524, 6525, 6525]   \n",
       "\n",
       "   All points unique  \n",
       "0              False  \n",
       "1              False  \n",
       "2              False  \n",
       "3              False  \n",
       "4              False  \n",
       "5              False  \n",
       "6              False  "
      ],
      "text/html": [
       "<div>\n",
       "<style scoped>\n",
       "    .dataframe tbody tr th:only-of-type {\n",
       "        vertical-align: middle;\n",
       "    }\n",
       "\n",
       "    .dataframe tbody tr th {\n",
       "        vertical-align: top;\n",
       "    }\n",
       "\n",
       "    .dataframe thead th {\n",
       "        text-align: right;\n",
       "    }\n",
       "</style>\n",
       "<table border=\"1\" class=\"dataframe\">\n",
       "  <thead>\n",
       "    <tr style=\"text-align: right;\">\n",
       "      <th></th>\n",
       "      <th>plotid</th>\n",
       "      <th>sampleids (points)</th>\n",
       "      <th>All points unique</th>\n",
       "    </tr>\n",
       "  </thead>\n",
       "  <tbody>\n",
       "    <tr>\n",
       "      <th>0</th>\n",
       "      <td>2175</td>\n",
       "      <td>[8697, 8697, 8698, 8698, 8699, 8699, 8700, 8700, 8701, 8701, 8702, 8702, 8703, 8703, 8704, 8704, 8705, 8705]</td>\n",
       "      <td>False</td>\n",
       "    </tr>\n",
       "    <tr>\n",
       "      <th>1</th>\n",
       "      <td>4607</td>\n",
       "      <td>[18425, 18425, 18426, 18426, 18427, 18427, 18428, 18428, 18429, 18429, 18430, 18430, 18431, 18431, 18432, 18432, 18433, 18433]</td>\n",
       "      <td>False</td>\n",
       "    </tr>\n",
       "    <tr>\n",
       "      <th>2</th>\n",
       "      <td>6916</td>\n",
       "      <td>[27661, 27661, 27662, 27662, 27663, 27663, 27664, 27664, 27665, 27665, 27666, 27666, 27667, 27667, 27668, 27668, 27669, 27669]</td>\n",
       "      <td>False</td>\n",
       "    </tr>\n",
       "    <tr>\n",
       "      <th>3</th>\n",
       "      <td>3150</td>\n",
       "      <td>[12597, 12597, 12598, 12598, 12599, 12599, 12600, 12600, 12601, 12601, 12602, 12602, 12603, 12603, 12604, 12604, 12605, 12605]</td>\n",
       "      <td>False</td>\n",
       "    </tr>\n",
       "    <tr>\n",
       "      <th>4</th>\n",
       "      <td>3105</td>\n",
       "      <td>[12417, 12417, 12418, 12418, 12419, 12419, 12420, 12420, 12421, 12421, 12422, 12422, 12423, 12423, 12424, 12424, 12425, 12425]</td>\n",
       "      <td>False</td>\n",
       "    </tr>\n",
       "    <tr>\n",
       "      <th>5</th>\n",
       "      <td>3163</td>\n",
       "      <td>[12649, 12649, 12650, 12650, 12651, 12651, 12652, 12652, 12653, 12653, 12654, 12654, 12655, 12655, 12656, 12656, 12657, 12657]</td>\n",
       "      <td>False</td>\n",
       "    </tr>\n",
       "    <tr>\n",
       "      <th>6</th>\n",
       "      <td>1630</td>\n",
       "      <td>[6517, 6517, 6518, 6518, 6519, 6519, 6520, 6520, 6521, 6521, 6522, 6522, 6523, 6523, 6524, 6524, 6525, 6525]</td>\n",
       "      <td>False</td>\n",
       "    </tr>\n",
       "  </tbody>\n",
       "</table>\n",
       "</div>"
      ]
     },
     "metadata": {},
     "output_type": "display_data"
    }
   ],
   "execution_count": 41
  },
  {
   "metadata": {},
   "cell_type": "markdown",
   "source": [
    "##### **Recall Questions 2 & 3: \"Why do those seven plots have 18 points instead of nine; also, are all 18 of those points unique, or are some of them repeated?\"**\n",
    "Visually, we can tell that these seven plots:\n",
    "- Have had 9 sampleid's counted twice,\n",
    "- Do not have all associated sampleid's unique."
   ],
   "id": "53490073f7ce8bf2"
  },
  {
   "metadata": {
    "ExecuteTime": {
     "end_time": "2025-01-29T00:01:52.968093500Z",
     "start_time": "2025-01-27T04:46:10.634766Z"
    }
   },
   "cell_type": "code",
   "source": [
    "# TODO: Answer Question 4: \"Do the points that appear repeatedly have the same longitude and latitude?\"\n",
    "\n",
    "# For starters, let's work with the 21 points that appear four times\n",
    "\n",
    "display(sampleid_counts[sampleid_counts['count'] == 4])\n",
    "\n",
    "#for sampleid in sampleid_counts[sampleid_counts['count'] == 4].index:\n",
    "    # TODO: Finish loop dumbass\n",
    "    # Specifically create a subset of gdf_s that contains only the sampleids listed below so we can check their long/lats"
   ],
   "id": "a1cec371ebde6270",
   "outputs": [
    {
     "data": {
      "text/plain": [
       "<IPython.core.display.HTML object>"
      ],
      "text/html": [
       "\n",
       "            <style>\n",
       "                .geemap-dark {\n",
       "                    --jp-widgets-color: white;\n",
       "                    --jp-widgets-label-color: white;\n",
       "                    --jp-ui-font-color1: white;\n",
       "                    --jp-layout-color2: #454545;\n",
       "                    background-color: #383838;\n",
       "                }\n",
       "\n",
       "                .geemap-dark .jupyter-button {\n",
       "                    --jp-layout-color3: #383838;\n",
       "                }\n",
       "\n",
       "                .geemap-colab {\n",
       "                    background-color: var(--colab-primary-surface-color, white);\n",
       "                }\n",
       "\n",
       "                .geemap-colab .jupyter-button {\n",
       "                    --jp-layout-color3: var(--colab-primary-surface-color, white);\n",
       "                }\n",
       "            </style>\n",
       "            "
      ]
     },
     "metadata": {},
     "output_type": "display_data"
    },
    {
     "data": {
      "text/plain": [
       "          count\n",
       "sampleid       \n",
       "12417         4\n",
       "12601         4\n",
       "12657         4\n",
       "12597         4\n",
       "12605         4\n",
       "12653         4\n",
       "6525          4\n",
       "12649         4\n",
       "6521          4\n",
       "12421         4\n",
       "12425         4\n",
       "8697          4\n",
       "8701          4\n",
       "8705          4\n",
       "6517          4\n",
       "27669         4\n",
       "27661         4\n",
       "27665         4\n",
       "18425         4\n",
       "18429         4\n",
       "18433         4"
      ],
      "text/html": [
       "<div>\n",
       "<style scoped>\n",
       "    .dataframe tbody tr th:only-of-type {\n",
       "        vertical-align: middle;\n",
       "    }\n",
       "\n",
       "    .dataframe tbody tr th {\n",
       "        vertical-align: top;\n",
       "    }\n",
       "\n",
       "    .dataframe thead th {\n",
       "        text-align: right;\n",
       "    }\n",
       "</style>\n",
       "<table border=\"1\" class=\"dataframe\">\n",
       "  <thead>\n",
       "    <tr style=\"text-align: right;\">\n",
       "      <th></th>\n",
       "      <th>count</th>\n",
       "    </tr>\n",
       "    <tr>\n",
       "      <th>sampleid</th>\n",
       "      <th></th>\n",
       "    </tr>\n",
       "  </thead>\n",
       "  <tbody>\n",
       "    <tr>\n",
       "      <th>12417</th>\n",
       "      <td>4</td>\n",
       "    </tr>\n",
       "    <tr>\n",
       "      <th>12601</th>\n",
       "      <td>4</td>\n",
       "    </tr>\n",
       "    <tr>\n",
       "      <th>12657</th>\n",
       "      <td>4</td>\n",
       "    </tr>\n",
       "    <tr>\n",
       "      <th>12597</th>\n",
       "      <td>4</td>\n",
       "    </tr>\n",
       "    <tr>\n",
       "      <th>12605</th>\n",
       "      <td>4</td>\n",
       "    </tr>\n",
       "    <tr>\n",
       "      <th>12653</th>\n",
       "      <td>4</td>\n",
       "    </tr>\n",
       "    <tr>\n",
       "      <th>6525</th>\n",
       "      <td>4</td>\n",
       "    </tr>\n",
       "    <tr>\n",
       "      <th>12649</th>\n",
       "      <td>4</td>\n",
       "    </tr>\n",
       "    <tr>\n",
       "      <th>6521</th>\n",
       "      <td>4</td>\n",
       "    </tr>\n",
       "    <tr>\n",
       "      <th>12421</th>\n",
       "      <td>4</td>\n",
       "    </tr>\n",
       "    <tr>\n",
       "      <th>12425</th>\n",
       "      <td>4</td>\n",
       "    </tr>\n",
       "    <tr>\n",
       "      <th>8697</th>\n",
       "      <td>4</td>\n",
       "    </tr>\n",
       "    <tr>\n",
       "      <th>8701</th>\n",
       "      <td>4</td>\n",
       "    </tr>\n",
       "    <tr>\n",
       "      <th>8705</th>\n",
       "      <td>4</td>\n",
       "    </tr>\n",
       "    <tr>\n",
       "      <th>6517</th>\n",
       "      <td>4</td>\n",
       "    </tr>\n",
       "    <tr>\n",
       "      <th>27669</th>\n",
       "      <td>4</td>\n",
       "    </tr>\n",
       "    <tr>\n",
       "      <th>27661</th>\n",
       "      <td>4</td>\n",
       "    </tr>\n",
       "    <tr>\n",
       "      <th>27665</th>\n",
       "      <td>4</td>\n",
       "    </tr>\n",
       "    <tr>\n",
       "      <th>18425</th>\n",
       "      <td>4</td>\n",
       "    </tr>\n",
       "    <tr>\n",
       "      <th>18429</th>\n",
       "      <td>4</td>\n",
       "    </tr>\n",
       "    <tr>\n",
       "      <th>18433</th>\n",
       "      <td>4</td>\n",
       "    </tr>\n",
       "  </tbody>\n",
       "</table>\n",
       "</div>"
      ]
     },
     "metadata": {},
     "output_type": "display_data"
    }
   ],
   "execution_count": 45
  },
  {
   "metadata": {},
   "cell_type": "markdown",
   "source": "Fill in with summary of above findings",
   "id": "6fb65ef48c941624"
  },
  {
   "metadata": {
    "ExecuteTime": {
     "end_time": "2025-01-29T00:01:52.969091700Z",
     "start_time": "2025-01-27T03:21:08.119838Z"
    }
   },
   "cell_type": "code",
   "source": "# Map the plots (the 10,000 not the 90,000)",
   "id": "6120032df998addd",
   "outputs": [
    {
     "data": {
      "text/plain": [
       "<IPython.core.display.HTML object>"
      ],
      "text/html": [
       "\n",
       "            <style>\n",
       "                .geemap-dark {\n",
       "                    --jp-widgets-color: white;\n",
       "                    --jp-widgets-label-color: white;\n",
       "                    --jp-ui-font-color1: white;\n",
       "                    --jp-layout-color2: #454545;\n",
       "                    background-color: #383838;\n",
       "                }\n",
       "\n",
       "                .geemap-dark .jupyter-button {\n",
       "                    --jp-layout-color3: #383838;\n",
       "                }\n",
       "\n",
       "                .geemap-colab {\n",
       "                    background-color: var(--colab-primary-surface-color, white);\n",
       "                }\n",
       "\n",
       "                .geemap-colab .jupyter-button {\n",
       "                    --jp-layout-color3: var(--colab-primary-surface-color, white);\n",
       "                }\n",
       "            </style>\n",
       "            "
      ]
     },
     "metadata": {},
     "output_type": "display_data"
    }
   ],
   "execution_count": 19
  },
  {
   "metadata": {},
   "cell_type": "markdown",
   "source": "### Section 2.3 - Acquisition of data from GEE",
   "id": "3915de501c630556"
  },
  {
   "metadata": {},
   "cell_type": "markdown",
   "source": "## Section 3 - Utilizing ML Models",
   "id": "d5cbe4142bc3f753"
  },
  {
   "metadata": {},
   "cell_type": "markdown",
   "source": "### Section 3.1 - Feature Selection",
   "id": "7e5d878abb82a7e2"
  },
  {
   "metadata": {
    "ExecuteTime": {
     "end_time": "2025-01-29T00:01:52.974586400Z",
     "start_time": "2025-01-27T03:10:53.770199Z"
    }
   },
   "cell_type": "code",
   "source": "# Insert code here for Section 3.1",
   "id": "174e9c9037eaf25e",
   "outputs": [
    {
     "data": {
      "text/plain": [
       "<IPython.core.display.HTML object>"
      ],
      "text/html": [
       "\n",
       "            <style>\n",
       "                .geemap-dark {\n",
       "                    --jp-widgets-color: white;\n",
       "                    --jp-widgets-label-color: white;\n",
       "                    --jp-ui-font-color1: white;\n",
       "                    --jp-layout-color2: #454545;\n",
       "                    background-color: #383838;\n",
       "                }\n",
       "\n",
       "                .geemap-dark .jupyter-button {\n",
       "                    --jp-layout-color3: #383838;\n",
       "                }\n",
       "\n",
       "                .geemap-colab {\n",
       "                    background-color: var(--colab-primary-surface-color, white);\n",
       "                }\n",
       "\n",
       "                .geemap-colab .jupyter-button {\n",
       "                    --jp-layout-color3: var(--colab-primary-surface-color, white);\n",
       "                }\n",
       "            </style>\n",
       "            "
      ]
     },
     "metadata": {},
     "output_type": "display_data"
    }
   ],
   "execution_count": 12
  },
  {
   "metadata": {},
   "cell_type": "markdown",
   "source": "### Section 3.2 - Model Research",
   "id": "36a6480144299042"
  },
  {
   "metadata": {
    "ExecuteTime": {
     "end_time": "2025-01-29T00:01:52.975589100Z",
     "start_time": "2025-01-27T03:10:53.805595Z"
    }
   },
   "cell_type": "code",
   "source": "# Insert code here for Section 3.2",
   "id": "8d80f57e4f8d2678",
   "outputs": [
    {
     "data": {
      "text/plain": [
       "<IPython.core.display.HTML object>"
      ],
      "text/html": [
       "\n",
       "            <style>\n",
       "                .geemap-dark {\n",
       "                    --jp-widgets-color: white;\n",
       "                    --jp-widgets-label-color: white;\n",
       "                    --jp-ui-font-color1: white;\n",
       "                    --jp-layout-color2: #454545;\n",
       "                    background-color: #383838;\n",
       "                }\n",
       "\n",
       "                .geemap-dark .jupyter-button {\n",
       "                    --jp-layout-color3: #383838;\n",
       "                }\n",
       "\n",
       "                .geemap-colab {\n",
       "                    background-color: var(--colab-primary-surface-color, white);\n",
       "                }\n",
       "\n",
       "                .geemap-colab .jupyter-button {\n",
       "                    --jp-layout-color3: var(--colab-primary-surface-color, white);\n",
       "                }\n",
       "            </style>\n",
       "            "
      ]
     },
     "metadata": {},
     "output_type": "display_data"
    }
   ],
   "execution_count": 13
  },
  {
   "metadata": {},
   "cell_type": "markdown",
   "source": "### Section 3.3 - Model Comparisons",
   "id": "d7f924cc90a1d6a4"
  },
  {
   "metadata": {
    "ExecuteTime": {
     "end_time": "2025-01-29T00:01:52.976586900Z",
     "start_time": "2025-01-27T03:10:53.841597Z"
    }
   },
   "cell_type": "code",
   "source": "# Insert code here for Section 3.3",
   "id": "5e7c7bbd59a9310e",
   "outputs": [
    {
     "data": {
      "text/plain": [
       "<IPython.core.display.HTML object>"
      ],
      "text/html": [
       "\n",
       "            <style>\n",
       "                .geemap-dark {\n",
       "                    --jp-widgets-color: white;\n",
       "                    --jp-widgets-label-color: white;\n",
       "                    --jp-ui-font-color1: white;\n",
       "                    --jp-layout-color2: #454545;\n",
       "                    background-color: #383838;\n",
       "                }\n",
       "\n",
       "                .geemap-dark .jupyter-button {\n",
       "                    --jp-layout-color3: #383838;\n",
       "                }\n",
       "\n",
       "                .geemap-colab {\n",
       "                    background-color: var(--colab-primary-surface-color, white);\n",
       "                }\n",
       "\n",
       "                .geemap-colab .jupyter-button {\n",
       "                    --jp-layout-color3: var(--colab-primary-surface-color, white);\n",
       "                }\n",
       "            </style>\n",
       "            "
      ]
     },
     "metadata": {},
     "output_type": "display_data"
    }
   ],
   "execution_count": 14
  },
  {
   "metadata": {},
   "cell_type": "markdown",
   "source": "## Section 4 - Maps / Visualizations / Documentation",
   "id": "dc141305440ebe0e"
  },
  {
   "metadata": {},
   "cell_type": "markdown",
   "source": "### Section 4.1 - Creating the maps",
   "id": "c5476854d31d7ea0"
  },
  {
   "metadata": {
    "ExecuteTime": {
     "end_time": "2025-01-29T00:01:52.976586900Z",
     "start_time": "2025-01-27T03:10:53.921075Z"
    }
   },
   "cell_type": "code",
   "source": "# Insert code here for Section 4.1",
   "id": "cac47c9de69d1141",
   "outputs": [
    {
     "data": {
      "text/plain": [
       "<IPython.core.display.HTML object>"
      ],
      "text/html": [
       "\n",
       "            <style>\n",
       "                .geemap-dark {\n",
       "                    --jp-widgets-color: white;\n",
       "                    --jp-widgets-label-color: white;\n",
       "                    --jp-ui-font-color1: white;\n",
       "                    --jp-layout-color2: #454545;\n",
       "                    background-color: #383838;\n",
       "                }\n",
       "\n",
       "                .geemap-dark .jupyter-button {\n",
       "                    --jp-layout-color3: #383838;\n",
       "                }\n",
       "\n",
       "                .geemap-colab {\n",
       "                    background-color: var(--colab-primary-surface-color, white);\n",
       "                }\n",
       "\n",
       "                .geemap-colab .jupyter-button {\n",
       "                    --jp-layout-color3: var(--colab-primary-surface-color, white);\n",
       "                }\n",
       "            </style>\n",
       "            "
      ]
     },
     "metadata": {},
     "output_type": "display_data"
    }
   ],
   "execution_count": 15
  }
 ],
 "metadata": {
  "kernelspec": {
   "display_name": "Python 3",
   "language": "python",
   "name": "python3"
  },
  "language_info": {
   "codemirror_mode": {
    "name": "ipython",
    "version": 2
   },
   "file_extension": ".py",
   "mimetype": "text/x-python",
   "name": "python",
   "nbconvert_exporter": "python",
   "pygments_lexer": "ipython2",
   "version": "2.7.6"
  }
 },
 "nbformat": 4,
 "nbformat_minor": 5
}
