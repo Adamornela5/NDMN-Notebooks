{
 "cells": [
  {
   "cell_type": "markdown",
   "metadata": {},
   "source": [
    "## Section 1 - Setup"
   ]
  },
  {
   "cell_type": "markdown",
   "metadata": {},
   "source": [
    "### Section 1.1 - Installing software and importing packages"
   ]
  },
  {
   "cell_type": "code",
   "execution_count": 19,
   "metadata": {},
   "outputs": [
    {
     "data": {
      "text/html": [
       "\n",
       "            <style>\n",
       "                .geemap-dark {\n",
       "                    --jp-widgets-color: white;\n",
       "                    --jp-widgets-label-color: white;\n",
       "                    --jp-ui-font-color1: white;\n",
       "                    --jp-layout-color2: #454545;\n",
       "                    background-color: #383838;\n",
       "                }\n",
       "\n",
       "                .geemap-dark .jupyter-button {\n",
       "                    --jp-layout-color3: #383838;\n",
       "                }\n",
       "\n",
       "                .geemap-colab {\n",
       "                    background-color: var(--colab-primary-surface-color, white);\n",
       "                }\n",
       "\n",
       "                .geemap-colab .jupyter-button {\n",
       "                    --jp-layout-color3: var(--colab-primary-surface-color, white);\n",
       "                }\n",
       "            </style>\n",
       "            "
      ],
      "text/plain": [
       "<IPython.core.display.HTML object>"
      ]
     },
     "metadata": {},
     "output_type": "display_data"
    },
    {
     "name": "stdout",
     "output_type": "stream",
     "text": [
      "Requirement already satisfied: pandas in /home/goldferret/Documents/projects/ndmn-notebooks/venv/lib/python3.13/site-packages (2.2.3)\n",
      "Requirement already satisfied: numpy in /home/goldferret/Documents/projects/ndmn-notebooks/venv/lib/python3.13/site-packages (2.2.3)\n",
      "Requirement already satisfied: geopandas in /home/goldferret/Documents/projects/ndmn-notebooks/venv/lib/python3.13/site-packages (1.0.1)\n",
      "Requirement already satisfied: seaborn in /home/goldferret/Documents/projects/ndmn-notebooks/venv/lib/python3.13/site-packages (0.13.2)\n",
      "Requirement already satisfied: scikit-learn in /home/goldferret/Documents/projects/ndmn-notebooks/venv/lib/python3.13/site-packages (1.6.1)\n",
      "Requirement already satisfied: tensor in /home/goldferret/Documents/projects/ndmn-notebooks/venv/lib/python3.13/site-packages (0.3.6)\n",
      "Requirement already satisfied: folium in /home/goldferret/Documents/projects/ndmn-notebooks/venv/lib/python3.13/site-packages (0.19.4)\n",
      "Requirement already satisfied: matplotlib in /home/goldferret/Documents/projects/ndmn-notebooks/venv/lib/python3.13/site-packages (3.10.0)\n",
      "Requirement already satisfied: mapclassify in /home/goldferret/Documents/projects/ndmn-notebooks/venv/lib/python3.13/site-packages (2.8.1)\n",
      "Requirement already satisfied: earthengine-api in /home/goldferret/Documents/projects/ndmn-notebooks/venv/lib/python3.13/site-packages (1.5.3)\n",
      "Requirement already satisfied: geemap in /home/goldferret/Documents/projects/ndmn-notebooks/venv/lib/python3.13/site-packages (0.35.1)\n",
      "Requirement already satisfied: pyarrow in /home/goldferret/Documents/projects/ndmn-notebooks/venv/lib/python3.13/site-packages (19.0.1)\n",
      "Requirement already satisfied: python-dateutil>=2.8.2 in /home/goldferret/Documents/projects/ndmn-notebooks/venv/lib/python3.13/site-packages (from pandas) (2.9.0.post0)\n",
      "Requirement already satisfied: pytz>=2020.1 in /home/goldferret/Documents/projects/ndmn-notebooks/venv/lib/python3.13/site-packages (from pandas) (2025.1)\n",
      "Requirement already satisfied: tzdata>=2022.7 in /home/goldferret/Documents/projects/ndmn-notebooks/venv/lib/python3.13/site-packages (from pandas) (2025.1)\n",
      "Requirement already satisfied: pyogrio>=0.7.2 in /home/goldferret/Documents/projects/ndmn-notebooks/venv/lib/python3.13/site-packages (from geopandas) (0.10.0)\n",
      "Requirement already satisfied: packaging in /home/goldferret/Documents/projects/ndmn-notebooks/venv/lib/python3.13/site-packages (from geopandas) (24.2)\n",
      "Requirement already satisfied: pyproj>=3.3.0 in /home/goldferret/Documents/projects/ndmn-notebooks/venv/lib/python3.13/site-packages (from geopandas) (3.7.1)\n",
      "Requirement already satisfied: shapely>=2.0.0 in /home/goldferret/Documents/projects/ndmn-notebooks/venv/lib/python3.13/site-packages (from geopandas) (2.0.7)\n",
      "Requirement already satisfied: scipy>=1.6.0 in /home/goldferret/Documents/projects/ndmn-notebooks/venv/lib/python3.13/site-packages (from scikit-learn) (1.15.2)\n",
      "Requirement already satisfied: joblib>=1.2.0 in /home/goldferret/Documents/projects/ndmn-notebooks/venv/lib/python3.13/site-packages (from scikit-learn) (1.4.2)\n",
      "Requirement already satisfied: threadpoolctl>=3.1.0 in /home/goldferret/Documents/projects/ndmn-notebooks/venv/lib/python3.13/site-packages (from scikit-learn) (3.5.0)\n",
      "Requirement already satisfied: Twisted in /home/goldferret/Documents/projects/ndmn-notebooks/venv/lib/python3.13/site-packages (from tensor) (24.11.0)\n",
      "Requirement already satisfied: PyYaml in /home/goldferret/Documents/projects/ndmn-notebooks/venv/lib/python3.13/site-packages (from tensor) (6.0.2)\n",
      "Requirement already satisfied: protobuf in /home/goldferret/Documents/projects/ndmn-notebooks/venv/lib/python3.13/site-packages (from tensor) (5.29.3)\n",
      "Requirement already satisfied: construct in /home/goldferret/Documents/projects/ndmn-notebooks/venv/lib/python3.13/site-packages (from tensor) (2.10.70)\n",
      "Requirement already satisfied: pysnmp in /home/goldferret/Documents/projects/ndmn-notebooks/venv/lib/python3.13/site-packages (from tensor) (7.1.16)\n",
      "Requirement already satisfied: branca>=0.6.0 in /home/goldferret/Documents/projects/ndmn-notebooks/venv/lib/python3.13/site-packages (from folium) (0.8.1)\n",
      "Requirement already satisfied: jinja2>=2.9 in /home/goldferret/Documents/projects/ndmn-notebooks/venv/lib/python3.13/site-packages (from folium) (3.1.5)\n",
      "Requirement already satisfied: requests in /home/goldferret/Documents/projects/ndmn-notebooks/venv/lib/python3.13/site-packages (from folium) (2.32.3)\n",
      "Requirement already satisfied: xyzservices in /home/goldferret/Documents/projects/ndmn-notebooks/venv/lib/python3.13/site-packages (from folium) (2025.1.0)\n",
      "Requirement already satisfied: contourpy>=1.0.1 in /home/goldferret/Documents/projects/ndmn-notebooks/venv/lib/python3.13/site-packages (from matplotlib) (1.3.1)\n",
      "Requirement already satisfied: cycler>=0.10 in /home/goldferret/Documents/projects/ndmn-notebooks/venv/lib/python3.13/site-packages (from matplotlib) (0.12.1)\n",
      "Requirement already satisfied: fonttools>=4.22.0 in /home/goldferret/Documents/projects/ndmn-notebooks/venv/lib/python3.13/site-packages (from matplotlib) (4.56.0)\n",
      "Requirement already satisfied: kiwisolver>=1.3.1 in /home/goldferret/Documents/projects/ndmn-notebooks/venv/lib/python3.13/site-packages (from matplotlib) (1.4.8)\n",
      "Requirement already satisfied: pillow>=8 in /home/goldferret/Documents/projects/ndmn-notebooks/venv/lib/python3.13/site-packages (from matplotlib) (11.1.0)\n",
      "Requirement already satisfied: pyparsing>=2.3.1 in /home/goldferret/Documents/projects/ndmn-notebooks/venv/lib/python3.13/site-packages (from matplotlib) (3.2.1)\n",
      "Requirement already satisfied: networkx>=2.7 in /home/goldferret/Documents/projects/ndmn-notebooks/venv/lib/python3.13/site-packages (from mapclassify) (3.4.2)\n",
      "Requirement already satisfied: google-cloud-storage in /home/goldferret/Documents/projects/ndmn-notebooks/venv/lib/python3.13/site-packages (from earthengine-api) (3.0.0)\n",
      "Requirement already satisfied: google-api-python-client>=1.12.1 in /home/goldferret/Documents/projects/ndmn-notebooks/venv/lib/python3.13/site-packages (from earthengine-api) (2.161.0)\n",
      "Requirement already satisfied: google-auth>=1.4.1 in /home/goldferret/Documents/projects/ndmn-notebooks/venv/lib/python3.13/site-packages (from earthengine-api) (2.38.0)\n",
      "Requirement already satisfied: google-auth-httplib2>=0.0.3 in /home/goldferret/Documents/projects/ndmn-notebooks/venv/lib/python3.13/site-packages (from earthengine-api) (0.2.0)\n",
      "Requirement already satisfied: httplib2<1dev,>=0.9.2 in /home/goldferret/Documents/projects/ndmn-notebooks/venv/lib/python3.13/site-packages (from earthengine-api) (0.22.0)\n",
      "Requirement already satisfied: bqplot in /home/goldferret/Documents/projects/ndmn-notebooks/venv/lib/python3.13/site-packages (from geemap) (0.12.44)\n",
      "Requirement already satisfied: colour in /home/goldferret/Documents/projects/ndmn-notebooks/venv/lib/python3.13/site-packages (from geemap) (0.1.5)\n",
      "Requirement already satisfied: eerepr>=0.0.4 in /home/goldferret/Documents/projects/ndmn-notebooks/venv/lib/python3.13/site-packages (from geemap) (0.1.1)\n",
      "Requirement already satisfied: geocoder in /home/goldferret/Documents/projects/ndmn-notebooks/venv/lib/python3.13/site-packages (from geemap) (1.38.1)\n",
      "Requirement already satisfied: ipyevents in /home/goldferret/Documents/projects/ndmn-notebooks/venv/lib/python3.13/site-packages (from geemap) (2.0.2)\n",
      "Requirement already satisfied: ipyfilechooser>=0.6.0 in /home/goldferret/Documents/projects/ndmn-notebooks/venv/lib/python3.13/site-packages (from geemap) (0.6.0)\n",
      "Requirement already satisfied: ipyleaflet>=0.19.2 in /home/goldferret/Documents/projects/ndmn-notebooks/venv/lib/python3.13/site-packages (from geemap) (0.19.2)\n",
      "Requirement already satisfied: ipytree in /home/goldferret/Documents/projects/ndmn-notebooks/venv/lib/python3.13/site-packages (from geemap) (0.2.2)\n",
      "Requirement already satisfied: plotly in /home/goldferret/Documents/projects/ndmn-notebooks/venv/lib/python3.13/site-packages (from geemap) (6.0.0)\n",
      "Requirement already satisfied: pyperclip in /home/goldferret/Documents/projects/ndmn-notebooks/venv/lib/python3.13/site-packages (from geemap) (1.9.0)\n",
      "Requirement already satisfied: pyshp>=2.3.1 in /home/goldferret/Documents/projects/ndmn-notebooks/venv/lib/python3.13/site-packages (from geemap) (2.3.1)\n",
      "Requirement already satisfied: python-box in /home/goldferret/Documents/projects/ndmn-notebooks/venv/lib/python3.13/site-packages (from geemap) (7.3.2)\n",
      "Requirement already satisfied: scooby in /home/goldferret/Documents/projects/ndmn-notebooks/venv/lib/python3.13/site-packages (from geemap) (0.10.0)\n",
      "Requirement already satisfied: google-api-core!=2.0.*,!=2.1.*,!=2.2.*,!=2.3.0,<3.0.0.dev0,>=1.31.5 in /home/goldferret/Documents/projects/ndmn-notebooks/venv/lib/python3.13/site-packages (from google-api-python-client>=1.12.1->earthengine-api) (2.24.1)\n",
      "Requirement already satisfied: uritemplate<5,>=3.0.1 in /home/goldferret/Documents/projects/ndmn-notebooks/venv/lib/python3.13/site-packages (from google-api-python-client>=1.12.1->earthengine-api) (4.1.1)\n",
      "Requirement already satisfied: cachetools<6.0,>=2.0.0 in /home/goldferret/Documents/projects/ndmn-notebooks/venv/lib/python3.13/site-packages (from google-auth>=1.4.1->earthengine-api) (5.5.1)\n",
      "Requirement already satisfied: pyasn1-modules>=0.2.1 in /home/goldferret/Documents/projects/ndmn-notebooks/venv/lib/python3.13/site-packages (from google-auth>=1.4.1->earthengine-api) (0.4.1)\n",
      "Requirement already satisfied: rsa<5,>=3.1.4 in /home/goldferret/Documents/projects/ndmn-notebooks/venv/lib/python3.13/site-packages (from google-auth>=1.4.1->earthengine-api) (4.9)\n",
      "Requirement already satisfied: ipywidgets in /home/goldferret/Documents/projects/ndmn-notebooks/venv/lib/python3.13/site-packages (from ipyfilechooser>=0.6.0->geemap) (8.1.5)\n",
      "Requirement already satisfied: jupyter-leaflet<0.20,>=0.19 in /home/goldferret/Documents/projects/ndmn-notebooks/venv/lib/python3.13/site-packages (from ipyleaflet>=0.19.2->geemap) (0.19.2)\n",
      "Requirement already satisfied: traittypes<3,>=0.2.1 in /home/goldferret/Documents/projects/ndmn-notebooks/venv/lib/python3.13/site-packages (from ipyleaflet>=0.19.2->geemap) (0.2.1)\n",
      "Requirement already satisfied: MarkupSafe>=2.0 in /home/goldferret/Documents/projects/ndmn-notebooks/venv/lib/python3.13/site-packages (from jinja2>=2.9->folium) (3.0.2)\n",
      "Requirement already satisfied: certifi in /home/goldferret/Documents/projects/ndmn-notebooks/venv/lib/python3.13/site-packages (from pyogrio>=0.7.2->geopandas) (2025.1.31)\n",
      "Requirement already satisfied: six>=1.5 in /home/goldferret/Documents/projects/ndmn-notebooks/venv/lib/python3.13/site-packages (from python-dateutil>=2.8.2->pandas) (1.17.0)\n",
      "Requirement already satisfied: traitlets>=4.3.0 in /home/goldferret/Documents/projects/ndmn-notebooks/venv/lib/python3.13/site-packages (from bqplot->geemap) (5.14.3)\n",
      "Requirement already satisfied: click in /home/goldferret/Documents/projects/ndmn-notebooks/venv/lib/python3.13/site-packages (from geocoder->geemap) (8.1.8)\n",
      "Requirement already satisfied: future in /home/goldferret/Documents/projects/ndmn-notebooks/venv/lib/python3.13/site-packages (from geocoder->geemap) (1.0.0)\n",
      "Requirement already satisfied: ratelim in /home/goldferret/Documents/projects/ndmn-notebooks/venv/lib/python3.13/site-packages (from geocoder->geemap) (0.1.6)\n",
      "Requirement already satisfied: google-cloud-core<3.0dev,>=2.3.0 in /home/goldferret/Documents/projects/ndmn-notebooks/venv/lib/python3.13/site-packages (from google-cloud-storage->earthengine-api) (2.4.2)\n",
      "Requirement already satisfied: google-resumable-media>=2.7.2 in /home/goldferret/Documents/projects/ndmn-notebooks/venv/lib/python3.13/site-packages (from google-cloud-storage->earthengine-api) (2.7.2)\n",
      "Requirement already satisfied: google-crc32c<2.0dev,>=1.0 in /home/goldferret/Documents/projects/ndmn-notebooks/venv/lib/python3.13/site-packages (from google-cloud-storage->earthengine-api) (1.6.0)\n",
      "Requirement already satisfied: charset-normalizer<4,>=2 in /home/goldferret/Documents/projects/ndmn-notebooks/venv/lib/python3.13/site-packages (from requests->folium) (3.4.1)\n",
      "Requirement already satisfied: idna<4,>=2.5 in /home/goldferret/Documents/projects/ndmn-notebooks/venv/lib/python3.13/site-packages (from requests->folium) (3.10)\n",
      "Requirement already satisfied: urllib3<3,>=1.21.1 in /home/goldferret/Documents/projects/ndmn-notebooks/venv/lib/python3.13/site-packages (from requests->folium) (2.3.0)\n",
      "Requirement already satisfied: narwhals>=1.15.1 in /home/goldferret/Documents/projects/ndmn-notebooks/venv/lib/python3.13/site-packages (from plotly->geemap) (1.27.1)\n",
      "Requirement already satisfied: pyasn1!=0.5.0,>=0.4.8 in /home/goldferret/Documents/projects/ndmn-notebooks/venv/lib/python3.13/site-packages (from pysnmp->tensor) (0.6.1)\n",
      "Requirement already satisfied: attrs>=22.2.0 in /home/goldferret/Documents/projects/ndmn-notebooks/venv/lib/python3.13/site-packages (from Twisted->tensor) (25.1.0)\n",
      "Requirement already satisfied: automat>=24.8.0 in /home/goldferret/Documents/projects/ndmn-notebooks/venv/lib/python3.13/site-packages (from Twisted->tensor) (24.8.1)\n",
      "Requirement already satisfied: constantly>=15.1 in /home/goldferret/Documents/projects/ndmn-notebooks/venv/lib/python3.13/site-packages (from Twisted->tensor) (23.10.4)\n",
      "Requirement already satisfied: hyperlink>=17.1.1 in /home/goldferret/Documents/projects/ndmn-notebooks/venv/lib/python3.13/site-packages (from Twisted->tensor) (21.0.0)\n",
      "Requirement already satisfied: incremental>=24.7.0 in /home/goldferret/Documents/projects/ndmn-notebooks/venv/lib/python3.13/site-packages (from Twisted->tensor) (24.7.2)\n",
      "Requirement already satisfied: typing-extensions>=4.2.0 in /home/goldferret/Documents/projects/ndmn-notebooks/venv/lib/python3.13/site-packages (from Twisted->tensor) (4.12.2)\n",
      "Requirement already satisfied: zope-interface>=5 in /home/goldferret/Documents/projects/ndmn-notebooks/venv/lib/python3.13/site-packages (from Twisted->tensor) (7.2)\n",
      "Requirement already satisfied: googleapis-common-protos<2.0.dev0,>=1.56.2 in /home/goldferret/Documents/projects/ndmn-notebooks/venv/lib/python3.13/site-packages (from google-api-core!=2.0.*,!=2.1.*,!=2.2.*,!=2.3.0,<3.0.0.dev0,>=1.31.5->google-api-python-client>=1.12.1->earthengine-api) (1.68.0)\n",
      "Requirement already satisfied: proto-plus<2.0.0dev,>=1.22.3 in /home/goldferret/Documents/projects/ndmn-notebooks/venv/lib/python3.13/site-packages (from google-api-core!=2.0.*,!=2.1.*,!=2.2.*,!=2.3.0,<3.0.0.dev0,>=1.31.5->google-api-python-client>=1.12.1->earthengine-api) (1.26.0)\n",
      "Requirement already satisfied: setuptools>=61.0 in /home/goldferret/Documents/projects/ndmn-notebooks/venv/lib/python3.13/site-packages (from incremental>=24.7.0->Twisted->tensor) (75.8.0)\n",
      "Requirement already satisfied: comm>=0.1.3 in /home/goldferret/Documents/projects/ndmn-notebooks/venv/lib/python3.13/site-packages (from ipywidgets->ipyfilechooser>=0.6.0->geemap) (0.2.2)\n",
      "Requirement already satisfied: ipython>=6.1.0 in /home/goldferret/Documents/projects/ndmn-notebooks/venv/lib/python3.13/site-packages (from ipywidgets->ipyfilechooser>=0.6.0->geemap) (8.32.0)\n",
      "Requirement already satisfied: widgetsnbextension~=4.0.12 in /home/goldferret/Documents/projects/ndmn-notebooks/venv/lib/python3.13/site-packages (from ipywidgets->ipyfilechooser>=0.6.0->geemap) (4.0.13)\n",
      "Requirement already satisfied: jupyterlab-widgets~=3.0.12 in /home/goldferret/Documents/projects/ndmn-notebooks/venv/lib/python3.13/site-packages (from ipywidgets->ipyfilechooser>=0.6.0->geemap) (3.0.13)\n",
      "Requirement already satisfied: decorator in /home/goldferret/Documents/projects/ndmn-notebooks/venv/lib/python3.13/site-packages (from ratelim->geocoder->geemap) (5.1.1)\n",
      "Requirement already satisfied: jedi>=0.16 in /home/goldferret/Documents/projects/ndmn-notebooks/venv/lib/python3.13/site-packages (from ipython>=6.1.0->ipywidgets->ipyfilechooser>=0.6.0->geemap) (0.19.2)\n",
      "Requirement already satisfied: matplotlib-inline in /home/goldferret/Documents/projects/ndmn-notebooks/venv/lib/python3.13/site-packages (from ipython>=6.1.0->ipywidgets->ipyfilechooser>=0.6.0->geemap) (0.1.7)\n",
      "Requirement already satisfied: pexpect>4.3 in /home/goldferret/Documents/projects/ndmn-notebooks/venv/lib/python3.13/site-packages (from ipython>=6.1.0->ipywidgets->ipyfilechooser>=0.6.0->geemap) (4.9.0)\n",
      "Requirement already satisfied: prompt_toolkit<3.1.0,>=3.0.41 in /home/goldferret/Documents/projects/ndmn-notebooks/venv/lib/python3.13/site-packages (from ipython>=6.1.0->ipywidgets->ipyfilechooser>=0.6.0->geemap) (3.0.50)\n",
      "Requirement already satisfied: pygments>=2.4.0 in /home/goldferret/Documents/projects/ndmn-notebooks/venv/lib/python3.13/site-packages (from ipython>=6.1.0->ipywidgets->ipyfilechooser>=0.6.0->geemap) (2.19.1)\n",
      "Requirement already satisfied: stack_data in /home/goldferret/Documents/projects/ndmn-notebooks/venv/lib/python3.13/site-packages (from ipython>=6.1.0->ipywidgets->ipyfilechooser>=0.6.0->geemap) (0.6.3)\n",
      "Requirement already satisfied: parso<0.9.0,>=0.8.4 in /home/goldferret/Documents/projects/ndmn-notebooks/venv/lib/python3.13/site-packages (from jedi>=0.16->ipython>=6.1.0->ipywidgets->ipyfilechooser>=0.6.0->geemap) (0.8.4)\n",
      "Requirement already satisfied: ptyprocess>=0.5 in /home/goldferret/Documents/projects/ndmn-notebooks/venv/lib/python3.13/site-packages (from pexpect>4.3->ipython>=6.1.0->ipywidgets->ipyfilechooser>=0.6.0->geemap) (0.7.0)\n",
      "Requirement already satisfied: wcwidth in /home/goldferret/Documents/projects/ndmn-notebooks/venv/lib/python3.13/site-packages (from prompt_toolkit<3.1.0,>=3.0.41->ipython>=6.1.0->ipywidgets->ipyfilechooser>=0.6.0->geemap) (0.2.13)\n",
      "Requirement already satisfied: executing>=1.2.0 in /home/goldferret/Documents/projects/ndmn-notebooks/venv/lib/python3.13/site-packages (from stack_data->ipython>=6.1.0->ipywidgets->ipyfilechooser>=0.6.0->geemap) (2.2.0)\n",
      "Requirement already satisfied: asttokens>=2.1.0 in /home/goldferret/Documents/projects/ndmn-notebooks/venv/lib/python3.13/site-packages (from stack_data->ipython>=6.1.0->ipywidgets->ipyfilechooser>=0.6.0->geemap) (3.0.0)\n",
      "Requirement already satisfied: pure-eval in /home/goldferret/Documents/projects/ndmn-notebooks/venv/lib/python3.13/site-packages (from stack_data->ipython>=6.1.0->ipywidgets->ipyfilechooser>=0.6.0->geemap) (0.2.3)\n"
     ]
    }
   ],
   "source": [
    "!pip install pandas numpy geopandas seaborn scikit-learn tensor folium matplotlib mapclassify earthengine-api geemap pyarrow"
   ]
  },
  {
   "cell_type": "code",
   "execution_count": 20,
   "metadata": {},
   "outputs": [
    {
     "data": {
      "text/html": [
       "\n",
       "            <style>\n",
       "                .geemap-dark {\n",
       "                    --jp-widgets-color: white;\n",
       "                    --jp-widgets-label-color: white;\n",
       "                    --jp-ui-font-color1: white;\n",
       "                    --jp-layout-color2: #454545;\n",
       "                    background-color: #383838;\n",
       "                }\n",
       "\n",
       "                .geemap-dark .jupyter-button {\n",
       "                    --jp-layout-color3: #383838;\n",
       "                }\n",
       "\n",
       "                .geemap-colab {\n",
       "                    background-color: var(--colab-primary-surface-color, white);\n",
       "                }\n",
       "\n",
       "                .geemap-colab .jupyter-button {\n",
       "                    --jp-layout-color3: var(--colab-primary-surface-color, white);\n",
       "                }\n",
       "            </style>\n",
       "            "
      ],
      "text/plain": [
       "<IPython.core.display.HTML object>"
      ]
     },
     "metadata": {},
     "output_type": "display_data"
    }
   ],
   "source": [
    "from IPython.core.display import display_webp\n",
    "from geopandas import GeoDataFrame\n",
    "from shapely.geometry import Point\n",
    "import geopandas as gpd\n",
    "import pandas as pd\n",
    "import numpy as np\n",
    "import geemap\n",
    "import ee\n",
    "import folium\n",
    "import matplotlib.pyplot as plt\n",
    "import seaborn as sns\n",
    "import pyarrow"
   ]
  },
  {
   "cell_type": "markdown",
   "metadata": {},
   "source": [
    "### Section 1.2 - Importing our Dataset"
   ]
  },
  {
   "cell_type": "code",
   "execution_count": 21,
   "metadata": {},
   "outputs": [
    {
     "data": {
      "text/html": [
       "\n",
       "            <style>\n",
       "                .geemap-dark {\n",
       "                    --jp-widgets-color: white;\n",
       "                    --jp-widgets-label-color: white;\n",
       "                    --jp-ui-font-color1: white;\n",
       "                    --jp-layout-color2: #454545;\n",
       "                    background-color: #383838;\n",
       "                }\n",
       "\n",
       "                .geemap-dark .jupyter-button {\n",
       "                    --jp-layout-color3: #383838;\n",
       "                }\n",
       "\n",
       "                .geemap-colab {\n",
       "                    background-color: var(--colab-primary-surface-color, white);\n",
       "                }\n",
       "\n",
       "                .geemap-colab .jupyter-button {\n",
       "                    --jp-layout-color3: var(--colab-primary-surface-color, white);\n",
       "                }\n",
       "            </style>\n",
       "            "
      ],
      "text/plain": [
       "<IPython.core.display.HTML object>"
      ]
     },
     "metadata": {},
     "output_type": "display_data"
    },
    {
     "data": {
      "text/plain": [
       "Index(['plotid', 'sampleid', 'Uso', 'Cobertura', 'Vegetacion', 'Herbaceas',\n",
       "       'Pasto_Arb', 'Cultivo', 'Humedal', 'Terreno', 'Agua', 'Otra_clase',\n",
       "       'SAF', 'Cambios15_', 'Gana_Perdi', 'geometry', 'BLUE', 'GREEN', 'NIR',\n",
       "       'RED', 'SWIR1', 'SWIR2', 'altura2', 'aspect', 'aspectcos', 'aspectdeg',\n",
       "       'aspectsin', 'brightness', 'clay_1mMed', 'diff', 'elevation', 'evi',\n",
       "       'fpar', 'hand30_100', 'lai', 'mTPI', 'ndvi', 'ocs_1mMed', 'sand_1mMed',\n",
       "       'savi', 'silt_1mMed', 'slope', 'topDiv', 'wetness'],\n",
       "      dtype='object')"
      ]
     },
     "metadata": {},
     "output_type": "display_data"
    },
    {
     "data": {
      "text/plain": [
       "Index(['plotid', 'sampleid', 'Use', 'CoverType', 'Vegetations', 'Herbaceous',\n",
       "       'GrasslandShrub', 'CropsType', 'WetlandArea', 'LandType',\n",
       "       'WaterBodyType', 'OtherClass', 'SAF', 'Changes_15', 'Gain_Loss',\n",
       "       'geometry', 'BLUE', 'GREEN', 'NIR', 'RED', 'SWIR1', 'SWIR2', 'altura2',\n",
       "       'aspect', 'aspectcos', 'aspectdeg', 'aspectsin', 'brightness',\n",
       "       'clay_1mMed', 'diff', 'elevation', 'evi', 'fpar', 'hand30_100', 'lai',\n",
       "       'mTPI', 'ndvi', 'ocs_1mMed', 'sand_1mMed', 'savi', 'silt_1mMed',\n",
       "       'slope', 'topDiv', 'wetness', 'Forest_Presence'],\n",
       "      dtype='object')"
      ]
     },
     "metadata": {},
     "output_type": "display_data"
    },
    {
     "data": {
      "text/plain": [
       "geopandas.geodataframe.GeoDataFrame"
      ]
     },
     "metadata": {},
     "output_type": "display_data"
    },
    {
     "data": {
      "text/plain": [
       "geopandas.geodataframe.GeoDataFrame"
      ]
     },
     "metadata": {},
     "output_type": "display_data"
    },
    {
     "data": {
      "text/plain": [
       "(91917, 44)"
      ]
     },
     "metadata": {},
     "output_type": "display_data"
    },
    {
     "data": {
      "text/plain": [
       "(91917, 45)"
      ]
     },
     "metadata": {},
     "output_type": "display_data"
    }
   ],
   "source": [
    "# We are importing the observational data from the ZIP file provided (which contains the shape file) into a GeoDataFrame\n",
    "gdf_predictors_sp = gpd.read_parquet('../../Costa_Rica_Data/Data Acquisition Output/extracted_gee_data/sp_clean_gee_data.parquet')\n",
    "gdf_predictors = gpd.read_parquet('../../Costa_Rica_Data/Data Acquisition Output/extracted_gee_data/en_clean_gee_data.parquet')\n",
    "\n",
    "# These display information about the GeoDataFrame to confirm the contains are what we expected\n",
    "display(gdf_predictors_sp.columns)\n",
    "display(gdf_predictors.columns)\n",
    "\n",
    "# Confirming that these are GeoDataFrames\n",
    "display(type(gdf_predictors_sp))\n",
    "display(type(gdf_predictors))\n",
    "\n",
    "# Confirming the shape of the GeoDataFrames\n",
    "display(gdf_predictors_sp.shape)\n",
    "display(gdf_predictors.shape)"
   ]
  },
  {
   "cell_type": "markdown",
   "metadata": {},
   "source": [
    "## Section 3 - Utilizing ML Models"
   ]
  },
  {
   "cell_type": "code",
   "execution_count": 22,
   "metadata": {},
   "outputs": [
    {
     "data": {
      "text/html": [
       "\n",
       "            <style>\n",
       "                .geemap-dark {\n",
       "                    --jp-widgets-color: white;\n",
       "                    --jp-widgets-label-color: white;\n",
       "                    --jp-ui-font-color1: white;\n",
       "                    --jp-layout-color2: #454545;\n",
       "                    background-color: #383838;\n",
       "                }\n",
       "\n",
       "                .geemap-dark .jupyter-button {\n",
       "                    --jp-layout-color3: #383838;\n",
       "                }\n",
       "\n",
       "                .geemap-colab {\n",
       "                    background-color: var(--colab-primary-surface-color, white);\n",
       "                }\n",
       "\n",
       "                .geemap-colab .jupyter-button {\n",
       "                    --jp-layout-color3: var(--colab-primary-surface-color, white);\n",
       "                }\n",
       "            </style>\n",
       "            "
      ],
      "text/plain": [
       "<IPython.core.display.HTML object>"
      ]
     },
     "metadata": {},
     "output_type": "display_data"
    },
    {
     "name": "stdout",
     "output_type": "stream",
     "text": [
      "              precision    recall  f1-score   support\n",
      "\n",
      "      Absent       0.89      0.76      0.82       214\n",
      "     Present       1.00      1.00      1.00     18170\n",
      "\n",
      "    accuracy                           1.00     18384\n",
      "   macro avg       0.94      0.88      0.91     18384\n",
      "weighted avg       1.00      1.00      1.00     18384\n",
      "\n"
     ]
    }
   ],
   "source": [
    "from sklearn.ensemble import RandomForestClassifier\n",
    "from sklearn.model_selection import train_test_split\n",
    "from sklearn.metrics import classification_report\n",
    "\n",
    "# Import reduced dataframe\n",
    "reduced_df = pd.read_parquet('../../Costa_Rica_Data/Data Acquisition Output/extracted_gee_data/adam_reduced_data.parquet')\n",
    "\n",
    "# Split the data into features and target\n",
    "X = reduced_df.drop('Forest_Presence', axis=1)\n",
    "y = reduced_df['Forest_Presence']\n",
    "\n",
    "# Split into train and test sets\n",
    "X_train, X_test, y_train, y_test = train_test_split(X, y, test_size=0.2, random_state=42)\n",
    "\n",
    "# Train the model\n",
    "clf = RandomForestClassifier()\n",
    "clf.fit(X_train, y_train)\n",
    "\n",
    "# Make predictions\n",
    "y_pred = clf.predict(X_test)\n",
    "\n",
    "# Evaluate the model\n",
    "print(classification_report(y_test, y_pred))\n"
   ]
  },
  {
   "cell_type": "code",
   "execution_count": 23,
   "metadata": {},
   "outputs": [
    {
     "data": {
      "text/html": [
       "\n",
       "            <style>\n",
       "                .geemap-dark {\n",
       "                    --jp-widgets-color: white;\n",
       "                    --jp-widgets-label-color: white;\n",
       "                    --jp-ui-font-color1: white;\n",
       "                    --jp-layout-color2: #454545;\n",
       "                    background-color: #383838;\n",
       "                }\n",
       "\n",
       "                .geemap-dark .jupyter-button {\n",
       "                    --jp-layout-color3: #383838;\n",
       "                }\n",
       "\n",
       "                .geemap-colab {\n",
       "                    background-color: var(--colab-primary-surface-color, white);\n",
       "                }\n",
       "\n",
       "                .geemap-colab .jupyter-button {\n",
       "                    --jp-layout-color3: var(--colab-primary-surface-color, white);\n",
       "                }\n",
       "            </style>\n",
       "            "
      ],
      "text/plain": [
       "<IPython.core.display.HTML object>"
      ]
     },
     "metadata": {},
     "output_type": "display_data"
    },
    {
     "name": "stdout",
     "output_type": "stream",
     "text": [
      "Correct Predictions:\n",
      "        Actual Predicted  Correct\n",
      "31418  Present   Present     True\n",
      "62615  Present   Present     True\n",
      "74589  Present   Present     True\n",
      "14405  Present   Present     True\n",
      "7884   Present   Present     True\n",
      "\n",
      "Incorrect Predictions:\n",
      "       Actual Predicted  Correct\n",
      "91145  Absent   Present    False\n",
      "20940  Absent   Present    False\n",
      "24348  Absent   Present    False\n",
      "20586  Absent   Present    False\n",
      "19223  Absent   Present    False\n"
     ]
    }
   ],
   "source": [
    "import pandas as pd\n",
    "\n",
    "# Create a DataFrame with actual and predicted values\n",
    "results_df = pd.DataFrame({\n",
    "    'Actual': y_test.values,\n",
    "    'Predicted': y_pred\n",
    "}, index=y_test.index)\n",
    "\n",
    "# Add a column to indicate whether the prediction was correct\n",
    "results_df['Correct'] = results_df['Actual'] == results_df['Predicted']\n",
    "\n",
    "# Subset the correct and incorrect predictions\n",
    "correct_predictions = results_df[results_df['Correct'] == True]\n",
    "incorrect_predictions = results_df[results_df['Correct'] == False]\n",
    "\n",
    "# Print or save the new DataFrames\n",
    "print(\"Correct Predictions:\")\n",
    "print(correct_predictions.head())\n",
    "\n",
    "print(\"\\nIncorrect Predictions:\")\n",
    "print(incorrect_predictions.head())\n"
   ]
  },
  {
   "cell_type": "code",
   "execution_count": 24,
   "metadata": {},
   "outputs": [
    {
     "data": {
      "text/html": [
       "\n",
       "            <style>\n",
       "                .geemap-dark {\n",
       "                    --jp-widgets-color: white;\n",
       "                    --jp-widgets-label-color: white;\n",
       "                    --jp-ui-font-color1: white;\n",
       "                    --jp-layout-color2: #454545;\n",
       "                    background-color: #383838;\n",
       "                }\n",
       "\n",
       "                .geemap-dark .jupyter-button {\n",
       "                    --jp-layout-color3: #383838;\n",
       "                }\n",
       "\n",
       "                .geemap-colab {\n",
       "                    background-color: var(--colab-primary-surface-color, white);\n",
       "                }\n",
       "\n",
       "                .geemap-colab .jupyter-button {\n",
       "                    --jp-layout-color3: var(--colab-primary-surface-color, white);\n",
       "                }\n",
       "            </style>\n",
       "            "
      ],
      "text/plain": [
       "<IPython.core.display.HTML object>"
      ]
     },
     "metadata": {},
     "output_type": "display_data"
    },
    {
     "data": {
      "text/plain": [
       "array(['Trees', 'Herbaceous plants', 'Not_Applicable', 'Palms', 'Shrubs',\n",
       "       'Other vegetation', 'Saran (plastic cover)', 'Plastic'],\n",
       "      dtype=object)"
      ]
     },
     "metadata": {},
     "output_type": "display_data"
    },
    {
     "data": {
      "text/plain": [
       "array(['Trees', 'Herbaceous plants', 'Not_Applicable', 'Palms', 'Shrubs',\n",
       "       'Other vegetation', 'Saran (plastic cover)', 'Plastic'],\n",
       "      dtype=object)"
      ]
     },
     "metadata": {},
     "output_type": "display_data"
    }
   ],
   "source": [
    "display(gdf_predictors['Vegetations'].unique())\n",
    "#gdf_predictors = gdf_predictors[~gdf_predictors['Vegetation'].isin(['Not_Applicable'])]\n",
    "display(gdf_predictors['Vegetations'].unique())"
   ]
  },
  {
   "cell_type": "code",
   "execution_count": 25,
   "metadata": {},
   "outputs": [
    {
     "data": {
      "text/html": [
       "\n",
       "            <style>\n",
       "                .geemap-dark {\n",
       "                    --jp-widgets-color: white;\n",
       "                    --jp-widgets-label-color: white;\n",
       "                    --jp-ui-font-color1: white;\n",
       "                    --jp-layout-color2: #454545;\n",
       "                    background-color: #383838;\n",
       "                }\n",
       "\n",
       "                .geemap-dark .jupyter-button {\n",
       "                    --jp-layout-color3: #383838;\n",
       "                }\n",
       "\n",
       "                .geemap-colab {\n",
       "                    background-color: var(--colab-primary-surface-color, white);\n",
       "                }\n",
       "\n",
       "                .geemap-colab .jupyter-button {\n",
       "                    --jp-layout-color3: var(--colab-primary-surface-color, white);\n",
       "                }\n",
       "            </style>\n",
       "            "
      ],
      "text/plain": [
       "<IPython.core.display.HTML object>"
      ]
     },
     "metadata": {},
     "output_type": "display_data"
    },
    {
     "data": {
      "text/html": [
       "<div>\n",
       "<style scoped>\n",
       "    .dataframe tbody tr th:only-of-type {\n",
       "        vertical-align: middle;\n",
       "    }\n",
       "\n",
       "    .dataframe tbody tr th {\n",
       "        vertical-align: top;\n",
       "    }\n",
       "\n",
       "    .dataframe thead th {\n",
       "        text-align: right;\n",
       "    }\n",
       "</style>\n",
       "<table border=\"1\" class=\"dataframe\">\n",
       "  <thead>\n",
       "    <tr style=\"text-align: right;\">\n",
       "      <th></th>\n",
       "      <th>plotid</th>\n",
       "      <th>sampleid</th>\n",
       "      <th>Use</th>\n",
       "      <th>CoverType</th>\n",
       "      <th>Vegetations</th>\n",
       "      <th>Herbaceous</th>\n",
       "      <th>GrasslandShrub</th>\n",
       "      <th>CropsType</th>\n",
       "      <th>WetlandArea</th>\n",
       "      <th>LandType</th>\n",
       "      <th>...</th>\n",
       "      <th>mTPI</th>\n",
       "      <th>ndvi</th>\n",
       "      <th>ocs_1mMed</th>\n",
       "      <th>sand_1mMed</th>\n",
       "      <th>savi</th>\n",
       "      <th>silt_1mMed</th>\n",
       "      <th>slope</th>\n",
       "      <th>topDiv</th>\n",
       "      <th>wetness</th>\n",
       "      <th>Forest_Presence</th>\n",
       "    </tr>\n",
       "  </thead>\n",
       "  <tbody>\n",
       "    <tr>\n",
       "      <th>9</th>\n",
       "      <td>2902</td>\n",
       "      <td>11605</td>\n",
       "      <td>Wetlands</td>\n",
       "      <td>Vegetation</td>\n",
       "      <td>Trees</td>\n",
       "      <td>Not_Applicable</td>\n",
       "      <td>Not_Applicable</td>\n",
       "      <td>Not_Applicable</td>\n",
       "      <td>Swamp (Marsh)</td>\n",
       "      <td>Not_Applicable</td>\n",
       "      <td>...</td>\n",
       "      <td>8129.0</td>\n",
       "      <td>0.799771</td>\n",
       "      <td>68.0</td>\n",
       "      <td>332.15</td>\n",
       "      <td>0.393728</td>\n",
       "      <td>298.85</td>\n",
       "      <td>0.927410</td>\n",
       "      <td>1323.685053</td>\n",
       "      <td>-0.006312</td>\n",
       "      <td>Present</td>\n",
       "    </tr>\n",
       "    <tr>\n",
       "      <th>12</th>\n",
       "      <td>2902</td>\n",
       "      <td>11608</td>\n",
       "      <td>Grasslands</td>\n",
       "      <td>Vegetation</td>\n",
       "      <td>Herbaceous plants</td>\n",
       "      <td>Grasses</td>\n",
       "      <td>Mixed Pasture (70-90%)</td>\n",
       "      <td>Not_Applicable</td>\n",
       "      <td>Not_Applicable</td>\n",
       "      <td>Not_Applicable</td>\n",
       "      <td>...</td>\n",
       "      <td>8129.0</td>\n",
       "      <td>0.796553</td>\n",
       "      <td>68.0</td>\n",
       "      <td>332.15</td>\n",
       "      <td>0.423713</td>\n",
       "      <td>298.85</td>\n",
       "      <td>2.935819</td>\n",
       "      <td>1323.685053</td>\n",
       "      <td>-0.014932</td>\n",
       "      <td>Present</td>\n",
       "    </tr>\n",
       "    <tr>\n",
       "      <th>13</th>\n",
       "      <td>2902</td>\n",
       "      <td>11609</td>\n",
       "      <td>Wetlands</td>\n",
       "      <td>Vegetation</td>\n",
       "      <td>Herbaceous plants</td>\n",
       "      <td>Grasses</td>\n",
       "      <td>Not_Applicable</td>\n",
       "      <td>Not_Applicable</td>\n",
       "      <td>Swamp (Marsh)</td>\n",
       "      <td>Not_Applicable</td>\n",
       "      <td>...</td>\n",
       "      <td>8129.0</td>\n",
       "      <td>0.644415</td>\n",
       "      <td>65.0</td>\n",
       "      <td>340.45</td>\n",
       "      <td>0.380250</td>\n",
       "      <td>304.70</td>\n",
       "      <td>0.944368</td>\n",
       "      <td>1323.685053</td>\n",
       "      <td>-0.001697</td>\n",
       "      <td>Present</td>\n",
       "    </tr>\n",
       "    <tr>\n",
       "      <th>15</th>\n",
       "      <td>2902</td>\n",
       "      <td>11611</td>\n",
       "      <td>Grasslands</td>\n",
       "      <td>Vegetation</td>\n",
       "      <td>Herbaceous plants</td>\n",
       "      <td>Grasses</td>\n",
       "      <td>Mixed Pasture (70-90%)</td>\n",
       "      <td>Not_Applicable</td>\n",
       "      <td>Not_Applicable</td>\n",
       "      <td>Not_Applicable</td>\n",
       "      <td>...</td>\n",
       "      <td>8129.0</td>\n",
       "      <td>0.784331</td>\n",
       "      <td>68.0</td>\n",
       "      <td>332.15</td>\n",
       "      <td>0.512687</td>\n",
       "      <td>298.85</td>\n",
       "      <td>0.927410</td>\n",
       "      <td>1323.685053</td>\n",
       "      <td>-0.027987</td>\n",
       "      <td>Present</td>\n",
       "    </tr>\n",
       "    <tr>\n",
       "      <th>16</th>\n",
       "      <td>2902</td>\n",
       "      <td>11612</td>\n",
       "      <td>Wetlands</td>\n",
       "      <td>Vegetation</td>\n",
       "      <td>Trees</td>\n",
       "      <td>Not_Applicable</td>\n",
       "      <td>Not_Applicable</td>\n",
       "      <td>Not_Applicable</td>\n",
       "      <td>Swamp (Marsh)</td>\n",
       "      <td>Not_Applicable</td>\n",
       "      <td>...</td>\n",
       "      <td>8129.0</td>\n",
       "      <td>0.769357</td>\n",
       "      <td>65.0</td>\n",
       "      <td>340.45</td>\n",
       "      <td>0.360428</td>\n",
       "      <td>304.70</td>\n",
       "      <td>2.645556</td>\n",
       "      <td>1323.685053</td>\n",
       "      <td>-0.009912</td>\n",
       "      <td>Present</td>\n",
       "    </tr>\n",
       "  </tbody>\n",
       "</table>\n",
       "<p>5 rows × 45 columns</p>\n",
       "</div>"
      ],
      "text/plain": [
       "    plotid  sampleid         Use   CoverType        Vegetations  \\\n",
       "9     2902     11605    Wetlands  Vegetation              Trees   \n",
       "12    2902     11608  Grasslands  Vegetation  Herbaceous plants   \n",
       "13    2902     11609    Wetlands  Vegetation  Herbaceous plants   \n",
       "15    2902     11611  Grasslands  Vegetation  Herbaceous plants   \n",
       "16    2902     11612    Wetlands  Vegetation              Trees   \n",
       "\n",
       "        Herbaceous          GrasslandShrub       CropsType     WetlandArea  \\\n",
       "9   Not_Applicable          Not_Applicable  Not_Applicable   Swamp (Marsh)   \n",
       "12         Grasses  Mixed Pasture (70-90%)  Not_Applicable  Not_Applicable   \n",
       "13         Grasses          Not_Applicable  Not_Applicable   Swamp (Marsh)   \n",
       "15         Grasses  Mixed Pasture (70-90%)  Not_Applicable  Not_Applicable   \n",
       "16  Not_Applicable          Not_Applicable  Not_Applicable   Swamp (Marsh)   \n",
       "\n",
       "          LandType  ...    mTPI      ndvi ocs_1mMed sand_1mMed      savi  \\\n",
       "9   Not_Applicable  ...  8129.0  0.799771      68.0     332.15  0.393728   \n",
       "12  Not_Applicable  ...  8129.0  0.796553      68.0     332.15  0.423713   \n",
       "13  Not_Applicable  ...  8129.0  0.644415      65.0     340.45  0.380250   \n",
       "15  Not_Applicable  ...  8129.0  0.784331      68.0     332.15  0.512687   \n",
       "16  Not_Applicable  ...  8129.0  0.769357      65.0     340.45  0.360428   \n",
       "\n",
       "   silt_1mMed     slope       topDiv   wetness  Forest_Presence  \n",
       "9      298.85  0.927410  1323.685053 -0.006312          Present  \n",
       "12     298.85  2.935819  1323.685053 -0.014932          Present  \n",
       "13     304.70  0.944368  1323.685053 -0.001697          Present  \n",
       "15     298.85  0.927410  1323.685053 -0.027987          Present  \n",
       "16     304.70  2.645556  1323.685053 -0.009912          Present  \n",
       "\n",
       "[5 rows x 45 columns]"
      ]
     },
     "metadata": {},
     "output_type": "display_data"
    }
   ],
   "source": [
    "display(gdf_predictors.head(5))"
   ]
  },
  {
   "cell_type": "code",
   "execution_count": 29,
   "metadata": {},
   "outputs": [
    {
     "data": {
      "text/html": [
       "\n",
       "            <style>\n",
       "                .geemap-dark {\n",
       "                    --jp-widgets-color: white;\n",
       "                    --jp-widgets-label-color: white;\n",
       "                    --jp-ui-font-color1: white;\n",
       "                    --jp-layout-color2: #454545;\n",
       "                    background-color: #383838;\n",
       "                }\n",
       "\n",
       "                .geemap-dark .jupyter-button {\n",
       "                    --jp-layout-color3: #383838;\n",
       "                }\n",
       "\n",
       "                .geemap-colab {\n",
       "                    background-color: var(--colab-primary-surface-color, white);\n",
       "                }\n",
       "\n",
       "                .geemap-colab .jupyter-button {\n",
       "                    --jp-layout-color3: var(--colab-primary-surface-color, white);\n",
       "                }\n",
       "            </style>\n",
       "            "
      ],
      "text/plain": [
       "<IPython.core.display.HTML object>"
      ]
     },
     "metadata": {},
     "output_type": "display_data"
    },
    {
     "data": {
      "image/png": "[encoded data removed]",
      "text/plain": [
       "<Figure size 700x500 with 1 Axes>"
      ]
     },
     "metadata": {},
     "output_type": "display_data"
    }
   ],
   "source": [
    "# Create a new column indicating 'Forest Present' or 'Absent'\n",
    "gdf_predictors['Forest_Presence'] = gdf_predictors['Use'].apply(lambda x: 'Present' if x == 'Forest' else 'Absent')\n",
    "\n",
    "# Create Boxplot with fixed palette assignment\n",
    "plt.figure(figsize=(7, 5))\n",
    "sns.boxplot(x='Forest_Presence', y='ndvi', data=gdf_predictors, hue='Forest_Presence', palette=\"Set2\", legend=False)\n",
    "\n",
    "# Labels and title\n",
    "plt.xlabel(\"Forest Presence\")\n",
    "plt.ylabel(\"NDVI Value\")\n",
    "plt.title(\"Box Plot of NDVI by Forest Presence\")\n",
    "\n",
    "# Show plot\n",
    "plt.show()"
   ]
  },
  {
   "cell_type": "code",
   "execution_count": 27,
   "metadata": {},
   "outputs": [
    {
     "data": {
      "text/html": [
       "\n",
       "            <style>\n",
       "                .geemap-dark {\n",
       "                    --jp-widgets-color: white;\n",
       "                    --jp-widgets-label-color: white;\n",
       "                    --jp-ui-font-color1: white;\n",
       "                    --jp-layout-color2: #454545;\n",
       "                    background-color: #383838;\n",
       "                }\n",
       "\n",
       "                .geemap-dark .jupyter-button {\n",
       "                    --jp-layout-color3: #383838;\n",
       "                }\n",
       "\n",
       "                .geemap-colab {\n",
       "                    background-color: var(--colab-primary-surface-color, white);\n",
       "                }\n",
       "\n",
       "                .geemap-colab .jupyter-button {\n",
       "                    --jp-layout-color3: var(--colab-primary-surface-color, white);\n",
       "                }\n",
       "            </style>\n",
       "            "
      ],
      "text/plain": [
       "<IPython.core.display.HTML object>"
      ]
     },
     "metadata": {},
     "output_type": "display_data"
    },
    {
     "data": {
      "image/png": "[encoded data removed]",
      "text/plain": [
       "<Figure size 700x500 with 1 Axes>"
      ]
     },
     "metadata": {},
     "output_type": "display_data"
    }
   ],
   "source": [
    "# Create a new column indicating 'Forest Present' or 'Absent'\n",
    "gdf_predictors['Vegetation_Presence'] = gdf_predictors['Vegetations'].apply(lambda x: 'Present' if x in ['Trees', 'Herbaceous plants', 'Palms', 'Shrubs', 'Other vegetation', 'Saran (plastic cover)', 'Plastic'] else 'Absent')\n",
    "\n",
    "# Create Boxplot with fixed palette assignment\n",
    "plt.figure(figsize=(7, 5))\n",
    "sns.boxplot(x='Vegetation_Presence', y='ndvi', data=gdf_predictors, hue='Vegetation_Presence', palette=\"Set2\", legend=False)\n",
    "\n",
    "# Labels and title\n",
    "plt.xlabel(\"All Vegetation Presence\")\n",
    "plt.ylabel(\"NDVI Value\")\n",
    "plt.title(\"Box Plot of NDVI by All Vegetation Presence\")\n",
    "\n",
    "# Show plot\n",
    "plt.show()"
   ]
  }
 ],
 "metadata": {
  "kernelspec": {
   "display_name": "venv",
   "language": "python",
   "name": "python3"
  },
  "language_info": {
   "codemirror_mode": {
    "name": "ipython",
    "version": 3
   },
   "file_extension": ".py",
   "mimetype": "text/x-python",
   "name": "python",
   "nbconvert_exporter": "python",
   "pygments_lexer": "ipython3",
   "version": "3.13.2"
  }
 },
 "nbformat": 4,
 "nbformat_minor": 2
}
