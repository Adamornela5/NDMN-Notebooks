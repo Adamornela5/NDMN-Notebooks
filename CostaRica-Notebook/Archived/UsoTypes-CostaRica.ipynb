{
 "cells": [
  {
   "cell_type": "code",
   "id": "initial_id",
   "metadata": {
    "collapsed": true,
    "ExecuteTime": {
     "end_time": "2024-10-28T14:13:29.691810Z",
     "start_time": "2024-10-28T14:13:27.441957Z"
    }
   },
   "source": [
    "!pip install geemap\n",
    "import geopandas as gpd, pandas as pd, os, numpy as np\n",
    "import ee, geemap\n",
    "import matplotlib.pyplot as plt\n",
    "import pprint"
   ],
   "outputs": [
    {
     "data": {
      "text/plain": [
       "<IPython.core.display.HTML object>"
      ],
      "text/html": [
       "\n",
       "            <style>\n",
       "                .geemap-dark {\n",
       "                    --jp-widgets-color: white;\n",
       "                    --jp-widgets-label-color: white;\n",
       "                    --jp-ui-font-color1: white;\n",
       "                    --jp-layout-color2: #454545;\n",
       "                    background-color: #383838;\n",
       "                }\n",
       "\n",
       "                .geemap-dark .jupyter-button {\n",
       "                    --jp-layout-color3: #383838;\n",
       "                }\n",
       "\n",
       "                .geemap-colab {\n",
       "                    background-color: var(--colab-primary-surface-color, white);\n",
       "                }\n",
       "\n",
       "                .geemap-colab .jupyter-button {\n",
       "                    --jp-layout-color3: var(--colab-primary-surface-color, white);\n",
       "                }\n",
       "            </style>\n",
       "            "
      ]
     },
     "metadata": {},
     "output_type": "display_data"
    },
    {
     "name": "stdout",
     "output_type": "stream",
     "text": [
      "Requirement already satisfied: geemap in c:\\users\\goldferret\\pycharmprojects\\ndmn-jupyter-notebook\\venv\\lib\\site-packages (0.34.5)\n",
      "Requirement already satisfied: plotly in c:\\users\\goldferret\\pycharmprojects\\ndmn-jupyter-notebook\\venv\\lib\\site-packages (from geemap) (5.24.1)\n",
      "Requirement already satisfied: matplotlib in c:\\users\\goldferret\\pycharmprojects\\ndmn-jupyter-notebook\\venv\\lib\\site-packages (from geemap) (3.9.2)\n",
      "Requirement already satisfied: scooby in c:\\users\\goldferret\\pycharmprojects\\ndmn-jupyter-notebook\\venv\\lib\\site-packages (from geemap) (0.10.0)\n",
      "Requirement already satisfied: ipyfilechooser>=0.6.0 in c:\\users\\goldferret\\pycharmprojects\\ndmn-jupyter-notebook\\venv\\lib\\site-packages (from geemap) (0.6.0)\n",
      "Requirement already satisfied: ipytree in c:\\users\\goldferret\\pycharmprojects\\ndmn-jupyter-notebook\\venv\\lib\\site-packages (from geemap) (0.2.2)\n",
      "Requirement already satisfied: numpy in c:\\users\\goldferret\\pycharmprojects\\ndmn-jupyter-notebook\\venv\\lib\\site-packages (from geemap) (2.1.2)\n",
      "Requirement already satisfied: colour in c:\\users\\goldferret\\pycharmprojects\\ndmn-jupyter-notebook\\venv\\lib\\site-packages (from geemap) (0.1.5)\n",
      "Requirement already satisfied: earthengine-api>=1.0.0 in c:\\users\\goldferret\\pycharmprojects\\ndmn-jupyter-notebook\\venv\\lib\\site-packages (from geemap) (1.1.3)\n",
      "Requirement already satisfied: pyshp>=2.3.1 in c:\\users\\goldferret\\pycharmprojects\\ndmn-jupyter-notebook\\venv\\lib\\site-packages (from geemap) (2.3.1)\n",
      "Requirement already satisfied: eerepr>=0.0.4 in c:\\users\\goldferret\\pycharmprojects\\ndmn-jupyter-notebook\\venv\\lib\\site-packages (from geemap) (0.0.4)\n",
      "Requirement already satisfied: bqplot in c:\\users\\goldferret\\pycharmprojects\\ndmn-jupyter-notebook\\venv\\lib\\site-packages (from geemap) (0.12.43)\n",
      "Requirement already satisfied: pyperclip in c:\\users\\goldferret\\pycharmprojects\\ndmn-jupyter-notebook\\venv\\lib\\site-packages (from geemap) (1.9.0)\n",
      "Requirement already satisfied: folium>=0.17.0 in c:\\users\\goldferret\\pycharmprojects\\ndmn-jupyter-notebook\\venv\\lib\\site-packages (from geemap) (0.17.0)\n",
      "Requirement already satisfied: ipyevents in c:\\users\\goldferret\\pycharmprojects\\ndmn-jupyter-notebook\\venv\\lib\\site-packages (from geemap) (2.0.2)\n",
      "Requirement already satisfied: setuptools in c:\\users\\goldferret\\pycharmprojects\\ndmn-jupyter-notebook\\venv\\lib\\site-packages (from geemap) (60.2.0)\n",
      "Requirement already satisfied: python-box in c:\\users\\goldferret\\pycharmprojects\\ndmn-jupyter-notebook\\venv\\lib\\site-packages (from geemap) (7.2.0)\n",
      "Requirement already satisfied: pandas in c:\\users\\goldferret\\pycharmprojects\\ndmn-jupyter-notebook\\venv\\lib\\site-packages (from geemap) (2.2.3)\n",
      "Requirement already satisfied: geocoder in c:\\users\\goldferret\\pycharmprojects\\ndmn-jupyter-notebook\\venv\\lib\\site-packages (from geemap) (1.38.1)\n",
      "Requirement already satisfied: ipyleaflet>=0.19.2 in c:\\users\\goldferret\\pycharmprojects\\ndmn-jupyter-notebook\\venv\\lib\\site-packages (from geemap) (0.19.2)\n",
      "Requirement already satisfied: google-auth-httplib2>=0.0.3 in c:\\users\\goldferret\\pycharmprojects\\ndmn-jupyter-notebook\\venv\\lib\\site-packages (from earthengine-api>=1.0.0->geemap) (0.2.0)\n",
      "Requirement already satisfied: google-api-python-client>=1.12.1 in c:\\users\\goldferret\\pycharmprojects\\ndmn-jupyter-notebook\\venv\\lib\\site-packages (from earthengine-api>=1.0.0->geemap) (2.149.0)\n",
      "Requirement already satisfied: httplib2<1dev,>=0.9.2 in c:\\users\\goldferret\\pycharmprojects\\ndmn-jupyter-notebook\\venv\\lib\\site-packages (from earthengine-api>=1.0.0->geemap) (0.22.0)\n",
      "Requirement already satisfied: google-auth>=1.4.1 in c:\\users\\goldferret\\pycharmprojects\\ndmn-jupyter-notebook\\venv\\lib\\site-packages (from earthengine-api>=1.0.0->geemap) (2.35.0)\n",
      "Requirement already satisfied: google-cloud-storage in c:\\users\\goldferret\\pycharmprojects\\ndmn-jupyter-notebook\\venv\\lib\\site-packages (from earthengine-api>=1.0.0->geemap) (2.18.2)\n",
      "Requirement already satisfied: requests in c:\\users\\goldferret\\pycharmprojects\\ndmn-jupyter-notebook\\venv\\lib\\site-packages (from earthengine-api>=1.0.0->geemap) (2.32.3)\n",
      "Requirement already satisfied: branca>=0.6.0 in c:\\users\\goldferret\\pycharmprojects\\ndmn-jupyter-notebook\\venv\\lib\\site-packages (from folium>=0.17.0->geemap) (0.8.0)\n",
      "Requirement already satisfied: jinja2>=2.9 in c:\\users\\goldferret\\pycharmprojects\\ndmn-jupyter-notebook\\venv\\lib\\site-packages (from folium>=0.17.0->geemap) (3.1.4)\n",
      "Requirement already satisfied: xyzservices in c:\\users\\goldferret\\pycharmprojects\\ndmn-jupyter-notebook\\venv\\lib\\site-packages (from folium>=0.17.0->geemap) (2024.9.0)\n",
      "Requirement already satisfied: ipywidgets in c:\\users\\goldferret\\pycharmprojects\\ndmn-jupyter-notebook\\venv\\lib\\site-packages (from ipyfilechooser>=0.6.0->geemap) (8.1.5)\n",
      "Requirement already satisfied: traittypes<3,>=0.2.1 in c:\\users\\goldferret\\pycharmprojects\\ndmn-jupyter-notebook\\venv\\lib\\site-packages (from ipyleaflet>=0.19.2->geemap) (0.2.1)\n",
      "Requirement already satisfied: jupyter-leaflet<0.20,>=0.19 in c:\\users\\goldferret\\pycharmprojects\\ndmn-jupyter-notebook\\venv\\lib\\site-packages (from ipyleaflet>=0.19.2->geemap) (0.19.2)\n",
      "Requirement already satisfied: traitlets>=4.3.0 in c:\\users\\goldferret\\pycharmprojects\\ndmn-jupyter-notebook\\venv\\lib\\site-packages (from bqplot->geemap) (5.14.3)\n",
      "Requirement already satisfied: tzdata>=2022.7 in c:\\users\\goldferret\\pycharmprojects\\ndmn-jupyter-notebook\\venv\\lib\\site-packages (from pandas->geemap) (2024.2)\n",
      "Requirement already satisfied: pytz>=2020.1 in c:\\users\\goldferret\\pycharmprojects\\ndmn-jupyter-notebook\\venv\\lib\\site-packages (from pandas->geemap) (2024.2)\n",
      "Requirement already satisfied: python-dateutil>=2.8.2 in c:\\users\\goldferret\\pycharmprojects\\ndmn-jupyter-notebook\\venv\\lib\\site-packages (from pandas->geemap) (2.9.0.post0)\n",
      "Requirement already satisfied: click in c:\\users\\goldferret\\pycharmprojects\\ndmn-jupyter-notebook\\venv\\lib\\site-packages (from geocoder->geemap) (8.1.7)\n",
      "Requirement already satisfied: six in c:\\users\\goldferret\\pycharmprojects\\ndmn-jupyter-notebook\\venv\\lib\\site-packages (from geocoder->geemap) (1.16.0)\n",
      "Requirement already satisfied: ratelim in c:\\users\\goldferret\\pycharmprojects\\ndmn-jupyter-notebook\\venv\\lib\\site-packages (from geocoder->geemap) (0.1.6)\n",
      "Requirement already satisfied: future in c:\\users\\goldferret\\pycharmprojects\\ndmn-jupyter-notebook\\venv\\lib\\site-packages (from geocoder->geemap) (1.0.0)\n",
      "Requirement already satisfied: kiwisolver>=1.3.1 in c:\\users\\goldferret\\pycharmprojects\\ndmn-jupyter-notebook\\venv\\lib\\site-packages (from matplotlib->geemap) (1.4.7)\n",
      "Requirement already satisfied: fonttools>=4.22.0 in c:\\users\\goldferret\\pycharmprojects\\ndmn-jupyter-notebook\\venv\\lib\\site-packages (from matplotlib->geemap) (4.54.1)\n",
      "Requirement already satisfied: packaging>=20.0 in c:\\users\\goldferret\\pycharmprojects\\ndmn-jupyter-notebook\\venv\\lib\\site-packages (from matplotlib->geemap) (24.1)\n",
      "Requirement already satisfied: pillow>=8 in c:\\users\\goldferret\\pycharmprojects\\ndmn-jupyter-notebook\\venv\\lib\\site-packages (from matplotlib->geemap) (10.4.0)\n",
      "Requirement already satisfied: pyparsing>=2.3.1 in c:\\users\\goldferret\\pycharmprojects\\ndmn-jupyter-notebook\\venv\\lib\\site-packages (from matplotlib->geemap) (3.1.4)\n",
      "Requirement already satisfied: contourpy>=1.0.1 in c:\\users\\goldferret\\pycharmprojects\\ndmn-jupyter-notebook\\venv\\lib\\site-packages (from matplotlib->geemap) (1.3.0)\n",
      "Requirement already satisfied: cycler>=0.10 in c:\\users\\goldferret\\pycharmprojects\\ndmn-jupyter-notebook\\venv\\lib\\site-packages (from matplotlib->geemap) (0.12.1)\n",
      "Requirement already satisfied: tenacity>=6.2.0 in c:\\users\\goldferret\\pycharmprojects\\ndmn-jupyter-notebook\\venv\\lib\\site-packages (from plotly->geemap) (9.0.0)\n",
      "Requirement already satisfied: google-api-core!=2.0.*,!=2.1.*,!=2.2.*,!=2.3.0,<3.0.0.dev0,>=1.31.5 in c:\\users\\goldferret\\pycharmprojects\\ndmn-jupyter-notebook\\venv\\lib\\site-packages (from google-api-python-client>=1.12.1->earthengine-api>=1.0.0->geemap) (2.21.0)\n",
      "Requirement already satisfied: uritemplate<5,>=3.0.1 in c:\\users\\goldferret\\pycharmprojects\\ndmn-jupyter-notebook\\venv\\lib\\site-packages (from google-api-python-client>=1.12.1->earthengine-api>=1.0.0->geemap) (4.1.1)\n",
      "Requirement already satisfied: rsa<5,>=3.1.4 in c:\\users\\goldferret\\pycharmprojects\\ndmn-jupyter-notebook\\venv\\lib\\site-packages (from google-auth>=1.4.1->earthengine-api>=1.0.0->geemap) (4.9)\n",
      "Requirement already satisfied: pyasn1-modules>=0.2.1 in c:\\users\\goldferret\\pycharmprojects\\ndmn-jupyter-notebook\\venv\\lib\\site-packages (from google-auth>=1.4.1->earthengine-api>=1.0.0->geemap) (0.4.1)\n",
      "Requirement already satisfied: cachetools<6.0,>=2.0.0 in c:\\users\\goldferret\\pycharmprojects\\ndmn-jupyter-notebook\\venv\\lib\\site-packages (from google-auth>=1.4.1->earthengine-api>=1.0.0->geemap) (5.5.0)\n",
      "Requirement already satisfied: jupyterlab-widgets~=3.0.12 in c:\\users\\goldferret\\pycharmprojects\\ndmn-jupyter-notebook\\venv\\lib\\site-packages (from ipywidgets->ipyfilechooser>=0.6.0->geemap) (3.0.13)\n",
      "Requirement already satisfied: widgetsnbextension~=4.0.12 in c:\\users\\goldferret\\pycharmprojects\\ndmn-jupyter-notebook\\venv\\lib\\site-packages (from ipywidgets->ipyfilechooser>=0.6.0->geemap) (4.0.13)\n",
      "Requirement already satisfied: comm>=0.1.3 in c:\\users\\goldferret\\pycharmprojects\\ndmn-jupyter-notebook\\venv\\lib\\site-packages (from ipywidgets->ipyfilechooser>=0.6.0->geemap) (0.2.2)\n",
      "Requirement already satisfied: ipython>=6.1.0 in c:\\users\\goldferret\\pycharmprojects\\ndmn-jupyter-notebook\\venv\\lib\\site-packages (from ipywidgets->ipyfilechooser>=0.6.0->geemap) (8.28.0)\n",
      "Requirement already satisfied: MarkupSafe>=2.0 in c:\\users\\goldferret\\pycharmprojects\\ndmn-jupyter-notebook\\venv\\lib\\site-packages (from jinja2>=2.9->folium>=0.17.0->geemap) (3.0.1)\n",
      "Requirement already satisfied: colorama in c:\\users\\goldferret\\pycharmprojects\\ndmn-jupyter-notebook\\venv\\lib\\site-packages (from click->geocoder->geemap) (0.4.6)\n",
      "Requirement already satisfied: google-cloud-core<3.0dev,>=2.3.0 in c:\\users\\goldferret\\pycharmprojects\\ndmn-jupyter-notebook\\venv\\lib\\site-packages (from google-cloud-storage->earthengine-api>=1.0.0->geemap) (2.4.1)\n",
      "Requirement already satisfied: google-resumable-media>=2.7.2 in c:\\users\\goldferret\\pycharmprojects\\ndmn-jupyter-notebook\\venv\\lib\\site-packages (from google-cloud-storage->earthengine-api>=1.0.0->geemap) (2.7.2)\n",
      "Requirement already satisfied: google-crc32c<2.0dev,>=1.0 in c:\\users\\goldferret\\pycharmprojects\\ndmn-jupyter-notebook\\venv\\lib\\site-packages (from google-cloud-storage->earthengine-api>=1.0.0->geemap) (1.6.0)\n",
      "Requirement already satisfied: idna<4,>=2.5 in c:\\users\\goldferret\\pycharmprojects\\ndmn-jupyter-notebook\\venv\\lib\\site-packages (from requests->earthengine-api>=1.0.0->geemap) (3.10)\n",
      "Requirement already satisfied: urllib3<3,>=1.21.1 in c:\\users\\goldferret\\pycharmprojects\\ndmn-jupyter-notebook\\venv\\lib\\site-packages (from requests->earthengine-api>=1.0.0->geemap) (2.2.3)\n",
      "Requirement already satisfied: certifi>=2017.4.17 in c:\\users\\goldferret\\pycharmprojects\\ndmn-jupyter-notebook\\venv\\lib\\site-packages (from requests->earthengine-api>=1.0.0->geemap) (2024.8.30)\n",
      "Requirement already satisfied: charset-normalizer<4,>=2 in c:\\users\\goldferret\\pycharmprojects\\ndmn-jupyter-notebook\\venv\\lib\\site-packages (from requests->earthengine-api>=1.0.0->geemap) (3.4.0)\n",
      "Requirement already satisfied: decorator in c:\\users\\goldferret\\pycharmprojects\\ndmn-jupyter-notebook\\venv\\lib\\site-packages (from ratelim->geocoder->geemap) (5.1.1)\n",
      "Requirement already satisfied: googleapis-common-protos<2.0.dev0,>=1.56.2 in c:\\users\\goldferret\\pycharmprojects\\ndmn-jupyter-notebook\\venv\\lib\\site-packages (from google-api-core!=2.0.*,!=2.1.*,!=2.2.*,!=2.3.0,<3.0.0.dev0,>=1.31.5->google-api-python-client>=1.12.1->earthengine-api>=1.0.0->geemap) (1.65.0)\n",
      "Requirement already satisfied: proto-plus<2.0.0dev,>=1.22.3 in c:\\users\\goldferret\\pycharmprojects\\ndmn-jupyter-notebook\\venv\\lib\\site-packages (from google-api-core!=2.0.*,!=2.1.*,!=2.2.*,!=2.3.0,<3.0.0.dev0,>=1.31.5->google-api-python-client>=1.12.1->earthengine-api>=1.0.0->geemap) (1.24.0)\n",
      "Requirement already satisfied: protobuf!=3.20.0,!=3.20.1,!=4.21.0,!=4.21.1,!=4.21.2,!=4.21.3,!=4.21.4,!=4.21.5,<6.0.0.dev0,>=3.19.5 in c:\\users\\goldferret\\pycharmprojects\\ndmn-jupyter-notebook\\venv\\lib\\site-packages (from google-api-core!=2.0.*,!=2.1.*,!=2.2.*,!=2.3.0,<3.0.0.dev0,>=1.31.5->google-api-python-client>=1.12.1->earthengine-api>=1.0.0->geemap) (5.28.2)\n",
      "Requirement already satisfied: typing-extensions>=4.6 in c:\\users\\goldferret\\pycharmprojects\\ndmn-jupyter-notebook\\venv\\lib\\site-packages (from ipython>=6.1.0->ipywidgets->ipyfilechooser>=0.6.0->geemap) (4.12.2)\n",
      "Requirement already satisfied: jedi>=0.16 in c:\\users\\goldferret\\pycharmprojects\\ndmn-jupyter-notebook\\venv\\lib\\site-packages (from ipython>=6.1.0->ipywidgets->ipyfilechooser>=0.6.0->geemap) (0.19.1)\n",
      "Requirement already satisfied: matplotlib-inline in c:\\users\\goldferret\\pycharmprojects\\ndmn-jupyter-notebook\\venv\\lib\\site-packages (from ipython>=6.1.0->ipywidgets->ipyfilechooser>=0.6.0->geemap) (0.1.7)\n",
      "Requirement already satisfied: pygments>=2.4.0 in c:\\users\\goldferret\\pycharmprojects\\ndmn-jupyter-notebook\\venv\\lib\\site-packages (from ipython>=6.1.0->ipywidgets->ipyfilechooser>=0.6.0->geemap) (2.18.0)\n",
      "Requirement already satisfied: stack-data in c:\\users\\goldferret\\pycharmprojects\\ndmn-jupyter-notebook\\venv\\lib\\site-packages (from ipython>=6.1.0->ipywidgets->ipyfilechooser>=0.6.0->geemap) (0.6.3)\n",
      "Requirement already satisfied: prompt-toolkit<3.1.0,>=3.0.41 in c:\\users\\goldferret\\pycharmprojects\\ndmn-jupyter-notebook\\venv\\lib\\site-packages (from ipython>=6.1.0->ipywidgets->ipyfilechooser>=0.6.0->geemap) (3.0.48)\n",
      "Requirement already satisfied: pyasn1<0.7.0,>=0.4.6 in c:\\users\\goldferret\\pycharmprojects\\ndmn-jupyter-notebook\\venv\\lib\\site-packages (from pyasn1-modules>=0.2.1->google-auth>=1.4.1->earthengine-api>=1.0.0->geemap) (0.6.1)\n",
      "Requirement already satisfied: parso<0.9.0,>=0.8.3 in c:\\users\\goldferret\\pycharmprojects\\ndmn-jupyter-notebook\\venv\\lib\\site-packages (from jedi>=0.16->ipython>=6.1.0->ipywidgets->ipyfilechooser>=0.6.0->geemap) (0.8.4)\n",
      "Requirement already satisfied: wcwidth in c:\\users\\goldferret\\pycharmprojects\\ndmn-jupyter-notebook\\venv\\lib\\site-packages (from prompt-toolkit<3.1.0,>=3.0.41->ipython>=6.1.0->ipywidgets->ipyfilechooser>=0.6.0->geemap) (0.2.13)\n",
      "Requirement already satisfied: pure-eval in c:\\users\\goldferret\\pycharmprojects\\ndmn-jupyter-notebook\\venv\\lib\\site-packages (from stack-data->ipython>=6.1.0->ipywidgets->ipyfilechooser>=0.6.0->geemap) (0.2.3)\n",
      "Requirement already satisfied: asttokens>=2.1.0 in c:\\users\\goldferret\\pycharmprojects\\ndmn-jupyter-notebook\\venv\\lib\\site-packages (from stack-data->ipython>=6.1.0->ipywidgets->ipyfilechooser>=0.6.0->geemap) (2.4.1)\n",
      "Requirement already satisfied: executing>=1.2.0 in c:\\users\\goldferret\\pycharmprojects\\ndmn-jupyter-notebook\\venv\\lib\\site-packages (from stack-data->ipython>=6.1.0->ipywidgets->ipyfilechooser>=0.6.0->geemap) (2.1.0)\n"
     ]
    },
    {
     "name": "stderr",
     "output_type": "stream",
     "text": [
      "WARNING: You are using pip version 21.3.1; however, version 24.3.1 is available.\n",
      "You should consider upgrading via the 'C:\\Users\\Goldferret\\PycharmProjects\\NDMN-Jupyter-Notebook\\venv\\Scripts\\python.exe -m pip install --upgrade pip' command.\n"
     ]
    }
   ],
   "execution_count": 75
  },
  {
   "metadata": {
    "ExecuteTime": {
     "end_time": "2024-10-28T14:13:34.887605Z",
     "start_time": "2024-10-28T14:13:32.644486Z"
    }
   },
   "cell_type": "code",
   "source": [
    "gdf=gpd.read_file('Clasification_Plots.zip')\n",
    "\n",
    "# Displays the unique values of the 'Uso' column\n",
    "display(gdf['Uso'].value_counts(dropna=False))\n",
    "display(gdf['Uso'].value_counts(dropna=False).sum())"
   ],
   "id": "eca2b3231f099809",
   "outputs": [
    {
     "data": {
      "text/plain": [
       "<IPython.core.display.HTML object>"
      ],
      "text/html": [
       "\n",
       "            <style>\n",
       "                .geemap-dark {\n",
       "                    --jp-widgets-color: white;\n",
       "                    --jp-widgets-label-color: white;\n",
       "                    --jp-ui-font-color1: white;\n",
       "                    --jp-layout-color2: #454545;\n",
       "                    background-color: #383838;\n",
       "                }\n",
       "\n",
       "                .geemap-dark .jupyter-button {\n",
       "                    --jp-layout-color3: #383838;\n",
       "                }\n",
       "\n",
       "                .geemap-colab {\n",
       "                    background-color: var(--colab-primary-surface-color, white);\n",
       "                }\n",
       "\n",
       "                .geemap-colab .jupyter-button {\n",
       "                    --jp-layout-color3: var(--colab-primary-surface-color, white);\n",
       "                }\n",
       "            </style>\n",
       "            "
      ]
     },
     "metadata": {},
     "output_type": "display_data"
    },
    {
     "data": {
      "text/plain": [
       "Uso\n",
       "Bosque                 58708\n",
       "Pastos                 23291\n",
       "Agricultura             8398\n",
       "Otras clases            5449\n",
       "Humedal                 3926\n",
       "Plantacion forestal      902\n",
       "Sin informacion          270\n",
       "None                     216\n",
       "Name: count, dtype: int64"
      ]
     },
     "metadata": {},
     "output_type": "display_data"
    },
    {
     "data": {
      "text/plain": [
       "np.int64(101160)"
      ]
     },
     "metadata": {},
     "output_type": "display_data"
    }
   ],
   "execution_count": 76
  },
  {
   "metadata": {
    "ExecuteTime": {
     "end_time": "2024-10-28T14:31:50.110186Z",
     "start_time": "2024-10-28T14:31:49.996594Z"
    }
   },
   "cell_type": "code",
   "source": [
    "# Creates subsets for every type of 'Uso'\n",
    "subset_bosque = gdf[gdf['Uso'].isin(['Bosque'])]\n",
    "subset_pastos = gdf[gdf['Uso'].isin(['Pastos'])]\n",
    "subset_agricultura = gdf[gdf['Uso'].isin(['Agricultura'])]\n",
    "subset_otras = gdf[gdf['Uso'].isin(['Otras clases'])]\n",
    "subset_humedal = gdf[gdf['Uso'].isin(['Humedal'])]\n",
    "subset_plantacion = gdf[gdf['Uso'].isin(['Plantacion forestal'])]\n",
    "subset_sin = gdf[gdf['Uso'].isin(['Sin informacion'])]\n",
    "subset_none = gdf[gdf['Uso'].isna()]\n",
    "\n",
    "# Displays the unique values of the Sin informacion subset\n",
    "print(\"Unique values of Sin informacion plots' Cobertura:\")\n",
    "display(subset_none['Cobertura'].value_counts(dropna=False))\n",
    "display(subset_none['Cobertura'].value_counts(dropna=False).sum())"
   ],
   "id": "32e29547211dd48",
   "outputs": [
    {
     "data": {
      "text/plain": [
       "<IPython.core.display.HTML object>"
      ],
      "text/html": [
       "\n",
       "            <style>\n",
       "                .geemap-dark {\n",
       "                    --jp-widgets-color: white;\n",
       "                    --jp-widgets-label-color: white;\n",
       "                    --jp-ui-font-color1: white;\n",
       "                    --jp-layout-color2: #454545;\n",
       "                    background-color: #383838;\n",
       "                }\n",
       "\n",
       "                .geemap-dark .jupyter-button {\n",
       "                    --jp-layout-color3: #383838;\n",
       "                }\n",
       "\n",
       "                .geemap-colab {\n",
       "                    background-color: var(--colab-primary-surface-color, white);\n",
       "                }\n",
       "\n",
       "                .geemap-colab .jupyter-button {\n",
       "                    --jp-layout-color3: var(--colab-primary-surface-color, white);\n",
       "                }\n",
       "            </style>\n",
       "            "
      ]
     },
     "metadata": {},
     "output_type": "display_data"
    },
    {
     "name": "stdout",
     "output_type": "stream",
     "text": [
      "Unique values of Sin informacion plots' Cobertura:\n"
     ]
    },
    {
     "data": {
      "text/plain": [
       "Cobertura\n",
       "None    216\n",
       "Name: count, dtype: int64"
      ]
     },
     "metadata": {},
     "output_type": "display_data"
    },
    {
     "data": {
      "text/plain": [
       "np.int64(216)"
      ]
     },
     "metadata": {},
     "output_type": "display_data"
    }
   ],
   "execution_count": 94
  },
  {
   "metadata": {
    "ExecuteTime": {
     "end_time": "2024-10-28T14:28:23.160580Z",
     "start_time": "2024-10-28T14:28:23.153022Z"
    }
   },
   "cell_type": "code",
   "source": [
    "# Specify the columns for which you want to find unique values\n",
    "columns_of_interest = ['Cobertura', 'Vegetacion', 'Herbaceas', 'Pasto_Arb', 'Cultivo', 'Humedal', 'Terreno', 'Agua', 'Otra_clase', 'SAF', 'Cambios15_', 'Gana_Perdi']\n",
    "\n",
    "# Use apply with unique\n",
    "unique_values = {col: subset_none[col].unique().tolist() for col in columns_of_interest}\n",
    "\n",
    "# Print out the dictionary with pretty print\n",
    "# This will show which columns \"should not\" apply to when the plot is 'Bosque' (i.e. When the only unique value in the column in 'None')\n",
    "pprint.pprint(unique_values, sort_dicts=False)"
   ],
   "id": "f11ea173d84ce535",
   "outputs": [
    {
     "data": {
      "text/plain": [
       "<IPython.core.display.HTML object>"
      ],
      "text/html": [
       "\n",
       "            <style>\n",
       "                .geemap-dark {\n",
       "                    --jp-widgets-color: white;\n",
       "                    --jp-widgets-label-color: white;\n",
       "                    --jp-ui-font-color1: white;\n",
       "                    --jp-layout-color2: #454545;\n",
       "                    background-color: #383838;\n",
       "                }\n",
       "\n",
       "                .geemap-dark .jupyter-button {\n",
       "                    --jp-layout-color3: #383838;\n",
       "                }\n",
       "\n",
       "                .geemap-colab {\n",
       "                    background-color: var(--colab-primary-surface-color, white);\n",
       "                }\n",
       "\n",
       "                .geemap-colab .jupyter-button {\n",
       "                    --jp-layout-color3: var(--colab-primary-surface-color, white);\n",
       "                }\n",
       "            </style>\n",
       "            "
      ]
     },
     "metadata": {},
     "output_type": "display_data"
    },
    {
     "name": "stdout",
     "output_type": "stream",
     "text": [
      "{'Cobertura': [None],\n",
      " 'Vegetacion': [None],\n",
      " 'Herbaceas': [None],\n",
      " 'Pasto_Arb': [None],\n",
      " 'Cultivo': [None],\n",
      " 'Humedal': [None],\n",
      " 'Terreno': [None],\n",
      " 'Agua': [None],\n",
      " 'Otra_clase': [None],\n",
      " 'SAF': [None],\n",
      " 'Cambios15_': [None],\n",
      " 'Gana_Perdi': [None]}\n"
     ]
    }
   ],
   "execution_count": 90
  },
  {
   "metadata": {
    "ExecuteTime": {
     "end_time": "2024-10-28T14:45:21.922045Z",
     "start_time": "2024-10-28T14:45:21.902856Z"
    }
   },
   "cell_type": "code",
   "source": [
    "# Used to check if there are any entries/records which are double counted\n",
    "\n",
    "sampleid_counts = gdf['sampleid'].value_counts(dropna=False)\n",
    "plotid_counts = gdf['plotid'].value_counts(dropna=False)\n",
    "\n",
    "print(\"Unique values of sampleid in the original dataframe:\")\n",
    "display(sampleid_counts[sampleid_counts > 1])\n",
    "display(sampleid_counts[sampleid_counts > 1].sum())\n",
    "\n",
    "print(\"Unique values of plotid in the original dataframe:\")\n",
    "display(plotid_counts[plotid_counts > 9])\n",
    "display(plotid_counts[plotid_counts > 9].sum())"
   ],
   "id": "f214487f5d66c834",
   "outputs": [
    {
     "data": {
      "text/plain": [
       "<IPython.core.display.HTML object>"
      ],
      "text/html": [
       "\n",
       "            <style>\n",
       "                .geemap-dark {\n",
       "                    --jp-widgets-color: white;\n",
       "                    --jp-widgets-label-color: white;\n",
       "                    --jp-ui-font-color1: white;\n",
       "                    --jp-layout-color2: #454545;\n",
       "                    background-color: #383838;\n",
       "                }\n",
       "\n",
       "                .geemap-dark .jupyter-button {\n",
       "                    --jp-layout-color3: #383838;\n",
       "                }\n",
       "\n",
       "                .geemap-colab {\n",
       "                    background-color: var(--colab-primary-surface-color, white);\n",
       "                }\n",
       "\n",
       "                .geemap-colab .jupyter-button {\n",
       "                    --jp-layout-color3: var(--colab-primary-surface-color, white);\n",
       "                }\n",
       "            </style>\n",
       "            "
      ]
     },
     "metadata": {},
     "output_type": "display_data"
    },
    {
     "name": "stdout",
     "output_type": "stream",
     "text": [
      "Unique values of sampleid in the original dataframe:\n"
     ]
    },
    {
     "data": {
      "text/plain": [
       "sampleid\n",
       "12417    4\n",
       "12601    4\n",
       "12657    4\n",
       "12597    4\n",
       "12605    4\n",
       "        ..\n",
       "4267     2\n",
       "4266     2\n",
       "11778    2\n",
       "11779    2\n",
       "11780    2\n",
       "Name: count, Length: 41437, dtype: int64"
      ]
     },
     "metadata": {},
     "output_type": "display_data"
    },
    {
     "data": {
      "text/plain": [
       "np.int64(93128)"
      ]
     },
     "metadata": {},
     "output_type": "display_data"
    },
    {
     "name": "stdout",
     "output_type": "stream",
     "text": [
      "Unique values of plotid in the original dataframe:\n"
     ]
    },
    {
     "data": {
      "text/plain": [
       "plotid\n",
       "2175    18\n",
       "4607    18\n",
       "6916    18\n",
       "3150    18\n",
       "3105    18\n",
       "3163    18\n",
       "1630    18\n",
       "Name: count, dtype: int64"
      ]
     },
     "metadata": {},
     "output_type": "display_data"
    },
    {
     "data": {
      "text/plain": [
       "np.int64(126)"
      ]
     },
     "metadata": {},
     "output_type": "display_data"
    }
   ],
   "execution_count": 103
  },
  {
   "metadata": {
    "ExecuteTime": {
     "end_time": "2024-10-28T14:43:31.131777Z",
     "start_time": "2024-10-28T14:43:31.113483Z"
    }
   },
   "cell_type": "code",
   "source": [
    "# Prints the rows which have multi-counted a sampleid\n",
    "multi_sample_df = gdf[gdf['sampleid'] == 12417].index\n",
    "display(multi_sample_df)\n",
    "display(gdf[gdf['sampleid'] == 12417])"
   ],
   "id": "6ec173af53ec69b2",
   "outputs": [
    {
     "data": {
      "text/plain": [
       "<IPython.core.display.HTML object>"
      ],
      "text/html": [
       "\n",
       "            <style>\n",
       "                .geemap-dark {\n",
       "                    --jp-widgets-color: white;\n",
       "                    --jp-widgets-label-color: white;\n",
       "                    --jp-ui-font-color1: white;\n",
       "                    --jp-layout-color2: #454545;\n",
       "                    background-color: #383838;\n",
       "                }\n",
       "\n",
       "                .geemap-dark .jupyter-button {\n",
       "                    --jp-layout-color3: #383838;\n",
       "                }\n",
       "\n",
       "                .geemap-colab {\n",
       "                    background-color: var(--colab-primary-surface-color, white);\n",
       "                }\n",
       "\n",
       "                .geemap-colab .jupyter-button {\n",
       "                    --jp-layout-color3: var(--colab-primary-surface-color, white);\n",
       "                }\n",
       "            </style>\n",
       "            "
      ]
     },
     "metadata": {},
     "output_type": "display_data"
    },
    {
     "data": {
      "text/plain": [
       "Index([998, 1003, 1008, 1009], dtype='int64')"
      ]
     },
     "metadata": {},
     "output_type": "display_data"
    },
    {
     "data": {
      "text/plain": [
       "                                             Source.Nam  plotid  sampleid  \\\n",
       "998   ceo-ACAHN-puntos-Mapa-de-tipos-de-Bosque-y-otr...    3103     12417   \n",
       "1003  ceo-ACAHN-puntos-Mapa-de-tipos-de-Bosque-y-otr...    3104     12417   \n",
       "1008  ceo-ACAHN-puntos-Mapa-de-tipos-de-Bosque-y-otr...    3105     12417   \n",
       "1009  ceo-ACAHN-puntos-Mapa-de-tipos-de-Bosque-y-otr...    3105     12417   \n",
       "\n",
       "            lon        lat                                    sample_geo  \\\n",
       "998  -84.679716  10.919648  POINT(-84.67971580866356 10.919648384406656)   \n",
       "1003 -84.661134  10.930125  POINT(-84.66113400000002 10.930125000000018)   \n",
       "1008 -84.661517  10.907986  POINT(-84.66151719133643 10.907985599578808)   \n",
       "1009 -84.661517  10.907986  POINT(-84.66151719133643 10.907985599578808)   \n",
       "\n",
       "                      Uso   Cobertura Vegetacion  Herbaceas  \\\n",
       "998           Agricultura  Vegetacion  Herbaceas  Gramineas   \n",
       "1003          Agricultura  Vegetacion  Herbaceas  Gramineas   \n",
       "1008               Pastos  Vegetacion  Herbaceas  Gramineas   \n",
       "1009  Plantacion forestal  Vegetacion    Arboles       None   \n",
       "\n",
       "                      Pasto_Arb Cultivo Humedal Terreno  Agua Otra_clase  \\\n",
       "998                        None    Otro    None    None  None       None   \n",
       "1003                       None    Otro    None    None  None       None   \n",
       "1008  Pastos mezclados (70-90%)    None    None    None  None       None   \n",
       "1009                       None    None    None    None  None       None   \n",
       "\n",
       "                            SAF Cambios15_ Gana_Perdi  \\\n",
       "998   Cultivo mezclado (70-90%)         No       None   \n",
       "1003  Cultivo mezclado (70-90%)         No       None   \n",
       "1008                       None         No       None   \n",
       "1009                       None         No       None   \n",
       "\n",
       "                        geometry  \n",
       "998   POINT (-84.67972 10.91965)  \n",
       "1003  POINT (-84.66113 10.93013)  \n",
       "1008  POINT (-84.66152 10.90799)  \n",
       "1009  POINT (-84.66152 10.90799)  "
      ],
      "text/html": [
       "<div>\n",
       "<style scoped>\n",
       "    .dataframe tbody tr th:only-of-type {\n",
       "        vertical-align: middle;\n",
       "    }\n",
       "\n",
       "    .dataframe tbody tr th {\n",
       "        vertical-align: top;\n",
       "    }\n",
       "\n",
       "    .dataframe thead th {\n",
       "        text-align: right;\n",
       "    }\n",
       "</style>\n",
       "<table border=\"1\" class=\"dataframe\">\n",
       "  <thead>\n",
       "    <tr style=\"text-align: right;\">\n",
       "      <th></th>\n",
       "      <th>Source.Nam</th>\n",
       "      <th>plotid</th>\n",
       "      <th>sampleid</th>\n",
       "      <th>lon</th>\n",
       "      <th>lat</th>\n",
       "      <th>sample_geo</th>\n",
       "      <th>Uso</th>\n",
       "      <th>Cobertura</th>\n",
       "      <th>Vegetacion</th>\n",
       "      <th>Herbaceas</th>\n",
       "      <th>Pasto_Arb</th>\n",
       "      <th>Cultivo</th>\n",
       "      <th>Humedal</th>\n",
       "      <th>Terreno</th>\n",
       "      <th>Agua</th>\n",
       "      <th>Otra_clase</th>\n",
       "      <th>SAF</th>\n",
       "      <th>Cambios15_</th>\n",
       "      <th>Gana_Perdi</th>\n",
       "      <th>geometry</th>\n",
       "    </tr>\n",
       "  </thead>\n",
       "  <tbody>\n",
       "    <tr>\n",
       "      <th>998</th>\n",
       "      <td>ceo-ACAHN-puntos-Mapa-de-tipos-de-Bosque-y-otr...</td>\n",
       "      <td>3103</td>\n",
       "      <td>12417</td>\n",
       "      <td>-84.679716</td>\n",
       "      <td>10.919648</td>\n",
       "      <td>POINT(-84.67971580866356 10.919648384406656)</td>\n",
       "      <td>Agricultura</td>\n",
       "      <td>Vegetacion</td>\n",
       "      <td>Herbaceas</td>\n",
       "      <td>Gramineas</td>\n",
       "      <td>None</td>\n",
       "      <td>Otro</td>\n",
       "      <td>None</td>\n",
       "      <td>None</td>\n",
       "      <td>None</td>\n",
       "      <td>None</td>\n",
       "      <td>Cultivo mezclado (70-90%)</td>\n",
       "      <td>No</td>\n",
       "      <td>None</td>\n",
       "      <td>POINT (-84.67972 10.91965)</td>\n",
       "    </tr>\n",
       "    <tr>\n",
       "      <th>1003</th>\n",
       "      <td>ceo-ACAHN-puntos-Mapa-de-tipos-de-Bosque-y-otr...</td>\n",
       "      <td>3104</td>\n",
       "      <td>12417</td>\n",
       "      <td>-84.661134</td>\n",
       "      <td>10.930125</td>\n",
       "      <td>POINT(-84.66113400000002 10.930125000000018)</td>\n",
       "      <td>Agricultura</td>\n",
       "      <td>Vegetacion</td>\n",
       "      <td>Herbaceas</td>\n",
       "      <td>Gramineas</td>\n",
       "      <td>None</td>\n",
       "      <td>Otro</td>\n",
       "      <td>None</td>\n",
       "      <td>None</td>\n",
       "      <td>None</td>\n",
       "      <td>None</td>\n",
       "      <td>Cultivo mezclado (70-90%)</td>\n",
       "      <td>No</td>\n",
       "      <td>None</td>\n",
       "      <td>POINT (-84.66113 10.93013)</td>\n",
       "    </tr>\n",
       "    <tr>\n",
       "      <th>1008</th>\n",
       "      <td>ceo-ACAHN-puntos-Mapa-de-tipos-de-Bosque-y-otr...</td>\n",
       "      <td>3105</td>\n",
       "      <td>12417</td>\n",
       "      <td>-84.661517</td>\n",
       "      <td>10.907986</td>\n",
       "      <td>POINT(-84.66151719133643 10.907985599578808)</td>\n",
       "      <td>Pastos</td>\n",
       "      <td>Vegetacion</td>\n",
       "      <td>Herbaceas</td>\n",
       "      <td>Gramineas</td>\n",
       "      <td>Pastos mezclados (70-90%)</td>\n",
       "      <td>None</td>\n",
       "      <td>None</td>\n",
       "      <td>None</td>\n",
       "      <td>None</td>\n",
       "      <td>None</td>\n",
       "      <td>None</td>\n",
       "      <td>No</td>\n",
       "      <td>None</td>\n",
       "      <td>POINT (-84.66152 10.90799)</td>\n",
       "    </tr>\n",
       "    <tr>\n",
       "      <th>1009</th>\n",
       "      <td>ceo-ACAHN-puntos-Mapa-de-tipos-de-Bosque-y-otr...</td>\n",
       "      <td>3105</td>\n",
       "      <td>12417</td>\n",
       "      <td>-84.661517</td>\n",
       "      <td>10.907986</td>\n",
       "      <td>POINT(-84.66151719133643 10.907985599578808)</td>\n",
       "      <td>Plantacion forestal</td>\n",
       "      <td>Vegetacion</td>\n",
       "      <td>Arboles</td>\n",
       "      <td>None</td>\n",
       "      <td>None</td>\n",
       "      <td>None</td>\n",
       "      <td>None</td>\n",
       "      <td>None</td>\n",
       "      <td>None</td>\n",
       "      <td>None</td>\n",
       "      <td>None</td>\n",
       "      <td>No</td>\n",
       "      <td>None</td>\n",
       "      <td>POINT (-84.66152 10.90799)</td>\n",
       "    </tr>\n",
       "  </tbody>\n",
       "</table>\n",
       "</div>"
      ]
     },
     "metadata": {},
     "output_type": "display_data"
    }
   ],
   "execution_count": 101
  }
 ],
 "metadata": {
  "kernelspec": {
   "display_name": "Python 3",
   "language": "python",
   "name": "python3"
  },
  "language_info": {
   "codemirror_mode": {
    "name": "ipython",
    "version": 2
   },
   "file_extension": ".py",
   "mimetype": "text/x-python",
   "name": "python",
   "nbconvert_exporter": "python",
   "pygments_lexer": "ipython2",
   "version": "2.7.6"
  }
 },
 "nbformat": 4,
 "nbformat_minor": 5
}
