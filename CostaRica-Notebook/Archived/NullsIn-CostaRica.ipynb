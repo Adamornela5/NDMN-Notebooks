{
 "cells": [
  {
   "cell_type": "code",
   "id": "initial_id",
   "metadata": {
    "collapsed": true,
    "ExecuteTime": {
     "end_time": "2024-11-01T17:37:55.137192Z",
     "start_time": "2024-11-01T17:37:33.256592Z"
    }
   },
   "source": [
    "!pip install mapclassify\n",
    "!pip install osmnx\n",
    "!pip install raster_tools\n",
    "!pip install planetary-computer\n",
    "!pip install pystac-client\n",
    "!pip install stackstac\n",
    "!pip install numpy\n",
    "!pip install py3dep==0.17.1"
   ],
   "outputs": [
    {
     "name": "stdout",
     "output_type": "stream",
     "text": [
      "Requirement already satisfied: mapclassify in c:\\users\\goldferret\\pycharmprojects\\ndmn-jupyter-notebook\\venv\\lib\\site-packages (2.8.1)\n",
      "Requirement already satisfied: networkx>=2.7 in c:\\users\\goldferret\\pycharmprojects\\ndmn-jupyter-notebook\\venv\\lib\\site-packages (from mapclassify) (3.3)\n",
      "Requirement already satisfied: numpy>=1.23 in c:\\users\\goldferret\\pycharmprojects\\ndmn-jupyter-notebook\\venv\\lib\\site-packages (from mapclassify) (1.26.4)\n",
      "Requirement already satisfied: pandas!=1.5.0,>=1.4 in c:\\users\\goldferret\\pycharmprojects\\ndmn-jupyter-notebook\\venv\\lib\\site-packages (from mapclassify) (2.2.3)\n",
      "Requirement already satisfied: scikit-learn>=1.0 in c:\\users\\goldferret\\pycharmprojects\\ndmn-jupyter-notebook\\venv\\lib\\site-packages (from mapclassify) (1.5.2)\n",
      "Requirement already satisfied: scipy>=1.8 in c:\\users\\goldferret\\pycharmprojects\\ndmn-jupyter-notebook\\venv\\lib\\site-packages (from mapclassify) (1.14.1)\n",
      "Requirement already satisfied: python-dateutil>=2.8.2 in c:\\users\\goldferret\\pycharmprojects\\ndmn-jupyter-notebook\\venv\\lib\\site-packages (from pandas!=1.5.0,>=1.4->mapclassify) (2.9.0.post0)\n",
      "Requirement already satisfied: pytz>=2020.1 in c:\\users\\goldferret\\pycharmprojects\\ndmn-jupyter-notebook\\venv\\lib\\site-packages (from pandas!=1.5.0,>=1.4->mapclassify) (2024.2)\n",
      "Requirement already satisfied: tzdata>=2022.7 in c:\\users\\goldferret\\pycharmprojects\\ndmn-jupyter-notebook\\venv\\lib\\site-packages (from pandas!=1.5.0,>=1.4->mapclassify) (2024.2)\n",
      "Requirement already satisfied: joblib>=1.2.0 in c:\\users\\goldferret\\pycharmprojects\\ndmn-jupyter-notebook\\venv\\lib\\site-packages (from scikit-learn>=1.0->mapclassify) (1.4.2)\n",
      "Requirement already satisfied: threadpoolctl>=3.1.0 in c:\\users\\goldferret\\pycharmprojects\\ndmn-jupyter-notebook\\venv\\lib\\site-packages (from scikit-learn>=1.0->mapclassify) (3.5.0)\n",
      "Requirement already satisfied: six>=1.5 in c:\\users\\goldferret\\pycharmprojects\\ndmn-jupyter-notebook\\venv\\lib\\site-packages (from python-dateutil>=2.8.2->pandas!=1.5.0,>=1.4->mapclassify) (1.16.0)\n",
      "Requirement already satisfied: osmnx in c:\\users\\goldferret\\pycharmprojects\\ndmn-jupyter-notebook\\venv\\lib\\site-packages (1.9.4)\n",
      "Requirement already satisfied: geopandas<0.15,>=0.12 in c:\\users\\goldferret\\pycharmprojects\\ndmn-jupyter-notebook\\venv\\lib\\site-packages (from osmnx) (0.14.4)\n",
      "Requirement already satisfied: networkx<3.4,>=2.5 in c:\\users\\goldferret\\pycharmprojects\\ndmn-jupyter-notebook\\venv\\lib\\site-packages (from osmnx) (3.3)\n",
      "Requirement already satisfied: numpy<1.27,>=1.20 in c:\\users\\goldferret\\pycharmprojects\\ndmn-jupyter-notebook\\venv\\lib\\site-packages (from osmnx) (1.26.4)\n",
      "Requirement already satisfied: pandas<2.3,>=1.1 in c:\\users\\goldferret\\pycharmprojects\\ndmn-jupyter-notebook\\venv\\lib\\site-packages (from osmnx) (2.2.3)\n",
      "Requirement already satisfied: requests<2.33,>=2.27 in c:\\users\\goldferret\\pycharmprojects\\ndmn-jupyter-notebook\\venv\\lib\\site-packages (from osmnx) (2.32.3)\n",
      "Requirement already satisfied: shapely<2.1,>=2.0 in c:\\users\\goldferret\\pycharmprojects\\ndmn-jupyter-notebook\\venv\\lib\\site-packages (from osmnx) (2.0.6)\n",
      "Requirement already satisfied: fiona>=1.8.21 in c:\\users\\goldferret\\pycharmprojects\\ndmn-jupyter-notebook\\venv\\lib\\site-packages (from geopandas<0.15,>=0.12->osmnx) (1.10.1)\n",
      "Requirement already satisfied: packaging in c:\\users\\goldferret\\pycharmprojects\\ndmn-jupyter-notebook\\venv\\lib\\site-packages (from geopandas<0.15,>=0.12->osmnx) (24.1)\n",
      "Requirement already satisfied: pyproj>=3.3.0 in c:\\users\\goldferret\\pycharmprojects\\ndmn-jupyter-notebook\\venv\\lib\\site-packages (from geopandas<0.15,>=0.12->osmnx) (3.7.0)\n",
      "Requirement already satisfied: python-dateutil>=2.8.2 in c:\\users\\goldferret\\pycharmprojects\\ndmn-jupyter-notebook\\venv\\lib\\site-packages (from pandas<2.3,>=1.1->osmnx) (2.9.0.post0)\n",
      "Requirement already satisfied: pytz>=2020.1 in c:\\users\\goldferret\\pycharmprojects\\ndmn-jupyter-notebook\\venv\\lib\\site-packages (from pandas<2.3,>=1.1->osmnx) (2024.2)\n",
      "Requirement already satisfied: tzdata>=2022.7 in c:\\users\\goldferret\\pycharmprojects\\ndmn-jupyter-notebook\\venv\\lib\\site-packages (from pandas<2.3,>=1.1->osmnx) (2024.2)\n",
      "Requirement already satisfied: charset-normalizer<4,>=2 in c:\\users\\goldferret\\pycharmprojects\\ndmn-jupyter-notebook\\venv\\lib\\site-packages (from requests<2.33,>=2.27->osmnx) (3.4.0)\n",
      "Requirement already satisfied: idna<4,>=2.5 in c:\\users\\goldferret\\pycharmprojects\\ndmn-jupyter-notebook\\venv\\lib\\site-packages (from requests<2.33,>=2.27->osmnx) (3.10)\n",
      "Requirement already satisfied: urllib3<3,>=1.21.1 in c:\\users\\goldferret\\pycharmprojects\\ndmn-jupyter-notebook\\venv\\lib\\site-packages (from requests<2.33,>=2.27->osmnx) (2.2.3)\n",
      "Requirement already satisfied: certifi>=2017.4.17 in c:\\users\\goldferret\\pycharmprojects\\ndmn-jupyter-notebook\\venv\\lib\\site-packages (from requests<2.33,>=2.27->osmnx) (2024.8.30)\n",
      "Requirement already satisfied: attrs>=19.2.0 in c:\\users\\goldferret\\pycharmprojects\\ndmn-jupyter-notebook\\venv\\lib\\site-packages (from fiona>=1.8.21->geopandas<0.15,>=0.12->osmnx) (24.2.0)\n",
      "Requirement already satisfied: click~=8.0 in c:\\users\\goldferret\\pycharmprojects\\ndmn-jupyter-notebook\\venv\\lib\\site-packages (from fiona>=1.8.21->geopandas<0.15,>=0.12->osmnx) (8.1.7)\n",
      "Requirement already satisfied: click-plugins>=1.0 in c:\\users\\goldferret\\pycharmprojects\\ndmn-jupyter-notebook\\venv\\lib\\site-packages (from fiona>=1.8.21->geopandas<0.15,>=0.12->osmnx) (1.1.1)\n",
      "Requirement already satisfied: cligj>=0.5 in c:\\users\\goldferret\\pycharmprojects\\ndmn-jupyter-notebook\\venv\\lib\\site-packages (from fiona>=1.8.21->geopandas<0.15,>=0.12->osmnx) (0.7.2)\n",
      "Requirement already satisfied: six>=1.5 in c:\\users\\goldferret\\pycharmprojects\\ndmn-jupyter-notebook\\venv\\lib\\site-packages (from python-dateutil>=2.8.2->pandas<2.3,>=1.1->osmnx) (1.16.0)\n",
      "Requirement already satisfied: colorama in c:\\users\\goldferret\\pycharmprojects\\ndmn-jupyter-notebook\\venv\\lib\\site-packages (from click~=8.0->fiona>=1.8.21->geopandas<0.15,>=0.12->osmnx) (0.4.6)\n",
      "Requirement already satisfied: raster_tools in c:\\users\\goldferret\\pycharmprojects\\ndmn-jupyter-notebook\\venv\\lib\\site-packages (0.9.2)\n",
      "Requirement already satisfied: affine in c:\\users\\goldferret\\pycharmprojects\\ndmn-jupyter-notebook\\venv\\lib\\site-packages (from raster_tools) (2.4.0)\n",
      "Requirement already satisfied: cfgrib in c:\\users\\goldferret\\pycharmprojects\\ndmn-jupyter-notebook\\venv\\lib\\site-packages (from raster_tools) (0.9.14.1)\n",
      "Requirement already satisfied: dask<=2024.2.1 in c:\\users\\goldferret\\pycharmprojects\\ndmn-jupyter-notebook\\venv\\lib\\site-packages (from raster_tools) (2024.2.1)\n",
      "Requirement already satisfied: dask-geopandas in c:\\users\\goldferret\\pycharmprojects\\ndmn-jupyter-notebook\\venv\\lib\\site-packages (from raster_tools) (0.4.2)\n",
      "Requirement already satisfied: dask-image in c:\\users\\goldferret\\pycharmprojects\\ndmn-jupyter-notebook\\venv\\lib\\site-packages (from raster_tools) (2023.8.1)\n",
      "Requirement already satisfied: fiona in c:\\users\\goldferret\\pycharmprojects\\ndmn-jupyter-notebook\\venv\\lib\\site-packages (from raster_tools) (1.10.1)\n",
      "Requirement already satisfied: geopandas in c:\\users\\goldferret\\pycharmprojects\\ndmn-jupyter-notebook\\venv\\lib\\site-packages (from raster_tools) (0.14.4)\n",
      "Requirement already satisfied: netcdf4 in c:\\users\\goldferret\\pycharmprojects\\ndmn-jupyter-notebook\\venv\\lib\\site-packages (from raster_tools) (1.7.2)\n",
      "Requirement already satisfied: numba in c:\\users\\goldferret\\pycharmprojects\\ndmn-jupyter-notebook\\venv\\lib\\site-packages (from raster_tools) (0.60.0)\n",
      "Requirement already satisfied: numpy>=1.22 in c:\\users\\goldferret\\pycharmprojects\\ndmn-jupyter-notebook\\venv\\lib\\site-packages (from raster_tools) (1.26.4)\n",
      "Requirement already satisfied: odc-geo<=0.4.3 in c:\\users\\goldferret\\pycharmprojects\\ndmn-jupyter-notebook\\venv\\lib\\site-packages (from raster_tools) (0.4.3)\n",
      "Requirement already satisfied: pandas in c:\\users\\goldferret\\pycharmprojects\\ndmn-jupyter-notebook\\venv\\lib\\site-packages (from raster_tools) (2.2.3)\n",
      "Requirement already satisfied: pyogrio in c:\\users\\goldferret\\pycharmprojects\\ndmn-jupyter-notebook\\venv\\lib\\site-packages (from raster_tools) (0.10.0)\n",
      "Requirement already satisfied: pyproj in c:\\users\\goldferret\\pycharmprojects\\ndmn-jupyter-notebook\\venv\\lib\\site-packages (from raster_tools) (3.7.0)\n",
      "Requirement already satisfied: rioxarray in c:\\users\\goldferret\\pycharmprojects\\ndmn-jupyter-notebook\\venv\\lib\\site-packages (from raster_tools) (0.17.0)\n",
      "Requirement already satisfied: rasterio in c:\\users\\goldferret\\pycharmprojects\\ndmn-jupyter-notebook\\venv\\lib\\site-packages (from raster_tools) (1.4.2)\n",
      "Requirement already satisfied: scipy in c:\\users\\goldferret\\pycharmprojects\\ndmn-jupyter-notebook\\venv\\lib\\site-packages (from raster_tools) (1.14.1)\n",
      "Requirement already satisfied: shapely>=2.0 in c:\\users\\goldferret\\pycharmprojects\\ndmn-jupyter-notebook\\venv\\lib\\site-packages (from raster_tools) (2.0.6)\n",
      "Requirement already satisfied: xarray in c:\\users\\goldferret\\pycharmprojects\\ndmn-jupyter-notebook\\venv\\lib\\site-packages (from raster_tools) (2024.10.0)\n",
      "Requirement already satisfied: click>=8.1 in c:\\users\\goldferret\\pycharmprojects\\ndmn-jupyter-notebook\\venv\\lib\\site-packages (from dask<=2024.2.1->raster_tools) (8.1.7)\n",
      "Requirement already satisfied: cloudpickle>=1.5.0 in c:\\users\\goldferret\\pycharmprojects\\ndmn-jupyter-notebook\\venv\\lib\\site-packages (from dask<=2024.2.1->raster_tools) (3.1.0)\n",
      "Requirement already satisfied: fsspec>=2021.09.0 in c:\\users\\goldferret\\pycharmprojects\\ndmn-jupyter-notebook\\venv\\lib\\site-packages (from dask<=2024.2.1->raster_tools) (2024.10.0)\n",
      "Requirement already satisfied: packaging>=20.0 in c:\\users\\goldferret\\pycharmprojects\\ndmn-jupyter-notebook\\venv\\lib\\site-packages (from dask<=2024.2.1->raster_tools) (24.1)\n",
      "Requirement already satisfied: partd>=1.2.0 in c:\\users\\goldferret\\pycharmprojects\\ndmn-jupyter-notebook\\venv\\lib\\site-packages (from dask<=2024.2.1->raster_tools) (1.4.2)\n",
      "Requirement already satisfied: pyyaml>=5.3.1 in c:\\users\\goldferret\\pycharmprojects\\ndmn-jupyter-notebook\\venv\\lib\\site-packages (from dask<=2024.2.1->raster_tools) (6.0.2)\n",
      "Requirement already satisfied: toolz>=0.10.0 in c:\\users\\goldferret\\pycharmprojects\\ndmn-jupyter-notebook\\venv\\lib\\site-packages (from dask<=2024.2.1->raster_tools) (1.0.0)\n",
      "Requirement already satisfied: importlib-metadata>=4.13.0 in c:\\users\\goldferret\\pycharmprojects\\ndmn-jupyter-notebook\\venv\\lib\\site-packages (from dask<=2024.2.1->raster_tools) (8.5.0)\n",
      "Requirement already satisfied: cachetools in c:\\users\\goldferret\\pycharmprojects\\ndmn-jupyter-notebook\\venv\\lib\\site-packages (from odc-geo<=0.4.3->raster_tools) (5.5.0)\n",
      "Requirement already satisfied: certifi in c:\\users\\goldferret\\pycharmprojects\\ndmn-jupyter-notebook\\venv\\lib\\site-packages (from pyproj->raster_tools) (2024.8.30)\n",
      "Requirement already satisfied: attrs>=19.2 in c:\\users\\goldferret\\pycharmprojects\\ndmn-jupyter-notebook\\venv\\lib\\site-packages (from cfgrib->raster_tools) (24.2.0)\n",
      "Requirement already satisfied: eccodes>=0.9.8 in c:\\users\\goldferret\\pycharmprojects\\ndmn-jupyter-notebook\\venv\\lib\\site-packages (from cfgrib->raster_tools) (2.38.3)\n",
      "Requirement already satisfied: click-plugins>=1.0 in c:\\users\\goldferret\\pycharmprojects\\ndmn-jupyter-notebook\\venv\\lib\\site-packages (from fiona->raster_tools) (1.1.1)\n",
      "Requirement already satisfied: cligj>=0.5 in c:\\users\\goldferret\\pycharmprojects\\ndmn-jupyter-notebook\\venv\\lib\\site-packages (from fiona->raster_tools) (0.7.2)\n",
      "Requirement already satisfied: python-dateutil>=2.8.2 in c:\\users\\goldferret\\pycharmprojects\\ndmn-jupyter-notebook\\venv\\lib\\site-packages (from pandas->raster_tools) (2.9.0.post0)\n",
      "Requirement already satisfied: pytz>=2020.1 in c:\\users\\goldferret\\pycharmprojects\\ndmn-jupyter-notebook\\venv\\lib\\site-packages (from pandas->raster_tools) (2024.2)\n",
      "Requirement already satisfied: tzdata>=2022.7 in c:\\users\\goldferret\\pycharmprojects\\ndmn-jupyter-notebook\\venv\\lib\\site-packages (from pandas->raster_tools) (2024.2)\n",
      "Requirement already satisfied: pims>=0.4.1 in c:\\users\\goldferret\\pycharmprojects\\ndmn-jupyter-notebook\\venv\\lib\\site-packages (from dask-image->raster_tools) (0.7)\n",
      "Requirement already satisfied: tifffile>=2018.10.18 in c:\\users\\goldferret\\pycharmprojects\\ndmn-jupyter-notebook\\venv\\lib\\site-packages (from dask-image->raster_tools) (2024.9.20)\n",
      "Requirement already satisfied: cftime in c:\\users\\goldferret\\pycharmprojects\\ndmn-jupyter-notebook\\venv\\lib\\site-packages (from netcdf4->raster_tools) (1.6.4.post1)\n",
      "Requirement already satisfied: llvmlite<0.44,>=0.43.0dev0 in c:\\users\\goldferret\\pycharmprojects\\ndmn-jupyter-notebook\\venv\\lib\\site-packages (from numba->raster_tools) (0.43.0)\n",
      "Requirement already satisfied: pyparsing in c:\\users\\goldferret\\pycharmprojects\\ndmn-jupyter-notebook\\venv\\lib\\site-packages (from rasterio->raster_tools) (3.1.4)\n",
      "Requirement already satisfied: colorama in c:\\users\\goldferret\\pycharmprojects\\ndmn-jupyter-notebook\\venv\\lib\\site-packages (from click>=8.1->dask<=2024.2.1->raster_tools) (0.4.6)\n",
      "Requirement already satisfied: cffi in c:\\users\\goldferret\\pycharmprojects\\ndmn-jupyter-notebook\\venv\\lib\\site-packages (from eccodes>=0.9.8->cfgrib->raster_tools) (1.17.1)\n",
      "Requirement already satisfied: findlibs in c:\\users\\goldferret\\pycharmprojects\\ndmn-jupyter-notebook\\venv\\lib\\site-packages (from eccodes>=0.9.8->cfgrib->raster_tools) (0.0.5)\n",
      "Requirement already satisfied: zipp>=3.20 in c:\\users\\goldferret\\pycharmprojects\\ndmn-jupyter-notebook\\venv\\lib\\site-packages (from importlib-metadata>=4.13.0->dask<=2024.2.1->raster_tools) (3.20.2)\n",
      "Requirement already satisfied: locket in c:\\users\\goldferret\\pycharmprojects\\ndmn-jupyter-notebook\\venv\\lib\\site-packages (from partd>=1.2.0->dask<=2024.2.1->raster_tools) (1.0.0)\n",
      "Requirement already satisfied: imageio in c:\\users\\goldferret\\pycharmprojects\\ndmn-jupyter-notebook\\venv\\lib\\site-packages (from pims>=0.4.1->dask-image->raster_tools) (2.36.0)\n",
      "Requirement already satisfied: slicerator>=0.9.8 in c:\\users\\goldferret\\pycharmprojects\\ndmn-jupyter-notebook\\venv\\lib\\site-packages (from pims>=0.4.1->dask-image->raster_tools) (1.1.0)\n",
      "Requirement already satisfied: six>=1.5 in c:\\users\\goldferret\\pycharmprojects\\ndmn-jupyter-notebook\\venv\\lib\\site-packages (from python-dateutil>=2.8.2->pandas->raster_tools) (1.16.0)\n",
      "Requirement already satisfied: pycparser in c:\\users\\goldferret\\pycharmprojects\\ndmn-jupyter-notebook\\venv\\lib\\site-packages (from cffi->eccodes>=0.9.8->cfgrib->raster_tools) (2.22)\n",
      "Requirement already satisfied: pillow>=8.3.2 in c:\\users\\goldferret\\pycharmprojects\\ndmn-jupyter-notebook\\venv\\lib\\site-packages (from imageio->pims>=0.4.1->dask-image->raster_tools) (10.4.0)\n",
      "Requirement already satisfied: planetary-computer in c:\\users\\goldferret\\pycharmprojects\\ndmn-jupyter-notebook\\venv\\lib\\site-packages (1.0.0)\n",
      "Requirement already satisfied: click>=7.1 in c:\\users\\goldferret\\pycharmprojects\\ndmn-jupyter-notebook\\venv\\lib\\site-packages (from planetary-computer) (8.1.7)\n",
      "Requirement already satisfied: pydantic>=1.7.3 in c:\\users\\goldferret\\pycharmprojects\\ndmn-jupyter-notebook\\venv\\lib\\site-packages (from planetary-computer) (2.9.2)\n",
      "Requirement already satisfied: pystac>=1.0.0 in c:\\users\\goldferret\\pycharmprojects\\ndmn-jupyter-notebook\\venv\\lib\\site-packages (from planetary-computer) (1.11.0)\n",
      "Requirement already satisfied: pystac-client>=0.2.0 in c:\\users\\goldferret\\pycharmprojects\\ndmn-jupyter-notebook\\venv\\lib\\site-packages (from planetary-computer) (0.8.5)\n",
      "Requirement already satisfied: pytz>=2020.5 in c:\\users\\goldferret\\pycharmprojects\\ndmn-jupyter-notebook\\venv\\lib\\site-packages (from planetary-computer) (2024.2)\n",
      "Requirement already satisfied: requests>=2.25.1 in c:\\users\\goldferret\\pycharmprojects\\ndmn-jupyter-notebook\\venv\\lib\\site-packages (from planetary-computer) (2.32.3)\n",
      "Requirement already satisfied: packaging in c:\\users\\goldferret\\pycharmprojects\\ndmn-jupyter-notebook\\venv\\lib\\site-packages (from planetary-computer) (24.1)\n",
      "Requirement already satisfied: python-dotenv in c:\\users\\goldferret\\pycharmprojects\\ndmn-jupyter-notebook\\venv\\lib\\site-packages (from planetary-computer) (1.0.1)\n",
      "Requirement already satisfied: colorama in c:\\users\\goldferret\\pycharmprojects\\ndmn-jupyter-notebook\\venv\\lib\\site-packages (from click>=7.1->planetary-computer) (0.4.6)\n",
      "Requirement already satisfied: annotated-types>=0.6.0 in c:\\users\\goldferret\\pycharmprojects\\ndmn-jupyter-notebook\\venv\\lib\\site-packages (from pydantic>=1.7.3->planetary-computer) (0.7.0)\n",
      "Requirement already satisfied: pydantic-core==2.23.4 in c:\\users\\goldferret\\pycharmprojects\\ndmn-jupyter-notebook\\venv\\lib\\site-packages (from pydantic>=1.7.3->planetary-computer) (2.23.4)\n",
      "Requirement already satisfied: typing-extensions>=4.6.1 in c:\\users\\goldferret\\pycharmprojects\\ndmn-jupyter-notebook\\venv\\lib\\site-packages (from pydantic>=1.7.3->planetary-computer) (4.12.2)\n",
      "Requirement already satisfied: python-dateutil>=2.7.0 in c:\\users\\goldferret\\pycharmprojects\\ndmn-jupyter-notebook\\venv\\lib\\site-packages (from pystac>=1.0.0->planetary-computer) (2.9.0.post0)\n",
      "Requirement already satisfied: charset-normalizer<4,>=2 in c:\\users\\goldferret\\pycharmprojects\\ndmn-jupyter-notebook\\venv\\lib\\site-packages (from requests>=2.25.1->planetary-computer) (3.4.0)\n",
      "Requirement already satisfied: idna<4,>=2.5 in c:\\users\\goldferret\\pycharmprojects\\ndmn-jupyter-notebook\\venv\\lib\\site-packages (from requests>=2.25.1->planetary-computer) (3.10)\n",
      "Requirement already satisfied: urllib3<3,>=1.21.1 in c:\\users\\goldferret\\pycharmprojects\\ndmn-jupyter-notebook\\venv\\lib\\site-packages (from requests>=2.25.1->planetary-computer) (2.2.3)\n",
      "Requirement already satisfied: certifi>=2017.4.17 in c:\\users\\goldferret\\pycharmprojects\\ndmn-jupyter-notebook\\venv\\lib\\site-packages (from requests>=2.25.1->planetary-computer) (2024.8.30)\n",
      "Requirement already satisfied: jsonschema~=4.18 in c:\\users\\goldferret\\pycharmprojects\\ndmn-jupyter-notebook\\venv\\lib\\site-packages (from pystac[validation]>=1.10.0->pystac-client>=0.2.0->planetary-computer) (4.23.0)\n",
      "Requirement already satisfied: six>=1.5 in c:\\users\\goldferret\\pycharmprojects\\ndmn-jupyter-notebook\\venv\\lib\\site-packages (from python-dateutil>=2.7.0->pystac>=1.0.0->planetary-computer) (1.16.0)\n",
      "Requirement already satisfied: attrs>=22.2.0 in c:\\users\\goldferret\\pycharmprojects\\ndmn-jupyter-notebook\\venv\\lib\\site-packages (from jsonschema~=4.18->pystac[validation]>=1.10.0->pystac-client>=0.2.0->planetary-computer) (24.2.0)\n",
      "Requirement already satisfied: jsonschema-specifications>=2023.03.6 in c:\\users\\goldferret\\pycharmprojects\\ndmn-jupyter-notebook\\venv\\lib\\site-packages (from jsonschema~=4.18->pystac[validation]>=1.10.0->pystac-client>=0.2.0->planetary-computer) (2024.10.1)\n",
      "Requirement already satisfied: referencing>=0.28.4 in c:\\users\\goldferret\\pycharmprojects\\ndmn-jupyter-notebook\\venv\\lib\\site-packages (from jsonschema~=4.18->pystac[validation]>=1.10.0->pystac-client>=0.2.0->planetary-computer) (0.35.1)\n",
      "Requirement already satisfied: rpds-py>=0.7.1 in c:\\users\\goldferret\\pycharmprojects\\ndmn-jupyter-notebook\\venv\\lib\\site-packages (from jsonschema~=4.18->pystac[validation]>=1.10.0->pystac-client>=0.2.0->planetary-computer) (0.20.0)\n",
      "Requirement already satisfied: pystac-client in c:\\users\\goldferret\\pycharmprojects\\ndmn-jupyter-notebook\\venv\\lib\\site-packages (0.8.5)\n",
      "Requirement already satisfied: requests>=2.28.2 in c:\\users\\goldferret\\pycharmprojects\\ndmn-jupyter-notebook\\venv\\lib\\site-packages (from pystac-client) (2.32.3)\n",
      "Requirement already satisfied: pystac>=1.10.0 in c:\\users\\goldferret\\pycharmprojects\\ndmn-jupyter-notebook\\venv\\lib\\site-packages (from pystac[validation]>=1.10.0->pystac-client) (1.11.0)\n",
      "Requirement already satisfied: python-dateutil>=2.8.2 in c:\\users\\goldferret\\pycharmprojects\\ndmn-jupyter-notebook\\venv\\lib\\site-packages (from pystac-client) (2.9.0.post0)\n",
      "Requirement already satisfied: jsonschema~=4.18 in c:\\users\\goldferret\\pycharmprojects\\ndmn-jupyter-notebook\\venv\\lib\\site-packages (from pystac[validation]>=1.10.0->pystac-client) (4.23.0)\n",
      "Requirement already satisfied: six>=1.5 in c:\\users\\goldferret\\pycharmprojects\\ndmn-jupyter-notebook\\venv\\lib\\site-packages (from python-dateutil>=2.8.2->pystac-client) (1.16.0)\n",
      "Requirement already satisfied: charset-normalizer<4,>=2 in c:\\users\\goldferret\\pycharmprojects\\ndmn-jupyter-notebook\\venv\\lib\\site-packages (from requests>=2.28.2->pystac-client) (3.4.0)\n",
      "Requirement already satisfied: idna<4,>=2.5 in c:\\users\\goldferret\\pycharmprojects\\ndmn-jupyter-notebook\\venv\\lib\\site-packages (from requests>=2.28.2->pystac-client) (3.10)\n",
      "Requirement already satisfied: urllib3<3,>=1.21.1 in c:\\users\\goldferret\\pycharmprojects\\ndmn-jupyter-notebook\\venv\\lib\\site-packages (from requests>=2.28.2->pystac-client) (2.2.3)\n",
      "Requirement already satisfied: certifi>=2017.4.17 in c:\\users\\goldferret\\pycharmprojects\\ndmn-jupyter-notebook\\venv\\lib\\site-packages (from requests>=2.28.2->pystac-client) (2024.8.30)\n",
      "Requirement already satisfied: attrs>=22.2.0 in c:\\users\\goldferret\\pycharmprojects\\ndmn-jupyter-notebook\\venv\\lib\\site-packages (from jsonschema~=4.18->pystac[validation]>=1.10.0->pystac-client) (24.2.0)\n",
      "Requirement already satisfied: jsonschema-specifications>=2023.03.6 in c:\\users\\goldferret\\pycharmprojects\\ndmn-jupyter-notebook\\venv\\lib\\site-packages (from jsonschema~=4.18->pystac[validation]>=1.10.0->pystac-client) (2024.10.1)\n",
      "Requirement already satisfied: referencing>=0.28.4 in c:\\users\\goldferret\\pycharmprojects\\ndmn-jupyter-notebook\\venv\\lib\\site-packages (from jsonschema~=4.18->pystac[validation]>=1.10.0->pystac-client) (0.35.1)\n",
      "Requirement already satisfied: rpds-py>=0.7.1 in c:\\users\\goldferret\\pycharmprojects\\ndmn-jupyter-notebook\\venv\\lib\\site-packages (from jsonschema~=4.18->pystac[validation]>=1.10.0->pystac-client) (0.20.0)\n",
      "Requirement already satisfied: stackstac in c:\\users\\goldferret\\pycharmprojects\\ndmn-jupyter-notebook\\venv\\lib\\site-packages (0.5.1)\n",
      "Requirement already satisfied: dask>=2022.1.1 in c:\\users\\goldferret\\pycharmprojects\\ndmn-jupyter-notebook\\venv\\lib\\site-packages (from dask[array]>=2022.1.1->stackstac) (2024.2.1)\n",
      "Requirement already satisfied: numpy<3,>1.23 in c:\\users\\goldferret\\pycharmprojects\\ndmn-jupyter-notebook\\venv\\lib\\site-packages (from stackstac) (1.26.4)\n",
      "Requirement already satisfied: pandas<3,>=2 in c:\\users\\goldferret\\pycharmprojects\\ndmn-jupyter-notebook\\venv\\lib\\site-packages (from stackstac) (2.2.3)\n",
      "Requirement already satisfied: pyproj<4.0.0,>=3.0.0 in c:\\users\\goldferret\\pycharmprojects\\ndmn-jupyter-notebook\\venv\\lib\\site-packages (from stackstac) (3.7.0)\n",
      "Requirement already satisfied: rasterio<2.0.0,>=1.3.0 in c:\\users\\goldferret\\pycharmprojects\\ndmn-jupyter-notebook\\venv\\lib\\site-packages (from stackstac) (1.4.2)\n",
      "Requirement already satisfied: xarray>=0.18 in c:\\users\\goldferret\\pycharmprojects\\ndmn-jupyter-notebook\\venv\\lib\\site-packages (from stackstac) (2024.10.0)\n",
      "Requirement already satisfied: click>=8.1 in c:\\users\\goldferret\\pycharmprojects\\ndmn-jupyter-notebook\\venv\\lib\\site-packages (from dask>=2022.1.1->dask[array]>=2022.1.1->stackstac) (8.1.7)\n",
      "Requirement already satisfied: cloudpickle>=1.5.0 in c:\\users\\goldferret\\pycharmprojects\\ndmn-jupyter-notebook\\venv\\lib\\site-packages (from dask>=2022.1.1->dask[array]>=2022.1.1->stackstac) (3.1.0)\n",
      "Requirement already satisfied: fsspec>=2021.09.0 in c:\\users\\goldferret\\pycharmprojects\\ndmn-jupyter-notebook\\venv\\lib\\site-packages (from dask>=2022.1.1->dask[array]>=2022.1.1->stackstac) (2024.10.0)\n",
      "Requirement already satisfied: packaging>=20.0 in c:\\users\\goldferret\\pycharmprojects\\ndmn-jupyter-notebook\\venv\\lib\\site-packages (from dask>=2022.1.1->dask[array]>=2022.1.1->stackstac) (24.1)\n",
      "Requirement already satisfied: partd>=1.2.0 in c:\\users\\goldferret\\pycharmprojects\\ndmn-jupyter-notebook\\venv\\lib\\site-packages (from dask>=2022.1.1->dask[array]>=2022.1.1->stackstac) (1.4.2)\n",
      "Requirement already satisfied: pyyaml>=5.3.1 in c:\\users\\goldferret\\pycharmprojects\\ndmn-jupyter-notebook\\venv\\lib\\site-packages (from dask>=2022.1.1->dask[array]>=2022.1.1->stackstac) (6.0.2)\n",
      "Requirement already satisfied: toolz>=0.10.0 in c:\\users\\goldferret\\pycharmprojects\\ndmn-jupyter-notebook\\venv\\lib\\site-packages (from dask>=2022.1.1->dask[array]>=2022.1.1->stackstac) (1.0.0)\n",
      "Requirement already satisfied: importlib-metadata>=4.13.0 in c:\\users\\goldferret\\pycharmprojects\\ndmn-jupyter-notebook\\venv\\lib\\site-packages (from dask>=2022.1.1->dask[array]>=2022.1.1->stackstac) (8.5.0)\n",
      "Requirement already satisfied: python-dateutil>=2.8.2 in c:\\users\\goldferret\\pycharmprojects\\ndmn-jupyter-notebook\\venv\\lib\\site-packages (from pandas<3,>=2->stackstac) (2.9.0.post0)\n",
      "Requirement already satisfied: pytz>=2020.1 in c:\\users\\goldferret\\pycharmprojects\\ndmn-jupyter-notebook\\venv\\lib\\site-packages (from pandas<3,>=2->stackstac) (2024.2)\n",
      "Requirement already satisfied: tzdata>=2022.7 in c:\\users\\goldferret\\pycharmprojects\\ndmn-jupyter-notebook\\venv\\lib\\site-packages (from pandas<3,>=2->stackstac) (2024.2)\n",
      "Requirement already satisfied: certifi in c:\\users\\goldferret\\pycharmprojects\\ndmn-jupyter-notebook\\venv\\lib\\site-packages (from pyproj<4.0.0,>=3.0.0->stackstac) (2024.8.30)\n",
      "Requirement already satisfied: affine in c:\\users\\goldferret\\pycharmprojects\\ndmn-jupyter-notebook\\venv\\lib\\site-packages (from rasterio<2.0.0,>=1.3.0->stackstac) (2.4.0)\n",
      "Requirement already satisfied: attrs in c:\\users\\goldferret\\pycharmprojects\\ndmn-jupyter-notebook\\venv\\lib\\site-packages (from rasterio<2.0.0,>=1.3.0->stackstac) (24.2.0)\n",
      "Requirement already satisfied: cligj>=0.5 in c:\\users\\goldferret\\pycharmprojects\\ndmn-jupyter-notebook\\venv\\lib\\site-packages (from rasterio<2.0.0,>=1.3.0->stackstac) (0.7.2)\n",
      "Requirement already satisfied: click-plugins in c:\\users\\goldferret\\pycharmprojects\\ndmn-jupyter-notebook\\venv\\lib\\site-packages (from rasterio<2.0.0,>=1.3.0->stackstac) (1.1.1)\n",
      "Requirement already satisfied: pyparsing in c:\\users\\goldferret\\pycharmprojects\\ndmn-jupyter-notebook\\venv\\lib\\site-packages (from rasterio<2.0.0,>=1.3.0->stackstac) (3.1.4)\n",
      "Requirement already satisfied: colorama in c:\\users\\goldferret\\pycharmprojects\\ndmn-jupyter-notebook\\venv\\lib\\site-packages (from click>=8.1->dask>=2022.1.1->dask[array]>=2022.1.1->stackstac) (0.4.6)\n",
      "Requirement already satisfied: zipp>=3.20 in c:\\users\\goldferret\\pycharmprojects\\ndmn-jupyter-notebook\\venv\\lib\\site-packages (from importlib-metadata>=4.13.0->dask>=2022.1.1->dask[array]>=2022.1.1->stackstac) (3.20.2)\n",
      "Requirement already satisfied: locket in c:\\users\\goldferret\\pycharmprojects\\ndmn-jupyter-notebook\\venv\\lib\\site-packages (from partd>=1.2.0->dask>=2022.1.1->dask[array]>=2022.1.1->stackstac) (1.0.0)\n",
      "Requirement already satisfied: six>=1.5 in c:\\users\\goldferret\\pycharmprojects\\ndmn-jupyter-notebook\\venv\\lib\\site-packages (from python-dateutil>=2.8.2->pandas<3,>=2->stackstac) (1.16.0)\n",
      "Requirement already satisfied: numpy in c:\\users\\goldferret\\pycharmprojects\\ndmn-jupyter-notebook\\venv\\lib\\site-packages (1.26.4)\n",
      "Requirement already satisfied: py3dep==0.17.1 in c:\\users\\goldferret\\pycharmprojects\\ndmn-jupyter-notebook\\venv\\lib\\site-packages (0.17.1)\n",
      "Requirement already satisfied: async-retriever<0.18,>=0.17 in c:\\users\\goldferret\\pycharmprojects\\ndmn-jupyter-notebook\\venv\\lib\\site-packages (from py3dep==0.17.1) (0.17.1)\n",
      "Requirement already satisfied: click>=0.7 in c:\\users\\goldferret\\pycharmprojects\\ndmn-jupyter-notebook\\venv\\lib\\site-packages (from py3dep==0.17.1) (8.1.7)\n",
      "Requirement already satisfied: cytoolz in c:\\users\\goldferret\\pycharmprojects\\ndmn-jupyter-notebook\\venv\\lib\\site-packages (from py3dep==0.17.1) (1.0.0)\n",
      "Requirement already satisfied: geopandas>=0.10 in c:\\users\\goldferret\\pycharmprojects\\ndmn-jupyter-notebook\\venv\\lib\\site-packages (from py3dep==0.17.1) (0.14.4)\n",
      "Requirement already satisfied: numpy>=1.17 in c:\\users\\goldferret\\pycharmprojects\\ndmn-jupyter-notebook\\venv\\lib\\site-packages (from py3dep==0.17.1) (1.26.4)\n",
      "Requirement already satisfied: pygeoogc<0.18,>=0.17 in c:\\users\\goldferret\\pycharmprojects\\ndmn-jupyter-notebook\\venv\\lib\\site-packages (from py3dep==0.17.1) (0.17.1)\n",
      "Requirement already satisfied: pygeoutils<0.18,>=0.17 in c:\\users\\goldferret\\pycharmprojects\\ndmn-jupyter-notebook\\venv\\lib\\site-packages (from py3dep==0.17.1) (0.17.1)\n",
      "Requirement already satisfied: rasterio>=1.2 in c:\\users\\goldferret\\pycharmprojects\\ndmn-jupyter-notebook\\venv\\lib\\site-packages (from py3dep==0.17.1) (1.4.2)\n",
      "Requirement already satisfied: rioxarray>=0.11 in c:\\users\\goldferret\\pycharmprojects\\ndmn-jupyter-notebook\\venv\\lib\\site-packages (from py3dep==0.17.1) (0.17.0)\n",
      "Requirement already satisfied: scipy in c:\\users\\goldferret\\pycharmprojects\\ndmn-jupyter-notebook\\venv\\lib\\site-packages (from py3dep==0.17.1) (1.14.1)\n",
      "Requirement already satisfied: shapely>=2 in c:\\users\\goldferret\\pycharmprojects\\ndmn-jupyter-notebook\\venv\\lib\\site-packages (from py3dep==0.17.1) (2.0.6)\n",
      "Requirement already satisfied: xarray>=2023.1 in c:\\users\\goldferret\\pycharmprojects\\ndmn-jupyter-notebook\\venv\\lib\\site-packages (from py3dep==0.17.1) (2024.10.0)\n",
      "Requirement already satisfied: aiohttp-client-cache>=0.8.1 in c:\\users\\goldferret\\pycharmprojects\\ndmn-jupyter-notebook\\venv\\lib\\site-packages (from async-retriever<0.18,>=0.17->py3dep==0.17.1) (0.12.4)\n",
      "Requirement already satisfied: aiohttp>=3.8.3 in c:\\users\\goldferret\\pycharmprojects\\ndmn-jupyter-notebook\\venv\\lib\\site-packages (from aiohttp[speedups]>=3.8.3->async-retriever<0.18,>=0.17->py3dep==0.17.1) (3.10.10)\n",
      "Requirement already satisfied: aiosqlite in c:\\users\\goldferret\\pycharmprojects\\ndmn-jupyter-notebook\\venv\\lib\\site-packages (from async-retriever<0.18,>=0.17->py3dep==0.17.1) (0.20.0)\n",
      "Requirement already satisfied: ujson in c:\\users\\goldferret\\pycharmprojects\\ndmn-jupyter-notebook\\venv\\lib\\site-packages (from async-retriever<0.18,>=0.17->py3dep==0.17.1) (5.10.0)\n",
      "Requirement already satisfied: colorama in c:\\users\\goldferret\\pycharmprojects\\ndmn-jupyter-notebook\\venv\\lib\\site-packages (from click>=0.7->py3dep==0.17.1) (0.4.6)\n",
      "Requirement already satisfied: fiona>=1.8.21 in c:\\users\\goldferret\\pycharmprojects\\ndmn-jupyter-notebook\\venv\\lib\\site-packages (from geopandas>=0.10->py3dep==0.17.1) (1.10.1)\n",
      "Requirement already satisfied: packaging in c:\\users\\goldferret\\pycharmprojects\\ndmn-jupyter-notebook\\venv\\lib\\site-packages (from geopandas>=0.10->py3dep==0.17.1) (24.1)\n",
      "Requirement already satisfied: pandas>=1.4.0 in c:\\users\\goldferret\\pycharmprojects\\ndmn-jupyter-notebook\\venv\\lib\\site-packages (from geopandas>=0.10->py3dep==0.17.1) (2.2.3)\n",
      "Requirement already satisfied: pyproj>=3.3.0 in c:\\users\\goldferret\\pycharmprojects\\ndmn-jupyter-notebook\\venv\\lib\\site-packages (from geopandas>=0.10->py3dep==0.17.1) (3.7.0)\n",
      "Requirement already satisfied: defusedxml in c:\\users\\goldferret\\pycharmprojects\\ndmn-jupyter-notebook\\venv\\lib\\site-packages (from pygeoogc<0.18,>=0.17->py3dep==0.17.1) (0.7.1)\n",
      "Requirement already satisfied: joblib in c:\\users\\goldferret\\pycharmprojects\\ndmn-jupyter-notebook\\venv\\lib\\site-packages (from pygeoogc<0.18,>=0.17->py3dep==0.17.1) (1.4.2)\n",
      "Requirement already satisfied: multidict in c:\\users\\goldferret\\pycharmprojects\\ndmn-jupyter-notebook\\venv\\lib\\site-packages (from pygeoogc<0.18,>=0.17->py3dep==0.17.1) (6.1.0)\n",
      "Requirement already satisfied: owslib>=0.27.2 in c:\\users\\goldferret\\pycharmprojects\\ndmn-jupyter-notebook\\venv\\lib\\site-packages (from pygeoogc<0.18,>=0.17->py3dep==0.17.1) (0.32.0)\n",
      "Requirement already satisfied: requests in c:\\users\\goldferret\\pycharmprojects\\ndmn-jupyter-notebook\\venv\\lib\\site-packages (from pygeoogc<0.18,>=0.17->py3dep==0.17.1) (2.32.3)\n",
      "Requirement already satisfied: requests-cache>=0.9.6 in c:\\users\\goldferret\\pycharmprojects\\ndmn-jupyter-notebook\\venv\\lib\\site-packages (from pygeoogc<0.18,>=0.17->py3dep==0.17.1) (1.2.1)\n",
      "Requirement already satisfied: typing-extensions in c:\\users\\goldferret\\pycharmprojects\\ndmn-jupyter-notebook\\venv\\lib\\site-packages (from pygeoogc<0.18,>=0.17->py3dep==0.17.1) (4.12.2)\n",
      "Requirement already satisfied: url-normalize>=1.4 in c:\\users\\goldferret\\pycharmprojects\\ndmn-jupyter-notebook\\venv\\lib\\site-packages (from pygeoogc<0.18,>=0.17->py3dep==0.17.1) (1.4.3)\n",
      "Requirement already satisfied: urllib3 in c:\\users\\goldferret\\pycharmprojects\\ndmn-jupyter-notebook\\venv\\lib\\site-packages (from pygeoogc<0.18,>=0.17->py3dep==0.17.1) (2.2.3)\n",
      "Requirement already satisfied: yarl in c:\\users\\goldferret\\pycharmprojects\\ndmn-jupyter-notebook\\venv\\lib\\site-packages (from pygeoogc<0.18,>=0.17->py3dep==0.17.1) (1.17.1)\n",
      "Requirement already satisfied: netcdf4 in c:\\users\\goldferret\\pycharmprojects\\ndmn-jupyter-notebook\\venv\\lib\\site-packages (from pygeoutils<0.18,>=0.17->py3dep==0.17.1) (1.7.2)\n",
      "Requirement already satisfied: affine in c:\\users\\goldferret\\pycharmprojects\\ndmn-jupyter-notebook\\venv\\lib\\site-packages (from rasterio>=1.2->py3dep==0.17.1) (2.4.0)\n",
      "Requirement already satisfied: attrs in c:\\users\\goldferret\\pycharmprojects\\ndmn-jupyter-notebook\\venv\\lib\\site-packages (from rasterio>=1.2->py3dep==0.17.1) (24.2.0)\n",
      "Requirement already satisfied: certifi in c:\\users\\goldferret\\pycharmprojects\\ndmn-jupyter-notebook\\venv\\lib\\site-packages (from rasterio>=1.2->py3dep==0.17.1) (2024.8.30)\n",
      "Requirement already satisfied: cligj>=0.5 in c:\\users\\goldferret\\pycharmprojects\\ndmn-jupyter-notebook\\venv\\lib\\site-packages (from rasterio>=1.2->py3dep==0.17.1) (0.7.2)\n",
      "Requirement already satisfied: click-plugins in c:\\users\\goldferret\\pycharmprojects\\ndmn-jupyter-notebook\\venv\\lib\\site-packages (from rasterio>=1.2->py3dep==0.17.1) (1.1.1)\n",
      "Requirement already satisfied: pyparsing in c:\\users\\goldferret\\pycharmprojects\\ndmn-jupyter-notebook\\venv\\lib\\site-packages (from rasterio>=1.2->py3dep==0.17.1) (3.1.4)\n",
      "Requirement already satisfied: toolz>=0.8.0 in c:\\users\\goldferret\\pycharmprojects\\ndmn-jupyter-notebook\\venv\\lib\\site-packages (from cytoolz->py3dep==0.17.1) (1.0.0)\n",
      "Requirement already satisfied: aiohappyeyeballs>=2.3.0 in c:\\users\\goldferret\\pycharmprojects\\ndmn-jupyter-notebook\\venv\\lib\\site-packages (from aiohttp>=3.8.3->aiohttp[speedups]>=3.8.3->async-retriever<0.18,>=0.17->py3dep==0.17.1) (2.4.3)\n",
      "Requirement already satisfied: aiosignal>=1.1.2 in c:\\users\\goldferret\\pycharmprojects\\ndmn-jupyter-notebook\\venv\\lib\\site-packages (from aiohttp>=3.8.3->aiohttp[speedups]>=3.8.3->async-retriever<0.18,>=0.17->py3dep==0.17.1) (1.3.1)\n",
      "Requirement already satisfied: frozenlist>=1.1.1 in c:\\users\\goldferret\\pycharmprojects\\ndmn-jupyter-notebook\\venv\\lib\\site-packages (from aiohttp>=3.8.3->aiohttp[speedups]>=3.8.3->async-retriever<0.18,>=0.17->py3dep==0.17.1) (1.5.0)\n",
      "Requirement already satisfied: itsdangerous>=2.0 in c:\\users\\goldferret\\pycharmprojects\\ndmn-jupyter-notebook\\venv\\lib\\site-packages (from aiohttp-client-cache>=0.8.1->async-retriever<0.18,>=0.17->py3dep==0.17.1) (2.2.0)\n",
      "Requirement already satisfied: Brotli in c:\\users\\goldferret\\pycharmprojects\\ndmn-jupyter-notebook\\venv\\lib\\site-packages (from aiohttp[speedups]>=3.8.3->async-retriever<0.18,>=0.17->py3dep==0.17.1) (1.1.0)\n",
      "Requirement already satisfied: lxml in c:\\users\\goldferret\\pycharmprojects\\ndmn-jupyter-notebook\\venv\\lib\\site-packages (from owslib>=0.27.2->pygeoogc<0.18,>=0.17->py3dep==0.17.1) (5.3.0)\n",
      "Requirement already satisfied: python-dateutil in c:\\users\\goldferret\\pycharmprojects\\ndmn-jupyter-notebook\\venv\\lib\\site-packages (from owslib>=0.27.2->pygeoogc<0.18,>=0.17->py3dep==0.17.1) (2.9.0.post0)\n",
      "Requirement already satisfied: pyyaml in c:\\users\\goldferret\\pycharmprojects\\ndmn-jupyter-notebook\\venv\\lib\\site-packages (from owslib>=0.27.2->pygeoogc<0.18,>=0.17->py3dep==0.17.1) (6.0.2)\n",
      "Requirement already satisfied: pytz>=2020.1 in c:\\users\\goldferret\\pycharmprojects\\ndmn-jupyter-notebook\\venv\\lib\\site-packages (from pandas>=1.4.0->geopandas>=0.10->py3dep==0.17.1) (2024.2)\n",
      "Requirement already satisfied: tzdata>=2022.7 in c:\\users\\goldferret\\pycharmprojects\\ndmn-jupyter-notebook\\venv\\lib\\site-packages (from pandas>=1.4.0->geopandas>=0.10->py3dep==0.17.1) (2024.2)\n",
      "Requirement already satisfied: cattrs>=22.2 in c:\\users\\goldferret\\pycharmprojects\\ndmn-jupyter-notebook\\venv\\lib\\site-packages (from requests-cache>=0.9.6->pygeoogc<0.18,>=0.17->py3dep==0.17.1) (24.1.2)\n",
      "Requirement already satisfied: platformdirs>=2.5 in c:\\users\\goldferret\\pycharmprojects\\ndmn-jupyter-notebook\\venv\\lib\\site-packages (from requests-cache>=0.9.6->pygeoogc<0.18,>=0.17->py3dep==0.17.1) (4.3.6)\n",
      "Requirement already satisfied: charset-normalizer<4,>=2 in c:\\users\\goldferret\\pycharmprojects\\ndmn-jupyter-notebook\\venv\\lib\\site-packages (from requests->pygeoogc<0.18,>=0.17->py3dep==0.17.1) (3.4.0)\n",
      "Requirement already satisfied: idna<4,>=2.5 in c:\\users\\goldferret\\pycharmprojects\\ndmn-jupyter-notebook\\venv\\lib\\site-packages (from requests->pygeoogc<0.18,>=0.17->py3dep==0.17.1) (3.10)\n",
      "Requirement already satisfied: six in c:\\users\\goldferret\\pycharmprojects\\ndmn-jupyter-notebook\\venv\\lib\\site-packages (from url-normalize>=1.4->pygeoogc<0.18,>=0.17->py3dep==0.17.1) (1.16.0)\n",
      "Requirement already satisfied: propcache>=0.2.0 in c:\\users\\goldferret\\pycharmprojects\\ndmn-jupyter-notebook\\venv\\lib\\site-packages (from yarl->pygeoogc<0.18,>=0.17->py3dep==0.17.1) (0.2.0)\n",
      "Requirement already satisfied: cftime in c:\\users\\goldferret\\pycharmprojects\\ndmn-jupyter-notebook\\venv\\lib\\site-packages (from netcdf4->pygeoutils<0.18,>=0.17->py3dep==0.17.1) (1.6.4.post1)\n"
     ]
    }
   ],
   "execution_count": 2
  },
  {
   "metadata": {
    "ExecuteTime": {
     "end_time": "2024-11-01T17:38:35.257820Z",
     "start_time": "2024-11-01T17:38:31.788790Z"
    }
   },
   "cell_type": "code",
   "source": [
    "#get packages\n",
    "import osmnx as ox, planetary_computer, pystac_client, stackstac\n",
    "import geopandas as gpd, pandas as pd"
   ],
   "id": "45ad1fbb869cba65",
   "outputs": [],
   "execution_count": 3
  },
  {
   "metadata": {
    "ExecuteTime": {
     "end_time": "2024-11-01T17:38:45.707018Z",
     "start_time": "2024-11-01T17:38:37.000287Z"
    }
   },
   "cell_type": "code",
   "source": [
    "gdf=gpd.read_file('Classification_Plots.zip')\n",
    "na_df = gdf[gdf['Uso'].isnull()].index\n",
    "sin_df = gdf[gdf['Uso'] == 'Sin informacion'].index\n",
    "\n",
    "display(gdf['Uso'].value_counts(dropna=False))\n",
    "display(gdf['Uso'].value_counts(dropna=False).sum())\n",
    "\n",
    "print(\"\\nRows with NA values:\", na_df.tolist())\n",
    "print(\"\\nRows with Sin informacion values:\", sin_df.tolist())"
   ],
   "id": "4b9b89fcace776d1",
   "outputs": [
    {
     "data": {
      "text/plain": [
       "Uso\n",
       "Bosque                 58708\n",
       "Pastos                 23291\n",
       "Agricultura             8398\n",
       "Otras clases            5449\n",
       "Humedal                 3926\n",
       "Plantacion forestal      902\n",
       "Sin informacion          270\n",
       "None                     216\n",
       "Name: count, dtype: int64"
      ]
     },
     "metadata": {},
     "output_type": "display_data"
    },
    {
     "data": {
      "text/plain": [
       "101160"
      ]
     },
     "metadata": {},
     "output_type": "display_data"
    },
    {
     "name": "stdout",
     "output_type": "stream",
     "text": [
      "\n",
      "Rows with NA values: [14112, 14113, 14114, 14115, 14116, 14117, 14118, 14119, 14120, 35748, 35749, 35750, 35751, 35752, 35753, 35754, 35755, 35756, 36675, 36676, 36677, 36678, 36679, 36680, 36681, 36682, 36683, 39384, 39385, 39386, 39387, 39388, 39389, 39390, 39391, 39392, 71109, 71110, 71111, 71112, 71113, 71114, 71115, 71116, 71117, 73746, 73747, 73748, 73749, 73750, 73751, 73752, 73753, 73754, 74187, 74188, 74189, 74190, 74191, 74192, 74193, 74194, 74195, 74304, 74305, 74306, 74307, 74308, 74309, 74310, 74311, 74312, 74493, 74494, 74495, 74496, 74497, 74498, 74499, 74500, 74501, 74610, 74611, 74612, 74613, 74614, 74615, 74616, 74617, 74618, 74745, 74746, 74747, 74748, 74749, 74750, 74751, 74752, 74753, 75168, 75169, 75170, 75171, 75172, 75173, 75174, 75175, 75176, 77031, 77032, 77033, 77034, 77035, 77036, 77037, 77038, 77039, 80910, 80911, 80912, 80913, 80914, 80915, 80916, 80917, 80918, 88398, 88399, 88400, 88401, 88402, 88403, 88404, 88405, 88406, 89073, 89074, 89075, 89076, 89077, 89078, 89079, 89080, 89081, 89316, 89317, 89318, 89319, 89320, 89321, 89322, 89323, 89324, 95445, 95446, 95447, 95448, 95449, 95450, 95451, 95452, 95453, 96183, 96184, 96185, 96186, 96187, 96188, 96189, 96190, 96191, 96597, 96598, 96599, 96600, 96601, 96602, 96603, 96604, 96605, 97398, 97399, 97400, 97401, 97402, 97403, 97404, 97405, 97406, 97443, 97444, 97445, 97446, 97447, 97448, 97449, 97450, 97451, 99738, 99739, 99740, 99741, 99742, 99743, 99744, 99745, 99746, 100197, 100198, 100199, 100200, 100201, 100202, 100203, 100204, 100205]\n",
      "\n",
      "Rows with Sin informacion values: [295, 333, 421, 5139, 5140, 5217, 5279, 6921, 6925, 8937, 8940, 8943, 9081, 9513, 9518, 9519, 10253, 10436, 12474, 12526, 12638, 12639, 12640, 12641, 12642, 12643, 12644, 12938, 12941, 12942, 12945, 13356, 13357, 13358, 13359, 13360, 13361, 13362, 13363, 13364, 13401, 13402, 13403, 13404, 13405, 13406, 13407, 13408, 13409, 15418, 20106, 20107, 20108, 20109, 20110, 20111, 20112, 20113, 20114, 20264, 20267, 21561, 21672, 21673, 21807, 21808, 21809, 21810, 21811, 21812, 21813, 21814, 21815, 22070, 22071, 22072, 22073, 22074, 22075, 22077, 22083, 22084, 22113, 22121, 22126, 22137, 22141, 22142, 22144, 22145, 22147, 22148, 22149, 22150, 22151, 22152, 22153, 22154, 22155, 22156, 22157, 22158, 22159, 22160, 22161, 22162, 22166, 22167, 22169, 22170, 22173, 22174, 22175, 22176, 22204, 22208, 22211, 22529, 22532, 23175, 23176, 23178, 23220, 23222, 23223, 23847, 23854, 23855, 23915, 23916, 23917, 23934, 23937, 23943, 23949, 24093, 24096, 24099, 24418, 24423, 24424, 24456, 24473, 24474, 24475, 24476, 24478, 24479, 24508, 24510, 24511, 24512, 24564, 24567, 24588, 24593, 25149, 25151, 25180, 25221, 25222, 25226, 25312, 25383, 25624, 25627, 26484, 26550, 26552, 26553, 26554, 26555, 26556, 26557, 26717, 26719, 27003, 27004, 29358, 29359, 29538, 29539, 29540, 29541, 29542, 29543, 29544, 29545, 29546, 36909, 36910, 36916, 36917, 37944, 37945, 37946, 37947, 37948, 37949, 37950, 37951, 37952, 39836, 46617, 54186, 54564, 55292, 55478, 55689, 56723, 62981, 75429, 75430, 75431, 75432, 75433, 75434, 75435, 75436, 77562, 82463, 82466, 84178, 85087, 88038, 88039, 88040, 88041, 88042, 88043, 88044, 88045, 88046, 90226, 90915, 91027, 92963, 94885, 95243, 97187, 97190, 99666, 99667, 99668, 99669, 99670, 99720, 99721, 99722, 99723, 99724, 99725, 99726, 99727, 99728, 99765, 99766, 99767, 99768, 99769, 99770, 99771, 99772, 99773, 100141, 100341, 100346, 100349, 100362, 100486]\n"
     ]
    }
   ],
   "execution_count": 4
  },
  {
   "metadata": {
    "ExecuteTime": {
     "end_time": "2024-11-01T17:39:12.876629Z",
     "start_time": "2024-11-01T17:39:12.798986Z"
    }
   },
   "cell_type": "code",
   "source": [
    "display(gdf['Cobertura'].value_counts(dropna=False))\n",
    "display(gdf['Cobertura'].value_counts(dropna=False).sum())\n",
    "\n",
    "na_df2 = gdf[gdf['Cobertura'].isnull()].index\n",
    "sin_df2 = gdf[gdf['Cobertura'] == 'Sin informacion'].index\n",
    "\n",
    "# These are to get information on the rows with NA and 'Sin informacion' values (uncomment to see)\n",
    "#print(\"\\nRows with NA values:\", na_df2.tolist())\n",
    "#print(\"\\nRows with Sin informacion values:\", sin_df2.tolist())\n",
    "\n",
    "# Creates a subset that only contains Cobertura that is 'Sin informacion'\n",
    "subset_df = gdf[gdf['Cobertura'].isin(['Sin informacion'])]\n",
    "\n",
    "# Prints the unique values of the 'Uso' column of the subset, along with how many times said unique value appears \n",
    "#display(subset_df[subset_df['Uso'] == 'Agricultura'])\n",
    "display(gdf['Cambios15_'].value_counts(dropna=False))\n",
    "display(gdf['Cambios15_'].value_counts(dropna=False).sum())"
   ],
   "id": "e736c05c1e1eda77",
   "outputs": [
    {
     "data": {
      "text/plain": [
       "Cobertura\n",
       "Vegetacion         94158\n",
       "Sin vegetacion      5558\n",
       "Agua                 887\n",
       "None                 216\n",
       "Sin informacion      193\n",
       "Nubes y sombras      148\n",
       "Name: count, dtype: int64"
      ]
     },
     "metadata": {},
     "output_type": "display_data"
    },
    {
     "data": {
      "text/plain": [
       "101160"
      ]
     },
     "metadata": {},
     "output_type": "display_data"
    },
    {
     "data": {
      "text/plain": [
       "Cambios15_\n",
       "No                 90237\n",
       "No se determina     7475\n",
       "Si                  3232\n",
       "None                 216\n",
       "Name: count, dtype: int64"
      ]
     },
     "metadata": {},
     "output_type": "display_data"
    },
    {
     "data": {
      "text/plain": [
       "101160"
      ]
     },
     "metadata": {},
     "output_type": "display_data"
    }
   ],
   "execution_count": 6
  },
  {
   "metadata": {
    "ExecuteTime": {
     "end_time": "2024-11-01T16:08:50.799689Z",
     "start_time": "2024-11-01T16:08:50.763585Z"
    }
   },
   "cell_type": "code",
   "source": [
    "display(gdf['Vegetacion'].value_counts(dropna=False))\n",
    "display(gdf['Vegetacion'].value_counts(dropna=False).sum())\n",
    "print(\"\\n\\n\")\n",
    "\n",
    "# Shows rows which have 'None' values in the 'Vegetacion' column (commented out for visual clarity, since there are 7002 rows)\n",
    "#na_df3 = gdf[gdf['Vegetacion'].isnull()].index\n",
    "#print(\"\\nRows with NA values:\", na_df3.tolist())\n",
    "\n",
    "# Shows unique values of 'Uso' and 'Cobertura' columns when 'Vegetacion' column contains 'None'\n",
    "subset_df2 = gdf[gdf['Vegetacion'].isna()]\n",
    "#display(subset_df2.head())\n",
    "#display(subset_df2['Uso'].value_counts(dropna=False))\n",
    "#display(subset_df2['Uso'].value_counts(dropna=False).sum())\n",
    "#display(subset_df2['Cobertura'].value_counts(dropna=False))\n",
    "#display(subset_df2['Cobertura'].value_counts(dropna=False).sum())\n",
    "\n",
    "# Used because I was curious of what the values of this column would be, as there ate 5162 'Otras clases' values in the 'Uso' column\n",
    "#display(subset_df2['Otra_clase'].value_counts(dropna=False))\n",
    "#display(subset_df2['Otra_clase'].value_counts(dropna=False).sum())"
   ],
   "id": "7396d110fbd90dc6",
   "outputs": [
    {
     "data": {
      "text/plain": [
       "<IPython.core.display.HTML object>"
      ],
      "text/html": [
       "\n",
       "            <style>\n",
       "                .geemap-dark {\n",
       "                    --jp-widgets-color: white;\n",
       "                    --jp-widgets-label-color: white;\n",
       "                    --jp-ui-font-color1: white;\n",
       "                    --jp-layout-color2: #454545;\n",
       "                    background-color: #383838;\n",
       "                }\n",
       "\n",
       "                .geemap-dark .jupyter-button {\n",
       "                    --jp-layout-color3: #383838;\n",
       "                }\n",
       "\n",
       "                .geemap-colab {\n",
       "                    background-color: var(--colab-primary-surface-color, white);\n",
       "                }\n",
       "\n",
       "                .geemap-colab .jupyter-button {\n",
       "                    --jp-layout-color3: var(--colab-primary-surface-color, white);\n",
       "                }\n",
       "            </style>\n",
       "            "
      ]
     },
     "metadata": {},
     "output_type": "display_data"
    },
    {
     "data": {
      "text/plain": [
       "Vegetacion\n",
       "Arboles            61011\n",
       "Herbaceas          24465\n",
       "None                7002\n",
       "Otra vegetacion     3610\n",
       "Arbustos            2987\n",
       "Palmas              2066\n",
       "Plastico              12\n",
       "Saran                  7\n",
       "Name: count, dtype: int64"
      ]
     },
     "metadata": {},
     "output_type": "display_data"
    },
    {
     "data": {
      "text/plain": [
       "np.int64(101160)"
      ]
     },
     "metadata": {},
     "output_type": "display_data"
    },
    {
     "name": "stdout",
     "output_type": "stream",
     "text": [
      "\n",
      "\n",
      "\n"
     ]
    }
   ],
   "execution_count": 5
  },
  {
   "metadata": {
    "ExecuteTime": {
     "end_time": "2024-11-01T16:09:28.847053Z",
     "start_time": "2024-11-01T16:09:28.487342Z"
    }
   },
   "cell_type": "code",
   "source": [
    "#search for null values\n",
    "na_rows=gdf[gdf.isna().any(axis=1)]\n",
    "print('number of rows with na =',na_rows.shape[0])\n",
    "\n",
    "#search for empty values\n",
    "emp_rows=gdf[(gdf=='').any(axis=1)]\n",
    "print('\\nnumber of rows that have empty values =',emp_rows.shape[0])\n",
    "\n",
    "#what about zero values?\n",
    "zero_rows=gdf[(gdf==0).any(axis=1)]\n",
    "print('\\nnumber of rows that have zero values =',emp_rows.shape[0])\n",
    "\n",
    "# It does not look like we have any missing data. If we did, how could we remove records or populate missing values?\n",
    "\n",
    "# what about using the feature average?\n",
    "\n",
    "# what about imputation?"
   ],
   "id": "eb61956caf098659",
   "outputs": [
    {
     "data": {
      "text/plain": [
       "<IPython.core.display.HTML object>"
      ],
      "text/html": [
       "\n",
       "            <style>\n",
       "                .geemap-dark {\n",
       "                    --jp-widgets-color: white;\n",
       "                    --jp-widgets-label-color: white;\n",
       "                    --jp-ui-font-color1: white;\n",
       "                    --jp-layout-color2: #454545;\n",
       "                    background-color: #383838;\n",
       "                }\n",
       "\n",
       "                .geemap-dark .jupyter-button {\n",
       "                    --jp-layout-color3: #383838;\n",
       "                }\n",
       "\n",
       "                .geemap-colab {\n",
       "                    background-color: var(--colab-primary-surface-color, white);\n",
       "                }\n",
       "\n",
       "                .geemap-colab .jupyter-button {\n",
       "                    --jp-layout-color3: var(--colab-primary-surface-color, white);\n",
       "                }\n",
       "            </style>\n",
       "            "
      ]
     },
     "metadata": {},
     "output_type": "display_data"
    },
    {
     "name": "stdout",
     "output_type": "stream",
     "text": [
      "number of rows with na = 101160\n",
      "\n",
      "number of rows that have empty values = 0\n",
      "\n",
      "number of rows that have zero values = 0\n"
     ]
    }
   ],
   "execution_count": 7
  },
  {
   "metadata": {},
   "cell_type": "code",
   "outputs": [],
   "execution_count": null,
   "source": [
    "#look at summary statistics for continuous data\n",
    "print('Summary stats for continuous variables...')\n",
    "display(gdf.describe())\n",
    "\n",
    "# use quantiles to look at extreme values (continuous)\n",
    "extreme=atr.quantile([0.01,0.99])\n",
    "ex=(atr<extreme.min()).sum(axis=1) + (atr>extreme.max()).sum(axis=1) #sum the number of extreme values in each row\n",
    "gdf['extreme'] = ex #add that attribute to gdf\n",
    "\n",
    "# calculate correlation\n",
    "print('','Correlation Matrix')\n",
    "display(atr.corr())\n",
    "\n",
    "# map extreme values\n",
    "print('Map of extreme values (blue to red increased number of extreme values)')\n",
    "display(gdf[ex>0].explore(column='extreme', cmap= 'RdBu_r'))\n",
    "\n",
    "#create a scatter plot matrix of values that highlight the extreme values\n",
    "print('Scatter Plot Matrix (blue to red increased number of extreme values)')\n",
    "display(pd.plotting.scatter_matrix(atr,figsize=(15,15),c=ex,cmap='RdBu_r'))\n",
    "\n",
    "\n",
    "# what relationships do you see?\n",
    "\n",
    "# does there appear to be any observations we should exclude from our analysis?\n",
    "\n",
    "# How can we determine which observations are influential or have leverage?\n",
    "\n",
    "# What if we extracted larger areas than just the cell?\n",
    "\n",
    "# How could we incorporate texture?\n",
    "\n",
    "# what if we created surface derivatives of elevation?"
   ],
   "id": "d6863b2d8d37923b"
  }
 ],
 "metadata": {
  "kernelspec": {
   "display_name": "Python 3",
   "language": "python",
   "name": "python3"
  },
  "language_info": {
   "codemirror_mode": {
    "name": "ipython",
    "version": 2
   },
   "file_extension": ".py",
   "mimetype": "text/x-python",
   "name": "python",
   "nbconvert_exporter": "python",
   "pygments_lexer": "ipython2",
   "version": "2.7.6"
  }
 },
 "nbformat": 4,
 "nbformat_minor": 5
}
