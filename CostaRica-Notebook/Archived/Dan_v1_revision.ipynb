{
 "cells": [
  {
   "metadata": {},
   "cell_type": "markdown",
   "source": [
    "# Costa Rica Pipeline Notebook\n",
    "## {Insert info on notebook purpose}\n",
    "\n",
    "### Project objective:\n",
    "- {TODO}\n",
    "\n",
    "#### Notebook sections:\n",
    "1. Setup\n",
    "2. English Translations\n",
    "3. Clean Observational data\n",
    "4. Extract Medoid and NEM data (provide file of data in case they don't want to run it for hours)\n",
    "5. Create and Extract Predictor surfaces (pred2)\n",
    "6. Clean Remote Sensing data\n",
    "7. Preprocessing\n",
    "8. Build a predictive model\n",
    "\n",
    "#### Data sources\n",
    "- {TODO}"
   ],
   "id": "6129cb775fb263c1"
  },
  {
   "metadata": {},
   "cell_type": "markdown",
   "source": [
    "### Section 1: Setup\n",
    "#### Installing software"
   ],
   "id": "93f55ba3397ddaee"
  },
  {
   "metadata": {
    "scrolled": true,
    "ExecuteTime": {
     "end_time": "2024-11-18T16:59:55.793873Z",
     "start_time": "2024-11-18T16:59:52.504006Z"
    }
   },
   "cell_type": "code",
   "source": "pip install pandas numpy geopandas seaborn scikit-learn tensor folium folium matplotlib mapclassify earthengine-api geemap",
   "id": "2c92524a-c64c-4c4b-b233-daaddf0be7f8",
   "outputs": [
    {
     "data": {
      "text/plain": [
       "<IPython.core.display.HTML object>"
      ],
      "text/html": [
       "\n",
       "            <style>\n",
       "                .geemap-dark {\n",
       "                    --jp-widgets-color: white;\n",
       "                    --jp-widgets-label-color: white;\n",
       "                    --jp-ui-font-color1: white;\n",
       "                    --jp-layout-color2: #454545;\n",
       "                    background-color: #383838;\n",
       "                }\n",
       "\n",
       "                .geemap-dark .jupyter-button {\n",
       "                    --jp-layout-color3: #383838;\n",
       "                }\n",
       "\n",
       "                .geemap-colab {\n",
       "                    background-color: var(--colab-primary-surface-color, white);\n",
       "                }\n",
       "\n",
       "                .geemap-colab .jupyter-button {\n",
       "                    --jp-layout-color3: var(--colab-primary-surface-color, white);\n",
       "                }\n",
       "            </style>\n",
       "            "
      ]
     },
     "metadata": {},
     "output_type": "display_data"
    },
    {
     "name": "stdout",
     "output_type": "stream",
     "text": [
      "Requirement already satisfied: pandas in c:\\users\\goldferret\\pycharmprojects\\ndmn-jupyter-notebook\\venv\\lib\\site-packages (2.2.3)Note: you may need to restart the kernel to use updated packages.\n",
      "\n",
      "Requirement already satisfied: numpy in c:\\users\\goldferret\\pycharmprojects\\ndmn-jupyter-notebook\\venv\\lib\\site-packages (1.26.4)\n",
      "Requirement already satisfied: geopandas in c:\\users\\goldferret\\pycharmprojects\\ndmn-jupyter-notebook\\venv\\lib\\site-packages (0.14.4)\n",
      "Requirement already satisfied: seaborn in c:\\users\\goldferret\\pycharmprojects\\ndmn-jupyter-notebook\\venv\\lib\\site-packages (0.13.2)\n",
      "Requirement already satisfied: scikit-learn in c:\\users\\goldferret\\pycharmprojects\\ndmn-jupyter-notebook\\venv\\lib\\site-packages (1.5.2)\n",
      "Requirement already satisfied: tensor in c:\\users\\goldferret\\pycharmprojects\\ndmn-jupyter-notebook\\venv\\lib\\site-packages (0.3.6)\n",
      "Requirement already satisfied: folium in c:\\users\\goldferret\\pycharmprojects\\ndmn-jupyter-notebook\\venv\\lib\\site-packages (0.17.0)\n",
      "Requirement already satisfied: matplotlib in c:\\users\\goldferret\\pycharmprojects\\ndmn-jupyter-notebook\\venv\\lib\\site-packages (3.9.2)\n",
      "Requirement already satisfied: mapclassify in c:\\users\\goldferret\\pycharmprojects\\ndmn-jupyter-notebook\\venv\\lib\\site-packages (2.8.1)\n",
      "Requirement already satisfied: earthengine-api in c:\\users\\goldferret\\pycharmprojects\\ndmn-jupyter-notebook\\venv\\lib\\site-packages (1.1.3)\n",
      "Requirement already satisfied: geemap in c:\\users\\goldferret\\pycharmprojects\\ndmn-jupyter-notebook\\venv\\lib\\site-packages (0.34.5)\n",
      "Requirement already satisfied: python-dateutil>=2.8.2 in c:\\users\\goldferret\\pycharmprojects\\ndmn-jupyter-notebook\\venv\\lib\\site-packages (from pandas) (2.9.0.post0)\n",
      "Requirement already satisfied: pytz>=2020.1 in c:\\users\\goldferret\\pycharmprojects\\ndmn-jupyter-notebook\\venv\\lib\\site-packages (from pandas) (2024.2)\n",
      "Requirement already satisfied: tzdata>=2022.7 in c:\\users\\goldferret\\pycharmprojects\\ndmn-jupyter-notebook\\venv\\lib\\site-packages (from pandas) (2024.2)\n",
      "Requirement already satisfied: fiona>=1.8.21 in c:\\users\\goldferret\\pycharmprojects\\ndmn-jupyter-notebook\\venv\\lib\\site-packages (from geopandas) (1.10.1)\n",
      "Requirement already satisfied: packaging in c:\\users\\goldferret\\pycharmprojects\\ndmn-jupyter-notebook\\venv\\lib\\site-packages (from geopandas) (24.1)\n",
      "Requirement already satisfied: pyproj>=3.3.0 in c:\\users\\goldferret\\pycharmprojects\\ndmn-jupyter-notebook\\venv\\lib\\site-packages (from geopandas) (3.7.0)\n",
      "Requirement already satisfied: shapely>=1.8.0 in c:\\users\\goldferret\\pycharmprojects\\ndmn-jupyter-notebook\\venv\\lib\\site-packages (from geopandas) (2.0.6)\n",
      "Requirement already satisfied: scipy>=1.6.0 in c:\\users\\goldferret\\pycharmprojects\\ndmn-jupyter-notebook\\venv\\lib\\site-packages (from scikit-learn) (1.14.1)\n",
      "Requirement already satisfied: joblib>=1.2.0 in c:\\users\\goldferret\\pycharmprojects\\ndmn-jupyter-notebook\\venv\\lib\\site-packages (from scikit-learn) (1.4.2)\n",
      "Requirement already satisfied: threadpoolctl>=3.1.0 in c:\\users\\goldferret\\pycharmprojects\\ndmn-jupyter-notebook\\venv\\lib\\site-packages (from scikit-learn) (3.5.0)\n",
      "Requirement already satisfied: Twisted in c:\\users\\goldferret\\pycharmprojects\\ndmn-jupyter-notebook\\venv\\lib\\site-packages (from tensor) (24.10.0)\n",
      "Requirement already satisfied: PyYaml in c:\\users\\goldferret\\pycharmprojects\\ndmn-jupyter-notebook\\venv\\lib\\site-packages (from tensor) (6.0.2)\n",
      "Requirement already satisfied: protobuf in c:\\users\\goldferret\\pycharmprojects\\ndmn-jupyter-notebook\\venv\\lib\\site-packages (from tensor) (5.28.2)\n",
      "Requirement already satisfied: construct in c:\\users\\goldferret\\pycharmprojects\\ndmn-jupyter-notebook\\venv\\lib\\site-packages (from tensor) (2.10.70)\n",
      "Requirement already satisfied: pysnmp in c:\\users\\goldferret\\pycharmprojects\\ndmn-jupyter-notebook\\venv\\lib\\site-packages (from tensor) (7.1.13)\n",
      "Requirement already satisfied: branca>=0.6.0 in c:\\users\\goldferret\\pycharmprojects\\ndmn-jupyter-notebook\\venv\\lib\\site-packages (from folium) (0.8.0)\n",
      "Requirement already satisfied: jinja2>=2.9 in c:\\users\\goldferret\\pycharmprojects\\ndmn-jupyter-notebook\\venv\\lib\\site-packages (from folium) (3.1.4)\n",
      "Requirement already satisfied: requests in c:\\users\\goldferret\\pycharmprojects\\ndmn-jupyter-notebook\\venv\\lib\\site-packages (from folium) (2.32.3)\n",
      "Requirement already satisfied: xyzservices in c:\\users\\goldferret\\pycharmprojects\\ndmn-jupyter-notebook\\venv\\lib\\site-packages (from folium) (2024.9.0)\n",
      "Requirement already satisfied: contourpy>=1.0.1 in c:\\users\\goldferret\\pycharmprojects\\ndmn-jupyter-notebook\\venv\\lib\\site-packages (from matplotlib) (1.3.0)\n",
      "Requirement already satisfied: cycler>=0.10 in c:\\users\\goldferret\\pycharmprojects\\ndmn-jupyter-notebook\\venv\\lib\\site-packages (from matplotlib) (0.12.1)\n",
      "Requirement already satisfied: fonttools>=4.22.0 in c:\\users\\goldferret\\pycharmprojects\\ndmn-jupyter-notebook\\venv\\lib\\site-packages (from matplotlib) (4.54.1)\n",
      "Requirement already satisfied: kiwisolver>=1.3.1 in c:\\users\\goldferret\\pycharmprojects\\ndmn-jupyter-notebook\\venv\\lib\\site-packages (from matplotlib) (1.4.7)\n",
      "Requirement already satisfied: pillow>=8 in c:\\users\\goldferret\\pycharmprojects\\ndmn-jupyter-notebook\\venv\\lib\\site-packages (from matplotlib) (10.4.0)\n",
      "Requirement already satisfied: pyparsing>=2.3.1 in c:\\users\\goldferret\\pycharmprojects\\ndmn-jupyter-notebook\\venv\\lib\\site-packages (from matplotlib) (3.1.4)\n",
      "Requirement already satisfied: networkx>=2.7 in c:\\users\\goldferret\\pycharmprojects\\ndmn-jupyter-notebook\\venv\\lib\\site-packages (from mapclassify) (3.3)\n",
      "Requirement already satisfied: google-cloud-storage in c:\\users\\goldferret\\pycharmprojects\\ndmn-jupyter-notebook\\venv\\lib\\site-packages (from earthengine-api) (2.18.2)\n",
      "Requirement already satisfied: google-api-python-client>=1.12.1 in c:\\users\\goldferret\\pycharmprojects\\ndmn-jupyter-notebook\\venv\\lib\\site-packages (from earthengine-api) (2.149.0)\n",
      "Requirement already satisfied: google-auth>=1.4.1 in c:\\users\\goldferret\\pycharmprojects\\ndmn-jupyter-notebook\\venv\\lib\\site-packages (from earthengine-api) (2.35.0)\n",
      "Requirement already satisfied: google-auth-httplib2>=0.0.3 in c:\\users\\goldferret\\pycharmprojects\\ndmn-jupyter-notebook\\venv\\lib\\site-packages (from earthengine-api) (0.2.0)\n",
      "Requirement already satisfied: httplib2<1dev,>=0.9.2 in c:\\users\\goldferret\\pycharmprojects\\ndmn-jupyter-notebook\\venv\\lib\\site-packages (from earthengine-api) (0.22.0)\n",
      "Requirement already satisfied: bqplot in c:\\users\\goldferret\\pycharmprojects\\ndmn-jupyter-notebook\\venv\\lib\\site-packages (from geemap) (0.12.43)\n",
      "Requirement already satisfied: colour in c:\\users\\goldferret\\pycharmprojects\\ndmn-jupyter-notebook\\venv\\lib\\site-packages (from geemap) (0.1.5)\n",
      "Requirement already satisfied: eerepr>=0.0.4 in c:\\users\\goldferret\\pycharmprojects\\ndmn-jupyter-notebook\\venv\\lib\\site-packages (from geemap) (0.0.4)\n",
      "Requirement already satisfied: geocoder in c:\\users\\goldferret\\pycharmprojects\\ndmn-jupyter-notebook\\venv\\lib\\site-packages (from geemap) (1.38.1)\n",
      "Requirement already satisfied: ipyevents in c:\\users\\goldferret\\pycharmprojects\\ndmn-jupyter-notebook\\venv\\lib\\site-packages (from geemap) (2.0.2)\n",
      "Requirement already satisfied: ipyfilechooser>=0.6.0 in c:\\users\\goldferret\\pycharmprojects\\ndmn-jupyter-notebook\\venv\\lib\\site-packages (from geemap) (0.6.0)\n",
      "Requirement already satisfied: ipyleaflet>=0.19.2 in c:\\users\\goldferret\\pycharmprojects\\ndmn-jupyter-notebook\\venv\\lib\\site-packages (from geemap) (0.19.2)\n",
      "Requirement already satisfied: ipytree in c:\\users\\goldferret\\pycharmprojects\\ndmn-jupyter-notebook\\venv\\lib\\site-packages (from geemap) (0.2.2)\n",
      "Requirement already satisfied: plotly in c:\\users\\goldferret\\pycharmprojects\\ndmn-jupyter-notebook\\venv\\lib\\site-packages (from geemap) (5.24.1)\n",
      "Requirement already satisfied: pyperclip in c:\\users\\goldferret\\pycharmprojects\\ndmn-jupyter-notebook\\venv\\lib\\site-packages (from geemap) (1.9.0)\n",
      "Requirement already satisfied: pyshp>=2.3.1 in c:\\users\\goldferret\\pycharmprojects\\ndmn-jupyter-notebook\\venv\\lib\\site-packages (from geemap) (2.3.1)\n",
      "Requirement already satisfied: python-box in c:\\users\\goldferret\\pycharmprojects\\ndmn-jupyter-notebook\\venv\\lib\\site-packages (from geemap) (7.2.0)\n",
      "Requirement already satisfied: scooby in c:\\users\\goldferret\\pycharmprojects\\ndmn-jupyter-notebook\\venv\\lib\\site-packages (from geemap) (0.10.0)\n",
      "Requirement already satisfied: setuptools in c:\\users\\goldferret\\pycharmprojects\\ndmn-jupyter-notebook\\venv\\lib\\site-packages (from geemap) (75.5.0)\n",
      "Requirement already satisfied: attrs>=19.2.0 in c:\\users\\goldferret\\pycharmprojects\\ndmn-jupyter-notebook\\venv\\lib\\site-packages (from fiona>=1.8.21->geopandas) (24.2.0)\n",
      "Requirement already satisfied: certifi in c:\\users\\goldferret\\pycharmprojects\\ndmn-jupyter-notebook\\venv\\lib\\site-packages (from fiona>=1.8.21->geopandas) (2024.8.30)\n",
      "Requirement already satisfied: click~=8.0 in c:\\users\\goldferret\\pycharmprojects\\ndmn-jupyter-notebook\\venv\\lib\\site-packages (from fiona>=1.8.21->geopandas) (8.1.7)\n",
      "Requirement already satisfied: click-plugins>=1.0 in c:\\users\\goldferret\\pycharmprojects\\ndmn-jupyter-notebook\\venv\\lib\\site-packages (from fiona>=1.8.21->geopandas) (1.1.1)\n",
      "Requirement already satisfied: cligj>=0.5 in c:\\users\\goldferret\\pycharmprojects\\ndmn-jupyter-notebook\\venv\\lib\\site-packages (from fiona>=1.8.21->geopandas) (0.7.2)\n",
      "Requirement already satisfied: google-api-core!=2.0.*,!=2.1.*,!=2.2.*,!=2.3.0,<3.0.0.dev0,>=1.31.5 in c:\\users\\goldferret\\pycharmprojects\\ndmn-jupyter-notebook\\venv\\lib\\site-packages (from google-api-python-client>=1.12.1->earthengine-api) (2.21.0)\n",
      "Requirement already satisfied: uritemplate<5,>=3.0.1 in c:\\users\\goldferret\\pycharmprojects\\ndmn-jupyter-notebook\\venv\\lib\\site-packages (from google-api-python-client>=1.12.1->earthengine-api) (4.1.1)\n",
      "Requirement already satisfied: cachetools<6.0,>=2.0.0 in c:\\users\\goldferret\\pycharmprojects\\ndmn-jupyter-notebook\\venv\\lib\\site-packages (from google-auth>=1.4.1->earthengine-api) (5.5.0)\n",
      "Requirement already satisfied: pyasn1-modules>=0.2.1 in c:\\users\\goldferret\\pycharmprojects\\ndmn-jupyter-notebook\\venv\\lib\\site-packages (from google-auth>=1.4.1->earthengine-api) (0.4.1)\n",
      "Requirement already satisfied: rsa<5,>=3.1.4 in c:\\users\\goldferret\\pycharmprojects\\ndmn-jupyter-notebook\\venv\\lib\\site-packages (from google-auth>=1.4.1->earthengine-api) (4.9)\n",
      "Requirement already satisfied: ipywidgets in c:\\users\\goldferret\\pycharmprojects\\ndmn-jupyter-notebook\\venv\\lib\\site-packages (from ipyfilechooser>=0.6.0->geemap) (8.1.5)\n",
      "Requirement already satisfied: jupyter-leaflet<0.20,>=0.19 in c:\\users\\goldferret\\pycharmprojects\\ndmn-jupyter-notebook\\venv\\lib\\site-packages (from ipyleaflet>=0.19.2->geemap) (0.19.2)\n",
      "Requirement already satisfied: traittypes<3,>=0.2.1 in c:\\users\\goldferret\\pycharmprojects\\ndmn-jupyter-notebook\\venv\\lib\\site-packages (from ipyleaflet>=0.19.2->geemap) (0.2.1)\n",
      "Requirement already satisfied: MarkupSafe>=2.0 in c:\\users\\goldferret\\pycharmprojects\\ndmn-jupyter-notebook\\venv\\lib\\site-packages (from jinja2>=2.9->folium) (3.0.1)\n",
      "Requirement already satisfied: six>=1.5 in c:\\users\\goldferret\\pycharmprojects\\ndmn-jupyter-notebook\\venv\\lib\\site-packages (from python-dateutil>=2.8.2->pandas) (1.16.0)\n",
      "Requirement already satisfied: traitlets>=4.3.0 in c:\\users\\goldferret\\pycharmprojects\\ndmn-jupyter-notebook\\venv\\lib\\site-packages (from bqplot->geemap) (5.14.3)\n",
      "Requirement already satisfied: future in c:\\users\\goldferret\\pycharmprojects\\ndmn-jupyter-notebook\\venv\\lib\\site-packages (from geocoder->geemap) (1.0.0)\n",
      "Requirement already satisfied: ratelim in c:\\users\\goldferret\\pycharmprojects\\ndmn-jupyter-notebook\\venv\\lib\\site-packages (from geocoder->geemap) (0.1.6)\n",
      "Requirement already satisfied: google-cloud-core<3.0dev,>=2.3.0 in c:\\users\\goldferret\\pycharmprojects\\ndmn-jupyter-notebook\\venv\\lib\\site-packages (from google-cloud-storage->earthengine-api) (2.4.1)\n",
      "Requirement already satisfied: google-resumable-media>=2.7.2 in c:\\users\\goldferret\\pycharmprojects\\ndmn-jupyter-notebook\\venv\\lib\\site-packages (from google-cloud-storage->earthengine-api) (2.7.2)\n",
      "Requirement already satisfied: google-crc32c<2.0dev,>=1.0 in c:\\users\\goldferret\\pycharmprojects\\ndmn-jupyter-notebook\\venv\\lib\\site-packages (from google-cloud-storage->earthengine-api) (1.6.0)\n",
      "Requirement already satisfied: charset-normalizer<4,>=2 in c:\\users\\goldferret\\pycharmprojects\\ndmn-jupyter-notebook\\venv\\lib\\site-packages (from requests->folium) (3.4.0)\n",
      "Requirement already satisfied: idna<4,>=2.5 in c:\\users\\goldferret\\pycharmprojects\\ndmn-jupyter-notebook\\venv\\lib\\site-packages (from requests->folium) (3.10)\n",
      "Requirement already satisfied: urllib3<3,>=1.21.1 in c:\\users\\goldferret\\pycharmprojects\\ndmn-jupyter-notebook\\venv\\lib\\site-packages (from requests->folium) (2.2.3)\n",
      "Requirement already satisfied: tenacity>=6.2.0 in c:\\users\\goldferret\\pycharmprojects\\ndmn-jupyter-notebook\\venv\\lib\\site-packages (from plotly->geemap) (9.0.0)\n",
      "Requirement already satisfied: pyasn1!=0.5.0,>=0.4.8 in c:\\users\\goldferret\\pycharmprojects\\ndmn-jupyter-notebook\\venv\\lib\\site-packages (from pysnmp->tensor) (0.6.1)\n",
      "Requirement already satisfied: automat>=24.8.0 in c:\\users\\goldferret\\pycharmprojects\\ndmn-jupyter-notebook\\venv\\lib\\site-packages (from Twisted->tensor) (24.8.1)\n",
      "Requirement already satisfied: constantly>=15.1 in c:\\users\\goldferret\\pycharmprojects\\ndmn-jupyter-notebook\\venv\\lib\\site-packages (from Twisted->tensor) (23.10.4)\n",
      "Requirement already satisfied: hyperlink>=17.1.1 in c:\\users\\goldferret\\pycharmprojects\\ndmn-jupyter-notebook\\venv\\lib\\site-packages (from Twisted->tensor) (21.0.0)\n",
      "Requirement already satisfied: incremental>=24.7.0 in c:\\users\\goldferret\\pycharmprojects\\ndmn-jupyter-notebook\\venv\\lib\\site-packages (from Twisted->tensor) (24.7.2)\n",
      "Requirement already satisfied: typing-extensions>=4.2.0 in c:\\users\\goldferret\\pycharmprojects\\ndmn-jupyter-notebook\\venv\\lib\\site-packages (from Twisted->tensor) (4.12.2)\n",
      "Requirement already satisfied: zope-interface>=5 in c:\\users\\goldferret\\pycharmprojects\\ndmn-jupyter-notebook\\venv\\lib\\site-packages (from Twisted->tensor) (7.1.1)\n",
      "Requirement already satisfied: colorama in c:\\users\\goldferret\\pycharmprojects\\ndmn-jupyter-notebook\\venv\\lib\\site-packages (from click~=8.0->fiona>=1.8.21->geopandas) (0.4.6)\n",
      "Requirement already satisfied: googleapis-common-protos<2.0.dev0,>=1.56.2 in c:\\users\\goldferret\\pycharmprojects\\ndmn-jupyter-notebook\\venv\\lib\\site-packages (from google-api-core!=2.0.*,!=2.1.*,!=2.2.*,!=2.3.0,<3.0.0.dev0,>=1.31.5->google-api-python-client>=1.12.1->earthengine-api) (1.65.0)\n",
      "Requirement already satisfied: proto-plus<2.0.0dev,>=1.22.3 in c:\\users\\goldferret\\pycharmprojects\\ndmn-jupyter-notebook\\venv\\lib\\site-packages (from google-api-core!=2.0.*,!=2.1.*,!=2.2.*,!=2.3.0,<3.0.0.dev0,>=1.31.5->google-api-python-client>=1.12.1->earthengine-api) (1.24.0)\n",
      "Requirement already satisfied: comm>=0.1.3 in c:\\users\\goldferret\\pycharmprojects\\ndmn-jupyter-notebook\\venv\\lib\\site-packages (from ipywidgets->ipyfilechooser>=0.6.0->geemap) (0.2.2)\n",
      "Requirement already satisfied: ipython>=6.1.0 in c:\\users\\goldferret\\pycharmprojects\\ndmn-jupyter-notebook\\venv\\lib\\site-packages (from ipywidgets->ipyfilechooser>=0.6.0->geemap) (8.28.0)\n",
      "Requirement already satisfied: widgetsnbextension~=4.0.12 in c:\\users\\goldferret\\pycharmprojects\\ndmn-jupyter-notebook\\venv\\lib\\site-packages (from ipywidgets->ipyfilechooser>=0.6.0->geemap) (4.0.13)\n",
      "Requirement already satisfied: jupyterlab-widgets~=3.0.12 in c:\\users\\goldferret\\pycharmprojects\\ndmn-jupyter-notebook\\venv\\lib\\site-packages (from ipywidgets->ipyfilechooser>=0.6.0->geemap) (3.0.13)\n",
      "Requirement already satisfied: decorator in c:\\users\\goldferret\\pycharmprojects\\ndmn-jupyter-notebook\\venv\\lib\\site-packages (from ratelim->geocoder->geemap) (5.1.1)\n",
      "Requirement already satisfied: jedi>=0.16 in c:\\users\\goldferret\\pycharmprojects\\ndmn-jupyter-notebook\\venv\\lib\\site-packages (from ipython>=6.1.0->ipywidgets->ipyfilechooser>=0.6.0->geemap) (0.19.1)\n",
      "Requirement already satisfied: matplotlib-inline in c:\\users\\goldferret\\pycharmprojects\\ndmn-jupyter-notebook\\venv\\lib\\site-packages (from ipython>=6.1.0->ipywidgets->ipyfilechooser>=0.6.0->geemap) (0.1.7)\n",
      "Requirement already satisfied: prompt-toolkit<3.1.0,>=3.0.41 in c:\\users\\goldferret\\pycharmprojects\\ndmn-jupyter-notebook\\venv\\lib\\site-packages (from ipython>=6.1.0->ipywidgets->ipyfilechooser>=0.6.0->geemap) (3.0.48)\n",
      "Requirement already satisfied: pygments>=2.4.0 in c:\\users\\goldferret\\pycharmprojects\\ndmn-jupyter-notebook\\venv\\lib\\site-packages (from ipython>=6.1.0->ipywidgets->ipyfilechooser>=0.6.0->geemap) (2.18.0)\n",
      "Requirement already satisfied: stack-data in c:\\users\\goldferret\\pycharmprojects\\ndmn-jupyter-notebook\\venv\\lib\\site-packages (from ipython>=6.1.0->ipywidgets->ipyfilechooser>=0.6.0->geemap) (0.6.3)\n",
      "Requirement already satisfied: parso<0.9.0,>=0.8.3 in c:\\users\\goldferret\\pycharmprojects\\ndmn-jupyter-notebook\\venv\\lib\\site-packages (from jedi>=0.16->ipython>=6.1.0->ipywidgets->ipyfilechooser>=0.6.0->geemap) (0.8.4)\n",
      "Requirement already satisfied: wcwidth in c:\\users\\goldferret\\pycharmprojects\\ndmn-jupyter-notebook\\venv\\lib\\site-packages (from prompt-toolkit<3.1.0,>=3.0.41->ipython>=6.1.0->ipywidgets->ipyfilechooser>=0.6.0->geemap) (0.2.13)\n",
      "Requirement already satisfied: executing>=1.2.0 in c:\\users\\goldferret\\pycharmprojects\\ndmn-jupyter-notebook\\venv\\lib\\site-packages (from stack-data->ipython>=6.1.0->ipywidgets->ipyfilechooser>=0.6.0->geemap) (2.1.0)\n",
      "Requirement already satisfied: asttokens>=2.1.0 in c:\\users\\goldferret\\pycharmprojects\\ndmn-jupyter-notebook\\venv\\lib\\site-packages (from stack-data->ipython>=6.1.0->ipywidgets->ipyfilechooser>=0.6.0->geemap) (2.4.1)\n",
      "Requirement already satisfied: pure-eval in c:\\users\\goldferret\\pycharmprojects\\ndmn-jupyter-notebook\\venv\\lib\\site-packages (from stack-data->ipython>=6.1.0->ipywidgets->ipyfilechooser>=0.6.0->geemap) (0.2.3)\n"
     ]
    }
   ],
   "execution_count": 54
  },
  {
   "metadata": {},
   "cell_type": "markdown",
   "source": "#### Importing packages",
   "id": "1a77af3218a47514"
  },
  {
   "cell_type": "code",
   "id": "07ebfc57-d195-4ede-b225-49c6e6af56f0",
   "metadata": {
    "ExecuteTime": {
     "end_time": "2024-11-18T16:59:55.890638Z",
     "start_time": "2024-11-18T16:59:55.880825Z"
    }
   },
   "source": [
    "from geopandas import GeoDataFrame\n",
    "from shapely.geometry import Point\n",
    "import geopandas as gpd\n",
    "import pandas as pd\n",
    "import numpy as np\n",
    "import geemap\n",
    "import ee\n",
    "import folium"
   ],
   "outputs": [
    {
     "data": {
      "text/plain": [
       "<IPython.core.display.HTML object>"
      ],
      "text/html": [
       "\n",
       "            <style>\n",
       "                .geemap-dark {\n",
       "                    --jp-widgets-color: white;\n",
       "                    --jp-widgets-label-color: white;\n",
       "                    --jp-ui-font-color1: white;\n",
       "                    --jp-layout-color2: #454545;\n",
       "                    background-color: #383838;\n",
       "                }\n",
       "\n",
       "                .geemap-dark .jupyter-button {\n",
       "                    --jp-layout-color3: #383838;\n",
       "                }\n",
       "\n",
       "                .geemap-colab {\n",
       "                    background-color: var(--colab-primary-surface-color, white);\n",
       "                }\n",
       "\n",
       "                .geemap-colab .jupyter-button {\n",
       "                    --jp-layout-color3: var(--colab-primary-surface-color, white);\n",
       "                }\n",
       "            </style>\n",
       "            "
      ]
     },
     "metadata": {},
     "output_type": "display_data"
    }
   ],
   "execution_count": 55
  },
  {
   "metadata": {},
   "cell_type": "markdown",
   "source": "#### Importing our Dataset",
   "id": "1b301195b4ddc7ea"
  },
  {
   "metadata": {
    "ExecuteTime": {
     "end_time": "2024-11-18T16:59:58.564619Z",
     "start_time": "2024-11-18T16:59:56.597657Z"
    }
   },
   "cell_type": "code",
   "source": [
    "# We are importing our csv data, which was collected from John's notebook which gathers the mediod and NEM data from GEE.\n",
    "df = pd.read_csv('../Data/CostaRica_EE_data.csv')\n",
    "print(df['geometry'].head())\n",
    "\n",
    "# Here we change the format of geometry so we can create a geodataframe\n",
    "df['geometry'] = df['geometry'].apply(\n",
    "    lambda coord: coord if isinstance(coord, Point) else Point(float(coord.replace('POINT (', '').replace(')', '').split()[0]), \n",
    "                                                              float(coord.replace('POINT (', '').replace(')', '').split()[1]))\n",
    ")\n",
    "#add notes"
   ],
   "id": "95e022c3571a50eb",
   "outputs": [
    {
     "data": {
      "text/plain": [
       "<IPython.core.display.HTML object>"
      ],
      "text/html": [
       "\n",
       "            <style>\n",
       "                .geemap-dark {\n",
       "                    --jp-widgets-color: white;\n",
       "                    --jp-widgets-label-color: white;\n",
       "                    --jp-ui-font-color1: white;\n",
       "                    --jp-layout-color2: #454545;\n",
       "                    background-color: #383838;\n",
       "                }\n",
       "\n",
       "                .geemap-dark .jupyter-button {\n",
       "                    --jp-layout-color3: #383838;\n",
       "                }\n",
       "\n",
       "                .geemap-colab {\n",
       "                    background-color: var(--colab-primary-surface-color, white);\n",
       "                }\n",
       "\n",
       "                .geemap-colab .jupyter-button {\n",
       "                    --jp-layout-color3: var(--colab-primary-surface-color, white);\n",
       "                }\n",
       "            </style>\n",
       "            "
      ]
     },
     "metadata": {},
     "output_type": "display_data"
    },
    {
     "name": "stdout",
     "output_type": "stream",
     "text": [
      "0    POINT (-84.90887419133645 10.874761552334505)\n",
      "1    POINT (-84.90887419133645 10.875185000000002)\n",
      "2    POINT (-84.90887419133645 10.875608447064252)\n",
      "3            POINT (-84.908443 10.874761552334505)\n",
      "4            POINT (-84.908443 10.875185000000002)\n",
      "Name: geometry, dtype: object\n"
     ]
    }
   ],
   "execution_count": 56
  },
  {
   "cell_type": "code",
   "id": "2da87e9e-07d2-4d6a-80e5-bd744df65379",
   "metadata": {
    "ExecuteTime": {
     "end_time": "2024-11-18T16:59:59.160258Z",
     "start_time": "2024-11-18T16:59:58.925186Z"
    }
   },
   "source": [
    "# Convert our csv DataFrame to a GeoDataFrame\n",
    "gdf = gpd.GeoDataFrame(df, geometry='geometry')\n",
    "#gdf.explore(cmap=\"Blues\")\n",
    "#print(gdf['geometry'].head())\n",
    "display(gdf)"
   ],
   "outputs": [
    {
     "data": {
      "text/plain": [
       "<IPython.core.display.HTML object>"
      ],
      "text/html": [
       "\n",
       "            <style>\n",
       "                .geemap-dark {\n",
       "                    --jp-widgets-color: white;\n",
       "                    --jp-widgets-label-color: white;\n",
       "                    --jp-ui-font-color1: white;\n",
       "                    --jp-layout-color2: #454545;\n",
       "                    background-color: #383838;\n",
       "                }\n",
       "\n",
       "                .geemap-dark .jupyter-button {\n",
       "                    --jp-layout-color3: #383838;\n",
       "                }\n",
       "\n",
       "                .geemap-colab {\n",
       "                    background-color: var(--colab-primary-surface-color, white);\n",
       "                }\n",
       "\n",
       "                .geemap-colab .jupyter-button {\n",
       "                    --jp-layout-color3: var(--colab-primary-surface-color, white);\n",
       "                }\n",
       "            </style>\n",
       "            "
      ]
     },
     "metadata": {},
     "output_type": "display_data"
    },
    {
     "data": {
      "text/plain": [
       "        Unnamed: 0  plotid  sampleid Vegetacion  Herbaceas  \\\n",
       "0                0    2900     11597    Arboles        NaN   \n",
       "1                1    2900     11598  Herbaceas  Gramineas   \n",
       "2                2    2900     11599  Herbaceas  Gramineas   \n",
       "3                3    2900     11600    Arboles        NaN   \n",
       "4                4    2900     11601    Arboles        NaN   \n",
       "...            ...     ...       ...        ...        ...   \n",
       "101155      101155  904894   3619577    Arboles        NaN   \n",
       "101156      101156  904894   3619578    Arboles        NaN   \n",
       "101157      101157  904894   3619579    Arboles        NaN   \n",
       "101158      101158  904894   3619580    Arboles        NaN   \n",
       "101159      101159  904894   3619581    Arboles        NaN   \n",
       "\n",
       "                        Pasto_Arb Cultivo Humedal Terreno Agua  ...    lai  \\\n",
       "0                             NaN     NaN     NaN     NaN  NaN  ...  0.335   \n",
       "1       Pastos mezclados (70-90%)     NaN     NaN     NaN  NaN  ...  0.300   \n",
       "2       Pastos mezclados (70-90%)     NaN     NaN     NaN  NaN  ...  0.300   \n",
       "3                             NaN     NaN     NaN     NaN  NaN  ...  0.335   \n",
       "4                             NaN     NaN     NaN     NaN  NaN  ...  0.300   \n",
       "...                           ...     ...     ...     ...  ...  ...    ...   \n",
       "101155                        NaN     NaN     NaN     NaN  NaN  ...  0.525   \n",
       "101156                        NaN     NaN     NaN     NaN  NaN  ...  0.450   \n",
       "101157                        NaN     NaN     NaN     NaN  NaN  ...  0.525   \n",
       "101158                        NaN     NaN     NaN     NaN  NaN  ...  0.525   \n",
       "101159                        NaN     NaN     NaN     NaN  NaN  ...  0.450   \n",
       "\n",
       "          mTPI      ndvi ocs_1mMed sand_1mMed      savi  silt_1mMed  \\\n",
       "0       8132.0  0.806129      69.0     352.00  0.537483      274.05   \n",
       "1       8132.0  0.778854      69.0     395.65  0.541566      257.85   \n",
       "2       8132.0  0.802353      69.0     395.65  0.413164      257.85   \n",
       "3       8132.0  0.837203      69.0     352.00  0.514825      274.05   \n",
       "4       8132.0  0.834810      69.0     395.65  0.492115      257.85   \n",
       "...        ...       ...       ...        ...       ...         ...   \n",
       "101155  8159.0  0.881486     128.0     313.05  0.610894      346.55   \n",
       "101156  8084.0  0.868316     128.0     313.05  0.600563      346.55   \n",
       "101157  8159.0  0.881727     128.0     313.05  0.607081      346.55   \n",
       "101158  8159.0  0.872697     128.0     313.05  0.594636      346.55   \n",
       "101159  8084.0  0.865339     128.0     313.05  0.595672      346.55   \n",
       "\n",
       "            slope       topDiv   wetness  \n",
       "0        4.994698  1323.714740 -0.032644  \n",
       "1        1.323483  1323.714740 -0.048439  \n",
       "2        2.645557  1323.714740 -0.009717  \n",
       "3        2.978611  1323.714740 -0.005730  \n",
       "4        5.060336  1323.714740 -0.006400  \n",
       "...           ...          ...       ...  \n",
       "101155  23.073408  1324.630000  0.019866  \n",
       "101156  13.936700  1324.611453  0.008173  \n",
       "101157  37.903484  1324.630000  0.025098  \n",
       "101158  20.788637  1324.630000  0.019301  \n",
       "101159  14.240128  1324.611453  0.006968  \n",
       "\n",
       "[101160 rows x 43 columns]"
      ],
      "text/html": [
       "<div>\n",
       "<style scoped>\n",
       "    .dataframe tbody tr th:only-of-type {\n",
       "        vertical-align: middle;\n",
       "    }\n",
       "\n",
       "    .dataframe tbody tr th {\n",
       "        vertical-align: top;\n",
       "    }\n",
       "\n",
       "    .dataframe thead th {\n",
       "        text-align: right;\n",
       "    }\n",
       "</style>\n",
       "<table border=\"1\" class=\"dataframe\">\n",
       "  <thead>\n",
       "    <tr style=\"text-align: right;\">\n",
       "      <th></th>\n",
       "      <th>Unnamed: 0</th>\n",
       "      <th>plotid</th>\n",
       "      <th>sampleid</th>\n",
       "      <th>Vegetacion</th>\n",
       "      <th>Herbaceas</th>\n",
       "      <th>Pasto_Arb</th>\n",
       "      <th>Cultivo</th>\n",
       "      <th>Humedal</th>\n",
       "      <th>Terreno</th>\n",
       "      <th>Agua</th>\n",
       "      <th>...</th>\n",
       "      <th>lai</th>\n",
       "      <th>mTPI</th>\n",
       "      <th>ndvi</th>\n",
       "      <th>ocs_1mMed</th>\n",
       "      <th>sand_1mMed</th>\n",
       "      <th>savi</th>\n",
       "      <th>silt_1mMed</th>\n",
       "      <th>slope</th>\n",
       "      <th>topDiv</th>\n",
       "      <th>wetness</th>\n",
       "    </tr>\n",
       "  </thead>\n",
       "  <tbody>\n",
       "    <tr>\n",
       "      <th>0</th>\n",
       "      <td>0</td>\n",
       "      <td>2900</td>\n",
       "      <td>11597</td>\n",
       "      <td>Arboles</td>\n",
       "      <td>NaN</td>\n",
       "      <td>NaN</td>\n",
       "      <td>NaN</td>\n",
       "      <td>NaN</td>\n",
       "      <td>NaN</td>\n",
       "      <td>NaN</td>\n",
       "      <td>...</td>\n",
       "      <td>0.335</td>\n",
       "      <td>8132.0</td>\n",
       "      <td>0.806129</td>\n",
       "      <td>69.0</td>\n",
       "      <td>352.00</td>\n",
       "      <td>0.537483</td>\n",
       "      <td>274.05</td>\n",
       "      <td>4.994698</td>\n",
       "      <td>1323.714740</td>\n",
       "      <td>-0.032644</td>\n",
       "    </tr>\n",
       "    <tr>\n",
       "      <th>1</th>\n",
       "      <td>1</td>\n",
       "      <td>2900</td>\n",
       "      <td>11598</td>\n",
       "      <td>Herbaceas</td>\n",
       "      <td>Gramineas</td>\n",
       "      <td>Pastos mezclados (70-90%)</td>\n",
       "      <td>NaN</td>\n",
       "      <td>NaN</td>\n",
       "      <td>NaN</td>\n",
       "      <td>NaN</td>\n",
       "      <td>...</td>\n",
       "      <td>0.300</td>\n",
       "      <td>8132.0</td>\n",
       "      <td>0.778854</td>\n",
       "      <td>69.0</td>\n",
       "      <td>395.65</td>\n",
       "      <td>0.541566</td>\n",
       "      <td>257.85</td>\n",
       "      <td>1.323483</td>\n",
       "      <td>1323.714740</td>\n",
       "      <td>-0.048439</td>\n",
       "    </tr>\n",
       "    <tr>\n",
       "      <th>2</th>\n",
       "      <td>2</td>\n",
       "      <td>2900</td>\n",
       "      <td>11599</td>\n",
       "      <td>Herbaceas</td>\n",
       "      <td>Gramineas</td>\n",
       "      <td>Pastos mezclados (70-90%)</td>\n",
       "      <td>NaN</td>\n",
       "      <td>NaN</td>\n",
       "      <td>NaN</td>\n",
       "      <td>NaN</td>\n",
       "      <td>...</td>\n",
       "      <td>0.300</td>\n",
       "      <td>8132.0</td>\n",
       "      <td>0.802353</td>\n",
       "      <td>69.0</td>\n",
       "      <td>395.65</td>\n",
       "      <td>0.413164</td>\n",
       "      <td>257.85</td>\n",
       "      <td>2.645557</td>\n",
       "      <td>1323.714740</td>\n",
       "      <td>-0.009717</td>\n",
       "    </tr>\n",
       "    <tr>\n",
       "      <th>3</th>\n",
       "      <td>3</td>\n",
       "      <td>2900</td>\n",
       "      <td>11600</td>\n",
       "      <td>Arboles</td>\n",
       "      <td>NaN</td>\n",
       "      <td>NaN</td>\n",
       "      <td>NaN</td>\n",
       "      <td>NaN</td>\n",
       "      <td>NaN</td>\n",
       "      <td>NaN</td>\n",
       "      <td>...</td>\n",
       "      <td>0.335</td>\n",
       "      <td>8132.0</td>\n",
       "      <td>0.837203</td>\n",
       "      <td>69.0</td>\n",
       "      <td>352.00</td>\n",
       "      <td>0.514825</td>\n",
       "      <td>274.05</td>\n",
       "      <td>2.978611</td>\n",
       "      <td>1323.714740</td>\n",
       "      <td>-0.005730</td>\n",
       "    </tr>\n",
       "    <tr>\n",
       "      <th>4</th>\n",
       "      <td>4</td>\n",
       "      <td>2900</td>\n",
       "      <td>11601</td>\n",
       "      <td>Arboles</td>\n",
       "      <td>NaN</td>\n",
       "      <td>NaN</td>\n",
       "      <td>NaN</td>\n",
       "      <td>NaN</td>\n",
       "      <td>NaN</td>\n",
       "      <td>NaN</td>\n",
       "      <td>...</td>\n",
       "      <td>0.300</td>\n",
       "      <td>8132.0</td>\n",
       "      <td>0.834810</td>\n",
       "      <td>69.0</td>\n",
       "      <td>395.65</td>\n",
       "      <td>0.492115</td>\n",
       "      <td>257.85</td>\n",
       "      <td>5.060336</td>\n",
       "      <td>1323.714740</td>\n",
       "      <td>-0.006400</td>\n",
       "    </tr>\n",
       "    <tr>\n",
       "      <th>...</th>\n",
       "      <td>...</td>\n",
       "      <td>...</td>\n",
       "      <td>...</td>\n",
       "      <td>...</td>\n",
       "      <td>...</td>\n",
       "      <td>...</td>\n",
       "      <td>...</td>\n",
       "      <td>...</td>\n",
       "      <td>...</td>\n",
       "      <td>...</td>\n",
       "      <td>...</td>\n",
       "      <td>...</td>\n",
       "      <td>...</td>\n",
       "      <td>...</td>\n",
       "      <td>...</td>\n",
       "      <td>...</td>\n",
       "      <td>...</td>\n",
       "      <td>...</td>\n",
       "      <td>...</td>\n",
       "      <td>...</td>\n",
       "      <td>...</td>\n",
       "    </tr>\n",
       "    <tr>\n",
       "      <th>101155</th>\n",
       "      <td>101155</td>\n",
       "      <td>904894</td>\n",
       "      <td>3619577</td>\n",
       "      <td>Arboles</td>\n",
       "      <td>NaN</td>\n",
       "      <td>NaN</td>\n",
       "      <td>NaN</td>\n",
       "      <td>NaN</td>\n",
       "      <td>NaN</td>\n",
       "      <td>NaN</td>\n",
       "      <td>...</td>\n",
       "      <td>0.525</td>\n",
       "      <td>8159.0</td>\n",
       "      <td>0.881486</td>\n",
       "      <td>128.0</td>\n",
       "      <td>313.05</td>\n",
       "      <td>0.610894</td>\n",
       "      <td>346.55</td>\n",
       "      <td>23.073408</td>\n",
       "      <td>1324.630000</td>\n",
       "      <td>0.019866</td>\n",
       "    </tr>\n",
       "    <tr>\n",
       "      <th>101156</th>\n",
       "      <td>101156</td>\n",
       "      <td>904894</td>\n",
       "      <td>3619578</td>\n",
       "      <td>Arboles</td>\n",
       "      <td>NaN</td>\n",
       "      <td>NaN</td>\n",
       "      <td>NaN</td>\n",
       "      <td>NaN</td>\n",
       "      <td>NaN</td>\n",
       "      <td>NaN</td>\n",
       "      <td>...</td>\n",
       "      <td>0.450</td>\n",
       "      <td>8084.0</td>\n",
       "      <td>0.868316</td>\n",
       "      <td>128.0</td>\n",
       "      <td>313.05</td>\n",
       "      <td>0.600563</td>\n",
       "      <td>346.55</td>\n",
       "      <td>13.936700</td>\n",
       "      <td>1324.611453</td>\n",
       "      <td>0.008173</td>\n",
       "    </tr>\n",
       "    <tr>\n",
       "      <th>101157</th>\n",
       "      <td>101157</td>\n",
       "      <td>904894</td>\n",
       "      <td>3619579</td>\n",
       "      <td>Arboles</td>\n",
       "      <td>NaN</td>\n",
       "      <td>NaN</td>\n",
       "      <td>NaN</td>\n",
       "      <td>NaN</td>\n",
       "      <td>NaN</td>\n",
       "      <td>NaN</td>\n",
       "      <td>...</td>\n",
       "      <td>0.525</td>\n",
       "      <td>8159.0</td>\n",
       "      <td>0.881727</td>\n",
       "      <td>128.0</td>\n",
       "      <td>313.05</td>\n",
       "      <td>0.607081</td>\n",
       "      <td>346.55</td>\n",
       "      <td>37.903484</td>\n",
       "      <td>1324.630000</td>\n",
       "      <td>0.025098</td>\n",
       "    </tr>\n",
       "    <tr>\n",
       "      <th>101158</th>\n",
       "      <td>101158</td>\n",
       "      <td>904894</td>\n",
       "      <td>3619580</td>\n",
       "      <td>Arboles</td>\n",
       "      <td>NaN</td>\n",
       "      <td>NaN</td>\n",
       "      <td>NaN</td>\n",
       "      <td>NaN</td>\n",
       "      <td>NaN</td>\n",
       "      <td>NaN</td>\n",
       "      <td>...</td>\n",
       "      <td>0.525</td>\n",
       "      <td>8159.0</td>\n",
       "      <td>0.872697</td>\n",
       "      <td>128.0</td>\n",
       "      <td>313.05</td>\n",
       "      <td>0.594636</td>\n",
       "      <td>346.55</td>\n",
       "      <td>20.788637</td>\n",
       "      <td>1324.630000</td>\n",
       "      <td>0.019301</td>\n",
       "    </tr>\n",
       "    <tr>\n",
       "      <th>101159</th>\n",
       "      <td>101159</td>\n",
       "      <td>904894</td>\n",
       "      <td>3619581</td>\n",
       "      <td>Arboles</td>\n",
       "      <td>NaN</td>\n",
       "      <td>NaN</td>\n",
       "      <td>NaN</td>\n",
       "      <td>NaN</td>\n",
       "      <td>NaN</td>\n",
       "      <td>NaN</td>\n",
       "      <td>...</td>\n",
       "      <td>0.450</td>\n",
       "      <td>8084.0</td>\n",
       "      <td>0.865339</td>\n",
       "      <td>128.0</td>\n",
       "      <td>313.05</td>\n",
       "      <td>0.595672</td>\n",
       "      <td>346.55</td>\n",
       "      <td>14.240128</td>\n",
       "      <td>1324.611453</td>\n",
       "      <td>0.006968</td>\n",
       "    </tr>\n",
       "  </tbody>\n",
       "</table>\n",
       "<p>101160 rows × 43 columns</p>\n",
       "</div>"
      ]
     },
     "metadata": {},
     "output_type": "display_data"
    }
   ],
   "execution_count": 57
  },
  {
   "cell_type": "code",
   "id": "7cf0952f-2ccd-4a6c-84f8-9a895838fa99",
   "metadata": {
    "ExecuteTime": {
     "end_time": "2024-11-18T17:00:09.191314Z",
     "start_time": "2024-11-18T16:59:59.541559Z"
    }
   },
   "source": [
    "# Import original observational data into a temporary GeoDataFrame\n",
    "# This was done because our current GeoDataFrame is missing the 'Uso' and 'Cobertura' columns\n",
    "tdf = gpd.read_file('../Data/Classification_Plots.zip')\n",
    "\n",
    "# Save the two columns, from the temporary GeoDataFrame, that we want to insert into our GeoDataFrame (gdf)\n",
    "uso = tdf['Uso']\n",
    "cob = tdf['Cobertura']\n",
    "\n",
    "# Use the Pandas insert function to insert said columns into their original positions\n",
    "gdf.insert(3, uso.name, uso)\n",
    "gdf.insert(4, cob.name, cob)\n",
    "\n",
    "# Remove the trivial column, 'Unnamed: 0', as it was a left-over column which contained data of each row's index\n",
    "gdf.pop('Unnamed: 0')\n",
    "\n",
    "# Display our GeoDataFrame to confirm changes\n",
    "display(gdf)"
   ],
   "outputs": [
    {
     "data": {
      "text/plain": [
       "<IPython.core.display.HTML object>"
      ],
      "text/html": [
       "\n",
       "            <style>\n",
       "                .geemap-dark {\n",
       "                    --jp-widgets-color: white;\n",
       "                    --jp-widgets-label-color: white;\n",
       "                    --jp-ui-font-color1: white;\n",
       "                    --jp-layout-color2: #454545;\n",
       "                    background-color: #383838;\n",
       "                }\n",
       "\n",
       "                .geemap-dark .jupyter-button {\n",
       "                    --jp-layout-color3: #383838;\n",
       "                }\n",
       "\n",
       "                .geemap-colab {\n",
       "                    background-color: var(--colab-primary-surface-color, white);\n",
       "                }\n",
       "\n",
       "                .geemap-colab .jupyter-button {\n",
       "                    --jp-layout-color3: var(--colab-primary-surface-color, white);\n",
       "                }\n",
       "            </style>\n",
       "            "
      ]
     },
     "metadata": {},
     "output_type": "display_data"
    },
    {
     "data": {
      "text/plain": [
       "        plotid  sampleid     Uso   Cobertura Vegetacion  Herbaceas  \\\n",
       "0         2900     11597  Bosque  Vegetacion    Arboles        NaN   \n",
       "1         2900     11598  Pastos  Vegetacion  Herbaceas  Gramineas   \n",
       "2         2900     11599  Pastos  Vegetacion  Herbaceas  Gramineas   \n",
       "3         2900     11600  Bosque  Vegetacion    Arboles        NaN   \n",
       "4         2900     11601  Bosque  Vegetacion    Arboles        NaN   \n",
       "...        ...       ...     ...         ...        ...        ...   \n",
       "101155  904894   3619577  Bosque  Vegetacion    Arboles        NaN   \n",
       "101156  904894   3619578  Bosque  Vegetacion    Arboles        NaN   \n",
       "101157  904894   3619579  Bosque  Vegetacion    Arboles        NaN   \n",
       "101158  904894   3619580  Bosque  Vegetacion    Arboles        NaN   \n",
       "101159  904894   3619581  Bosque  Vegetacion    Arboles        NaN   \n",
       "\n",
       "                        Pasto_Arb Cultivo Humedal Terreno  ...    lai    mTPI  \\\n",
       "0                             NaN     NaN     NaN     NaN  ...  0.335  8132.0   \n",
       "1       Pastos mezclados (70-90%)     NaN     NaN     NaN  ...  0.300  8132.0   \n",
       "2       Pastos mezclados (70-90%)     NaN     NaN     NaN  ...  0.300  8132.0   \n",
       "3                             NaN     NaN     NaN     NaN  ...  0.335  8132.0   \n",
       "4                             NaN     NaN     NaN     NaN  ...  0.300  8132.0   \n",
       "...                           ...     ...     ...     ...  ...    ...     ...   \n",
       "101155                        NaN     NaN     NaN     NaN  ...  0.525  8159.0   \n",
       "101156                        NaN     NaN     NaN     NaN  ...  0.450  8084.0   \n",
       "101157                        NaN     NaN     NaN     NaN  ...  0.525  8159.0   \n",
       "101158                        NaN     NaN     NaN     NaN  ...  0.525  8159.0   \n",
       "101159                        NaN     NaN     NaN     NaN  ...  0.450  8084.0   \n",
       "\n",
       "            ndvi ocs_1mMed sand_1mMed      savi  silt_1mMed      slope  \\\n",
       "0       0.806129      69.0     352.00  0.537483      274.05   4.994698   \n",
       "1       0.778854      69.0     395.65  0.541566      257.85   1.323483   \n",
       "2       0.802353      69.0     395.65  0.413164      257.85   2.645557   \n",
       "3       0.837203      69.0     352.00  0.514825      274.05   2.978611   \n",
       "4       0.834810      69.0     395.65  0.492115      257.85   5.060336   \n",
       "...          ...       ...        ...       ...         ...        ...   \n",
       "101155  0.881486     128.0     313.05  0.610894      346.55  23.073408   \n",
       "101156  0.868316     128.0     313.05  0.600563      346.55  13.936700   \n",
       "101157  0.881727     128.0     313.05  0.607081      346.55  37.903484   \n",
       "101158  0.872697     128.0     313.05  0.594636      346.55  20.788637   \n",
       "101159  0.865339     128.0     313.05  0.595672      346.55  14.240128   \n",
       "\n",
       "             topDiv   wetness  \n",
       "0       1323.714740 -0.032644  \n",
       "1       1323.714740 -0.048439  \n",
       "2       1323.714740 -0.009717  \n",
       "3       1323.714740 -0.005730  \n",
       "4       1323.714740 -0.006400  \n",
       "...             ...       ...  \n",
       "101155  1324.630000  0.019866  \n",
       "101156  1324.611453  0.008173  \n",
       "101157  1324.630000  0.025098  \n",
       "101158  1324.630000  0.019301  \n",
       "101159  1324.611453  0.006968  \n",
       "\n",
       "[101160 rows x 44 columns]"
      ],
      "text/html": [
       "<div>\n",
       "<style scoped>\n",
       "    .dataframe tbody tr th:only-of-type {\n",
       "        vertical-align: middle;\n",
       "    }\n",
       "\n",
       "    .dataframe tbody tr th {\n",
       "        vertical-align: top;\n",
       "    }\n",
       "\n",
       "    .dataframe thead th {\n",
       "        text-align: right;\n",
       "    }\n",
       "</style>\n",
       "<table border=\"1\" class=\"dataframe\">\n",
       "  <thead>\n",
       "    <tr style=\"text-align: right;\">\n",
       "      <th></th>\n",
       "      <th>plotid</th>\n",
       "      <th>sampleid</th>\n",
       "      <th>Uso</th>\n",
       "      <th>Cobertura</th>\n",
       "      <th>Vegetacion</th>\n",
       "      <th>Herbaceas</th>\n",
       "      <th>Pasto_Arb</th>\n",
       "      <th>Cultivo</th>\n",
       "      <th>Humedal</th>\n",
       "      <th>Terreno</th>\n",
       "      <th>...</th>\n",
       "      <th>lai</th>\n",
       "      <th>mTPI</th>\n",
       "      <th>ndvi</th>\n",
       "      <th>ocs_1mMed</th>\n",
       "      <th>sand_1mMed</th>\n",
       "      <th>savi</th>\n",
       "      <th>silt_1mMed</th>\n",
       "      <th>slope</th>\n",
       "      <th>topDiv</th>\n",
       "      <th>wetness</th>\n",
       "    </tr>\n",
       "  </thead>\n",
       "  <tbody>\n",
       "    <tr>\n",
       "      <th>0</th>\n",
       "      <td>2900</td>\n",
       "      <td>11597</td>\n",
       "      <td>Bosque</td>\n",
       "      <td>Vegetacion</td>\n",
       "      <td>Arboles</td>\n",
       "      <td>NaN</td>\n",
       "      <td>NaN</td>\n",
       "      <td>NaN</td>\n",
       "      <td>NaN</td>\n",
       "      <td>NaN</td>\n",
       "      <td>...</td>\n",
       "      <td>0.335</td>\n",
       "      <td>8132.0</td>\n",
       "      <td>0.806129</td>\n",
       "      <td>69.0</td>\n",
       "      <td>352.00</td>\n",
       "      <td>0.537483</td>\n",
       "      <td>274.05</td>\n",
       "      <td>4.994698</td>\n",
       "      <td>1323.714740</td>\n",
       "      <td>-0.032644</td>\n",
       "    </tr>\n",
       "    <tr>\n",
       "      <th>1</th>\n",
       "      <td>2900</td>\n",
       "      <td>11598</td>\n",
       "      <td>Pastos</td>\n",
       "      <td>Vegetacion</td>\n",
       "      <td>Herbaceas</td>\n",
       "      <td>Gramineas</td>\n",
       "      <td>Pastos mezclados (70-90%)</td>\n",
       "      <td>NaN</td>\n",
       "      <td>NaN</td>\n",
       "      <td>NaN</td>\n",
       "      <td>...</td>\n",
       "      <td>0.300</td>\n",
       "      <td>8132.0</td>\n",
       "      <td>0.778854</td>\n",
       "      <td>69.0</td>\n",
       "      <td>395.65</td>\n",
       "      <td>0.541566</td>\n",
       "      <td>257.85</td>\n",
       "      <td>1.323483</td>\n",
       "      <td>1323.714740</td>\n",
       "      <td>-0.048439</td>\n",
       "    </tr>\n",
       "    <tr>\n",
       "      <th>2</th>\n",
       "      <td>2900</td>\n",
       "      <td>11599</td>\n",
       "      <td>Pastos</td>\n",
       "      <td>Vegetacion</td>\n",
       "      <td>Herbaceas</td>\n",
       "      <td>Gramineas</td>\n",
       "      <td>Pastos mezclados (70-90%)</td>\n",
       "      <td>NaN</td>\n",
       "      <td>NaN</td>\n",
       "      <td>NaN</td>\n",
       "      <td>...</td>\n",
       "      <td>0.300</td>\n",
       "      <td>8132.0</td>\n",
       "      <td>0.802353</td>\n",
       "      <td>69.0</td>\n",
       "      <td>395.65</td>\n",
       "      <td>0.413164</td>\n",
       "      <td>257.85</td>\n",
       "      <td>2.645557</td>\n",
       "      <td>1323.714740</td>\n",
       "      <td>-0.009717</td>\n",
       "    </tr>\n",
       "    <tr>\n",
       "      <th>3</th>\n",
       "      <td>2900</td>\n",
       "      <td>11600</td>\n",
       "      <td>Bosque</td>\n",
       "      <td>Vegetacion</td>\n",
       "      <td>Arboles</td>\n",
       "      <td>NaN</td>\n",
       "      <td>NaN</td>\n",
       "      <td>NaN</td>\n",
       "      <td>NaN</td>\n",
       "      <td>NaN</td>\n",
       "      <td>...</td>\n",
       "      <td>0.335</td>\n",
       "      <td>8132.0</td>\n",
       "      <td>0.837203</td>\n",
       "      <td>69.0</td>\n",
       "      <td>352.00</td>\n",
       "      <td>0.514825</td>\n",
       "      <td>274.05</td>\n",
       "      <td>2.978611</td>\n",
       "      <td>1323.714740</td>\n",
       "      <td>-0.005730</td>\n",
       "    </tr>\n",
       "    <tr>\n",
       "      <th>4</th>\n",
       "      <td>2900</td>\n",
       "      <td>11601</td>\n",
       "      <td>Bosque</td>\n",
       "      <td>Vegetacion</td>\n",
       "      <td>Arboles</td>\n",
       "      <td>NaN</td>\n",
       "      <td>NaN</td>\n",
       "      <td>NaN</td>\n",
       "      <td>NaN</td>\n",
       "      <td>NaN</td>\n",
       "      <td>...</td>\n",
       "      <td>0.300</td>\n",
       "      <td>8132.0</td>\n",
       "      <td>0.834810</td>\n",
       "      <td>69.0</td>\n",
       "      <td>395.65</td>\n",
       "      <td>0.492115</td>\n",
       "      <td>257.85</td>\n",
       "      <td>5.060336</td>\n",
       "      <td>1323.714740</td>\n",
       "      <td>-0.006400</td>\n",
       "    </tr>\n",
       "    <tr>\n",
       "      <th>...</th>\n",
       "      <td>...</td>\n",
       "      <td>...</td>\n",
       "      <td>...</td>\n",
       "      <td>...</td>\n",
       "      <td>...</td>\n",
       "      <td>...</td>\n",
       "      <td>...</td>\n",
       "      <td>...</td>\n",
       "      <td>...</td>\n",
       "      <td>...</td>\n",
       "      <td>...</td>\n",
       "      <td>...</td>\n",
       "      <td>...</td>\n",
       "      <td>...</td>\n",
       "      <td>...</td>\n",
       "      <td>...</td>\n",
       "      <td>...</td>\n",
       "      <td>...</td>\n",
       "      <td>...</td>\n",
       "      <td>...</td>\n",
       "      <td>...</td>\n",
       "    </tr>\n",
       "    <tr>\n",
       "      <th>101155</th>\n",
       "      <td>904894</td>\n",
       "      <td>3619577</td>\n",
       "      <td>Bosque</td>\n",
       "      <td>Vegetacion</td>\n",
       "      <td>Arboles</td>\n",
       "      <td>NaN</td>\n",
       "      <td>NaN</td>\n",
       "      <td>NaN</td>\n",
       "      <td>NaN</td>\n",
       "      <td>NaN</td>\n",
       "      <td>...</td>\n",
       "      <td>0.525</td>\n",
       "      <td>8159.0</td>\n",
       "      <td>0.881486</td>\n",
       "      <td>128.0</td>\n",
       "      <td>313.05</td>\n",
       "      <td>0.610894</td>\n",
       "      <td>346.55</td>\n",
       "      <td>23.073408</td>\n",
       "      <td>1324.630000</td>\n",
       "      <td>0.019866</td>\n",
       "    </tr>\n",
       "    <tr>\n",
       "      <th>101156</th>\n",
       "      <td>904894</td>\n",
       "      <td>3619578</td>\n",
       "      <td>Bosque</td>\n",
       "      <td>Vegetacion</td>\n",
       "      <td>Arboles</td>\n",
       "      <td>NaN</td>\n",
       "      <td>NaN</td>\n",
       "      <td>NaN</td>\n",
       "      <td>NaN</td>\n",
       "      <td>NaN</td>\n",
       "      <td>...</td>\n",
       "      <td>0.450</td>\n",
       "      <td>8084.0</td>\n",
       "      <td>0.868316</td>\n",
       "      <td>128.0</td>\n",
       "      <td>313.05</td>\n",
       "      <td>0.600563</td>\n",
       "      <td>346.55</td>\n",
       "      <td>13.936700</td>\n",
       "      <td>1324.611453</td>\n",
       "      <td>0.008173</td>\n",
       "    </tr>\n",
       "    <tr>\n",
       "      <th>101157</th>\n",
       "      <td>904894</td>\n",
       "      <td>3619579</td>\n",
       "      <td>Bosque</td>\n",
       "      <td>Vegetacion</td>\n",
       "      <td>Arboles</td>\n",
       "      <td>NaN</td>\n",
       "      <td>NaN</td>\n",
       "      <td>NaN</td>\n",
       "      <td>NaN</td>\n",
       "      <td>NaN</td>\n",
       "      <td>...</td>\n",
       "      <td>0.525</td>\n",
       "      <td>8159.0</td>\n",
       "      <td>0.881727</td>\n",
       "      <td>128.0</td>\n",
       "      <td>313.05</td>\n",
       "      <td>0.607081</td>\n",
       "      <td>346.55</td>\n",
       "      <td>37.903484</td>\n",
       "      <td>1324.630000</td>\n",
       "      <td>0.025098</td>\n",
       "    </tr>\n",
       "    <tr>\n",
       "      <th>101158</th>\n",
       "      <td>904894</td>\n",
       "      <td>3619580</td>\n",
       "      <td>Bosque</td>\n",
       "      <td>Vegetacion</td>\n",
       "      <td>Arboles</td>\n",
       "      <td>NaN</td>\n",
       "      <td>NaN</td>\n",
       "      <td>NaN</td>\n",
       "      <td>NaN</td>\n",
       "      <td>NaN</td>\n",
       "      <td>...</td>\n",
       "      <td>0.525</td>\n",
       "      <td>8159.0</td>\n",
       "      <td>0.872697</td>\n",
       "      <td>128.0</td>\n",
       "      <td>313.05</td>\n",
       "      <td>0.594636</td>\n",
       "      <td>346.55</td>\n",
       "      <td>20.788637</td>\n",
       "      <td>1324.630000</td>\n",
       "      <td>0.019301</td>\n",
       "    </tr>\n",
       "    <tr>\n",
       "      <th>101159</th>\n",
       "      <td>904894</td>\n",
       "      <td>3619581</td>\n",
       "      <td>Bosque</td>\n",
       "      <td>Vegetacion</td>\n",
       "      <td>Arboles</td>\n",
       "      <td>NaN</td>\n",
       "      <td>NaN</td>\n",
       "      <td>NaN</td>\n",
       "      <td>NaN</td>\n",
       "      <td>NaN</td>\n",
       "      <td>...</td>\n",
       "      <td>0.450</td>\n",
       "      <td>8084.0</td>\n",
       "      <td>0.865339</td>\n",
       "      <td>128.0</td>\n",
       "      <td>313.05</td>\n",
       "      <td>0.595672</td>\n",
       "      <td>346.55</td>\n",
       "      <td>14.240128</td>\n",
       "      <td>1324.611453</td>\n",
       "      <td>0.006968</td>\n",
       "    </tr>\n",
       "  </tbody>\n",
       "</table>\n",
       "<p>101160 rows × 44 columns</p>\n",
       "</div>"
      ]
     },
     "metadata": {},
     "output_type": "display_data"
    }
   ],
   "execution_count": 58
  },
  {
   "cell_type": "code",
   "id": "9b952502-5d0f-416c-a842-01d7d721ff83",
   "metadata": {
    "ExecuteTime": {
     "end_time": "2024-11-18T17:00:10.044380Z",
     "start_time": "2024-11-18T17:00:09.606252Z"
    }
   },
   "source": [
    "# Check the number of rows that contain at least one 'NA', or 'NULL', value and print the count (e.g. NaN, NULL, NA)\n",
    "na_rows=gdf[gdf.isna().any(axis=1)]\n",
    "print('number of rows with na =',na_rows.shape[0])\n",
    "\n",
    "# Check the number of rows that contain at least one empty value and print the count (e.g. '')\n",
    "emp_rows=gdf[(gdf=='').any(axis=1)]\n",
    "print('number of rows that have empty values =',emp_rows.shape[0])\n",
    "\n",
    "# Check the number of rows that contain at least one 'zero', value and print the count (e.g. 0)\n",
    "zero_rows=gdf[(gdf==0).any(axis=1)]\n",
    "print('number of rows that have zero values =',emp_rows.shape[0])"
   ],
   "outputs": [
    {
     "data": {
      "text/plain": [
       "<IPython.core.display.HTML object>"
      ],
      "text/html": [
       "\n",
       "            <style>\n",
       "                .geemap-dark {\n",
       "                    --jp-widgets-color: white;\n",
       "                    --jp-widgets-label-color: white;\n",
       "                    --jp-ui-font-color1: white;\n",
       "                    --jp-layout-color2: #454545;\n",
       "                    background-color: #383838;\n",
       "                }\n",
       "\n",
       "                .geemap-dark .jupyter-button {\n",
       "                    --jp-layout-color3: #383838;\n",
       "                }\n",
       "\n",
       "                .geemap-colab {\n",
       "                    background-color: var(--colab-primary-surface-color, white);\n",
       "                }\n",
       "\n",
       "                .geemap-colab .jupyter-button {\n",
       "                    --jp-layout-color3: var(--colab-primary-surface-color, white);\n",
       "                }\n",
       "            </style>\n",
       "            "
      ]
     },
     "metadata": {},
     "output_type": "display_data"
    },
    {
     "name": "stdout",
     "output_type": "stream",
     "text": [
      "number of rows with na = 101160\n",
      "number of rows that have empty values = 0\n",
      "number of rows that have zero values = 0\n"
     ]
    }
   ],
   "execution_count": 59
  },
  {
   "cell_type": "markdown",
   "id": "1062a1f1-5712-46e7-a537-ea7a96f5970a",
   "metadata": {},
   "source": [
    "# Describing each column Statistically "
   ]
  },
  {
   "cell_type": "code",
   "id": "3b719d5f-3cb0-4a45-84e4-5bdc497f6bf6",
   "metadata": {
    "ExecuteTime": {
     "end_time": "2024-11-18T17:00:10.650875Z",
     "start_time": "2024-11-18T17:00:10.464856Z"
    }
   },
   "source": [
    "print('Summary stats for continuous variables...')\n",
    "\n",
    "# The describe function (i.e. 'describe()') takes the normal distribution of each column\n",
    "display(gdf.describe()) \n",
    " \n",
    "# Notes on the meaning of each row: \n",
    "# 'count' is number of instances \n",
    "# 'mean' describes the average number \n",
    "# 'std' describes how far you deviate from the mean \n",
    "# 'min' is the lowest value \n",
    "# '25%' is the TODO\n",
    "# '50%' is the TODO\n",
    "# '75%' is the TODO\n",
    "# 'max' is the largest value in column\n",
    "\n",
    "# Can we make visuals to help decide if we need to remove outliers"
   ],
   "outputs": [
    {
     "data": {
      "text/plain": [
       "<IPython.core.display.HTML object>"
      ],
      "text/html": [
       "\n",
       "            <style>\n",
       "                .geemap-dark {\n",
       "                    --jp-widgets-color: white;\n",
       "                    --jp-widgets-label-color: white;\n",
       "                    --jp-ui-font-color1: white;\n",
       "                    --jp-layout-color2: #454545;\n",
       "                    background-color: #383838;\n",
       "                }\n",
       "\n",
       "                .geemap-dark .jupyter-button {\n",
       "                    --jp-layout-color3: #383838;\n",
       "                }\n",
       "\n",
       "                .geemap-colab {\n",
       "                    background-color: var(--colab-primary-surface-color, white);\n",
       "                }\n",
       "\n",
       "                .geemap-colab .jupyter-button {\n",
       "                    --jp-layout-color3: var(--colab-primary-surface-color, white);\n",
       "                }\n",
       "            </style>\n",
       "            "
      ]
     },
     "metadata": {},
     "output_type": "display_data"
    },
    {
     "name": "stdout",
     "output_type": "stream",
     "text": [
      "Summary stats for continuous variables...\n"
     ]
    },
    {
     "data": {
      "text/plain": [
       "              plotid      sampleid           BLUE          GREEN  \\\n",
       "count  101160.000000  1.011600e+05  101130.000000  101134.000000   \n",
       "mean    86794.497420  3.471790e+05       0.028622       0.054576   \n",
       "std    258528.659228  1.034115e+06       0.055628       0.053711   \n",
       "min         2.000000  5.000000e+00      -0.188642      -0.069182   \n",
       "25%      2830.750000  1.132300e+04       0.016480       0.037215   \n",
       "50%      5636.500000  2.254700e+04       0.022998       0.047225   \n",
       "75%      8445.250000  3.378300e+04       0.030697       0.061738   \n",
       "max    910231.000000  3.640929e+06       1.063955       1.024878   \n",
       "\n",
       "                 NIR            RED          SWIR1          SWIR2  \\\n",
       "count  101134.000000  101134.000000  101134.000000  101134.000000   \n",
       "mean        0.326286       0.040583       0.167247       0.077850   \n",
       "std         0.094669       0.055446       0.060418       0.040518   \n",
       "min        -0.008353      -0.080238      -0.000982       0.000777   \n",
       "25%         0.267527       0.020220       0.129010       0.051542   \n",
       "50%         0.325250       0.028910       0.162120       0.068180   \n",
       "75%         0.384732       0.047005       0.200757       0.095432   \n",
       "max         0.980080       1.010193       0.562135       0.481972   \n",
       "\n",
       "            altura2         aspect  ...            lai           mTPI  \\\n",
       "count  97181.000000  101160.000000  ...  101160.000000  100982.000000   \n",
       "mean      22.636585     171.109960  ...       0.424042    8129.081104   \n",
       "std        9.236450     105.641588  ...       0.198097      37.876898   \n",
       "min        0.000000       0.000000  ...       0.000000    7891.000000   \n",
       "25%       16.000000      80.692791  ...       0.245000    8116.000000   \n",
       "50%       22.000000     173.549553  ...       0.500000    8128.000000   \n",
       "75%       30.000000     264.027390  ...       0.615000    8139.000000   \n",
       "max       51.000000     359.030029  ...       0.670000    8390.000000   \n",
       "\n",
       "                ndvi      ocs_1mMed     sand_1mMed           savi  \\\n",
       "count  100792.000000  101160.000000  101160.000000  101134.000000   \n",
       "mean        0.788556      66.426354     308.684732       0.488191   \n",
       "std         0.150143      19.969865      64.429899       0.121552   \n",
       "min        -0.974632       0.000000       0.000000      -0.142855   \n",
       "25%         0.748902      55.000000     282.450000       0.425665   \n",
       "50%         0.839014      63.000000     309.600000       0.506732   \n",
       "75%         0.882352      73.000000     341.350000       0.571769   \n",
       "max         0.999941     150.000000     778.050000       0.902410   \n",
       "\n",
       "          silt_1mMed          slope         topDiv        wetness  \n",
       "count  101160.000000  101160.000000  100982.000000  101134.000000  \n",
       "mean      301.557198      11.868206    1324.070991      -0.014940  \n",
       "std        57.613569      10.272339       0.305253       0.048696  \n",
       "min         0.000000       0.000000    1323.644835      -0.277014  \n",
       "25%       281.800000       3.380156    1323.770864      -0.036506  \n",
       "50%       302.850000       8.711405    1324.046264      -0.005657  \n",
       "75%       327.650000      17.920089    1324.330226       0.010607  \n",
       "max       599.550000      72.676102    1324.630000       0.733936  \n",
       "\n",
       "[8 rows x 30 columns]"
      ],
      "text/html": [
       "<div>\n",
       "<style scoped>\n",
       "    .dataframe tbody tr th:only-of-type {\n",
       "        vertical-align: middle;\n",
       "    }\n",
       "\n",
       "    .dataframe tbody tr th {\n",
       "        vertical-align: top;\n",
       "    }\n",
       "\n",
       "    .dataframe thead th {\n",
       "        text-align: right;\n",
       "    }\n",
       "</style>\n",
       "<table border=\"1\" class=\"dataframe\">\n",
       "  <thead>\n",
       "    <tr style=\"text-align: right;\">\n",
       "      <th></th>\n",
       "      <th>plotid</th>\n",
       "      <th>sampleid</th>\n",
       "      <th>BLUE</th>\n",
       "      <th>GREEN</th>\n",
       "      <th>NIR</th>\n",
       "      <th>RED</th>\n",
       "      <th>SWIR1</th>\n",
       "      <th>SWIR2</th>\n",
       "      <th>altura2</th>\n",
       "      <th>aspect</th>\n",
       "      <th>...</th>\n",
       "      <th>lai</th>\n",
       "      <th>mTPI</th>\n",
       "      <th>ndvi</th>\n",
       "      <th>ocs_1mMed</th>\n",
       "      <th>sand_1mMed</th>\n",
       "      <th>savi</th>\n",
       "      <th>silt_1mMed</th>\n",
       "      <th>slope</th>\n",
       "      <th>topDiv</th>\n",
       "      <th>wetness</th>\n",
       "    </tr>\n",
       "  </thead>\n",
       "  <tbody>\n",
       "    <tr>\n",
       "      <th>count</th>\n",
       "      <td>101160.000000</td>\n",
       "      <td>1.011600e+05</td>\n",
       "      <td>101130.000000</td>\n",
       "      <td>101134.000000</td>\n",
       "      <td>101134.000000</td>\n",
       "      <td>101134.000000</td>\n",
       "      <td>101134.000000</td>\n",
       "      <td>101134.000000</td>\n",
       "      <td>97181.000000</td>\n",
       "      <td>101160.000000</td>\n",
       "      <td>...</td>\n",
       "      <td>101160.000000</td>\n",
       "      <td>100982.000000</td>\n",
       "      <td>100792.000000</td>\n",
       "      <td>101160.000000</td>\n",
       "      <td>101160.000000</td>\n",
       "      <td>101134.000000</td>\n",
       "      <td>101160.000000</td>\n",
       "      <td>101160.000000</td>\n",
       "      <td>100982.000000</td>\n",
       "      <td>101134.000000</td>\n",
       "    </tr>\n",
       "    <tr>\n",
       "      <th>mean</th>\n",
       "      <td>86794.497420</td>\n",
       "      <td>3.471790e+05</td>\n",
       "      <td>0.028622</td>\n",
       "      <td>0.054576</td>\n",
       "      <td>0.326286</td>\n",
       "      <td>0.040583</td>\n",
       "      <td>0.167247</td>\n",
       "      <td>0.077850</td>\n",
       "      <td>22.636585</td>\n",
       "      <td>171.109960</td>\n",
       "      <td>...</td>\n",
       "      <td>0.424042</td>\n",
       "      <td>8129.081104</td>\n",
       "      <td>0.788556</td>\n",
       "      <td>66.426354</td>\n",
       "      <td>308.684732</td>\n",
       "      <td>0.488191</td>\n",
       "      <td>301.557198</td>\n",
       "      <td>11.868206</td>\n",
       "      <td>1324.070991</td>\n",
       "      <td>-0.014940</td>\n",
       "    </tr>\n",
       "    <tr>\n",
       "      <th>std</th>\n",
       "      <td>258528.659228</td>\n",
       "      <td>1.034115e+06</td>\n",
       "      <td>0.055628</td>\n",
       "      <td>0.053711</td>\n",
       "      <td>0.094669</td>\n",
       "      <td>0.055446</td>\n",
       "      <td>0.060418</td>\n",
       "      <td>0.040518</td>\n",
       "      <td>9.236450</td>\n",
       "      <td>105.641588</td>\n",
       "      <td>...</td>\n",
       "      <td>0.198097</td>\n",
       "      <td>37.876898</td>\n",
       "      <td>0.150143</td>\n",
       "      <td>19.969865</td>\n",
       "      <td>64.429899</td>\n",
       "      <td>0.121552</td>\n",
       "      <td>57.613569</td>\n",
       "      <td>10.272339</td>\n",
       "      <td>0.305253</td>\n",
       "      <td>0.048696</td>\n",
       "    </tr>\n",
       "    <tr>\n",
       "      <th>min</th>\n",
       "      <td>2.000000</td>\n",
       "      <td>5.000000e+00</td>\n",
       "      <td>-0.188642</td>\n",
       "      <td>-0.069182</td>\n",
       "      <td>-0.008353</td>\n",
       "      <td>-0.080238</td>\n",
       "      <td>-0.000982</td>\n",
       "      <td>0.000777</td>\n",
       "      <td>0.000000</td>\n",
       "      <td>0.000000</td>\n",
       "      <td>...</td>\n",
       "      <td>0.000000</td>\n",
       "      <td>7891.000000</td>\n",
       "      <td>-0.974632</td>\n",
       "      <td>0.000000</td>\n",
       "      <td>0.000000</td>\n",
       "      <td>-0.142855</td>\n",
       "      <td>0.000000</td>\n",
       "      <td>0.000000</td>\n",
       "      <td>1323.644835</td>\n",
       "      <td>-0.277014</td>\n",
       "    </tr>\n",
       "    <tr>\n",
       "      <th>25%</th>\n",
       "      <td>2830.750000</td>\n",
       "      <td>1.132300e+04</td>\n",
       "      <td>0.016480</td>\n",
       "      <td>0.037215</td>\n",
       "      <td>0.267527</td>\n",
       "      <td>0.020220</td>\n",
       "      <td>0.129010</td>\n",
       "      <td>0.051542</td>\n",
       "      <td>16.000000</td>\n",
       "      <td>80.692791</td>\n",
       "      <td>...</td>\n",
       "      <td>0.245000</td>\n",
       "      <td>8116.000000</td>\n",
       "      <td>0.748902</td>\n",
       "      <td>55.000000</td>\n",
       "      <td>282.450000</td>\n",
       "      <td>0.425665</td>\n",
       "      <td>281.800000</td>\n",
       "      <td>3.380156</td>\n",
       "      <td>1323.770864</td>\n",
       "      <td>-0.036506</td>\n",
       "    </tr>\n",
       "    <tr>\n",
       "      <th>50%</th>\n",
       "      <td>5636.500000</td>\n",
       "      <td>2.254700e+04</td>\n",
       "      <td>0.022998</td>\n",
       "      <td>0.047225</td>\n",
       "      <td>0.325250</td>\n",
       "      <td>0.028910</td>\n",
       "      <td>0.162120</td>\n",
       "      <td>0.068180</td>\n",
       "      <td>22.000000</td>\n",
       "      <td>173.549553</td>\n",
       "      <td>...</td>\n",
       "      <td>0.500000</td>\n",
       "      <td>8128.000000</td>\n",
       "      <td>0.839014</td>\n",
       "      <td>63.000000</td>\n",
       "      <td>309.600000</td>\n",
       "      <td>0.506732</td>\n",
       "      <td>302.850000</td>\n",
       "      <td>8.711405</td>\n",
       "      <td>1324.046264</td>\n",
       "      <td>-0.005657</td>\n",
       "    </tr>\n",
       "    <tr>\n",
       "      <th>75%</th>\n",
       "      <td>8445.250000</td>\n",
       "      <td>3.378300e+04</td>\n",
       "      <td>0.030697</td>\n",
       "      <td>0.061738</td>\n",
       "      <td>0.384732</td>\n",
       "      <td>0.047005</td>\n",
       "      <td>0.200757</td>\n",
       "      <td>0.095432</td>\n",
       "      <td>30.000000</td>\n",
       "      <td>264.027390</td>\n",
       "      <td>...</td>\n",
       "      <td>0.615000</td>\n",
       "      <td>8139.000000</td>\n",
       "      <td>0.882352</td>\n",
       "      <td>73.000000</td>\n",
       "      <td>341.350000</td>\n",
       "      <td>0.571769</td>\n",
       "      <td>327.650000</td>\n",
       "      <td>17.920089</td>\n",
       "      <td>1324.330226</td>\n",
       "      <td>0.010607</td>\n",
       "    </tr>\n",
       "    <tr>\n",
       "      <th>max</th>\n",
       "      <td>910231.000000</td>\n",
       "      <td>3.640929e+06</td>\n",
       "      <td>1.063955</td>\n",
       "      <td>1.024878</td>\n",
       "      <td>0.980080</td>\n",
       "      <td>1.010193</td>\n",
       "      <td>0.562135</td>\n",
       "      <td>0.481972</td>\n",
       "      <td>51.000000</td>\n",
       "      <td>359.030029</td>\n",
       "      <td>...</td>\n",
       "      <td>0.670000</td>\n",
       "      <td>8390.000000</td>\n",
       "      <td>0.999941</td>\n",
       "      <td>150.000000</td>\n",
       "      <td>778.050000</td>\n",
       "      <td>0.902410</td>\n",
       "      <td>599.550000</td>\n",
       "      <td>72.676102</td>\n",
       "      <td>1324.630000</td>\n",
       "      <td>0.733936</td>\n",
       "    </tr>\n",
       "  </tbody>\n",
       "</table>\n",
       "<p>8 rows × 30 columns</p>\n",
       "</div>"
      ]
     },
     "metadata": {},
     "output_type": "display_data"
    }
   ],
   "execution_count": 60
  },
  {
   "cell_type": "code",
   "id": "31dd6299-7c57-439e-90ce-17ed9ddd0d1b",
   "metadata": {
    "ExecuteTime": {
     "end_time": "2024-11-18T17:00:11.039541Z",
     "start_time": "2024-11-18T17:00:11.029942Z"
    }
   },
   "source": [
    "# Displays the data types of each column\n",
    "print(gdf.dtypes)\n",
    "print(\"\\n\")\n",
    "\n",
    "#x =gdf.head()\n",
    "#print(x)"
   ],
   "outputs": [
    {
     "data": {
      "text/plain": [
       "<IPython.core.display.HTML object>"
      ],
      "text/html": [
       "\n",
       "            <style>\n",
       "                .geemap-dark {\n",
       "                    --jp-widgets-color: white;\n",
       "                    --jp-widgets-label-color: white;\n",
       "                    --jp-ui-font-color1: white;\n",
       "                    --jp-layout-color2: #454545;\n",
       "                    background-color: #383838;\n",
       "                }\n",
       "\n",
       "                .geemap-dark .jupyter-button {\n",
       "                    --jp-layout-color3: #383838;\n",
       "                }\n",
       "\n",
       "                .geemap-colab {\n",
       "                    background-color: var(--colab-primary-surface-color, white);\n",
       "                }\n",
       "\n",
       "                .geemap-colab .jupyter-button {\n",
       "                    --jp-layout-color3: var(--colab-primary-surface-color, white);\n",
       "                }\n",
       "            </style>\n",
       "            "
      ]
     },
     "metadata": {},
     "output_type": "display_data"
    },
    {
     "name": "stdout",
     "output_type": "stream",
     "text": [
      "plotid           int64\n",
      "sampleid         int64\n",
      "Uso             object\n",
      "Cobertura       object\n",
      "Vegetacion      object\n",
      "Herbaceas       object\n",
      "Pasto_Arb       object\n",
      "Cultivo         object\n",
      "Humedal         object\n",
      "Terreno         object\n",
      "Agua            object\n",
      "Otra_clase      object\n",
      "SAF             object\n",
      "Cambios15_      object\n",
      "Gana_Perdi      object\n",
      "geometry      geometry\n",
      "BLUE           float64\n",
      "GREEN          float64\n",
      "NIR            float64\n",
      "RED            float64\n",
      "SWIR1          float64\n",
      "SWIR2          float64\n",
      "altura2        float64\n",
      "aspect         float64\n",
      "aspectcos      float64\n",
      "aspectdeg      float64\n",
      "aspectsin      float64\n",
      "brightness     float64\n",
      "clay_1mMed     float64\n",
      "diff           float64\n",
      "elevation      float64\n",
      "evi            float64\n",
      "fpar           float64\n",
      "hand30_100     float64\n",
      "lai            float64\n",
      "mTPI           float64\n",
      "ndvi           float64\n",
      "ocs_1mMed      float64\n",
      "sand_1mMed     float64\n",
      "savi           float64\n",
      "silt_1mMed     float64\n",
      "slope          float64\n",
      "topDiv         float64\n",
      "wetness        float64\n",
      "dtype: object\n",
      "\n",
      "\n"
     ]
    }
   ],
   "execution_count": 61
  },
  {
   "metadata": {
    "ExecuteTime": {
     "end_time": "2024-11-18T17:00:11.667733Z",
     "start_time": "2024-11-18T17:00:11.538829Z"
    }
   },
   "cell_type": "code",
   "source": [
    "# Get the boolean Series for null presence and count of nulls in each column\n",
    "nulls_in_columns = gdf.isna().any()\n",
    "null_counts = gdf.isna().sum()\n",
    "\n",
    "# Print the results in a visually aligned format\n",
    "print(f\"{'Column':<20}{'Contains Nulls':<15}\\t\\t\\t{'Null Count':<10}\")\n",
    "print(\"-\" * 55)\n",
    "\n",
    "for column in gdf.columns:\n",
    "    has_null = nulls_in_columns[column]\n",
    "    null_count = null_counts[column]\n",
    "    print(f\"{column:<20}{str(has_null):<15}\\t\\t\\t{null_count:<10}\")"
   ],
   "id": "f61b4f6900cf3c6f",
   "outputs": [
    {
     "data": {
      "text/plain": [
       "<IPython.core.display.HTML object>"
      ],
      "text/html": [
       "\n",
       "            <style>\n",
       "                .geemap-dark {\n",
       "                    --jp-widgets-color: white;\n",
       "                    --jp-widgets-label-color: white;\n",
       "                    --jp-ui-font-color1: white;\n",
       "                    --jp-layout-color2: #454545;\n",
       "                    background-color: #383838;\n",
       "                }\n",
       "\n",
       "                .geemap-dark .jupyter-button {\n",
       "                    --jp-layout-color3: #383838;\n",
       "                }\n",
       "\n",
       "                .geemap-colab {\n",
       "                    background-color: var(--colab-primary-surface-color, white);\n",
       "                }\n",
       "\n",
       "                .geemap-colab .jupyter-button {\n",
       "                    --jp-layout-color3: var(--colab-primary-surface-color, white);\n",
       "                }\n",
       "            </style>\n",
       "            "
      ]
     },
     "metadata": {},
     "output_type": "display_data"
    },
    {
     "name": "stdout",
     "output_type": "stream",
     "text": [
      "Column              Contains Nulls \t\t\tNull Count\n",
      "-------------------------------------------------------\n",
      "plotid              False          \t\t\t0         \n",
      "sampleid            False          \t\t\t0         \n",
      "Uso                 True           \t\t\t216       \n",
      "Cobertura           True           \t\t\t216       \n",
      "Vegetacion          True           \t\t\t7002      \n",
      "Herbaceas           True           \t\t\t76695     \n",
      "Pasto_Arb           True           \t\t\t77869     \n",
      "Cultivo             True           \t\t\t92762     \n",
      "Humedal             True           \t\t\t97234     \n",
      "Terreno             True           \t\t\t95602     \n",
      "Agua                True           \t\t\t100273    \n",
      "Otra_clase          True           \t\t\t95711     \n",
      "SAF                 True           \t\t\t92762     \n",
      "Cambios15_          True           \t\t\t216       \n",
      "Gana_Perdi          True           \t\t\t97928     \n",
      "geometry            False          \t\t\t0         \n",
      "BLUE                True           \t\t\t30        \n",
      "GREEN               True           \t\t\t26        \n",
      "NIR                 True           \t\t\t26        \n",
      "RED                 True           \t\t\t26        \n",
      "SWIR1               True           \t\t\t26        \n",
      "SWIR2               True           \t\t\t26        \n",
      "altura2             True           \t\t\t3979      \n",
      "aspect              False          \t\t\t0         \n",
      "aspectcos           False          \t\t\t0         \n",
      "aspectdeg           False          \t\t\t0         \n",
      "aspectsin           False          \t\t\t0         \n",
      "brightness          True           \t\t\t26        \n",
      "clay_1mMed          False          \t\t\t0         \n",
      "diff                True           \t\t\t26        \n",
      "elevation           False          \t\t\t0         \n",
      "evi                 True           \t\t\t30        \n",
      "fpar                False          \t\t\t0         \n",
      "hand30_100          True           \t\t\t3         \n",
      "lai                 False          \t\t\t0         \n",
      "mTPI                True           \t\t\t178       \n",
      "ndvi                True           \t\t\t368       \n",
      "ocs_1mMed           False          \t\t\t0         \n",
      "sand_1mMed          False          \t\t\t0         \n",
      "savi                True           \t\t\t26        \n",
      "silt_1mMed          False          \t\t\t0         \n",
      "slope               False          \t\t\t0         \n",
      "topDiv              True           \t\t\t178       \n",
      "wetness             True           \t\t\t26        \n"
     ]
    }
   ],
   "execution_count": 62
  },
  {
   "cell_type": "code",
   "id": "e9b3dcef-9477-4194-90e2-0b4203fe77f5",
   "metadata": {
    "ExecuteTime": {
     "end_time": "2024-11-18T17:00:12.078376Z",
     "start_time": "2024-11-18T17:00:12.049982Z"
    }
   },
   "source": [
    "#filling  all the numeric values that are missing with the mean from the column\n",
    "columns_to_fill = ['BLUE', 'GREEN', 'NIR', 'RED', 'SWIR1', 'SWIR2', 'altura2', 'brightness', 'diff', 'evi', 'hand30_100','mTPI', 'ndvi', 'savi', 'topDiv','wetness']  # Specify the columns to fill\n",
    "for column in columns_to_fill:\n",
    "    gdf[column] = gdf[column].fillna(gdf[column].mean())\n",
    "#Numeric variables are able to be replaced with "
   ],
   "outputs": [
    {
     "data": {
      "text/plain": [
       "<IPython.core.display.HTML object>"
      ],
      "text/html": [
       "\n",
       "            <style>\n",
       "                .geemap-dark {\n",
       "                    --jp-widgets-color: white;\n",
       "                    --jp-widgets-label-color: white;\n",
       "                    --jp-ui-font-color1: white;\n",
       "                    --jp-layout-color2: #454545;\n",
       "                    background-color: #383838;\n",
       "                }\n",
       "\n",
       "                .geemap-dark .jupyter-button {\n",
       "                    --jp-layout-color3: #383838;\n",
       "                }\n",
       "\n",
       "                .geemap-colab {\n",
       "                    background-color: var(--colab-primary-surface-color, white);\n",
       "                }\n",
       "\n",
       "                .geemap-colab .jupyter-button {\n",
       "                    --jp-layout-color3: var(--colab-primary-surface-color, white);\n",
       "                }\n",
       "            </style>\n",
       "            "
      ]
     },
     "metadata": {},
     "output_type": "display_data"
    }
   ],
   "execution_count": 63
  },
  {
   "cell_type": "code",
   "id": "8a9a42c5-b7b5-467d-b192-2dcc3f060379",
   "metadata": {
    "ExecuteTime": {
     "end_time": "2024-11-18T17:00:12.461451Z",
     "start_time": "2024-11-18T17:00:12.450927Z"
    }
   },
   "source": [
    "# Displaying all the unique values of the 'Herbaceas' column\n",
    "unique_values = {'Herbaceas': gdf['Herbaceas'].unique().tolist()}\n",
    "display(unique_values)\n",
    "\n",
    "# Translations of unique values:\n",
    "# Gramineas: Grasses\n",
    "# Otras Herbaceas: Other Herbaceous (plants)\n",
    "# Musaceas: Bananas (referring to the family Musaceae, which includes banana plants)"
   ],
   "outputs": [
    {
     "data": {
      "text/plain": [
       "<IPython.core.display.HTML object>"
      ],
      "text/html": [
       "\n",
       "            <style>\n",
       "                .geemap-dark {\n",
       "                    --jp-widgets-color: white;\n",
       "                    --jp-widgets-label-color: white;\n",
       "                    --jp-ui-font-color1: white;\n",
       "                    --jp-layout-color2: #454545;\n",
       "                    background-color: #383838;\n",
       "                }\n",
       "\n",
       "                .geemap-dark .jupyter-button {\n",
       "                    --jp-layout-color3: #383838;\n",
       "                }\n",
       "\n",
       "                .geemap-colab {\n",
       "                    background-color: var(--colab-primary-surface-color, white);\n",
       "                }\n",
       "\n",
       "                .geemap-colab .jupyter-button {\n",
       "                    --jp-layout-color3: var(--colab-primary-surface-color, white);\n",
       "                }\n",
       "            </style>\n",
       "            "
      ]
     },
     "metadata": {},
     "output_type": "display_data"
    },
    {
     "data": {
      "text/plain": [
       "{'Herbaceas': [nan, 'Gramineas', 'Otras Herbaceas', 'Musaceas']}"
      ]
     },
     "metadata": {},
     "output_type": "display_data"
    }
   ],
   "execution_count": 64
  },
  {
   "cell_type": "code",
   "id": "2c026f66-1582-4b4e-8bfe-0baf9e2dce54",
   "metadata": {
    "ExecuteTime": {
     "end_time": "2024-11-18T17:00:12.845295Z",
     "start_time": "2024-11-18T17:00:12.833402Z"
    }
   },
   "source": [
    "unique_values = df['Pasto_Arb'].unique()\n",
    "print(unique_values)\n",
    "#Pastures typically consist of grasses and legumes, which are cultivated or naturally occurring plants that provide food for grazing animals.\n",
    "#Management: Pastures can be managed through practices like rotation grazing, where animals are moved between different pasture areas to prevent overgrazing and allow for regrowth.\n",
    "#Pastos mezclados (70-90%): Mixed Pastures (70-90%)\n",
    "#Pastos Puros (90-100%): Pure Pastures (90-100%)\n",
    "#Pastos Combinados (50-70%): Combined Pastures (50-70%)"
   ],
   "outputs": [
    {
     "data": {
      "text/plain": [
       "<IPython.core.display.HTML object>"
      ],
      "text/html": [
       "\n",
       "            <style>\n",
       "                .geemap-dark {\n",
       "                    --jp-widgets-color: white;\n",
       "                    --jp-widgets-label-color: white;\n",
       "                    --jp-ui-font-color1: white;\n",
       "                    --jp-layout-color2: #454545;\n",
       "                    background-color: #383838;\n",
       "                }\n",
       "\n",
       "                .geemap-dark .jupyter-button {\n",
       "                    --jp-layout-color3: #383838;\n",
       "                }\n",
       "\n",
       "                .geemap-colab {\n",
       "                    background-color: var(--colab-primary-surface-color, white);\n",
       "                }\n",
       "\n",
       "                .geemap-colab .jupyter-button {\n",
       "                    --jp-layout-color3: var(--colab-primary-surface-color, white);\n",
       "                }\n",
       "            </style>\n",
       "            "
      ]
     },
     "metadata": {},
     "output_type": "display_data"
    },
    {
     "name": "stdout",
     "output_type": "stream",
     "text": [
      "[nan 'Pastos mezclados (70-90%)' 'Pastos Puros (90-100%)'\n",
      " 'Pastos Combinados (50-70%)']\n"
     ]
    }
   ],
   "execution_count": 65
  },
  {
   "cell_type": "code",
   "id": "2a4c54f8-09ef-4363-93f2-e4029cfaf496",
   "metadata": {
    "ExecuteTime": {
     "end_time": "2024-11-18T17:00:13.257536Z",
     "start_time": "2024-11-18T17:00:13.247506Z"
    }
   },
   "source": [
    "unique_values = df['Cultivo'].unique()\n",
    "print(unique_values)\n",
    "#Piña: Pineapple\n",
    "#Otro: Other\n",
    "#Arroz: Rice\n",
    "#Cítricos: Citrus (fruits)\n",
    "#Caña: Sugarcane\n",
    "#Palma: Palm (often referring to palm trees)\n",
    "#Banano: Banana\n",
    "#Melón: Melon\n",
    "#Sandía: Watermelon\n",
    "#Café: Coffee\n",
    "\n",
    "\n",
    "#example. NA not a crop "
   ],
   "outputs": [
    {
     "data": {
      "text/plain": [
       "<IPython.core.display.HTML object>"
      ],
      "text/html": [
       "\n",
       "            <style>\n",
       "                .geemap-dark {\n",
       "                    --jp-widgets-color: white;\n",
       "                    --jp-widgets-label-color: white;\n",
       "                    --jp-ui-font-color1: white;\n",
       "                    --jp-layout-color2: #454545;\n",
       "                    background-color: #383838;\n",
       "                }\n",
       "\n",
       "                .geemap-dark .jupyter-button {\n",
       "                    --jp-layout-color3: #383838;\n",
       "                }\n",
       "\n",
       "                .geemap-colab {\n",
       "                    background-color: var(--colab-primary-surface-color, white);\n",
       "                }\n",
       "\n",
       "                .geemap-colab .jupyter-button {\n",
       "                    --jp-layout-color3: var(--colab-primary-surface-color, white);\n",
       "                }\n",
       "            </style>\n",
       "            "
      ]
     },
     "metadata": {},
     "output_type": "display_data"
    },
    {
     "name": "stdout",
     "output_type": "stream",
     "text": [
      "[nan 'Pina' 'Otro' 'Arroz' 'Citricos' 'Cana' 'Palma' 'Banano' 'Melon'\n",
      " 'Sandia' 'Cafe']\n"
     ]
    }
   ],
   "execution_count": 66
  },
  {
   "cell_type": "code",
   "id": "e5dfeb79-5cd8-462d-9b6f-384ac31535da",
   "metadata": {
    "ExecuteTime": {
     "end_time": "2024-11-18T17:00:13.643230Z",
     "start_time": "2024-11-18T17:00:13.632230Z"
    }
   },
   "source": [
    "unique_values = df['Humedal'].unique()\n",
    "print(unique_values)\n",
    "#Pantano (Palustre): Swamp (Marsh)\n",
    "#Cuerpos de agua: Bodies of water\n",
    "#Yolillal: (This term refers to a specific type of wetland or habitat, often associated with palm species in tropical areas. It may not have a direct translation.)\n",
    "#Salinera: Salt flat or Saline area\n",
    "#Manglar - Mangrove:\n",
    "#Mangroves are coastal ecosystems found in tropical and subtropical regions, where saltwater from the ocean meets freshwater from rivers. They are directly associated with the ocean and serve as a transition zone between land and sea, providing vital habitats for many marine and terrestrial species."
   ],
   "outputs": [
    {
     "data": {
      "text/plain": [
       "<IPython.core.display.HTML object>"
      ],
      "text/html": [
       "\n",
       "            <style>\n",
       "                .geemap-dark {\n",
       "                    --jp-widgets-color: white;\n",
       "                    --jp-widgets-label-color: white;\n",
       "                    --jp-ui-font-color1: white;\n",
       "                    --jp-layout-color2: #454545;\n",
       "                    background-color: #383838;\n",
       "                }\n",
       "\n",
       "                .geemap-dark .jupyter-button {\n",
       "                    --jp-layout-color3: #383838;\n",
       "                }\n",
       "\n",
       "                .geemap-colab {\n",
       "                    background-color: var(--colab-primary-surface-color, white);\n",
       "                }\n",
       "\n",
       "                .geemap-colab .jupyter-button {\n",
       "                    --jp-layout-color3: var(--colab-primary-surface-color, white);\n",
       "                }\n",
       "            </style>\n",
       "            "
      ]
     },
     "metadata": {},
     "output_type": "display_data"
    },
    {
     "name": "stdout",
     "output_type": "stream",
     "text": [
      "[nan 'Pantano (Palustre)' 'Cuerpos de agua' 'Yolillal' 'Salinera'\n",
      " 'Manglar']\n"
     ]
    }
   ],
   "execution_count": 67
  },
  {
   "cell_type": "code",
   "id": "2611c62c-67d7-413c-9ed0-37b298049d4f",
   "metadata": {
    "ExecuteTime": {
     "end_time": "2024-11-18T17:00:14.012428Z",
     "start_time": "2024-11-18T17:00:14.001407Z"
    }
   },
   "source": [
    "unique_values = df['Terreno'].unique()\n",
    "print(unique_values)\n",
    "#Otras superficies: Other surfaces\n",
    "#Terreno descubierto: Exposed land or Bare ground\n",
    "#Suelo desnudo: Bare soil"
   ],
   "outputs": [
    {
     "data": {
      "text/plain": [
       "<IPython.core.display.HTML object>"
      ],
      "text/html": [
       "\n",
       "            <style>\n",
       "                .geemap-dark {\n",
       "                    --jp-widgets-color: white;\n",
       "                    --jp-widgets-label-color: white;\n",
       "                    --jp-ui-font-color1: white;\n",
       "                    --jp-layout-color2: #454545;\n",
       "                    background-color: #383838;\n",
       "                }\n",
       "\n",
       "                .geemap-dark .jupyter-button {\n",
       "                    --jp-layout-color3: #383838;\n",
       "                }\n",
       "\n",
       "                .geemap-colab {\n",
       "                    background-color: var(--colab-primary-surface-color, white);\n",
       "                }\n",
       "\n",
       "                .geemap-colab .jupyter-button {\n",
       "                    --jp-layout-color3: var(--colab-primary-surface-color, white);\n",
       "                }\n",
       "            </style>\n",
       "            "
      ]
     },
     "metadata": {},
     "output_type": "display_data"
    },
    {
     "name": "stdout",
     "output_type": "stream",
     "text": [
      "[nan 'Otras superficies' 'Terreno descubierto' 'Suelo desnudo']\n"
     ]
    }
   ],
   "execution_count": 68
  },
  {
   "cell_type": "code",
   "id": "ca61480d-9e72-4849-a23e-c96da39bff76",
   "metadata": {
    "ExecuteTime": {
     "end_time": "2024-11-18T17:00:14.411358Z",
     "start_time": "2024-11-18T17:00:14.398359Z"
    }
   },
   "source": [
    "unique_values = df['Agua'].unique()\n",
    "print(unique_values)"
   ],
   "outputs": [
    {
     "data": {
      "text/plain": [
       "<IPython.core.display.HTML object>"
      ],
      "text/html": [
       "\n",
       "            <style>\n",
       "                .geemap-dark {\n",
       "                    --jp-widgets-color: white;\n",
       "                    --jp-widgets-label-color: white;\n",
       "                    --jp-ui-font-color1: white;\n",
       "                    --jp-layout-color2: #454545;\n",
       "                    background-color: #383838;\n",
       "                }\n",
       "\n",
       "                .geemap-dark .jupyter-button {\n",
       "                    --jp-layout-color3: #383838;\n",
       "                }\n",
       "\n",
       "                .geemap-colab {\n",
       "                    background-color: var(--colab-primary-surface-color, white);\n",
       "                }\n",
       "\n",
       "                .geemap-colab .jupyter-button {\n",
       "                    --jp-layout-color3: var(--colab-primary-surface-color, white);\n",
       "                }\n",
       "            </style>\n",
       "            "
      ]
     },
     "metadata": {},
     "output_type": "display_data"
    },
    {
     "name": "stdout",
     "output_type": "stream",
     "text": [
      "[nan 'Continentales' 'Mar�timas']\n"
     ]
    }
   ],
   "execution_count": 69
  },
  {
   "cell_type": "code",
   "id": "e4682836-bef2-4b1a-917d-f063a34d98b7",
   "metadata": {
    "ExecuteTime": {
     "end_time": "2024-11-18T17:00:15.270431Z",
     "start_time": "2024-11-18T17:00:15.265445Z"
    }
   },
   "source": [
    "#filtered_gdf = gdf[gdf['Agua'] == 'Continentales']\n",
    "\n",
    "# Print the first 100 rows (or fewer if less than 100 exist)\n",
    "#print(filtered_gdf.head(10))"
   ],
   "outputs": [
    {
     "data": {
      "text/plain": [
       "<IPython.core.display.HTML object>"
      ],
      "text/html": [
       "\n",
       "            <style>\n",
       "                .geemap-dark {\n",
       "                    --jp-widgets-color: white;\n",
       "                    --jp-widgets-label-color: white;\n",
       "                    --jp-ui-font-color1: white;\n",
       "                    --jp-layout-color2: #454545;\n",
       "                    background-color: #383838;\n",
       "                }\n",
       "\n",
       "                .geemap-dark .jupyter-button {\n",
       "                    --jp-layout-color3: #383838;\n",
       "                }\n",
       "\n",
       "                .geemap-colab {\n",
       "                    background-color: var(--colab-primary-surface-color, white);\n",
       "                }\n",
       "\n",
       "                .geemap-colab .jupyter-button {\n",
       "                    --jp-layout-color3: var(--colab-primary-surface-color, white);\n",
       "                }\n",
       "            </style>\n",
       "            "
      ]
     },
     "metadata": {},
     "output_type": "display_data"
    }
   ],
   "execution_count": 70
  },
  {
   "cell_type": "code",
   "id": "232deaa2-279c-4dd1-b09d-9c7ac769ee2e",
   "metadata": {
    "ExecuteTime": {
     "end_time": "2024-11-18T17:00:15.774700Z",
     "start_time": "2024-11-18T17:00:15.767043Z"
    }
   },
   "source": [
    "unique_values = df['Otra_clase'].unique()\n",
    "print(unique_values)\n",
    "#dificado / Desarrollado: Built-up / Developed (referring to developed or urbanized land)\n",
    "#Suelo desnudo: Bare soil\n",
    "#Nubes: Clouds\n",
    "#Sombra de nubes: Cloud shadow\n",
    "#Páramo: Páramo (a high-altitude ecosystem in tropical regions, typically above the treeline, found in the Andes mountains, characterized by unique vegetation and climate)\n",
    "#Playas y arenales: Beaches and sandy areas"
   ],
   "outputs": [
    {
     "data": {
      "text/plain": [
       "<IPython.core.display.HTML object>"
      ],
      "text/html": [
       "\n",
       "            <style>\n",
       "                .geemap-dark {\n",
       "                    --jp-widgets-color: white;\n",
       "                    --jp-widgets-label-color: white;\n",
       "                    --jp-ui-font-color1: white;\n",
       "                    --jp-layout-color2: #454545;\n",
       "                    background-color: #383838;\n",
       "                }\n",
       "\n",
       "                .geemap-dark .jupyter-button {\n",
       "                    --jp-layout-color3: #383838;\n",
       "                }\n",
       "\n",
       "                .geemap-colab {\n",
       "                    background-color: var(--colab-primary-surface-color, white);\n",
       "                }\n",
       "\n",
       "                .geemap-colab .jupyter-button {\n",
       "                    --jp-layout-color3: var(--colab-primary-surface-color, white);\n",
       "                }\n",
       "            </style>\n",
       "            "
      ]
     },
     "metadata": {},
     "output_type": "display_data"
    },
    {
     "name": "stdout",
     "output_type": "stream",
     "text": [
      "[nan 'Edificado / Desarrollado' 'Suelo desnudo' 'Nubes' 'Sombra de nubes'\n",
      " 'Paramo' 'Playas y arenales']\n"
     ]
    }
   ],
   "execution_count": 71
  },
  {
   "cell_type": "code",
   "id": "c6b1afd2-f0aa-4086-a411-6b4a8630d8be",
   "metadata": {
    "ExecuteTime": {
     "end_time": "2024-11-18T17:00:15.804317Z",
     "start_time": "2024-11-18T17:00:15.796699Z"
    }
   },
   "source": [
    "unique_values = df['SAF'].unique()\n",
    "print(unique_values)\n",
    "#Cultivo Puro (90-100%): Pure Crop (90-100%) (indicates fields primarily or exclusively planted with one crop)\n",
    "#Cultivo mezclado (70-90%): Mixed Crop (70-90%) (fields mostly planted with one crop but mixed with a smaller proportion of other crops)\n",
    "#Cultivo Combinado (50-70%): Combined Crop (50-70%) (fields with a balanced mix of different crops, but where one may still be dominant)"
   ],
   "outputs": [
    {
     "data": {
      "text/plain": [
       "<IPython.core.display.HTML object>"
      ],
      "text/html": [
       "\n",
       "            <style>\n",
       "                .geemap-dark {\n",
       "                    --jp-widgets-color: white;\n",
       "                    --jp-widgets-label-color: white;\n",
       "                    --jp-ui-font-color1: white;\n",
       "                    --jp-layout-color2: #454545;\n",
       "                    background-color: #383838;\n",
       "                }\n",
       "\n",
       "                .geemap-dark .jupyter-button {\n",
       "                    --jp-layout-color3: #383838;\n",
       "                }\n",
       "\n",
       "                .geemap-colab {\n",
       "                    background-color: var(--colab-primary-surface-color, white);\n",
       "                }\n",
       "\n",
       "                .geemap-colab .jupyter-button {\n",
       "                    --jp-layout-color3: var(--colab-primary-surface-color, white);\n",
       "                }\n",
       "            </style>\n",
       "            "
      ]
     },
     "metadata": {},
     "output_type": "display_data"
    },
    {
     "name": "stdout",
     "output_type": "stream",
     "text": [
      "[nan 'Cultivo Puro (90-100%)' 'Cultivo mezclado (70-90%)'\n",
      " 'Cultivo Combinado (50-70%)']\n"
     ]
    }
   ],
   "execution_count": 72
  },
  {
   "cell_type": "code",
   "id": "e7f3d6f1-c770-4dbb-9c4f-4575eb616771",
   "metadata": {
    "ExecuteTime": {
     "end_time": "2024-11-18T17:00:16.190234Z",
     "start_time": "2024-11-18T17:00:16.181847Z"
    }
   },
   "source": [
    "unique_values = df['Cambios15_'].unique()\n",
    "print(unique_values)"
   ],
   "outputs": [
    {
     "data": {
      "text/plain": [
       "<IPython.core.display.HTML object>"
      ],
      "text/html": [
       "\n",
       "            <style>\n",
       "                .geemap-dark {\n",
       "                    --jp-widgets-color: white;\n",
       "                    --jp-widgets-label-color: white;\n",
       "                    --jp-ui-font-color1: white;\n",
       "                    --jp-layout-color2: #454545;\n",
       "                    background-color: #383838;\n",
       "                }\n",
       "\n",
       "                .geemap-dark .jupyter-button {\n",
       "                    --jp-layout-color3: #383838;\n",
       "                }\n",
       "\n",
       "                .geemap-colab {\n",
       "                    background-color: var(--colab-primary-surface-color, white);\n",
       "                }\n",
       "\n",
       "                .geemap-colab .jupyter-button {\n",
       "                    --jp-layout-color3: var(--colab-primary-surface-color, white);\n",
       "                }\n",
       "            </style>\n",
       "            "
      ]
     },
     "metadata": {},
     "output_type": "display_data"
    },
    {
     "name": "stdout",
     "output_type": "stream",
     "text": [
      "['No se determina' 'No' 'Si' nan]\n"
     ]
    }
   ],
   "execution_count": 73
  },
  {
   "cell_type": "code",
   "id": "139259b3-30a0-45c0-ab2b-9e62c9b322d1",
   "metadata": {
    "ExecuteTime": {
     "end_time": "2024-11-18T17:00:16.565044Z",
     "start_time": "2024-11-18T17:00:16.558549Z"
    }
   },
   "source": [
    "unique_values = df['Gana_Perdi'].unique()\n",
    "print(unique_values)"
   ],
   "outputs": [
    {
     "data": {
      "text/plain": [
       "<IPython.core.display.HTML object>"
      ],
      "text/html": [
       "\n",
       "            <style>\n",
       "                .geemap-dark {\n",
       "                    --jp-widgets-color: white;\n",
       "                    --jp-widgets-label-color: white;\n",
       "                    --jp-ui-font-color1: white;\n",
       "                    --jp-layout-color2: #454545;\n",
       "                    background-color: #383838;\n",
       "                }\n",
       "\n",
       "                .geemap-dark .jupyter-button {\n",
       "                    --jp-layout-color3: #383838;\n",
       "                }\n",
       "\n",
       "                .geemap-colab {\n",
       "                    background-color: var(--colab-primary-surface-color, white);\n",
       "                }\n",
       "\n",
       "                .geemap-colab .jupyter-button {\n",
       "                    --jp-layout-color3: var(--colab-primary-surface-color, white);\n",
       "                }\n",
       "            </style>\n",
       "            "
      ]
     },
     "metadata": {},
     "output_type": "display_data"
    },
    {
     "name": "stdout",
     "output_type": "stream",
     "text": [
      "[nan 'Perdida de Bosque' 'Ganancia de Bosque']\n"
     ]
    }
   ],
   "execution_count": 74
  },
  {
   "cell_type": "code",
   "id": "f288940d-b935-45f6-a9ad-064a9ddbf742",
   "metadata": {
    "ExecuteTime": {
     "end_time": "2024-11-18T17:00:16.923618Z",
     "start_time": "2024-11-18T17:00:16.909100Z"
    }
   },
   "source": [
    "#lets try and make connections\n",
    "# Specify the columns you want to analyze\n",
    "target_column = 'Vegetacion'  # Column you want to examine\n",
    "condition_column = 'Cultivo'  # Column that should not have NaNs\n",
    "\n",
    "# Filter rows where 'condition_column' is not NaN\n",
    "filtered_gdf = gdf[gdf[condition_column].notna()]\n",
    "\n",
    "# Display the first 10 values in the 'Vegetacion' column for these filtered rows\n",
    "x= filtered_gdf[target_column].head(10000)\n",
    "\n",
    "# Display all unique values in the 'Vegetacion' column for these filtered rows\n",
    "print(x.unique())\n"
   ],
   "outputs": [
    {
     "data": {
      "text/plain": [
       "<IPython.core.display.HTML object>"
      ],
      "text/html": [
       "\n",
       "            <style>\n",
       "                .geemap-dark {\n",
       "                    --jp-widgets-color: white;\n",
       "                    --jp-widgets-label-color: white;\n",
       "                    --jp-ui-font-color1: white;\n",
       "                    --jp-layout-color2: #454545;\n",
       "                    background-color: #383838;\n",
       "                }\n",
       "\n",
       "                .geemap-dark .jupyter-button {\n",
       "                    --jp-layout-color3: #383838;\n",
       "                }\n",
       "\n",
       "                .geemap-colab {\n",
       "                    background-color: var(--colab-primary-surface-color, white);\n",
       "                }\n",
       "\n",
       "                .geemap-colab .jupyter-button {\n",
       "                    --jp-layout-color3: var(--colab-primary-surface-color, white);\n",
       "                }\n",
       "            </style>\n",
       "            "
      ]
     },
     "metadata": {},
     "output_type": "display_data"
    },
    {
     "name": "stdout",
     "output_type": "stream",
     "text": [
      "['Otra vegetacion' nan 'Herbaceas' 'Arboles' 'Arbustos' 'Palmas' 'Saran'\n",
      " 'Plastico']\n"
     ]
    }
   ],
   "execution_count": 75
  },
  {
   "cell_type": "code",
   "id": "b8527eff-a52d-4f82-bb31-5cc4083aea7c",
   "metadata": {
    "ExecuteTime": {
     "end_time": "2024-11-18T17:00:17.287353Z",
     "start_time": "2024-11-18T17:00:17.276757Z"
    }
   },
   "source": [
    "# Example: Filter rows based on a condition in another column\n",
    "condition_column = 'Herbaceas'  # The column where you have a condition\n",
    "target_column = 'Pasto_Arb'        # The column you want to examine\n",
    "condition_value = 'Musaceas'     # The specific value in the condition column\n",
    "#Gramineas' 'Otras Herbaceas' 'Musaceas'\n",
    "# Filter rows where `condition_column` equals `condition_value`\n",
    "filtered_gdf = gdf[gdf[condition_column] == condition_value]\n",
    "\n",
    "# Display the unique values in `target_column` for these filtered rows\n",
    "print(filtered_gdf[target_column].unique())\n"
   ],
   "outputs": [
    {
     "data": {
      "text/plain": [
       "<IPython.core.display.HTML object>"
      ],
      "text/html": [
       "\n",
       "            <style>\n",
       "                .geemap-dark {\n",
       "                    --jp-widgets-color: white;\n",
       "                    --jp-widgets-label-color: white;\n",
       "                    --jp-ui-font-color1: white;\n",
       "                    --jp-layout-color2: #454545;\n",
       "                    background-color: #383838;\n",
       "                }\n",
       "\n",
       "                .geemap-dark .jupyter-button {\n",
       "                    --jp-layout-color3: #383838;\n",
       "                }\n",
       "\n",
       "                .geemap-colab {\n",
       "                    background-color: var(--colab-primary-surface-color, white);\n",
       "                }\n",
       "\n",
       "                .geemap-colab .jupyter-button {\n",
       "                    --jp-layout-color3: var(--colab-primary-surface-color, white);\n",
       "                }\n",
       "            </style>\n",
       "            "
      ]
     },
     "metadata": {},
     "output_type": "display_data"
    },
    {
     "name": "stdout",
     "output_type": "stream",
     "text": [
      "['Pastos Combinados (50-70%)' 'Pastos mezclados (70-90%)' nan\n",
      " 'Pastos Puros (90-100%)']\n"
     ]
    }
   ],
   "execution_count": 76
  },
  {
   "cell_type": "code",
   "id": "cdf10ad5-acde-4bbd-89fd-36ef85110988",
   "metadata": {
    "ExecuteTime": {
     "end_time": "2024-11-18T17:00:18.072994Z",
     "start_time": "2024-11-18T17:00:17.984164Z"
    }
   },
   "source": [
    "gdf2 = gdf.copy()  # Make a copy of the original GeoDataFrame\n",
    "gdf2['Cultivo'] = gdf2['Cultivo'].replace(np.nan, 'noCrop')  \n",
    "#Turning all the nan's in cultivo to \"Not  crop\" because nan just means their not crops"
   ],
   "outputs": [
    {
     "data": {
      "text/plain": [
       "<IPython.core.display.HTML object>"
      ],
      "text/html": [
       "\n",
       "            <style>\n",
       "                .geemap-dark {\n",
       "                    --jp-widgets-color: white;\n",
       "                    --jp-widgets-label-color: white;\n",
       "                    --jp-ui-font-color1: white;\n",
       "                    --jp-layout-color2: #454545;\n",
       "                    background-color: #383838;\n",
       "                }\n",
       "\n",
       "                .geemap-dark .jupyter-button {\n",
       "                    --jp-layout-color3: #383838;\n",
       "                }\n",
       "\n",
       "                .geemap-colab {\n",
       "                    background-color: var(--colab-primary-surface-color, white);\n",
       "                }\n",
       "\n",
       "                .geemap-colab .jupyter-button {\n",
       "                    --jp-layout-color3: var(--colab-primary-surface-color, white);\n",
       "                }\n",
       "            </style>\n",
       "            "
      ]
     },
     "metadata": {},
     "output_type": "display_data"
    }
   ],
   "execution_count": 77
  },
  {
   "cell_type": "code",
   "id": "06b19243-0d1e-4038-ba90-7cb58fd6d2a2",
   "metadata": {
    "ExecuteTime": {
     "end_time": "2024-11-18T17:00:18.159274Z",
     "start_time": "2024-11-18T17:00:18.077992Z"
    }
   },
   "source": [
    "na_count = gdf2['Cultivo'].isna().sum()\n",
    "print(na_count)\n",
    "#checking theres no nans\n",
    "unique_values = gdf2['Cultivo'].unique()\n",
    "print(unique_values)\n",
    "#Making a copy for our Crop classifier \n",
    "#all nans are gone now \n",
    "gdfCrop=gdf2.copy()"
   ],
   "outputs": [
    {
     "data": {
      "text/plain": [
       "<IPython.core.display.HTML object>"
      ],
      "text/html": [
       "\n",
       "            <style>\n",
       "                .geemap-dark {\n",
       "                    --jp-widgets-color: white;\n",
       "                    --jp-widgets-label-color: white;\n",
       "                    --jp-ui-font-color1: white;\n",
       "                    --jp-layout-color2: #454545;\n",
       "                    background-color: #383838;\n",
       "                }\n",
       "\n",
       "                .geemap-dark .jupyter-button {\n",
       "                    --jp-layout-color3: #383838;\n",
       "                }\n",
       "\n",
       "                .geemap-colab {\n",
       "                    background-color: var(--colab-primary-surface-color, white);\n",
       "                }\n",
       "\n",
       "                .geemap-colab .jupyter-button {\n",
       "                    --jp-layout-color3: var(--colab-primary-surface-color, white);\n",
       "                }\n",
       "            </style>\n",
       "            "
      ]
     },
     "metadata": {},
     "output_type": "display_data"
    },
    {
     "name": "stdout",
     "output_type": "stream",
     "text": [
      "0\n",
      "['noCrop' 'Pina' 'Otro' 'Arroz' 'Citricos' 'Cana' 'Palma' 'Banano' 'Melon'\n",
      " 'Sandia' 'Cafe']\n"
     ]
    }
   ],
   "execution_count": 78
  },
  {
   "cell_type": "code",
   "id": "5d735e21-3e36-4367-bb44-33218d1f92dc",
   "metadata": {
    "ExecuteTime": {
     "end_time": "2024-11-18T17:00:18.856418Z",
     "start_time": "2024-11-18T17:00:18.852216Z"
    }
   },
   "source": [
    "#LABEL ENCODER \n",
    "#from sklearn.preprocessing import LabelEncoder\n",
    "#le = LabelEncoder()\n",
    "#gdf1['Cultivo'] = le.fit_transform(gdf1['Cultivo'])\n",
    "#gdf1.head()"
   ],
   "outputs": [
    {
     "data": {
      "text/plain": [
       "<IPython.core.display.HTML object>"
      ],
      "text/html": [
       "\n",
       "            <style>\n",
       "                .geemap-dark {\n",
       "                    --jp-widgets-color: white;\n",
       "                    --jp-widgets-label-color: white;\n",
       "                    --jp-ui-font-color1: white;\n",
       "                    --jp-layout-color2: #454545;\n",
       "                    background-color: #383838;\n",
       "                }\n",
       "\n",
       "                .geemap-dark .jupyter-button {\n",
       "                    --jp-layout-color3: #383838;\n",
       "                }\n",
       "\n",
       "                .geemap-colab {\n",
       "                    background-color: var(--colab-primary-surface-color, white);\n",
       "                }\n",
       "\n",
       "                .geemap-colab .jupyter-button {\n",
       "                    --jp-layout-color3: var(--colab-primary-surface-color, white);\n",
       "                }\n",
       "            </style>\n",
       "            "
      ]
     },
     "metadata": {},
     "output_type": "display_data"
    }
   ],
   "execution_count": 79
  },
  {
   "cell_type": "code",
   "id": "08383594-ed9f-4421-8f8f-1beb42d95974",
   "metadata": {
    "ExecuteTime": {
     "end_time": "2024-11-18T17:00:18.869398Z",
     "start_time": "2024-11-18T17:00:18.864416Z"
    }
   },
   "source": [
    "print(gdf.columns)"
   ],
   "outputs": [
    {
     "data": {
      "text/plain": [
       "<IPython.core.display.HTML object>"
      ],
      "text/html": [
       "\n",
       "            <style>\n",
       "                .geemap-dark {\n",
       "                    --jp-widgets-color: white;\n",
       "                    --jp-widgets-label-color: white;\n",
       "                    --jp-ui-font-color1: white;\n",
       "                    --jp-layout-color2: #454545;\n",
       "                    background-color: #383838;\n",
       "                }\n",
       "\n",
       "                .geemap-dark .jupyter-button {\n",
       "                    --jp-layout-color3: #383838;\n",
       "                }\n",
       "\n",
       "                .geemap-colab {\n",
       "                    background-color: var(--colab-primary-surface-color, white);\n",
       "                }\n",
       "\n",
       "                .geemap-colab .jupyter-button {\n",
       "                    --jp-layout-color3: var(--colab-primary-surface-color, white);\n",
       "                }\n",
       "            </style>\n",
       "            "
      ]
     },
     "metadata": {},
     "output_type": "display_data"
    },
    {
     "name": "stdout",
     "output_type": "stream",
     "text": [
      "Index(['plotid', 'sampleid', 'Uso', 'Cobertura', 'Vegetacion', 'Herbaceas',\n",
      "       'Pasto_Arb', 'Cultivo', 'Humedal', 'Terreno', 'Agua', 'Otra_clase',\n",
      "       'SAF', 'Cambios15_', 'Gana_Perdi', 'geometry', 'BLUE', 'GREEN', 'NIR',\n",
      "       'RED', 'SWIR1', 'SWIR2', 'altura2', 'aspect', 'aspectcos', 'aspectdeg',\n",
      "       'aspectsin', 'brightness', 'clay_1mMed', 'diff', 'elevation', 'evi',\n",
      "       'fpar', 'hand30_100', 'lai', 'mTPI', 'ndvi', 'ocs_1mMed', 'sand_1mMed',\n",
      "       'savi', 'silt_1mMed', 'slope', 'topDiv', 'wetness'],\n",
      "      dtype='object')\n"
     ]
    }
   ],
   "execution_count": 80
  },
  {
   "cell_type": "code",
   "id": "870859d7-bd37-4b21-b82f-8e2634c695be",
   "metadata": {
    "scrolled": true,
    "ExecuteTime": {
     "end_time": "2024-11-18T17:00:19.244271Z",
     "start_time": "2024-11-18T17:00:19.219529Z"
    }
   },
   "source": [
    "# Step 2: Separate features and target\n",
    "gdfCrop_sampled = gdfCrop.sample(n=10000, random_state=42)\n",
    "y = gdfCrop_sampled['Cultivo']\n",
    "X = gdfCrop_sampled[['BLUE', 'GREEN', 'NIR',\n",
    "       'RED', 'SWIR1', 'SWIR2', 'altura2', 'aspect', 'aspectcos', 'aspectdeg',\n",
    "       'aspectsin', 'brightness', 'clay_1mMed', 'diff', 'elevation', 'evi',\n",
    "       'fpar', 'hand30_100', 'lai', 'mTPI', 'ndvi', 'ocs_1mMed', 'sand_1mMed',\n",
    "       'savi', 'silt_1mMed', 'slope', 'topDiv', 'wetness']]"
   ],
   "outputs": [
    {
     "data": {
      "text/plain": [
       "<IPython.core.display.HTML object>"
      ],
      "text/html": [
       "\n",
       "            <style>\n",
       "                .geemap-dark {\n",
       "                    --jp-widgets-color: white;\n",
       "                    --jp-widgets-label-color: white;\n",
       "                    --jp-ui-font-color1: white;\n",
       "                    --jp-layout-color2: #454545;\n",
       "                    background-color: #383838;\n",
       "                }\n",
       "\n",
       "                .geemap-dark .jupyter-button {\n",
       "                    --jp-layout-color3: #383838;\n",
       "                }\n",
       "\n",
       "                .geemap-colab {\n",
       "                    background-color: var(--colab-primary-surface-color, white);\n",
       "                }\n",
       "\n",
       "                .geemap-colab .jupyter-button {\n",
       "                    --jp-layout-color3: var(--colab-primary-surface-color, white);\n",
       "                }\n",
       "            </style>\n",
       "            "
      ]
     },
     "metadata": {},
     "output_type": "display_data"
    }
   ],
   "execution_count": 81
  },
  {
   "cell_type": "code",
   "id": "9dc59059-2ffd-45d9-979a-dba0af454ea1",
   "metadata": {
    "ExecuteTime": {
     "end_time": "2024-11-18T17:00:23.025213Z",
     "start_time": "2024-11-18T17:00:19.604516Z"
    }
   },
   "source": [
    "from sklearn.model_selection import train_test_split\n",
    "from sklearn.ensemble import RandomForestClassifier\n",
    "from sklearn.metrics import accuracy_score, classification_report\n",
    "import pandas as pd\n",
    "\n",
    "\n",
    "#Split the data\n",
    "X_train, X_test, y_train, y_test = train_test_split(X, y, test_size=0.2, random_state=42)\n",
    "\n",
    "# Step 4: Train the RandomForestClassifier\n",
    "rndf = RandomForestClassifier(oob_score=True,random_state=0)\n",
    "rndf.fit(X_train, y_train)\n",
    "\n",
    "# Step 5: Evaluate the model\n",
    "y_pred = rndf.predict(X_test)\n",
    "accuracy = accuracy_score(y_test, y_pred)\n",
    "\n",
    "print(f\"Accuracy: {accuracy:.2f}\")\n",
    "print(\"Classification Report:\\n\", classification_report(y_test, y_pred))\n",
    "print('OOB r-squared =',rndf.oob_score_)\n",
    "#pd.DataFrame(clf.feature_importances_,index=X,columns=['importance']).sort_values(by='importance').plot(kind='barh', title='Variable Importance')"
   ],
   "outputs": [
    {
     "data": {
      "text/plain": [
       "<IPython.core.display.HTML object>"
      ],
      "text/html": [
       "\n",
       "            <style>\n",
       "                .geemap-dark {\n",
       "                    --jp-widgets-color: white;\n",
       "                    --jp-widgets-label-color: white;\n",
       "                    --jp-ui-font-color1: white;\n",
       "                    --jp-layout-color2: #454545;\n",
       "                    background-color: #383838;\n",
       "                }\n",
       "\n",
       "                .geemap-dark .jupyter-button {\n",
       "                    --jp-layout-color3: #383838;\n",
       "                }\n",
       "\n",
       "                .geemap-colab {\n",
       "                    background-color: var(--colab-primary-surface-color, white);\n",
       "                }\n",
       "\n",
       "                .geemap-colab .jupyter-button {\n",
       "                    --jp-layout-color3: var(--colab-primary-surface-color, white);\n",
       "                }\n",
       "            </style>\n",
       "            "
      ]
     },
     "metadata": {},
     "output_type": "display_data"
    },
    {
     "name": "stdout",
     "output_type": "stream",
     "text": [
      "Accuracy: 0.94\n",
      "Classification Report:\n",
      "               precision    recall  f1-score   support\n",
      "\n",
      "       Arroz       0.22      0.25      0.24         8\n",
      "      Banano       0.64      0.60      0.62        15\n",
      "        Cafe       0.50      0.11      0.18         9\n",
      "        Cana       0.50      0.12      0.20         8\n",
      "    Citricos       0.00      0.00      0.00         2\n",
      "       Melon       0.00      0.00      0.00         8\n",
      "        Otro       0.00      0.00      0.00        48\n",
      "       Palma       0.80      0.19      0.31        21\n",
      "        Pina       1.00      0.35      0.52        20\n",
      "      Sandia       0.00      0.00      0.00         1\n",
      "      noCrop       0.95      1.00      0.97      1860\n",
      "\n",
      "    accuracy                           0.94      2000\n",
      "   macro avg       0.42      0.24      0.28      2000\n",
      "weighted avg       0.91      0.94      0.92      2000\n",
      "\n",
      "OOB r-squared = 0.93\n"
     ]
    },
    {
     "name": "stderr",
     "output_type": "stream",
     "text": [
      "C:\\Users\\Goldferret\\PycharmProjects\\NDMN-Jupyter-Notebook\\venv\\Lib\\site-packages\\sklearn\\metrics\\_classification.py:1531: UndefinedMetricWarning: Precision is ill-defined and being set to 0.0 in labels with no predicted samples. Use `zero_division` parameter to control this behavior.\n",
      "  _warn_prf(average, modifier, f\"{metric.capitalize()} is\", len(result))\n",
      "C:\\Users\\Goldferret\\PycharmProjects\\NDMN-Jupyter-Notebook\\venv\\Lib\\site-packages\\sklearn\\metrics\\_classification.py:1531: UndefinedMetricWarning: Precision is ill-defined and being set to 0.0 in labels with no predicted samples. Use `zero_division` parameter to control this behavior.\n",
      "  _warn_prf(average, modifier, f\"{metric.capitalize()} is\", len(result))\n",
      "C:\\Users\\Goldferret\\PycharmProjects\\NDMN-Jupyter-Notebook\\venv\\Lib\\site-packages\\sklearn\\metrics\\_classification.py:1531: UndefinedMetricWarning: Precision is ill-defined and being set to 0.0 in labels with no predicted samples. Use `zero_division` parameter to control this behavior.\n",
      "  _warn_prf(average, modifier, f\"{metric.capitalize()} is\", len(result))\n"
     ]
    }
   ],
   "execution_count": 82
  },
  {
   "cell_type": "code",
   "id": "812e50ba-61fb-4df3-9a3c-bcb9f5c951e2",
   "metadata": {
    "ExecuteTime": {
     "end_time": "2024-11-18T17:00:23.798415Z",
     "start_time": "2024-11-18T17:00:23.794073Z"
    }
   },
   "source": [
    "# Precision: Precision is the proportion of true positive predictions among all positive predictions for a class. \n",
    "#It measures how many selected items are relevant.\n",
    "#Recall: Recall is the proportion of true positive predictions among all actual instances of that class. \n",
    "#It measures how many relevant items are selected.\n",
    "#Precision: How accurate the model's positive predictions are for that class.\n",
    "#Recall: How many actual instances of that class were correctly predicted.\n",
    "#F1-Score: A balance between precision and recall, giving an overall measure of performance.\n",
    "#Support: The total number of actual samples in each class."
   ],
   "outputs": [
    {
     "data": {
      "text/plain": [
       "<IPython.core.display.HTML object>"
      ],
      "text/html": [
       "\n",
       "            <style>\n",
       "                .geemap-dark {\n",
       "                    --jp-widgets-color: white;\n",
       "                    --jp-widgets-label-color: white;\n",
       "                    --jp-ui-font-color1: white;\n",
       "                    --jp-layout-color2: #454545;\n",
       "                    background-color: #383838;\n",
       "                }\n",
       "\n",
       "                .geemap-dark .jupyter-button {\n",
       "                    --jp-layout-color3: #383838;\n",
       "                }\n",
       "\n",
       "                .geemap-colab {\n",
       "                    background-color: var(--colab-primary-surface-color, white);\n",
       "                }\n",
       "\n",
       "                .geemap-colab .jupyter-button {\n",
       "                    --jp-layout-color3: var(--colab-primary-surface-color, white);\n",
       "                }\n",
       "            </style>\n",
       "            "
      ]
     },
     "metadata": {},
     "output_type": "display_data"
    }
   ],
   "execution_count": 83
  },
  {
   "cell_type": "code",
   "id": "2b473bc4-89e1-4be0-a854-6a1bc1e72ede",
   "metadata": {
    "ExecuteTime": {
     "end_time": "2024-11-18T17:00:24.119413Z",
     "start_time": "2024-11-18T17:00:23.809417Z"
    }
   },
   "source": [
    "from sklearn.metrics import confusion_matrix\n",
    "import seaborn as sns\n",
    "import matplotlib.pyplot as plt\n",
    "\n",
    "# Add Confusion Matrix\n",
    "cm = confusion_matrix(y_test, y_pred)\n",
    "\n",
    "# Plot the confusion matrix using Seaborn for better visualization\n",
    "plt.figure(figsize=(8, 6))\n",
    "sns.heatmap(cm, annot=True, fmt='d', cmap='Blues', xticklabels=rndf.classes_, yticklabels=rndf.classes_)\n",
    "plt.xlabel('Predicted')\n",
    "plt.ylabel('True')\n",
    "plt.title('Confusion Matrix')\n",
    "plt.show()"
   ],
   "outputs": [
    {
     "data": {
      "text/plain": [
       "<IPython.core.display.HTML object>"
      ],
      "text/html": [
       "\n",
       "            <style>\n",
       "                .geemap-dark {\n",
       "                    --jp-widgets-color: white;\n",
       "                    --jp-widgets-label-color: white;\n",
       "                    --jp-ui-font-color1: white;\n",
       "                    --jp-layout-color2: #454545;\n",
       "                    background-color: #383838;\n",
       "                }\n",
       "\n",
       "                .geemap-dark .jupyter-button {\n",
       "                    --jp-layout-color3: #383838;\n",
       "                }\n",
       "\n",
       "                .geemap-colab {\n",
       "                    background-color: var(--colab-primary-surface-color, white);\n",
       "                }\n",
       "\n",
       "                .geemap-colab .jupyter-button {\n",
       "                    --jp-layout-color3: var(--colab-primary-surface-color, white);\n",
       "                }\n",
       "            </style>\n",
       "            "
      ]
     },
     "metadata": {},
     "output_type": "display_data"
    },
    {
     "data": {
      "text/plain": [
       "<Figure size 800x600 with 2 Axes>"
      ],
      "image/png": "[encoded data removed]"
     },
     "metadata": {},
     "output_type": "display_data"
    }
   ],
   "execution_count": 84
  },
  {
   "cell_type": "code",
   "id": "23214422-2184-42ba-8646-f6b041159153",
   "metadata": {
    "ExecuteTime": {
     "end_time": "2024-11-18T17:00:24.490701Z",
     "start_time": "2024-11-18T17:00:24.486705Z"
    }
   },
   "source": [
    "#import pickle\n",
    "\n",
    "#let's store our models\n",
    "#pickle.dump(rndf ,open('rndf.mdl','wb'))#random forest regression\n",
    "#to load our model back into ram we can call the load method for each saved model\n",
    "#rndf = pickle.load(open('rndf.mdl', 'rb'))"
   ],
   "outputs": [
    {
     "data": {
      "text/plain": [
       "<IPython.core.display.HTML object>"
      ],
      "text/html": [
       "\n",
       "            <style>\n",
       "                .geemap-dark {\n",
       "                    --jp-widgets-color: white;\n",
       "                    --jp-widgets-label-color: white;\n",
       "                    --jp-ui-font-color1: white;\n",
       "                    --jp-layout-color2: #454545;\n",
       "                    background-color: #383838;\n",
       "                }\n",
       "\n",
       "                .geemap-dark .jupyter-button {\n",
       "                    --jp-layout-color3: #383838;\n",
       "                }\n",
       "\n",
       "                .geemap-colab {\n",
       "                    background-color: var(--colab-primary-surface-color, white);\n",
       "                }\n",
       "\n",
       "                .geemap-colab .jupyter-button {\n",
       "                    --jp-layout-color3: var(--colab-primary-surface-color, white);\n",
       "                }\n",
       "            </style>\n",
       "            "
      ]
     },
     "metadata": {},
     "output_type": "display_data"
    }
   ],
   "execution_count": 85
  },
  {
   "cell_type": "code",
   "id": "63dcd623-f3d7-453c-837c-ca837279991d",
   "metadata": {
    "ExecuteTime": {
     "end_time": "2024-11-18T17:00:24.852625Z",
     "start_time": "2024-11-18T17:00:24.845813Z"
    }
   },
   "source": [
    "value_percentages = gdfCrop_sampled['Cultivo'].value_counts(normalize=True) * 100\n",
    "print(value_percentages)"
   ],
   "outputs": [
    {
     "data": {
      "text/plain": [
       "<IPython.core.display.HTML object>"
      ],
      "text/html": [
       "\n",
       "            <style>\n",
       "                .geemap-dark {\n",
       "                    --jp-widgets-color: white;\n",
       "                    --jp-widgets-label-color: white;\n",
       "                    --jp-ui-font-color1: white;\n",
       "                    --jp-layout-color2: #454545;\n",
       "                    background-color: #383838;\n",
       "                }\n",
       "\n",
       "                .geemap-dark .jupyter-button {\n",
       "                    --jp-layout-color3: #383838;\n",
       "                }\n",
       "\n",
       "                .geemap-colab {\n",
       "                    background-color: var(--colab-primary-surface-color, white);\n",
       "                }\n",
       "\n",
       "                .geemap-colab .jupyter-button {\n",
       "                    --jp-layout-color3: var(--colab-primary-surface-color, white);\n",
       "                }\n",
       "            </style>\n",
       "            "
      ]
     },
     "metadata": {},
     "output_type": "display_data"
    },
    {
     "name": "stdout",
     "output_type": "stream",
     "text": [
      "Cultivo\n",
      "noCrop      91.37\n",
      "Otro         2.62\n",
      "Palma        1.47\n",
      "Pina         1.19\n",
      "Banano       1.04\n",
      "Arroz        0.70\n",
      "Cana         0.55\n",
      "Cafe         0.53\n",
      "Melon        0.33\n",
      "Citricos     0.19\n",
      "Sandia       0.01\n",
      "Name: proportion, dtype: float64\n"
     ]
    }
   ],
   "execution_count": 86
  },
  {
   "cell_type": "code",
   "id": "f972e28b-421d-4c08-ac19-3ba85a64e116",
   "metadata": {
    "ExecuteTime": {
     "end_time": "2024-11-18T17:00:26.294840Z",
     "start_time": "2024-11-18T17:00:25.214206Z"
    }
   },
   "source": [
    "# Initialize Earth Engine\n",
    "ee.Authenticate()  # Authenticate with your Google account if needed\n",
    "ee.Initialize(project='ee-adamornelas10')\n"
   ],
   "outputs": [
    {
     "data": {
      "text/plain": [
       "<IPython.core.display.HTML object>"
      ],
      "text/html": [
       "\n",
       "            <style>\n",
       "                .geemap-dark {\n",
       "                    --jp-widgets-color: white;\n",
       "                    --jp-widgets-label-color: white;\n",
       "                    --jp-ui-font-color1: white;\n",
       "                    --jp-layout-color2: #454545;\n",
       "                    background-color: #383838;\n",
       "                }\n",
       "\n",
       "                .geemap-dark .jupyter-button {\n",
       "                    --jp-layout-color3: #383838;\n",
       "                }\n",
       "\n",
       "                .geemap-colab {\n",
       "                    background-color: var(--colab-primary-surface-color, white);\n",
       "                }\n",
       "\n",
       "                .geemap-colab .jupyter-button {\n",
       "                    --jp-layout-color3: var(--colab-primary-surface-color, white);\n",
       "                }\n",
       "            </style>\n",
       "            "
      ]
     },
     "metadata": {},
     "output_type": "display_data"
    },
    {
     "ename": "EEException",
     "evalue": "Caller does not have required permission to use project ee-adamornelas10. Grant the caller the roles/serviceusage.serviceUsageConsumer role, or a custom role with the serviceusage.services.use permission, by visiting https://console.developers.google.com/iam-admin/iam/project?project=ee-adamornelas10 and then retry. Propagation of the new permission may take a few minutes.",
     "output_type": "error",
     "traceback": [
      "\u001B[1;31m---------------------------------------------------------------------------\u001B[0m",
      "\u001B[1;31mHttpError\u001B[0m                                 Traceback (most recent call last)",
      "File \u001B[1;32m~\\PycharmProjects\\NDMN-Jupyter-Notebook\\venv\\Lib\\site-packages\\ee\\data.py:406\u001B[0m, in \u001B[0;36m_execute_cloud_call\u001B[1;34m(call, num_retries)\u001B[0m\n\u001B[0;32m    405\u001B[0m \u001B[38;5;28;01mtry\u001B[39;00m:\n\u001B[1;32m--> 406\u001B[0m   \u001B[38;5;28;01mreturn\u001B[39;00m \u001B[43mcall\u001B[49m\u001B[38;5;241;43m.\u001B[39;49m\u001B[43mexecute\u001B[49m\u001B[43m(\u001B[49m\u001B[43mnum_retries\u001B[49m\u001B[38;5;241;43m=\u001B[39;49m\u001B[43mnum_retries\u001B[49m\u001B[43m)\u001B[49m\n\u001B[0;32m    407\u001B[0m \u001B[38;5;28;01mexcept\u001B[39;00m googleapiclient\u001B[38;5;241m.\u001B[39merrors\u001B[38;5;241m.\u001B[39mHttpError \u001B[38;5;28;01mas\u001B[39;00m e:\n",
      "File \u001B[1;32m~\\PycharmProjects\\NDMN-Jupyter-Notebook\\venv\\Lib\\site-packages\\googleapiclient\\_helpers.py:130\u001B[0m, in \u001B[0;36mpositional.<locals>.positional_decorator.<locals>.positional_wrapper\u001B[1;34m(*args, **kwargs)\u001B[0m\n\u001B[0;32m    129\u001B[0m         logger\u001B[38;5;241m.\u001B[39mwarning(message)\n\u001B[1;32m--> 130\u001B[0m \u001B[38;5;28;01mreturn\u001B[39;00m \u001B[43mwrapped\u001B[49m\u001B[43m(\u001B[49m\u001B[38;5;241;43m*\u001B[39;49m\u001B[43margs\u001B[49m\u001B[43m,\u001B[49m\u001B[43m \u001B[49m\u001B[38;5;241;43m*\u001B[39;49m\u001B[38;5;241;43m*\u001B[39;49m\u001B[43mkwargs\u001B[49m\u001B[43m)\u001B[49m\n",
      "File \u001B[1;32m~\\PycharmProjects\\NDMN-Jupyter-Notebook\\venv\\Lib\\site-packages\\googleapiclient\\http.py:938\u001B[0m, in \u001B[0;36mHttpRequest.execute\u001B[1;34m(self, http, num_retries)\u001B[0m\n\u001B[0;32m    937\u001B[0m \u001B[38;5;28;01mif\u001B[39;00m resp\u001B[38;5;241m.\u001B[39mstatus \u001B[38;5;241m>\u001B[39m\u001B[38;5;241m=\u001B[39m \u001B[38;5;241m300\u001B[39m:\n\u001B[1;32m--> 938\u001B[0m     \u001B[38;5;28;01mraise\u001B[39;00m HttpError(resp, content, uri\u001B[38;5;241m=\u001B[39m\u001B[38;5;28mself\u001B[39m\u001B[38;5;241m.\u001B[39muri)\n\u001B[0;32m    939\u001B[0m \u001B[38;5;28;01mreturn\u001B[39;00m \u001B[38;5;28mself\u001B[39m\u001B[38;5;241m.\u001B[39mpostproc(resp, content)\n",
      "\u001B[1;31mHttpError\u001B[0m: <HttpError 403 when requesting https://earthengine.googleapis.com/v1/projects/ee-adamornelas10/algorithms?prettyPrint=false&alt=json returned \"Caller does not have required permission to use project ee-adamornelas10. Grant the caller the roles/serviceusage.serviceUsageConsumer role, or a custom role with the serviceusage.services.use permission, by visiting https://console.developers.google.com/iam-admin/iam/project?project=ee-adamornelas10 and then retry. Propagation of the new permission may take a few minutes.\". Details: \"[{'@type': 'type.googleapis.com/google.rpc.Help', 'links': [{'description': 'Google developer console IAM admin', 'url': 'https://console.developers.google.com/iam-admin/iam/project?project=ee-adamornelas10'}]}, {'@type': 'type.googleapis.com/google.rpc.ErrorInfo', 'reason': 'USER_PROJECT_DENIED', 'domain': 'googleapis.com', 'metadata': {'service': 'earthengine.googleapis.com', 'consumer': 'projects/ee-adamornelas10'}}]\">",
      "\nDuring handling of the above exception, another exception occurred:\n",
      "\u001B[1;31mEEException\u001B[0m                               Traceback (most recent call last)",
      "Cell \u001B[1;32mIn[87], line 3\u001B[0m\n\u001B[0;32m      1\u001B[0m \u001B[38;5;66;03m# Initialize Earth Engine\u001B[39;00m\n\u001B[0;32m      2\u001B[0m ee\u001B[38;5;241m.\u001B[39mAuthenticate()  \u001B[38;5;66;03m# Authenticate with your Google account if needed\u001B[39;00m\n\u001B[1;32m----> 3\u001B[0m \u001B[43mee\u001B[49m\u001B[38;5;241;43m.\u001B[39;49m\u001B[43mInitialize\u001B[49m\u001B[43m(\u001B[49m\u001B[43mproject\u001B[49m\u001B[38;5;241;43m=\u001B[39;49m\u001B[38;5;124;43m'\u001B[39;49m\u001B[38;5;124;43mee-adamornelas10\u001B[39;49m\u001B[38;5;124;43m'\u001B[39;49m\u001B[43m)\u001B[49m\n",
      "File \u001B[1;32m~\\PycharmProjects\\NDMN-Jupyter-Notebook\\venv\\Lib\\site-packages\\ee\\_utils.py:38\u001B[0m, in \u001B[0;36maccept_opt_prefix.<locals>.opt_fixed.<locals>.wrapper\u001B[1;34m(*args, **kwargs)\u001B[0m\n\u001B[0;32m     36\u001B[0m     \u001B[38;5;28;01mif\u001B[39;00m new_key \u001B[38;5;129;01mnot\u001B[39;00m \u001B[38;5;129;01min\u001B[39;00m kwargs:\n\u001B[0;32m     37\u001B[0m       kwargs[new_key] \u001B[38;5;241m=\u001B[39m old_key_val\n\u001B[1;32m---> 38\u001B[0m \u001B[38;5;28;01mreturn\u001B[39;00m \u001B[43mfunc\u001B[49m\u001B[43m(\u001B[49m\u001B[38;5;241;43m*\u001B[39;49m\u001B[43margs\u001B[49m\u001B[43m,\u001B[49m\u001B[43m \u001B[49m\u001B[38;5;241;43m*\u001B[39;49m\u001B[38;5;241;43m*\u001B[39;49m\u001B[43mkwargs\u001B[49m\u001B[43m)\u001B[49m\n",
      "File \u001B[1;32m~\\PycharmProjects\\NDMN-Jupyter-Notebook\\venv\\Lib\\site-packages\\ee\\__init__.py:182\u001B[0m, in \u001B[0;36mInitialize\u001B[1;34m(credentials, url, cloud_api_key, http_transport, project)\u001B[0m\n\u001B[0;32m    180\u001B[0m   \u001B[38;5;28;01mif\u001B[39;00m (adc_err \u001B[38;5;129;01min\u001B[39;00m \u001B[38;5;28mstr\u001B[39m(e)) \u001B[38;5;129;01mor\u001B[39;00m (matches \u001B[38;5;129;01mand\u001B[39;00m oauth\u001B[38;5;241m.\u001B[39mis_sdk_project(matches[\u001B[38;5;241m1\u001B[39m])):\n\u001B[0;32m    181\u001B[0m     \u001B[38;5;28;01mraise\u001B[39;00m EEException(NO_PROJECT_EXCEPTION) \u001B[38;5;28;01mfrom\u001B[39;00m \u001B[38;5;28;01mNone\u001B[39;00m\n\u001B[1;32m--> 182\u001B[0m   \u001B[38;5;28;01mraise\u001B[39;00m e\n\u001B[0;32m    183\u001B[0m Array\u001B[38;5;241m.\u001B[39minitialize()\n\u001B[0;32m    184\u001B[0m Blob\u001B[38;5;241m.\u001B[39minitialize()\n",
      "File \u001B[1;32m~\\PycharmProjects\\NDMN-Jupyter-Notebook\\venv\\Lib\\site-packages\\ee\\__init__.py:173\u001B[0m, in \u001B[0;36mInitialize\u001B[1;34m(credentials, url, cloud_api_key, http_transport, project)\u001B[0m\n\u001B[0;32m    171\u001B[0m \u001B[38;5;66;03m# Initialize the dynamically loaded functions on the objects that want them.\u001B[39;00m\n\u001B[0;32m    172\u001B[0m \u001B[38;5;28;01mtry\u001B[39;00m:\n\u001B[1;32m--> 173\u001B[0m   \u001B[43mApiFunction\u001B[49m\u001B[38;5;241;43m.\u001B[39;49m\u001B[43minitialize\u001B[49m\u001B[43m(\u001B[49m\u001B[43m)\u001B[49m\n\u001B[0;32m    174\u001B[0m \u001B[38;5;28;01mexcept\u001B[39;00m EEException \u001B[38;5;28;01mas\u001B[39;00m e:\n\u001B[0;32m    175\u001B[0m   \u001B[38;5;66;03m# We tried to detect missing projects before initialization, but some cases\u001B[39;00m\n\u001B[0;32m    176\u001B[0m   \u001B[38;5;66;03m# like Colab hide the project, so check errors from missing projects too.\u001B[39;00m\n\u001B[0;32m    177\u001B[0m   adc_err \u001B[38;5;241m=\u001B[39m \u001B[38;5;124m'\u001B[39m\u001B[38;5;124mauthenticating by using local Application Default Credentials\u001B[39m\u001B[38;5;124m'\u001B[39m\n",
      "File \u001B[1;32m~\\PycharmProjects\\NDMN-Jupyter-Notebook\\venv\\Lib\\site-packages\\ee\\apifunction.py:161\u001B[0m, in \u001B[0;36mApiFunction.initialize\u001B[1;34m(cls)\u001B[0m\n\u001B[0;32m    159\u001B[0m \u001B[38;5;250m\u001B[39m\u001B[38;5;124;03m\"\"\"Initializes the list of signatures from the Earth Engine front-end.\"\"\"\u001B[39;00m\n\u001B[0;32m    160\u001B[0m \u001B[38;5;28;01mif\u001B[39;00m \u001B[38;5;129;01mnot\u001B[39;00m \u001B[38;5;28mcls\u001B[39m\u001B[38;5;241m.\u001B[39m_api:\n\u001B[1;32m--> 161\u001B[0m   signatures \u001B[38;5;241m=\u001B[39m \u001B[43mdata\u001B[49m\u001B[38;5;241;43m.\u001B[39;49m\u001B[43mgetAlgorithms\u001B[49m\u001B[43m(\u001B[49m\u001B[43m)\u001B[49m\n\u001B[0;32m    162\u001B[0m   api \u001B[38;5;241m=\u001B[39m {}\n\u001B[0;32m    163\u001B[0m   \u001B[38;5;28;01mfor\u001B[39;00m name, sig \u001B[38;5;129;01min\u001B[39;00m signatures\u001B[38;5;241m.\u001B[39mitems():\n\u001B[0;32m    164\u001B[0m     \u001B[38;5;66;03m# Strip type parameters.\u001B[39;00m\n",
      "File \u001B[1;32m~\\PycharmProjects\\NDMN-Jupyter-Notebook\\venv\\Lib\\site-packages\\ee\\data.py:1497\u001B[0m, in \u001B[0;36mgetAlgorithms\u001B[1;34m()\u001B[0m\n\u001B[0;32m   1492\u001B[0m     \u001B[38;5;28mprint\u001B[39m(\n\u001B[0;32m   1493\u001B[0m         \u001B[38;5;124m'\u001B[39m\u001B[38;5;124m*** Earth Engine ***\u001B[39m\u001B[38;5;124m'\u001B[39m,\n\u001B[0;32m   1494\u001B[0m         response[_INIT_MESSAGE_HEADER],\n\u001B[0;32m   1495\u001B[0m         file\u001B[38;5;241m=\u001B[39msys\u001B[38;5;241m.\u001B[39mstderr)\n\u001B[0;32m   1496\u001B[0m call\u001B[38;5;241m.\u001B[39madd_response_callback(inspect)\n\u001B[1;32m-> 1497\u001B[0m \u001B[38;5;28;01mreturn\u001B[39;00m _cloud_api_utils\u001B[38;5;241m.\u001B[39mconvert_algorithms(\u001B[43m_execute_cloud_call\u001B[49m\u001B[43m(\u001B[49m\u001B[43mcall\u001B[49m\u001B[43m)\u001B[49m)\n",
      "File \u001B[1;32m~\\PycharmProjects\\NDMN-Jupyter-Notebook\\venv\\Lib\\site-packages\\ee\\data.py:408\u001B[0m, in \u001B[0;36m_execute_cloud_call\u001B[1;34m(call, num_retries)\u001B[0m\n\u001B[0;32m    406\u001B[0m   \u001B[38;5;28;01mreturn\u001B[39;00m call\u001B[38;5;241m.\u001B[39mexecute(num_retries\u001B[38;5;241m=\u001B[39mnum_retries)\n\u001B[0;32m    407\u001B[0m \u001B[38;5;28;01mexcept\u001B[39;00m googleapiclient\u001B[38;5;241m.\u001B[39merrors\u001B[38;5;241m.\u001B[39mHttpError \u001B[38;5;28;01mas\u001B[39;00m e:\n\u001B[1;32m--> 408\u001B[0m   \u001B[38;5;28;01mraise\u001B[39;00m _translate_cloud_exception(e)\n",
      "\u001B[1;31mEEException\u001B[0m: Caller does not have required permission to use project ee-adamornelas10. Grant the caller the roles/serviceusage.serviceUsageConsumer role, or a custom role with the serviceusage.services.use permission, by visiting https://console.developers.google.com/iam-admin/iam/project?project=ee-adamornelas10 and then retry. Propagation of the new permission may take a few minutes."
     ]
    }
   ],
   "execution_count": 87
  },
  {
   "cell_type": "code",
   "execution_count": 46,
   "id": "d7c50243-65e7-4623-8487-9a163f07aa13",
   "metadata": {},
   "outputs": [
    {
     "data": {
      "text/html": [
       "\n",
       "            <style>\n",
       "                .geemap-dark {\n",
       "                    --jp-widgets-color: white;\n",
       "                    --jp-widgets-label-color: white;\n",
       "                    --jp-ui-font-color1: white;\n",
       "                    --jp-layout-color2: #454545;\n",
       "                    background-color: #383838;\n",
       "                }\n",
       "\n",
       "                .geemap-dark .jupyter-button {\n",
       "                    --jp-layout-color3: #383838;\n",
       "                }\n",
       "\n",
       "                .geemap-colab {\n",
       "                    background-color: var(--colab-primary-surface-color, white);\n",
       "                }\n",
       "\n",
       "                .geemap-colab .jupyter-button {\n",
       "                    --jp-layout-color3: var(--colab-primary-surface-color, white);\n",
       "                }\n",
       "            </style>\n",
       "            "
      ],
      "text/plain": [
       "<IPython.core.display.HTML object>"
      ]
     },
     "metadata": {},
     "output_type": "display_data"
    }
   ],
   "source": [
    "sample_fc = geemap.geojson_to_ee(gdfCrop_sampled.__geo_interface__)"
   ]
  },
  {
   "cell_type": "code",
   "execution_count": 56,
   "id": "f4ec78af-ac40-4234-888d-6acff5966efa",
   "metadata": {},
   "outputs": [
    {
     "data": {
      "text/html": [
       "\n",
       "            <style>\n",
       "                .geemap-dark {\n",
       "                    --jp-widgets-color: white;\n",
       "                    --jp-widgets-label-color: white;\n",
       "                    --jp-ui-font-color1: white;\n",
       "                    --jp-layout-color2: #454545;\n",
       "                    background-color: #383838;\n",
       "                }\n",
       "\n",
       "                .geemap-dark .jupyter-button {\n",
       "                    --jp-layout-color3: #383838;\n",
       "                }\n",
       "\n",
       "                .geemap-colab {\n",
       "                    background-color: var(--colab-primary-surface-color, white);\n",
       "                }\n",
       "\n",
       "                .geemap-colab .jupyter-button {\n",
       "                    --jp-layout-color3: var(--colab-primary-surface-color, white);\n",
       "                }\n",
       "            </style>\n",
       "            "
      ],
      "text/plain": [
       "<IPython.core.display.HTML object>"
      ]
     },
     "metadata": {},
     "output_type": "display_data"
    },
    {
     "ename": "EEException",
     "evalue": "Request payload size exceeds the limit: 10485760 bytes.",
     "output_type": "error",
     "traceback": [
      "\u001B[0;31m---------------------------------------------------------------------------\u001B[0m",
      "\u001B[0;31mHttpError\u001B[0m                                 Traceback (most recent call last)",
      "File \u001B[0;32m/opt/conda/lib/python3.11/site-packages/ee/data.py:406\u001B[0m, in \u001B[0;36m_execute_cloud_call\u001B[0;34m(call, num_retries)\u001B[0m\n\u001B[1;32m    405\u001B[0m \u001B[38;5;28;01mtry\u001B[39;00m:\n\u001B[0;32m--> 406\u001B[0m   \u001B[38;5;28;01mreturn\u001B[39;00m \u001B[43mcall\u001B[49m\u001B[38;5;241;43m.\u001B[39;49m\u001B[43mexecute\u001B[49m\u001B[43m(\u001B[49m\u001B[43mnum_retries\u001B[49m\u001B[38;5;241;43m=\u001B[39;49m\u001B[43mnum_retries\u001B[49m\u001B[43m)\u001B[49m\n\u001B[1;32m    407\u001B[0m \u001B[38;5;28;01mexcept\u001B[39;00m googleapiclient\u001B[38;5;241m.\u001B[39merrors\u001B[38;5;241m.\u001B[39mHttpError \u001B[38;5;28;01mas\u001B[39;00m e:\n",
      "File \u001B[0;32m/opt/conda/lib/python3.11/site-packages/googleapiclient/_helpers.py:130\u001B[0m, in \u001B[0;36mpositional.<locals>.positional_decorator.<locals>.positional_wrapper\u001B[0;34m(*args, **kwargs)\u001B[0m\n\u001B[1;32m    129\u001B[0m         logger\u001B[38;5;241m.\u001B[39mwarning(message)\n\u001B[0;32m--> 130\u001B[0m \u001B[38;5;28;01mreturn\u001B[39;00m \u001B[43mwrapped\u001B[49m\u001B[43m(\u001B[49m\u001B[38;5;241;43m*\u001B[39;49m\u001B[43margs\u001B[49m\u001B[43m,\u001B[49m\u001B[43m \u001B[49m\u001B[38;5;241;43m*\u001B[39;49m\u001B[38;5;241;43m*\u001B[39;49m\u001B[43mkwargs\u001B[49m\u001B[43m)\u001B[49m\n",
      "File \u001B[0;32m/opt/conda/lib/python3.11/site-packages/googleapiclient/http.py:938\u001B[0m, in \u001B[0;36mHttpRequest.execute\u001B[0;34m(self, http, num_retries)\u001B[0m\n\u001B[1;32m    937\u001B[0m \u001B[38;5;28;01mif\u001B[39;00m resp\u001B[38;5;241m.\u001B[39mstatus \u001B[38;5;241m>\u001B[39m\u001B[38;5;241m=\u001B[39m \u001B[38;5;241m300\u001B[39m:\n\u001B[0;32m--> 938\u001B[0m     \u001B[38;5;28;01mraise\u001B[39;00m HttpError(resp, content, uri\u001B[38;5;241m=\u001B[39m\u001B[38;5;28mself\u001B[39m\u001B[38;5;241m.\u001B[39muri)\n\u001B[1;32m    939\u001B[0m \u001B[38;5;28;01mreturn\u001B[39;00m \u001B[38;5;28mself\u001B[39m\u001B[38;5;241m.\u001B[39mpostproc(resp, content)\n",
      "\u001B[0;31mHttpError\u001B[0m: <HttpError 400 when requesting https://earthengine.googleapis.com/v1/projects/ee-adamornelas10/maps?fields=name&alt=json returned \"Request payload size exceeds the limit: 10485760 bytes.\". Details: \"Request payload size exceeds the limit: 10485760 bytes.\">",
      "\nDuring handling of the above exception, another exception occurred:\n",
      "\u001B[0;31mEEException\u001B[0m                               Traceback (most recent call last)",
      "Cell \u001B[0;32mIn[56], line 26\u001B[0m\n\u001B[1;32m     23\u001B[0m classified_image \u001B[38;5;241m=\u001B[39m image\u001B[38;5;241m.\u001B[39mselect(X\u001B[38;5;241m.\u001B[39mcolumns\u001B[38;5;241m.\u001B[39mtolist())\u001B[38;5;241m.\u001B[39mclassify(trained_classifier)\n\u001B[1;32m     25\u001B[0m \u001B[38;5;66;03m# Visualize the result\u001B[39;00m\n\u001B[0;32m---> 26\u001B[0m \u001B[43mMap\u001B[49m\u001B[38;5;241;43m.\u001B[39;49m\u001B[43maddLayer\u001B[49m\u001B[43m(\u001B[49m\u001B[43mclassified_image\u001B[49m\u001B[43m,\u001B[49m\u001B[43m \u001B[49m\u001B[43m{\u001B[49m\u001B[38;5;124;43m'\u001B[39;49m\u001B[38;5;124;43mmin\u001B[39;49m\u001B[38;5;124;43m'\u001B[39;49m\u001B[43m:\u001B[49m\u001B[43m \u001B[49m\u001B[38;5;241;43m0\u001B[39;49m\u001B[43m,\u001B[49m\u001B[43m \u001B[49m\u001B[38;5;124;43m'\u001B[39;49m\u001B[38;5;124;43mmax\u001B[39;49m\u001B[38;5;124;43m'\u001B[39;49m\u001B[43m:\u001B[49m\u001B[43m \u001B[49m\u001B[38;5;241;43m5\u001B[39;49m\u001B[43m,\u001B[49m\u001B[43m \u001B[49m\u001B[38;5;124;43m'\u001B[39;49m\u001B[38;5;124;43mpalette\u001B[39;49m\u001B[38;5;124;43m'\u001B[39;49m\u001B[43m:\u001B[49m\u001B[43m \u001B[49m\u001B[43m[\u001B[49m\u001B[38;5;124;43m'\u001B[39;49m\u001B[38;5;124;43mblue\u001B[39;49m\u001B[38;5;124;43m'\u001B[39;49m\u001B[43m,\u001B[49m\u001B[43m \u001B[49m\u001B[38;5;124;43m'\u001B[39;49m\u001B[38;5;124;43mgreen\u001B[39;49m\u001B[38;5;124;43m'\u001B[39;49m\u001B[43m,\u001B[49m\u001B[43m \u001B[49m\u001B[38;5;124;43m'\u001B[39;49m\u001B[38;5;124;43myellow\u001B[39;49m\u001B[38;5;124;43m'\u001B[39;49m\u001B[43m,\u001B[49m\u001B[43m \u001B[49m\u001B[38;5;124;43m'\u001B[39;49m\u001B[38;5;124;43morange\u001B[39;49m\u001B[38;5;124;43m'\u001B[39;49m\u001B[43m,\u001B[49m\u001B[43m \u001B[49m\u001B[38;5;124;43m'\u001B[39;49m\u001B[38;5;124;43mred\u001B[39;49m\u001B[38;5;124;43m'\u001B[39;49m\u001B[43m]\u001B[49m\u001B[43m}\u001B[49m\u001B[43m,\u001B[49m\u001B[43m \u001B[49m\u001B[38;5;124;43m'\u001B[39;49m\u001B[38;5;124;43mclassified image\u001B[39;49m\u001B[38;5;124;43m'\u001B[39;49m\u001B[43m)\u001B[49m\n\u001B[1;32m     27\u001B[0m Map\u001B[38;5;241m.\u001B[39mcenterObject(roi, \u001B[38;5;241m8\u001B[39m)  \u001B[38;5;66;03m# Center the map around the region of interest\u001B[39;00m\n\u001B[1;32m     33\u001B[0m \u001B[38;5;66;03m# Load an example image, classify, and visualize\u001B[39;00m\n\u001B[1;32m     34\u001B[0m \u001B[38;5;66;03m#image = ee.Image(\"COPERNICUS/S2\")  # Example image collection; adjust as needed\u001B[39;00m\n\u001B[1;32m     35\u001B[0m \u001B[38;5;66;03m#classified = image.classify(trained_classifier)\u001B[39;00m\n\u001B[0;32m   (...)\u001B[0m\n\u001B[1;32m     39\u001B[0m \u001B[38;5;66;03m#Map.addLayer(classified, {'min': 0, 'max': 5, 'palette': ['blue', 'green', 'yellow']}, \"Classified Image\")\u001B[39;00m\n\u001B[1;32m     40\u001B[0m \u001B[38;5;66;03m#Map\u001B[39;00m\n",
      "File \u001B[0;32m/opt/conda/lib/python3.11/site-packages/geemap/geemap.py:444\u001B[0m, in \u001B[0;36mMap.add_ee_layer\u001B[0;34m(self, ee_object, vis_params, name, shown, opacity)\u001B[0m\n\u001B[1;32m    439\u001B[0m         \u001B[38;5;28;01mif\u001B[39;00m has_plot_dropdown:\n\u001B[1;32m    440\u001B[0m             \u001B[38;5;28mself\u001B[39m\u001B[38;5;241m.\u001B[39m_plot_dropdown_widget\u001B[38;5;241m.\u001B[39moptions \u001B[38;5;241m=\u001B[39m \u001B[38;5;28mlist\u001B[39m(\n\u001B[1;32m    441\u001B[0m                 \u001B[38;5;28mself\u001B[39m\u001B[38;5;241m.\u001B[39mee_raster_layers\u001B[38;5;241m.\u001B[39mkeys()\n\u001B[1;32m    442\u001B[0m             )\n\u001B[0;32m--> 444\u001B[0m \u001B[38;5;28;43msuper\u001B[39;49m\u001B[43m(\u001B[49m\u001B[43m)\u001B[49m\u001B[38;5;241;43m.\u001B[39;49m\u001B[43madd_layer\u001B[49m\u001B[43m(\u001B[49m\u001B[43mee_object\u001B[49m\u001B[43m,\u001B[49m\u001B[43m \u001B[49m\u001B[43mvis_params\u001B[49m\u001B[43m,\u001B[49m\u001B[43m \u001B[49m\u001B[43mname\u001B[49m\u001B[43m,\u001B[49m\u001B[43m \u001B[49m\u001B[43mshown\u001B[49m\u001B[43m,\u001B[49m\u001B[43m \u001B[49m\u001B[43mopacity\u001B[49m\u001B[43m)\u001B[49m\n\u001B[1;32m    446\u001B[0m \u001B[38;5;28;01mif\u001B[39;00m \u001B[38;5;28misinstance\u001B[39m(ee_object, (ee\u001B[38;5;241m.\u001B[39mImage, ee\u001B[38;5;241m.\u001B[39mImageCollection)):\n\u001B[1;32m    447\u001B[0m     \u001B[38;5;28;01mif\u001B[39;00m has_plot_dropdown:\n",
      "File \u001B[0;32m/opt/conda/lib/python3.11/site-packages/geemap/core.py:1138\u001B[0m, in \u001B[0;36mMap.add_layer\u001B[0;34m(self, ee_object, vis_params, name, shown, opacity)\u001B[0m\n\u001B[1;32m   1136\u001B[0m \u001B[38;5;28;01mif\u001B[39;00m \u001B[38;5;28misinstance\u001B[39m(ee_object, ee\u001B[38;5;241m.\u001B[39mImageCollection):\n\u001B[1;32m   1137\u001B[0m     ee_object \u001B[38;5;241m=\u001B[39m ee_object\u001B[38;5;241m.\u001B[39mmosaic()\n\u001B[0;32m-> 1138\u001B[0m tile_layer \u001B[38;5;241m=\u001B[39m \u001B[43mee_tile_layers\u001B[49m\u001B[38;5;241;43m.\u001B[39;49m\u001B[43mEELeafletTileLayer\u001B[49m\u001B[43m(\u001B[49m\n\u001B[1;32m   1139\u001B[0m \u001B[43m    \u001B[49m\u001B[43mee_object\u001B[49m\u001B[43m,\u001B[49m\u001B[43m \u001B[49m\u001B[43mvis_params\u001B[49m\u001B[43m,\u001B[49m\u001B[43m \u001B[49m\u001B[43mname\u001B[49m\u001B[43m,\u001B[49m\u001B[43m \u001B[49m\u001B[43mshown\u001B[49m\u001B[43m,\u001B[49m\u001B[43m \u001B[49m\u001B[43mopacity\u001B[49m\n\u001B[1;32m   1140\u001B[0m \u001B[43m\u001B[49m\u001B[43m)\u001B[49m\n\u001B[1;32m   1142\u001B[0m \u001B[38;5;66;03m# Remove the layer if it already exists.\u001B[39;00m\n\u001B[1;32m   1143\u001B[0m \u001B[38;5;28mself\u001B[39m\u001B[38;5;241m.\u001B[39mremove(name)\n",
      "File \u001B[0;32m/opt/conda/lib/python3.11/site-packages/geemap/ee_tile_layers.py:206\u001B[0m, in \u001B[0;36mEELeafletTileLayer.__init__\u001B[0;34m(self, ee_object, vis_params, name, shown, opacity, **kwargs)\u001B[0m\n\u001B[1;32m    192\u001B[0m \u001B[38;5;250m\u001B[39m\u001B[38;5;124;03m\"\"\"Initialize the ipyleaflet tile layer.\u001B[39;00m\n\u001B[1;32m    193\u001B[0m \n\u001B[1;32m    194\u001B[0m \u001B[38;5;124;03mArgs:\u001B[39;00m\n\u001B[0;32m   (...)\u001B[0m\n\u001B[1;32m    203\u001B[0m \u001B[38;5;124;03m        number between 0 and 1. Defaults to 1.\u001B[39;00m\n\u001B[1;32m    204\u001B[0m \u001B[38;5;124;03m\"\"\"\u001B[39;00m\n\u001B[1;32m    205\u001B[0m \u001B[38;5;28mself\u001B[39m\u001B[38;5;241m.\u001B[39m_ee_object \u001B[38;5;241m=\u001B[39m ee_object\n\u001B[0;32m--> 206\u001B[0m \u001B[38;5;28mself\u001B[39m\u001B[38;5;241m.\u001B[39murl_format \u001B[38;5;241m=\u001B[39m \u001B[43m_get_tile_url_format\u001B[49m\u001B[43m(\u001B[49m\n\u001B[1;32m    207\u001B[0m \u001B[43m    \u001B[49m\u001B[43mee_object\u001B[49m\u001B[43m,\u001B[49m\u001B[43m \u001B[49m\u001B[43m_validate_vis_params\u001B[49m\u001B[43m(\u001B[49m\u001B[43mvis_params\u001B[49m\u001B[43m)\u001B[49m\n\u001B[1;32m    208\u001B[0m \u001B[43m\u001B[49m\u001B[43m)\u001B[49m\n\u001B[1;32m    209\u001B[0m \u001B[38;5;28msuper\u001B[39m()\u001B[38;5;241m.\u001B[39m\u001B[38;5;21m__init__\u001B[39m(\n\u001B[1;32m    210\u001B[0m     url\u001B[38;5;241m=\u001B[39m\u001B[38;5;28mself\u001B[39m\u001B[38;5;241m.\u001B[39murl_format,\n\u001B[1;32m    211\u001B[0m     attribution\u001B[38;5;241m=\u001B[39m\u001B[38;5;124m\"\u001B[39m\u001B[38;5;124mGoogle Earth Engine\u001B[39m\u001B[38;5;124m\"\u001B[39m,\n\u001B[0;32m   (...)\u001B[0m\n\u001B[1;32m    216\u001B[0m     \u001B[38;5;241m*\u001B[39m\u001B[38;5;241m*\u001B[39mkwargs,\n\u001B[1;32m    217\u001B[0m )\n",
      "File \u001B[0;32m/opt/conda/lib/python3.11/site-packages/geemap/ee_tile_layers.py:36\u001B[0m, in \u001B[0;36m_get_tile_url_format\u001B[0;34m(ee_object, vis_params)\u001B[0m\n\u001B[1;32m     25\u001B[0m \u001B[38;5;250m\u001B[39m\u001B[38;5;124;03m\"\"\"Gets the tile URL format for an EE object.\u001B[39;00m\n\u001B[1;32m     26\u001B[0m \n\u001B[1;32m     27\u001B[0m \u001B[38;5;124;03mArgs:\u001B[39;00m\n\u001B[0;32m   (...)\u001B[0m\n\u001B[1;32m     33\u001B[0m \u001B[38;5;124;03m    str: The tile URL format.\u001B[39;00m\n\u001B[1;32m     34\u001B[0m \u001B[38;5;124;03m\"\"\"\u001B[39;00m\n\u001B[1;32m     35\u001B[0m image \u001B[38;5;241m=\u001B[39m _ee_object_to_image(ee_object, vis_params)\n\u001B[0;32m---> 36\u001B[0m map_id_dict \u001B[38;5;241m=\u001B[39m \u001B[43mee\u001B[49m\u001B[38;5;241;43m.\u001B[39;49m\u001B[43mImage\u001B[49m\u001B[43m(\u001B[49m\u001B[43mimage\u001B[49m\u001B[43m)\u001B[49m\u001B[38;5;241;43m.\u001B[39;49m\u001B[43mgetMapId\u001B[49m\u001B[43m(\u001B[49m\u001B[43mvis_params\u001B[49m\u001B[43m)\u001B[49m\n\u001B[1;32m     37\u001B[0m \u001B[38;5;28;01mreturn\u001B[39;00m map_id_dict[\u001B[38;5;124m\"\u001B[39m\u001B[38;5;124mtile_fetcher\u001B[39m\u001B[38;5;124m\"\u001B[39m]\u001B[38;5;241m.\u001B[39murl_format\n",
      "File \u001B[0;32m/opt/conda/lib/python3.11/site-packages/ee/image.py:156\u001B[0m, in \u001B[0;36mImage.getMapId\u001B[0;34m(self, vis_params)\u001B[0m\n\u001B[1;32m    154\u001B[0m vis_image, request \u001B[38;5;241m=\u001B[39m \u001B[38;5;28mself\u001B[39m\u001B[38;5;241m.\u001B[39m_apply_visualization(vis_params)\n\u001B[1;32m    155\u001B[0m request[\u001B[38;5;124m'\u001B[39m\u001B[38;5;124mimage\u001B[39m\u001B[38;5;124m'\u001B[39m] \u001B[38;5;241m=\u001B[39m vis_image\n\u001B[0;32m--> 156\u001B[0m response \u001B[38;5;241m=\u001B[39m \u001B[43mdata\u001B[49m\u001B[38;5;241;43m.\u001B[39;49m\u001B[43mgetMapId\u001B[49m\u001B[43m(\u001B[49m\u001B[43mrequest\u001B[49m\u001B[43m)\u001B[49m\n\u001B[1;32m    157\u001B[0m response[\u001B[38;5;124m'\u001B[39m\u001B[38;5;124mimage\u001B[39m\u001B[38;5;124m'\u001B[39m] \u001B[38;5;241m=\u001B[39m \u001B[38;5;28mself\u001B[39m\n\u001B[1;32m    158\u001B[0m \u001B[38;5;28;01mreturn\u001B[39;00m response\n",
      "File \u001B[0;32m/opt/conda/lib/python3.11/site-packages/ee/data.py:748\u001B[0m, in \u001B[0;36mgetMapId\u001B[0;34m(params)\u001B[0m\n\u001B[1;32m    743\u001B[0m queryParams \u001B[38;5;241m=\u001B[39m {\n\u001B[1;32m    744\u001B[0m     \u001B[38;5;124m'\u001B[39m\u001B[38;5;124mfields\u001B[39m\u001B[38;5;124m'\u001B[39m: \u001B[38;5;124m'\u001B[39m\u001B[38;5;124mname\u001B[39m\u001B[38;5;124m'\u001B[39m,\n\u001B[1;32m    745\u001B[0m     \u001B[38;5;124m'\u001B[39m\u001B[38;5;124mbody\u001B[39m\u001B[38;5;124m'\u001B[39m: request,\n\u001B[1;32m    746\u001B[0m }\n\u001B[1;32m    747\u001B[0m _maybe_populate_workload_tag(queryParams)\n\u001B[0;32m--> 748\u001B[0m result \u001B[38;5;241m=\u001B[39m \u001B[43m_execute_cloud_call\u001B[49m\u001B[43m(\u001B[49m\n\u001B[1;32m    749\u001B[0m \u001B[43m    \u001B[49m\u001B[43m_get_cloud_projects\u001B[49m\u001B[43m(\u001B[49m\u001B[43m)\u001B[49m\n\u001B[1;32m    750\u001B[0m \u001B[43m    \u001B[49m\u001B[38;5;241;43m.\u001B[39;49m\u001B[43mmaps\u001B[49m\u001B[43m(\u001B[49m\u001B[43m)\u001B[49m\n\u001B[1;32m    751\u001B[0m \u001B[43m    \u001B[49m\u001B[38;5;241;43m.\u001B[39;49m\u001B[43mcreate\u001B[49m\u001B[43m(\u001B[49m\u001B[43mparent\u001B[49m\u001B[38;5;241;43m=\u001B[39;49m\u001B[43m_get_projects_path\u001B[49m\u001B[43m(\u001B[49m\u001B[43m)\u001B[49m\u001B[43m,\u001B[49m\u001B[43m \u001B[49m\u001B[38;5;241;43m*\u001B[39;49m\u001B[38;5;241;43m*\u001B[39;49m\u001B[43mqueryParams\u001B[49m\u001B[43m)\u001B[49m\n\u001B[1;32m    752\u001B[0m \u001B[43m\u001B[49m\u001B[43m)\u001B[49m\n\u001B[1;32m    753\u001B[0m map_name \u001B[38;5;241m=\u001B[39m result[\u001B[38;5;124m'\u001B[39m\u001B[38;5;124mname\u001B[39m\u001B[38;5;124m'\u001B[39m]\n\u001B[1;32m    754\u001B[0m url_format \u001B[38;5;241m=\u001B[39m \u001B[38;5;124m'\u001B[39m\u001B[38;5;132;01m%s\u001B[39;00m\u001B[38;5;124m/\u001B[39m\u001B[38;5;132;01m%s\u001B[39;00m\u001B[38;5;124m/\u001B[39m\u001B[38;5;132;01m%s\u001B[39;00m\u001B[38;5;124m/tiles/\u001B[39m\u001B[38;5;132;01m{z}\u001B[39;00m\u001B[38;5;124m/\u001B[39m\u001B[38;5;132;01m{x}\u001B[39;00m\u001B[38;5;124m/\u001B[39m\u001B[38;5;132;01m{y}\u001B[39;00m\u001B[38;5;124m'\u001B[39m \u001B[38;5;241m%\u001B[39m (\n\u001B[1;32m    755\u001B[0m     _tile_base_url, _cloud_api_utils\u001B[38;5;241m.\u001B[39mVERSION, map_name)\n",
      "File \u001B[0;32m/opt/conda/lib/python3.11/site-packages/ee/data.py:408\u001B[0m, in \u001B[0;36m_execute_cloud_call\u001B[0;34m(call, num_retries)\u001B[0m\n\u001B[1;32m    406\u001B[0m   \u001B[38;5;28;01mreturn\u001B[39;00m call\u001B[38;5;241m.\u001B[39mexecute(num_retries\u001B[38;5;241m=\u001B[39mnum_retries)\n\u001B[1;32m    407\u001B[0m \u001B[38;5;28;01mexcept\u001B[39;00m googleapiclient\u001B[38;5;241m.\u001B[39merrors\u001B[38;5;241m.\u001B[39mHttpError \u001B[38;5;28;01mas\u001B[39;00m e:\n\u001B[0;32m--> 408\u001B[0m   \u001B[38;5;28;01mraise\u001B[39;00m _translate_cloud_exception(e)\n",
      "\u001B[0;31mEEException\u001B[0m: Request payload size exceeds the limit: 10485760 bytes."
     ]
    }
   ],
   "source": [
    "# Define a classifier and train it on the sample points\n",
    "classifier = ee.Classifier.smileRandomForest(10)\n",
    "\n",
    "# Train the classifier using the GeoDataFrame's Feature Collection\n",
    "trained_classifier = classifier.train(\n",
    "    features=sample_fc,\n",
    "    classProperty='Cultivo',  # Adjust to the relevant column in your data\n",
    "    inputProperties=X.columns.tolist()# Adjust for the feature names\n",
    ")\n",
    "\n",
    "#Landsat-8\n",
    "landsat_image_collection = ee.ImageCollection('LANDSAT/LC08/C01/T1_TOA')  # Landsat-8 surface reflectance data\n",
    "\n",
    "roi =ee.Geometry.Rectangle([-85, 9, -84, 10])\n",
    "\n",
    "\n",
    "\n",
    "# Filter the image collection for the region of interest (Costa Rica)\n",
    "image = landsat_image_collection.filterBounds(roi).filterDate('2020-01-01', '2020-12-31').median()  # Adjust the date range as needed\n",
    "\n",
    "# Apply the classifier to the Landsat-8 image\n",
    "classified_image = image.select(X.columns.tolist()).classify(trained_classifier)\n",
    "\n",
    "# Visualize the result\n",
    "Map.addLayer(classified_image, {'min': 0, 'max': 5, 'palette': ['blue', 'green', 'yellow', 'orange', 'red']}, 'classified image')\n",
    "Map.centerObject(roi, 8)  # Center the map around the region of interest\n",
    "\n",
    "\n",
    "\n",
    "\n",
    "\n",
    "# Load an example image, classify, and visualize\n",
    "#image = ee.Image(\"COPERNICUS/S2\")  # Example image collection; adjust as needed\n",
    "#classified = image.classify(trained_classifier)\n",
    "\n",
    "# Display the classified map in Jupyter Notebook\n",
    "#Map = geemap.Map()\n",
    "#Map.addLayer(classified, {'min': 0, 'max': 5, 'palette': ['blue', 'green', 'yellow']}, \"Classified Image\")\n",
    "#Map\n"
   ]
  },
  {
   "cell_type": "code",
   "execution_count": null,
   "id": "a3324afb-6c72-4603-991c-9f98dfb5b24d",
   "metadata": {},
   "outputs": [],
   "source": []
  }
 ],
 "metadata": {
  "kernelspec": {
   "display_name": "Python 3 (ipykernel)",
   "language": "python",
   "name": "python3"
  },
  "language_info": {
   "codemirror_mode": {
    "name": "ipython",
    "version": 3
   },
   "file_extension": ".py",
   "mimetype": "text/x-python",
   "name": "python",
   "nbconvert_exporter": "python",
   "pygments_lexer": "ipython3",
   "version": "3.11.5"
  }
 },
 "nbformat": 4,
 "nbformat_minor": 5
}
