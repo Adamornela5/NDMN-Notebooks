{
 "cells": [
  {
   "cell_type": "code",
   "execution_count": null,
   "metadata": {},
   "outputs": [
    {
     "name": "stderr",
     "output_type": "stream",
     "text": [
      "c:\\Users\\samue\\miniconda3\\envs\\mlenv\\Lib\\site-packages\\sklearn\\linear_model\\_logistic.py:465: ConvergenceWarning: lbfgs failed to converge (status=1):\n",
      "STOP: TOTAL NO. OF ITERATIONS REACHED LIMIT.\n",
      "\n",
      "Increase the number of iterations (max_iter) or scale the data as shown in:\n",
      "    https://scikit-learn.org/stable/modules/preprocessing.html\n",
      "Please also refer to the documentation for alternative solver options:\n",
      "    https://scikit-learn.org/stable/modules/linear_model.html#logistic-regression\n",
      "  n_iter_i = _check_optimize_result(\n"
     ]
    },
    {
     "name": "stdout",
     "output_type": "stream",
     "text": [
      "           Random Forest  Logistic Regression\n",
      "Accuracy        0.819539             0.646954\n",
      "Precision       0.820252             0.652504\n",
      "Recall          0.819539             0.646954\n",
      "F1              0.810792             0.592018\n",
      "\n",
      "Best model for each metric:\n",
      "Accuracy: Random Forest\n",
      "Precision: Random Forest\n",
      "Recall: Random Forest\n",
      "F1: Random Forest\n"
     ]
    }
   ],
   "source": [
    "import pickle\n",
    "import pandas as pd\n",
    "import matplotlib.pyplot as plt\n",
    "import seaborn as sns\n",
    "import numpy as np\n",
    "\n",
    "# 1. Load the models from your saved files\n",
    "models = {\n",
    "    'Random Forest': pickle.load(open('ML_Models/best_rf_model.pkl', 'rb')),\n",
    "    'Logistic Regression': pickle.load(open('ML_Models/best_logistic_model.pkl', 'rb'))\n",
    "}\n",
    "\n",
    "# 2. Display basic model information\n",
    "for name, model in models.items():\n",
    "    print(f\"\\n{name} Model Information:\")\n",
    "    print(f\"Type: {type(model).__name__}\")\n",
    "    print(f\"Parameters: {model.get_params()}\")\n",
    "    \n",
    "    # For Random Forest, show feature importance\n",
    "    if hasattr(model, 'feature_importances_'):\n",
    "        # Load feature names (assuming you have access to them)\n",
    "        features = ['BLUE', 'GREEN', 'NIR', 'RED', 'SWIR1', 'SWIR2', 'altura2', 'aspect',\n",
    "                    'aspectcos', 'aspectdeg', 'brightness', 'clay_1mMed', 'diff', 'elevation',\n",
    "                    'evi', 'fpar', 'hand30_100', 'lai', 'mTPI', 'ndvi', 'ocs_1mMed',\n",
    "                    'sand_1mMed', 'savi', 'slope', 'topDiv', 'wetness']\n",
    "        \n",
    "        # Create feature importance DataFrame\n",
    "        importance_df = pd.DataFrame({\n",
    "            'Feature': features,\n",
    "            'Importance': model.feature_importances_\n",
    "        }).sort_values('Importance', ascending=False)\n",
    "        \n",
    "        print(\"\\nTop 10 Most Important Features:\")\n",
    "        print(importance_df.head(10))\n",
    "        \n",
    "        # Visualize feature importance\n",
    "        plt.figure(figsize=(12, 8))\n",
    "        sns.barplot(x='Importance', y='Feature', data=importance_df.head(15))\n",
    "        plt.title(f'{name} - Feature Importance')\n",
    "        plt.tight_layout()\n",
    "        plt.savefig(f'{name}_feature_importance.png')\n",
    "        plt.show()\n",
    "    \n",
    "    # For Logistic Regression, show coefficients\n",
    "    if hasattr(model, 'coef_'):\n",
    "        features = ['BLUE', 'GREEN', 'NIR', 'RED', 'SWIR1', 'SWIR2', 'altura2', 'aspect',\n",
    "                   'aspectcos', 'aspectdeg', 'brightness', 'clay_1mMed', 'diff', 'elevation',\n",
    "                   'evi', 'fpar', 'hand30_100', 'lai', 'mTPI', 'ndvi', 'ocs_1mMed',\n",
    "                   'sand_1mMed', 'savi', 'slope', 'topDiv', 'wetness']\n",
    "        \n",
    "        # Create coefficient DataFrame (this will be different for multi-class)\n",
    "        coef_df = pd.DataFrame()\n",
    "        if len(model.classes_) == 2:  # Binary classification\n",
    "            coef_df = pd.DataFrame({\n",
    "                'Feature': features,\n",
    "                'Coefficient': model.coef_[0]\n",
    "            }).sort_values('Coefficient', ascending=False)\n",
    "        else:  # Multi-class\n",
    "            for i, class_name in enumerate(model.classes_):\n",
    "                coef_df[f'Class {class_name}'] = model.coef_[i]\n",
    "            coef_df['Feature'] = features\n",
    "            \n",
    "        print(\"\\nCoefficients:\")\n",
    "        print(coef_df.head(10))"
   ]
  }
 ],
 "metadata": {
  "kernelspec": {
   "display_name": "mlenv",
   "language": "python",
   "name": "python3"
  },
  "language_info": {
   "codemirror_mode": {
    "name": "ipython",
    "version": 3
   },
   "file_extension": ".py",
   "mimetype": "text/x-python",
   "name": "python",
   "nbconvert_exporter": "python",
   "pygments_lexer": "ipython3",
   "version": "3.12.9"
  }
 },
 "nbformat": 4,
 "nbformat_minor": 2
}
